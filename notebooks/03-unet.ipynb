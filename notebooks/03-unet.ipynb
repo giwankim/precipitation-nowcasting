{
 "cells": [
  {
   "cell_type": "code",
   "execution_count": 1,
   "metadata": {},
   "outputs": [],
   "source": [
    "import sys\n",
    "sys.path.insert(0, \"../src\")"
   ]
  },
  {
   "cell_type": "code",
   "execution_count": 2,
   "metadata": {},
   "outputs": [
    {
     "data": {
      "application/javascript": [
       "\n",
       "            setTimeout(function() {\n",
       "                var nbb_cell_id = 2;\n",
       "                var nbb_unformatted_code = \"%reload_ext autoreload\\n%autoreload 2\\n%matplotlib inline\\n%reload_ext nb_black\";\n",
       "                var nbb_formatted_code = \"%reload_ext autoreload\\n%autoreload 2\\n%matplotlib inline\\n%reload_ext nb_black\";\n",
       "                var nbb_cells = Jupyter.notebook.get_cells();\n",
       "                for (var i = 0; i < nbb_cells.length; ++i) {\n",
       "                    if (nbb_cells[i].input_prompt_number == nbb_cell_id) {\n",
       "                        if (nbb_cells[i].get_text() == nbb_unformatted_code) {\n",
       "                             nbb_cells[i].set_text(nbb_formatted_code);\n",
       "                        }\n",
       "                        break;\n",
       "                    }\n",
       "                }\n",
       "            }, 500);\n",
       "            "
      ],
      "text/plain": [
       "<IPython.core.display.Javascript object>"
      ]
     },
     "metadata": {},
     "output_type": "display_data"
    }
   ],
   "source": [
    "%reload_ext autoreload\n",
    "%autoreload 2\n",
    "%matplotlib inline\n",
    "%reload_ext nb_black"
   ]
  },
  {
   "cell_type": "code",
   "execution_count": 3,
   "metadata": {},
   "outputs": [
    {
     "data": {
      "application/javascript": [
       "\n",
       "            setTimeout(function() {\n",
       "                var nbb_cell_id = 3;\n",
       "                var nbb_unformatted_code = \"import gc\\nfrom pathlib import Path\\nfrom tqdm.notebook import tqdm\\n\\nimport cv2\\nimport numpy as np\\nimport pandas as pd\\nimport matplotlib.pyplot as plt\\nfrom sklearn import metrics\\n\\nimport torch\\nimport torch.nn as nn\\nimport torch.nn.functional as F\\nimport torchvision.transforms as T\\nfrom torch.utils.data import RandomSampler, SequentialSampler\\nimport pytorch_lightning as pl\\n\\nimport transformers\\n\\nfrom utils import visualize, radar2precipitation, seed_everything\";\n",
       "                var nbb_formatted_code = \"import gc\\nfrom pathlib import Path\\nfrom tqdm.notebook import tqdm\\n\\nimport cv2\\nimport numpy as np\\nimport pandas as pd\\nimport matplotlib.pyplot as plt\\nfrom sklearn import metrics\\n\\nimport torch\\nimport torch.nn as nn\\nimport torch.nn.functional as F\\nimport torchvision.transforms as T\\nfrom torch.utils.data import RandomSampler, SequentialSampler\\nimport pytorch_lightning as pl\\n\\nimport transformers\\n\\nfrom utils import visualize, radar2precipitation, seed_everything\";\n",
       "                var nbb_cells = Jupyter.notebook.get_cells();\n",
       "                for (var i = 0; i < nbb_cells.length; ++i) {\n",
       "                    if (nbb_cells[i].input_prompt_number == nbb_cell_id) {\n",
       "                        if (nbb_cells[i].get_text() == nbb_unformatted_code) {\n",
       "                             nbb_cells[i].set_text(nbb_formatted_code);\n",
       "                        }\n",
       "                        break;\n",
       "                    }\n",
       "                }\n",
       "            }, 500);\n",
       "            "
      ],
      "text/plain": [
       "<IPython.core.display.Javascript object>"
      ]
     },
     "metadata": {},
     "output_type": "display_data"
    }
   ],
   "source": [
    "import gc\n",
    "from pathlib import Path\n",
    "from tqdm.notebook import tqdm\n",
    "\n",
    "import cv2\n",
    "import numpy as np\n",
    "import pandas as pd\n",
    "import matplotlib.pyplot as plt\n",
    "from sklearn import metrics\n",
    "\n",
    "import torch\n",
    "import torch.nn as nn\n",
    "import torch.nn.functional as F\n",
    "import torchvision.transforms as T\n",
    "from torch.utils.data import RandomSampler, SequentialSampler\n",
    "import pytorch_lightning as pl\n",
    "\n",
    "import transformers\n",
    "\n",
    "from utils import visualize, radar2precipitation, seed_everything"
   ]
  },
  {
   "cell_type": "markdown",
   "metadata": {},
   "source": [
    "# U-Net"
   ]
  },
  {
   "cell_type": "markdown",
   "metadata": {},
   "source": [
    "## Config"
   ]
  },
  {
   "cell_type": "code",
   "execution_count": 4,
   "metadata": {},
   "outputs": [
    {
     "data": {
      "application/javascript": [
       "\n",
       "            setTimeout(function() {\n",
       "                var nbb_cell_id = 4;\n",
       "                var nbb_unformatted_code = \"args = dict(\\n    seed=42,\\n    dams=(6071, 6304, 7026, 7629, 7767, 8944, 11107),\\n    train_folds_csv=Path(\\\"../input/train_folds.csv\\\"),\\n    train_data_path=Path(\\\"../input/train-128\\\"),\\n    test_data_path=Path(\\\"../input/test-128\\\"),\\n    rng=255.0,\\n    num_workers=4,\\n    gpus=1,\\n    lr=1e-4,\\n    max_epochs=50,\\n    batch_size=256,\\n    precision=16,\\n    optimizer=\\\"adamw\\\",\\n    scheduler=\\\"cosine\\\",\\n    accumulate_grad_batches=1,\\n    gradient_clip_val=5.0,\\n)\";\n",
       "                var nbb_formatted_code = \"args = dict(\\n    seed=42,\\n    dams=(6071, 6304, 7026, 7629, 7767, 8944, 11107),\\n    train_folds_csv=Path(\\\"../input/train_folds.csv\\\"),\\n    train_data_path=Path(\\\"../input/train-128\\\"),\\n    test_data_path=Path(\\\"../input/test-128\\\"),\\n    rng=255.0,\\n    num_workers=4,\\n    gpus=1,\\n    lr=1e-4,\\n    max_epochs=50,\\n    batch_size=256,\\n    precision=16,\\n    optimizer=\\\"adamw\\\",\\n    scheduler=\\\"cosine\\\",\\n    accumulate_grad_batches=1,\\n    gradient_clip_val=5.0,\\n)\";\n",
       "                var nbb_cells = Jupyter.notebook.get_cells();\n",
       "                for (var i = 0; i < nbb_cells.length; ++i) {\n",
       "                    if (nbb_cells[i].input_prompt_number == nbb_cell_id) {\n",
       "                        if (nbb_cells[i].get_text() == nbb_unformatted_code) {\n",
       "                             nbb_cells[i].set_text(nbb_formatted_code);\n",
       "                        }\n",
       "                        break;\n",
       "                    }\n",
       "                }\n",
       "            }, 500);\n",
       "            "
      ],
      "text/plain": [
       "<IPython.core.display.Javascript object>"
      ]
     },
     "metadata": {},
     "output_type": "display_data"
    }
   ],
   "source": [
    "args = dict(\n",
    "    seed=42,\n",
    "    dams=(6071, 6304, 7026, 7629, 7767, 8944, 11107),\n",
    "    train_folds_csv=Path(\"../input/train_folds.csv\"),\n",
    "    train_data_path=Path(\"../input/train-128\"),\n",
    "    test_data_path=Path(\"../input/test-128\"),\n",
    "    rng=255.0,\n",
    "    num_workers=4,\n",
    "    gpus=1,\n",
    "    lr=1e-4,\n",
    "    max_epochs=50,\n",
    "    batch_size=256,\n",
    "    precision=16,\n",
    "    optimizer=\"adamw\",\n",
    "    scheduler=\"cosine\",\n",
    "    accumulate_grad_batches=1,\n",
    "    gradient_clip_val=5.0,\n",
    ")"
   ]
  },
  {
   "cell_type": "markdown",
   "metadata": {},
   "source": [
    "## Model"
   ]
  },
  {
   "cell_type": "markdown",
   "metadata": {},
   "source": [
    "### Layers"
   ]
  },
  {
   "cell_type": "markdown",
   "metadata": {},
   "source": [
    "#### Basic"
   ]
  },
  {
   "cell_type": "code",
   "execution_count": 5,
   "metadata": {},
   "outputs": [
    {
     "data": {
      "application/javascript": [
       "\n",
       "            setTimeout(function() {\n",
       "                var nbb_cell_id = 5;\n",
       "                var nbb_unformatted_code = \"class BasicBlock(nn.Module):\\n    def __init__(self, in_ch, out_ch):\\n        assert in_ch == out_ch\\n        super().__init__()\\n        self.net = nn.Sequential(\\n            nn.Conv2d(in_ch, out_ch, kernel_size=3, padding=1, bias=False),\\n            nn.BatchNorm2d(out_ch),\\n            nn.LeakyReLU(inplace=True),\\n            nn.Conv2d(out_ch, out_ch, kernel_size=3, padding=1),\\n        )\\n\\n    def forward(self, x):\\n        return x + self.net(x)\";\n",
       "                var nbb_formatted_code = \"class BasicBlock(nn.Module):\\n    def __init__(self, in_ch, out_ch):\\n        assert in_ch == out_ch\\n        super().__init__()\\n        self.net = nn.Sequential(\\n            nn.Conv2d(in_ch, out_ch, kernel_size=3, padding=1, bias=False),\\n            nn.BatchNorm2d(out_ch),\\n            nn.LeakyReLU(inplace=True),\\n            nn.Conv2d(out_ch, out_ch, kernel_size=3, padding=1),\\n        )\\n\\n    def forward(self, x):\\n        return x + self.net(x)\";\n",
       "                var nbb_cells = Jupyter.notebook.get_cells();\n",
       "                for (var i = 0; i < nbb_cells.length; ++i) {\n",
       "                    if (nbb_cells[i].input_prompt_number == nbb_cell_id) {\n",
       "                        if (nbb_cells[i].get_text() == nbb_unformatted_code) {\n",
       "                             nbb_cells[i].set_text(nbb_formatted_code);\n",
       "                        }\n",
       "                        break;\n",
       "                    }\n",
       "                }\n",
       "            }, 500);\n",
       "            "
      ],
      "text/plain": [
       "<IPython.core.display.Javascript object>"
      ]
     },
     "metadata": {},
     "output_type": "display_data"
    }
   ],
   "source": [
    "class BasicBlock(nn.Module):\n",
    "    def __init__(self, in_ch, out_ch):\n",
    "        assert in_ch == out_ch\n",
    "        super().__init__()\n",
    "        self.net = nn.Sequential(\n",
    "            nn.Conv2d(in_ch, out_ch, kernel_size=3, padding=1, bias=False),\n",
    "            nn.BatchNorm2d(out_ch),\n",
    "            nn.LeakyReLU(inplace=True),\n",
    "            nn.Conv2d(out_ch, out_ch, kernel_size=3, padding=1),\n",
    "        )\n",
    "\n",
    "    def forward(self, x):\n",
    "        return x + self.net(x)"
   ]
  },
  {
   "cell_type": "code",
   "execution_count": 6,
   "metadata": {},
   "outputs": [
    {
     "data": {
      "application/javascript": [
       "\n",
       "            setTimeout(function() {\n",
       "                var nbb_cell_id = 6;\n",
       "                var nbb_unformatted_code = \"# x = torch.randn(3, 4, 128, 128)\\n# block = BasicBlock(4, 4)\\n# block(x).shape\";\n",
       "                var nbb_formatted_code = \"# x = torch.randn(3, 4, 128, 128)\\n# block = BasicBlock(4, 4)\\n# block(x).shape\";\n",
       "                var nbb_cells = Jupyter.notebook.get_cells();\n",
       "                for (var i = 0; i < nbb_cells.length; ++i) {\n",
       "                    if (nbb_cells[i].input_prompt_number == nbb_cell_id) {\n",
       "                        if (nbb_cells[i].get_text() == nbb_unformatted_code) {\n",
       "                             nbb_cells[i].set_text(nbb_formatted_code);\n",
       "                        }\n",
       "                        break;\n",
       "                    }\n",
       "                }\n",
       "            }, 500);\n",
       "            "
      ],
      "text/plain": [
       "<IPython.core.display.Javascript object>"
      ]
     },
     "metadata": {},
     "output_type": "display_data"
    }
   ],
   "source": [
    "# x = torch.randn(3, 4, 128, 128)\n",
    "# block = BasicBlock(4, 4)\n",
    "# block(x).shape"
   ]
  },
  {
   "cell_type": "markdown",
   "metadata": {},
   "source": [
    "#### Encoder"
   ]
  },
  {
   "cell_type": "code",
   "execution_count": 6,
   "metadata": {},
   "outputs": [
    {
     "data": {
      "application/javascript": [
       "\n",
       "            setTimeout(function() {\n",
       "                var nbb_cell_id = 6;\n",
       "                var nbb_unformatted_code = \"class DownBlock(nn.Module):\\n    def __init__(self, in_ch, out_ch):\\n        super().__init__()\\n        self.id_conv = nn.Conv2d(in_ch, out_ch, kernel_size=1, stride=2)\\n        self.net = nn.Sequential(\\n            nn.BatchNorm2d(in_ch),\\n            nn.LeakyReLU(inplace=True),\\n            nn.MaxPool2d(2),\\n            nn.BatchNorm2d(in_ch),\\n            nn.LeakyReLU(inplace=True),\\n            nn.Conv2d(in_ch, out_ch, kernel_size=3, padding=1),\\n        )\\n\\n    def forward(self, x):\\n        residual = x\\n        residual = self.id_conv(residual)\\n        x = self.net(x)\\n        return residual + x, x\";\n",
       "                var nbb_formatted_code = \"class DownBlock(nn.Module):\\n    def __init__(self, in_ch, out_ch):\\n        super().__init__()\\n        self.id_conv = nn.Conv2d(in_ch, out_ch, kernel_size=1, stride=2)\\n        self.net = nn.Sequential(\\n            nn.BatchNorm2d(in_ch),\\n            nn.LeakyReLU(inplace=True),\\n            nn.MaxPool2d(2),\\n            nn.BatchNorm2d(in_ch),\\n            nn.LeakyReLU(inplace=True),\\n            nn.Conv2d(in_ch, out_ch, kernel_size=3, padding=1),\\n        )\\n\\n    def forward(self, x):\\n        residual = x\\n        residual = self.id_conv(residual)\\n        x = self.net(x)\\n        return residual + x, x\";\n",
       "                var nbb_cells = Jupyter.notebook.get_cells();\n",
       "                for (var i = 0; i < nbb_cells.length; ++i) {\n",
       "                    if (nbb_cells[i].input_prompt_number == nbb_cell_id) {\n",
       "                        if (nbb_cells[i].get_text() == nbb_unformatted_code) {\n",
       "                             nbb_cells[i].set_text(nbb_formatted_code);\n",
       "                        }\n",
       "                        break;\n",
       "                    }\n",
       "                }\n",
       "            }, 500);\n",
       "            "
      ],
      "text/plain": [
       "<IPython.core.display.Javascript object>"
      ]
     },
     "metadata": {},
     "output_type": "display_data"
    }
   ],
   "source": [
    "class DownBlock(nn.Module):\n",
    "    def __init__(self, in_ch, out_ch):\n",
    "        super().__init__()\n",
    "        self.id_conv = nn.Conv2d(in_ch, out_ch, kernel_size=1, stride=2)\n",
    "        self.net = nn.Sequential(\n",
    "            nn.BatchNorm2d(in_ch),\n",
    "            nn.LeakyReLU(inplace=True),\n",
    "            nn.MaxPool2d(2),\n",
    "            nn.BatchNorm2d(in_ch),\n",
    "            nn.LeakyReLU(inplace=True),\n",
    "            nn.Conv2d(in_ch, out_ch, kernel_size=3, padding=1),\n",
    "        )\n",
    "\n",
    "    def forward(self, x):\n",
    "        residual = x\n",
    "        residual = self.id_conv(residual)\n",
    "        x = self.net(x)\n",
    "        return residual + x, x"
   ]
  },
  {
   "cell_type": "code",
   "execution_count": 7,
   "metadata": {},
   "outputs": [
    {
     "data": {
      "application/javascript": [
       "\n",
       "            setTimeout(function() {\n",
       "                var nbb_cell_id = 7;\n",
       "                var nbb_unformatted_code = \"# block = DownBlock(4, 64)\\n# down, across = block(x)\\n# down.shape, across.shape\";\n",
       "                var nbb_formatted_code = \"# block = DownBlock(4, 64)\\n# down, across = block(x)\\n# down.shape, across.shape\";\n",
       "                var nbb_cells = Jupyter.notebook.get_cells();\n",
       "                for (var i = 0; i < nbb_cells.length; ++i) {\n",
       "                    if (nbb_cells[i].input_prompt_number == nbb_cell_id) {\n",
       "                        if (nbb_cells[i].get_text() == nbb_unformatted_code) {\n",
       "                             nbb_cells[i].set_text(nbb_formatted_code);\n",
       "                        }\n",
       "                        break;\n",
       "                    }\n",
       "                }\n",
       "            }, 500);\n",
       "            "
      ],
      "text/plain": [
       "<IPython.core.display.Javascript object>"
      ]
     },
     "metadata": {},
     "output_type": "display_data"
    }
   ],
   "source": [
    "# block = DownBlock(4, 64)\n",
    "# down, across = block(x)\n",
    "# down.shape, across.shape"
   ]
  },
  {
   "cell_type": "code",
   "execution_count": 8,
   "metadata": {},
   "outputs": [
    {
     "data": {
      "application/javascript": [
       "\n",
       "            setTimeout(function() {\n",
       "                var nbb_cell_id = 8;\n",
       "                var nbb_unformatted_code = \"class Encoder(nn.Module):\\n    def __init__(self, chs=[4, 64, 128, 256, 512, 1024]):\\n        super().__init__()\\n        self.blocks = nn.ModuleList(\\n            [DownBlock(chs[i], chs[i + 1]) for i in range(len(chs) - 1)]\\n        )\\n        self.basic = BasicBlock(chs[-1], chs[-1])\\n\\n    def forward(self, x):\\n        feats = []\\n        for block in self.blocks:\\n            x, feat = block(x)\\n            feats.append(feat)\\n        x = self.basic(x)\\n        feats.append(x)\\n        return feats\";\n",
       "                var nbb_formatted_code = \"class Encoder(nn.Module):\\n    def __init__(self, chs=[4, 64, 128, 256, 512, 1024]):\\n        super().__init__()\\n        self.blocks = nn.ModuleList(\\n            [DownBlock(chs[i], chs[i + 1]) for i in range(len(chs) - 1)]\\n        )\\n        self.basic = BasicBlock(chs[-1], chs[-1])\\n\\n    def forward(self, x):\\n        feats = []\\n        for block in self.blocks:\\n            x, feat = block(x)\\n            feats.append(feat)\\n        x = self.basic(x)\\n        feats.append(x)\\n        return feats\";\n",
       "                var nbb_cells = Jupyter.notebook.get_cells();\n",
       "                for (var i = 0; i < nbb_cells.length; ++i) {\n",
       "                    if (nbb_cells[i].input_prompt_number == nbb_cell_id) {\n",
       "                        if (nbb_cells[i].get_text() == nbb_unformatted_code) {\n",
       "                             nbb_cells[i].set_text(nbb_formatted_code);\n",
       "                        }\n",
       "                        break;\n",
       "                    }\n",
       "                }\n",
       "            }, 500);\n",
       "            "
      ],
      "text/plain": [
       "<IPython.core.display.Javascript object>"
      ]
     },
     "metadata": {},
     "output_type": "display_data"
    }
   ],
   "source": [
    "class Encoder(nn.Module):\n",
    "    def __init__(self, chs=[4, 64, 128, 256, 512, 1024]):\n",
    "        super().__init__()\n",
    "        self.blocks = nn.ModuleList(\n",
    "            [DownBlock(chs[i], chs[i + 1]) for i in range(len(chs) - 1)]\n",
    "        )\n",
    "        self.basic = BasicBlock(chs[-1], chs[-1])\n",
    "\n",
    "    def forward(self, x):\n",
    "        feats = []\n",
    "        for block in self.blocks:\n",
    "            x, feat = block(x)\n",
    "            feats.append(feat)\n",
    "        x = self.basic(x)\n",
    "        feats.append(x)\n",
    "        return feats"
   ]
  },
  {
   "cell_type": "code",
   "execution_count": 9,
   "metadata": {},
   "outputs": [
    {
     "data": {
      "application/javascript": [
       "\n",
       "            setTimeout(function() {\n",
       "                var nbb_cell_id = 9;\n",
       "                var nbb_unformatted_code = \"# x = torch.randn(3, 4, 128, 128)\\n# encoder = Encoder()\\n# feats = encoder(x)\\n# for feat in feats:\\n#     print(feat.shape)\";\n",
       "                var nbb_formatted_code = \"# x = torch.randn(3, 4, 128, 128)\\n# encoder = Encoder()\\n# feats = encoder(x)\\n# for feat in feats:\\n#     print(feat.shape)\";\n",
       "                var nbb_cells = Jupyter.notebook.get_cells();\n",
       "                for (var i = 0; i < nbb_cells.length; ++i) {\n",
       "                    if (nbb_cells[i].input_prompt_number == nbb_cell_id) {\n",
       "                        if (nbb_cells[i].get_text() == nbb_unformatted_code) {\n",
       "                             nbb_cells[i].set_text(nbb_formatted_code);\n",
       "                        }\n",
       "                        break;\n",
       "                    }\n",
       "                }\n",
       "            }, 500);\n",
       "            "
      ],
      "text/plain": [
       "<IPython.core.display.Javascript object>"
      ]
     },
     "metadata": {},
     "output_type": "display_data"
    }
   ],
   "source": [
    "# x = torch.randn(3, 4, 128, 128)\n",
    "# encoder = Encoder()\n",
    "# feats = encoder(x)\n",
    "# for feat in feats:\n",
    "#     print(feat.shape)"
   ]
  },
  {
   "cell_type": "markdown",
   "metadata": {},
   "source": [
    "#### Decoder"
   ]
  },
  {
   "cell_type": "code",
   "execution_count": 10,
   "metadata": {},
   "outputs": [
    {
     "data": {
      "application/javascript": [
       "\n",
       "            setTimeout(function() {\n",
       "                var nbb_cell_id = 10;\n",
       "                var nbb_unformatted_code = \"class UpBlock(nn.Module):\\n    def __init__(self, in_ch, out_ch, bilinear=False):\\n        super().__init__()\\n        self.id_conv = nn.ConvTranspose2d(\\n            in_ch + in_ch, out_ch, kernel_size=2, stride=2\\n        )\\n        layers = []\\n        if bilinear:\\n            layers.append(nn.Upsample(scale_factor=2, mode=\\\"nearest\\\"))\\n        else:\\n            layers.append(\\n                nn.ConvTranspose2d(in_ch + in_ch, out_ch, kernel_size=2, stride=2)\\n            )\\n        layers.extend(\\n            [\\n                nn.BatchNorm2d(out_ch),\\n                nn.LeakyReLU(inplace=True),\\n                nn.Conv2d(out_ch, out_ch, kernel_size=3, padding=1, bias=False),\\n                nn.BatchNorm2d(out_ch),\\n                nn.LeakyReLU(inplace=True),\\n                nn.Conv2d(out_ch, out_ch, kernel_size=3, padding=1, bias=False),\\n            ]\\n        )\\n        self.block = nn.Sequential(*layers)\\n\\n    def forward(self, x, feat):\\n        x = torch.cat([x, feat], dim=1)\\n        residual = x\\n        residual = self.id_conv(residual)\\n        x = self.block(x)\\n        return x + residual\";\n",
       "                var nbb_formatted_code = \"class UpBlock(nn.Module):\\n    def __init__(self, in_ch, out_ch, bilinear=False):\\n        super().__init__()\\n        self.id_conv = nn.ConvTranspose2d(\\n            in_ch + in_ch, out_ch, kernel_size=2, stride=2\\n        )\\n        layers = []\\n        if bilinear:\\n            layers.append(nn.Upsample(scale_factor=2, mode=\\\"nearest\\\"))\\n        else:\\n            layers.append(\\n                nn.ConvTranspose2d(in_ch + in_ch, out_ch, kernel_size=2, stride=2)\\n            )\\n        layers.extend(\\n            [\\n                nn.BatchNorm2d(out_ch),\\n                nn.LeakyReLU(inplace=True),\\n                nn.Conv2d(out_ch, out_ch, kernel_size=3, padding=1, bias=False),\\n                nn.BatchNorm2d(out_ch),\\n                nn.LeakyReLU(inplace=True),\\n                nn.Conv2d(out_ch, out_ch, kernel_size=3, padding=1, bias=False),\\n            ]\\n        )\\n        self.block = nn.Sequential(*layers)\\n\\n    def forward(self, x, feat):\\n        x = torch.cat([x, feat], dim=1)\\n        residual = x\\n        residual = self.id_conv(residual)\\n        x = self.block(x)\\n        return x + residual\";\n",
       "                var nbb_cells = Jupyter.notebook.get_cells();\n",
       "                for (var i = 0; i < nbb_cells.length; ++i) {\n",
       "                    if (nbb_cells[i].input_prompt_number == nbb_cell_id) {\n",
       "                        if (nbb_cells[i].get_text() == nbb_unformatted_code) {\n",
       "                             nbb_cells[i].set_text(nbb_formatted_code);\n",
       "                        }\n",
       "                        break;\n",
       "                    }\n",
       "                }\n",
       "            }, 500);\n",
       "            "
      ],
      "text/plain": [
       "<IPython.core.display.Javascript object>"
      ]
     },
     "metadata": {},
     "output_type": "display_data"
    }
   ],
   "source": [
    "class UpBlock(nn.Module):\n",
    "    def __init__(self, in_ch, out_ch, bilinear=False):\n",
    "        super().__init__()\n",
    "        self.id_conv = nn.ConvTranspose2d(\n",
    "            in_ch + in_ch, out_ch, kernel_size=2, stride=2\n",
    "        )\n",
    "        layers = []\n",
    "        if bilinear:\n",
    "            layers.append(nn.Upsample(scale_factor=2, mode=\"nearest\"))\n",
    "        else:\n",
    "            layers.append(\n",
    "                nn.ConvTranspose2d(in_ch + in_ch, out_ch, kernel_size=2, stride=2)\n",
    "            )\n",
    "        layers.extend(\n",
    "            [\n",
    "                nn.BatchNorm2d(out_ch),\n",
    "                nn.LeakyReLU(inplace=True),\n",
    "                nn.Conv2d(out_ch, out_ch, kernel_size=3, padding=1, bias=False),\n",
    "                nn.BatchNorm2d(out_ch),\n",
    "                nn.LeakyReLU(inplace=True),\n",
    "                nn.Conv2d(out_ch, out_ch, kernel_size=3, padding=1, bias=False),\n",
    "            ]\n",
    "        )\n",
    "        self.block = nn.Sequential(*layers)\n",
    "\n",
    "    def forward(self, x, feat):\n",
    "        x = torch.cat([x, feat], dim=1)\n",
    "        residual = x\n",
    "        residual = self.id_conv(residual)\n",
    "        x = self.block(x)\n",
    "        return x + residual"
   ]
  },
  {
   "cell_type": "code",
   "execution_count": 11,
   "metadata": {},
   "outputs": [
    {
     "data": {
      "application/javascript": [
       "\n",
       "            setTimeout(function() {\n",
       "                var nbb_cell_id = 11;\n",
       "                var nbb_unformatted_code = \"# x = torch.randn(3, 1024, 4, 4)\\n# feat = torch.randn(3, 1024, 4, 4)\\n# block = UpBlock(1024, 512)\\n# block(x, feat).shape\";\n",
       "                var nbb_formatted_code = \"# x = torch.randn(3, 1024, 4, 4)\\n# feat = torch.randn(3, 1024, 4, 4)\\n# block = UpBlock(1024, 512)\\n# block(x, feat).shape\";\n",
       "                var nbb_cells = Jupyter.notebook.get_cells();\n",
       "                for (var i = 0; i < nbb_cells.length; ++i) {\n",
       "                    if (nbb_cells[i].input_prompt_number == nbb_cell_id) {\n",
       "                        if (nbb_cells[i].get_text() == nbb_unformatted_code) {\n",
       "                             nbb_cells[i].set_text(nbb_formatted_code);\n",
       "                        }\n",
       "                        break;\n",
       "                    }\n",
       "                }\n",
       "            }, 500);\n",
       "            "
      ],
      "text/plain": [
       "<IPython.core.display.Javascript object>"
      ]
     },
     "metadata": {},
     "output_type": "display_data"
    }
   ],
   "source": [
    "# x = torch.randn(3, 1024, 4, 4)\n",
    "# feat = torch.randn(3, 1024, 4, 4)\n",
    "# block = UpBlock(1024, 512)\n",
    "# block(x, feat).shape"
   ]
  },
  {
   "cell_type": "code",
   "execution_count": 12,
   "metadata": {},
   "outputs": [
    {
     "data": {
      "application/javascript": [
       "\n",
       "            setTimeout(function() {\n",
       "                var nbb_cell_id = 12;\n",
       "                var nbb_unformatted_code = \"class Decoder(nn.Module):\\n    def __init__(self, chs=[1024, 512, 256, 128, 64]):\\n        super().__init__()\\n        self.blocks = nn.ModuleList(\\n            [UpBlock(chs[i], chs[i + 1]) for i in range(len(chs) - 1)]\\n        )\\n\\n    def forward(self, x, feats):\\n        for block, feat in zip(self.blocks, feats):\\n            x = block(x, feat)\\n        return x\";\n",
       "                var nbb_formatted_code = \"class Decoder(nn.Module):\\n    def __init__(self, chs=[1024, 512, 256, 128, 64]):\\n        super().__init__()\\n        self.blocks = nn.ModuleList(\\n            [UpBlock(chs[i], chs[i + 1]) for i in range(len(chs) - 1)]\\n        )\\n\\n    def forward(self, x, feats):\\n        for block, feat in zip(self.blocks, feats):\\n            x = block(x, feat)\\n        return x\";\n",
       "                var nbb_cells = Jupyter.notebook.get_cells();\n",
       "                for (var i = 0; i < nbb_cells.length; ++i) {\n",
       "                    if (nbb_cells[i].input_prompt_number == nbb_cell_id) {\n",
       "                        if (nbb_cells[i].get_text() == nbb_unformatted_code) {\n",
       "                             nbb_cells[i].set_text(nbb_formatted_code);\n",
       "                        }\n",
       "                        break;\n",
       "                    }\n",
       "                }\n",
       "            }, 500);\n",
       "            "
      ],
      "text/plain": [
       "<IPython.core.display.Javascript object>"
      ]
     },
     "metadata": {},
     "output_type": "display_data"
    }
   ],
   "source": [
    "class Decoder(nn.Module):\n",
    "    def __init__(self, chs=[1024, 512, 256, 128, 64]):\n",
    "        super().__init__()\n",
    "        self.blocks = nn.ModuleList(\n",
    "            [UpBlock(chs[i], chs[i + 1]) for i in range(len(chs) - 1)]\n",
    "        )\n",
    "\n",
    "    def forward(self, x, feats):\n",
    "        for block, feat in zip(self.blocks, feats):\n",
    "            x = block(x, feat)\n",
    "        return x"
   ]
  },
  {
   "cell_type": "code",
   "execution_count": 13,
   "metadata": {},
   "outputs": [
    {
     "data": {
      "application/javascript": [
       "\n",
       "            setTimeout(function() {\n",
       "                var nbb_cell_id = 13;\n",
       "                var nbb_unformatted_code = \"# x = torch.randn(3, 4, 128, 128)\\n# encoder = Encoder()\\n# feats = encoder(x)\\n# for feat in feats:\\n#     print(feat.shape)\";\n",
       "                var nbb_formatted_code = \"# x = torch.randn(3, 4, 128, 128)\\n# encoder = Encoder()\\n# feats = encoder(x)\\n# for feat in feats:\\n#     print(feat.shape)\";\n",
       "                var nbb_cells = Jupyter.notebook.get_cells();\n",
       "                for (var i = 0; i < nbb_cells.length; ++i) {\n",
       "                    if (nbb_cells[i].input_prompt_number == nbb_cell_id) {\n",
       "                        if (nbb_cells[i].get_text() == nbb_unformatted_code) {\n",
       "                             nbb_cells[i].set_text(nbb_formatted_code);\n",
       "                        }\n",
       "                        break;\n",
       "                    }\n",
       "                }\n",
       "            }, 500);\n",
       "            "
      ],
      "text/plain": [
       "<IPython.core.display.Javascript object>"
      ]
     },
     "metadata": {},
     "output_type": "display_data"
    }
   ],
   "source": [
    "# x = torch.randn(3, 4, 128, 128)\n",
    "# encoder = Encoder()\n",
    "# feats = encoder(x)\n",
    "# for feat in feats:\n",
    "#     print(feat.shape)"
   ]
  },
  {
   "cell_type": "code",
   "execution_count": 14,
   "metadata": {},
   "outputs": [
    {
     "data": {
      "application/javascript": [
       "\n",
       "            setTimeout(function() {\n",
       "                var nbb_cell_id = 14;\n",
       "                var nbb_unformatted_code = \"# decoder = Decoder()\\n# x = torch.randn(3, 1024, 4, 4)\\n# feats = list(reversed(feats))[1:]\\n# decoder(x, feats).shape\";\n",
       "                var nbb_formatted_code = \"# decoder = Decoder()\\n# x = torch.randn(3, 1024, 4, 4)\\n# feats = list(reversed(feats))[1:]\\n# decoder(x, feats).shape\";\n",
       "                var nbb_cells = Jupyter.notebook.get_cells();\n",
       "                for (var i = 0; i < nbb_cells.length; ++i) {\n",
       "                    if (nbb_cells[i].input_prompt_number == nbb_cell_id) {\n",
       "                        if (nbb_cells[i].get_text() == nbb_unformatted_code) {\n",
       "                             nbb_cells[i].set_text(nbb_formatted_code);\n",
       "                        }\n",
       "                        break;\n",
       "                    }\n",
       "                }\n",
       "            }, 500);\n",
       "            "
      ],
      "text/plain": [
       "<IPython.core.display.Javascript object>"
      ]
     },
     "metadata": {},
     "output_type": "display_data"
    }
   ],
   "source": [
    "# decoder = Decoder()\n",
    "# x = torch.randn(3, 1024, 4, 4)\n",
    "# feats = list(reversed(feats))[1:]\n",
    "# decoder(x, feats).shape"
   ]
  },
  {
   "cell_type": "code",
   "execution_count": 15,
   "metadata": {},
   "outputs": [
    {
     "data": {
      "application/javascript": [
       "\n",
       "            setTimeout(function() {\n",
       "                var nbb_cell_id = 15;\n",
       "                var nbb_unformatted_code = \"class UNet(pl.LightningModule):\\n    def __init__(\\n        self,\\n        lr=args[\\\"lr\\\"],\\n        enc_chs=[4, 64, 128, 256, 512, 1024],\\n        dec_chs=[1024, 512, 256, 128, 64],\\n        num_train_steps=None,\\n    ):\\n        super().__init__()\\n        self.lr = lr\\n        self.num_train_steps = num_train_steps\\n        self.criterion = nn.SmoothL1Loss()\\n\\n        self.tail = BasicBlock(4, enc_chs[0])\\n        self.encoder = Encoder(enc_chs)\\n        self.decoder = Decoder(dec_chs)\\n        self.head = nn.Sequential(\\n            nn.ConvTranspose2d(dec_chs[-1], 32, kernel_size=2, stride=2, bias=False),\\n            nn.BatchNorm2d(32),\\n            nn.LeakyReLU(inplace=True),\\n            nn.Conv2d(32, 1, kernel_size=3, padding=1),\\n            nn.ReLU(inplace=True),\\n        )\\n\\n    def forward(self, x):\\n        x = self.tail(x)\\n        #         print(\\\"after tail:\\\", x.shape)\\n        feats = self.encoder(x)\\n        feats = feats[::-1]\\n        x = self.decoder(feats[0], feats[1:])\\n        #         print(\\\"after decoder:\\\", x.shape)\\n        x = self.head(x)\\n\\n        return x\\n\\n    def shared_step(self, batch, batch_idx):\\n        x, y = batch\\n        y_hat = self(x)\\n        loss = self.criterion(y_hat, y)\\n\\n        return loss, y, y_hat\\n\\n    def training_step(self, batch, batch_idx):\\n        loss, y, y_hat = self.shared_step(batch, batch_idx)\\n        self.log(\\\"train_loss\\\", loss)\\n        for i, param_group in enumerate(self.optimizer.param_groups):\\n            self.log(f\\\"lr/lr{i}\\\", param_group[\\\"lr\\\"])\\n\\n        return {\\\"loss\\\": loss}\\n\\n    def validation_step(self, batch, batch_idx):\\n        loss, y, y_hat = self.shared_step(batch, batch_idx)\\n\\n        return {\\\"loss\\\": loss, \\\"y\\\": y.detach(), \\\"y_hat\\\": y_hat.detach()}\\n\\n    def validation_epoch_end(self, outputs):\\n        avg_loss = torch.stack([x[\\\"loss\\\"] for x in outputs]).mean()\\n        self.log(\\\"val_loss\\\", avg_loss)\\n\\n        crop = T.CenterCrop(120)\\n\\n        y = torch.cat([x[\\\"y\\\"] for x in outputs])\\n        y = crop(y)\\n        y = y.detach().cpu().numpy()\\n        y = y.reshape(-1, 120 * 120)\\n\\n        y_hat = torch.cat([x[\\\"y_hat\\\"] for x in outputs])\\n        y_hat = crop(y_hat)\\n        y_hat = y_hat.detach().cpu().numpy()\\n        y_hat = y_hat.reshape(-1, 120 * 120)\\n\\n        y = args[\\\"rng\\\"] * y[:, args[\\\"dams\\\"]]\\n        y = y.clip(0, 255)\\n        y_hat = args[\\\"rng\\\"] * y_hat[:, args[\\\"dams\\\"]]\\n        y_hat = y_hat.clip(0, 255)\\n\\n        y_true = radar2precipitation(y)\\n        y_true = np.where(y_true >= 0.1, 1, 0)\\n        y_pred = radar2precipitation(y_hat)\\n        y_pred = np.where(y_pred >= 0.1, 1, 0)\\n\\n        y *= y_true\\n        y_hat *= y_true\\n        mae = metrics.mean_absolute_error(y, y_hat)\\n        self.log(\\\"mae\\\", mae)\\n\\n        tn, fp, fn, tp = metrics.confusion_matrix(\\n            y_true.ravel(), y_pred.ravel()\\n        ).ravel()\\n        csi = tp / (tp + fn + fp)\\n        self.log(\\\"csi\\\", csi)\\n\\n        comp_metric = mae / (csi + 1e-12)\\n        self.log(\\\"comp_metric\\\", comp_metric)\\n\\n        print(\\n            f\\\"Epoch {self.current_epoch} | MAE/CSI: {comp_metric} | MAE: {mae} | CSI: {csi} | Loss: {avg_loss}\\\"\\n        )\\n\\n    def configure_optimizers(self):\\n        #         self.optimizer = torch.optim.Adam(self.parameters(), lr=self.lr)\\n        self.optimizer = transformers.AdamW(self.parameters(), lr=self.lr)\\n        self.scheduler = torch.optim.lr_scheduler.CosineAnnealingLR(\\n            self.optimizer, T_max=self.num_train_steps\\n        )\\n\\n        return [self.optimizer], [{\\\"scheduler\\\": self.scheduler, \\\"interval\\\": \\\"step\\\"}]\";\n",
       "                var nbb_formatted_code = \"class UNet(pl.LightningModule):\\n    def __init__(\\n        self,\\n        lr=args[\\\"lr\\\"],\\n        enc_chs=[4, 64, 128, 256, 512, 1024],\\n        dec_chs=[1024, 512, 256, 128, 64],\\n        num_train_steps=None,\\n    ):\\n        super().__init__()\\n        self.lr = lr\\n        self.num_train_steps = num_train_steps\\n        self.criterion = nn.SmoothL1Loss()\\n\\n        self.tail = BasicBlock(4, enc_chs[0])\\n        self.encoder = Encoder(enc_chs)\\n        self.decoder = Decoder(dec_chs)\\n        self.head = nn.Sequential(\\n            nn.ConvTranspose2d(dec_chs[-1], 32, kernel_size=2, stride=2, bias=False),\\n            nn.BatchNorm2d(32),\\n            nn.LeakyReLU(inplace=True),\\n            nn.Conv2d(32, 1, kernel_size=3, padding=1),\\n            nn.ReLU(inplace=True),\\n        )\\n\\n    def forward(self, x):\\n        x = self.tail(x)\\n        #         print(\\\"after tail:\\\", x.shape)\\n        feats = self.encoder(x)\\n        feats = feats[::-1]\\n        x = self.decoder(feats[0], feats[1:])\\n        #         print(\\\"after decoder:\\\", x.shape)\\n        x = self.head(x)\\n\\n        return x\\n\\n    def shared_step(self, batch, batch_idx):\\n        x, y = batch\\n        y_hat = self(x)\\n        loss = self.criterion(y_hat, y)\\n\\n        return loss, y, y_hat\\n\\n    def training_step(self, batch, batch_idx):\\n        loss, y, y_hat = self.shared_step(batch, batch_idx)\\n        self.log(\\\"train_loss\\\", loss)\\n        for i, param_group in enumerate(self.optimizer.param_groups):\\n            self.log(f\\\"lr/lr{i}\\\", param_group[\\\"lr\\\"])\\n\\n        return {\\\"loss\\\": loss}\\n\\n    def validation_step(self, batch, batch_idx):\\n        loss, y, y_hat = self.shared_step(batch, batch_idx)\\n\\n        return {\\\"loss\\\": loss, \\\"y\\\": y.detach(), \\\"y_hat\\\": y_hat.detach()}\\n\\n    def validation_epoch_end(self, outputs):\\n        avg_loss = torch.stack([x[\\\"loss\\\"] for x in outputs]).mean()\\n        self.log(\\\"val_loss\\\", avg_loss)\\n\\n        crop = T.CenterCrop(120)\\n\\n        y = torch.cat([x[\\\"y\\\"] for x in outputs])\\n        y = crop(y)\\n        y = y.detach().cpu().numpy()\\n        y = y.reshape(-1, 120 * 120)\\n\\n        y_hat = torch.cat([x[\\\"y_hat\\\"] for x in outputs])\\n        y_hat = crop(y_hat)\\n        y_hat = y_hat.detach().cpu().numpy()\\n        y_hat = y_hat.reshape(-1, 120 * 120)\\n\\n        y = args[\\\"rng\\\"] * y[:, args[\\\"dams\\\"]]\\n        y = y.clip(0, 255)\\n        y_hat = args[\\\"rng\\\"] * y_hat[:, args[\\\"dams\\\"]]\\n        y_hat = y_hat.clip(0, 255)\\n\\n        y_true = radar2precipitation(y)\\n        y_true = np.where(y_true >= 0.1, 1, 0)\\n        y_pred = radar2precipitation(y_hat)\\n        y_pred = np.where(y_pred >= 0.1, 1, 0)\\n\\n        y *= y_true\\n        y_hat *= y_true\\n        mae = metrics.mean_absolute_error(y, y_hat)\\n        self.log(\\\"mae\\\", mae)\\n\\n        tn, fp, fn, tp = metrics.confusion_matrix(\\n            y_true.ravel(), y_pred.ravel()\\n        ).ravel()\\n        csi = tp / (tp + fn + fp)\\n        self.log(\\\"csi\\\", csi)\\n\\n        comp_metric = mae / (csi + 1e-12)\\n        self.log(\\\"comp_metric\\\", comp_metric)\\n\\n        print(\\n            f\\\"Epoch {self.current_epoch} | MAE/CSI: {comp_metric} | MAE: {mae} | CSI: {csi} | Loss: {avg_loss}\\\"\\n        )\\n\\n    def configure_optimizers(self):\\n        #         self.optimizer = torch.optim.Adam(self.parameters(), lr=self.lr)\\n        self.optimizer = transformers.AdamW(self.parameters(), lr=self.lr)\\n        self.scheduler = torch.optim.lr_scheduler.CosineAnnealingLR(\\n            self.optimizer, T_max=self.num_train_steps\\n        )\\n\\n        return [self.optimizer], [{\\\"scheduler\\\": self.scheduler, \\\"interval\\\": \\\"step\\\"}]\";\n",
       "                var nbb_cells = Jupyter.notebook.get_cells();\n",
       "                for (var i = 0; i < nbb_cells.length; ++i) {\n",
       "                    if (nbb_cells[i].input_prompt_number == nbb_cell_id) {\n",
       "                        if (nbb_cells[i].get_text() == nbb_unformatted_code) {\n",
       "                             nbb_cells[i].set_text(nbb_formatted_code);\n",
       "                        }\n",
       "                        break;\n",
       "                    }\n",
       "                }\n",
       "            }, 500);\n",
       "            "
      ],
      "text/plain": [
       "<IPython.core.display.Javascript object>"
      ]
     },
     "metadata": {},
     "output_type": "display_data"
    }
   ],
   "source": [
    "class UNet(pl.LightningModule):\n",
    "    def __init__(\n",
    "        self,\n",
    "        lr=args[\"lr\"],\n",
    "        enc_chs=[4, 64, 128, 256, 512, 1024],\n",
    "        dec_chs=[1024, 512, 256, 128, 64],\n",
    "        num_train_steps=None,\n",
    "    ):\n",
    "        super().__init__()\n",
    "        self.lr = lr\n",
    "        self.num_train_steps = num_train_steps\n",
    "        self.criterion = nn.SmoothL1Loss()\n",
    "\n",
    "        self.tail = BasicBlock(4, enc_chs[0])\n",
    "        self.encoder = Encoder(enc_chs)\n",
    "        self.decoder = Decoder(dec_chs)\n",
    "        self.head = nn.Sequential(\n",
    "            nn.ConvTranspose2d(dec_chs[-1], 32, kernel_size=2, stride=2, bias=False),\n",
    "            nn.BatchNorm2d(32),\n",
    "            nn.LeakyReLU(inplace=True),\n",
    "            nn.Conv2d(32, 1, kernel_size=3, padding=1),\n",
    "            nn.ReLU(inplace=True),\n",
    "        )\n",
    "\n",
    "    def forward(self, x):\n",
    "        x = self.tail(x)\n",
    "        #         print(\"after tail:\", x.shape)\n",
    "        feats = self.encoder(x)\n",
    "        feats = feats[::-1]\n",
    "        x = self.decoder(feats[0], feats[1:])\n",
    "        #         print(\"after decoder:\", x.shape)\n",
    "        x = self.head(x)\n",
    "\n",
    "        return x\n",
    "\n",
    "    def shared_step(self, batch, batch_idx):\n",
    "        x, y = batch\n",
    "        y_hat = self(x)\n",
    "        loss = self.criterion(y_hat, y)\n",
    "\n",
    "        return loss, y, y_hat\n",
    "\n",
    "    def training_step(self, batch, batch_idx):\n",
    "        loss, y, y_hat = self.shared_step(batch, batch_idx)\n",
    "        self.log(\"train_loss\", loss)\n",
    "        for i, param_group in enumerate(self.optimizer.param_groups):\n",
    "            self.log(f\"lr/lr{i}\", param_group[\"lr\"])\n",
    "\n",
    "        return {\"loss\": loss}\n",
    "\n",
    "    def validation_step(self, batch, batch_idx):\n",
    "        loss, y, y_hat = self.shared_step(batch, batch_idx)\n",
    "\n",
    "        return {\"loss\": loss, \"y\": y.detach(), \"y_hat\": y_hat.detach()}\n",
    "\n",
    "    def validation_epoch_end(self, outputs):\n",
    "        avg_loss = torch.stack([x[\"loss\"] for x in outputs]).mean()\n",
    "        self.log(\"val_loss\", avg_loss)\n",
    "\n",
    "        crop = T.CenterCrop(120)\n",
    "\n",
    "        y = torch.cat([x[\"y\"] for x in outputs])\n",
    "        y = crop(y)\n",
    "        y = y.detach().cpu().numpy()\n",
    "        y = y.reshape(-1, 120 * 120)\n",
    "\n",
    "        y_hat = torch.cat([x[\"y_hat\"] for x in outputs])\n",
    "        y_hat = crop(y_hat)\n",
    "        y_hat = y_hat.detach().cpu().numpy()\n",
    "        y_hat = y_hat.reshape(-1, 120 * 120)\n",
    "\n",
    "        y = args[\"rng\"] * y[:, args[\"dams\"]]\n",
    "        y = y.clip(0, 255)\n",
    "        y_hat = args[\"rng\"] * y_hat[:, args[\"dams\"]]\n",
    "        y_hat = y_hat.clip(0, 255)\n",
    "\n",
    "        y_true = radar2precipitation(y)\n",
    "        y_true = np.where(y_true >= 0.1, 1, 0)\n",
    "        y_pred = radar2precipitation(y_hat)\n",
    "        y_pred = np.where(y_pred >= 0.1, 1, 0)\n",
    "\n",
    "        y *= y_true\n",
    "        y_hat *= y_true\n",
    "        mae = metrics.mean_absolute_error(y, y_hat)\n",
    "        self.log(\"mae\", mae)\n",
    "\n",
    "        tn, fp, fn, tp = metrics.confusion_matrix(\n",
    "            y_true.ravel(), y_pred.ravel()\n",
    "        ).ravel()\n",
    "        csi = tp / (tp + fn + fp)\n",
    "        self.log(\"csi\", csi)\n",
    "\n",
    "        comp_metric = mae / (csi + 1e-12)\n",
    "        self.log(\"comp_metric\", comp_metric)\n",
    "\n",
    "        print(\n",
    "            f\"Epoch {self.current_epoch} | MAE/CSI: {comp_metric} | MAE: {mae} | CSI: {csi} | Loss: {avg_loss}\"\n",
    "        )\n",
    "\n",
    "    def configure_optimizers(self):\n",
    "        #         self.optimizer = torch.optim.Adam(self.parameters(), lr=self.lr)\n",
    "        self.optimizer = transformers.AdamW(self.parameters(), lr=self.lr)\n",
    "        self.scheduler = torch.optim.lr_scheduler.CosineAnnealingLR(\n",
    "            self.optimizer, T_max=self.num_train_steps\n",
    "        )\n",
    "\n",
    "        return [self.optimizer], [{\"scheduler\": self.scheduler, \"interval\": \"step\"}]"
   ]
  },
  {
   "cell_type": "code",
   "execution_count": 16,
   "metadata": {},
   "outputs": [
    {
     "data": {
      "application/javascript": [
       "\n",
       "            setTimeout(function() {\n",
       "                var nbb_cell_id = 16;\n",
       "                var nbb_unformatted_code = \"# m = UNet()\\n# x = torch.randn(3, 4, 128, 128)\\n# m(x).shape\";\n",
       "                var nbb_formatted_code = \"# m = UNet()\\n# x = torch.randn(3, 4, 128, 128)\\n# m(x).shape\";\n",
       "                var nbb_cells = Jupyter.notebook.get_cells();\n",
       "                for (var i = 0; i < nbb_cells.length; ++i) {\n",
       "                    if (nbb_cells[i].input_prompt_number == nbb_cell_id) {\n",
       "                        if (nbb_cells[i].get_text() == nbb_unformatted_code) {\n",
       "                             nbb_cells[i].set_text(nbb_formatted_code);\n",
       "                        }\n",
       "                        break;\n",
       "                    }\n",
       "                }\n",
       "            }, 500);\n",
       "            "
      ],
      "text/plain": [
       "<IPython.core.display.Javascript object>"
      ]
     },
     "metadata": {},
     "output_type": "display_data"
    }
   ],
   "source": [
    "# m = UNet()\n",
    "# x = torch.randn(3, 4, 128, 128)\n",
    "# m(x).shape"
   ]
  },
  {
   "cell_type": "markdown",
   "metadata": {},
   "source": [
    "## Dataset"
   ]
  },
  {
   "cell_type": "code",
   "execution_count": 17,
   "metadata": {},
   "outputs": [
    {
     "data": {
      "application/javascript": [
       "\n",
       "            setTimeout(function() {\n",
       "                var nbb_cell_id = 17;\n",
       "                var nbb_unformatted_code = \"class NowcastingDataset(torch.utils.data.Dataset):\\n    def __init__(self, paths, test=False):\\n        self.paths = paths\\n        self.test = test\\n\\n    def __len__(self):\\n        return len(self.paths)\\n\\n    def __getitem__(self, idx):\\n        path = self.paths[idx]\\n        data = np.load(path)\\n        x = data[:, :, :4]\\n        x = x / args[\\\"rng\\\"]\\n        x = x.astype(np.float32)\\n        x = torch.tensor(x, dtype=torch.float)\\n        x = x.permute(2, 0, 1)\\n        if self.test:\\n            return x\\n        else:\\n            y = data[:, :, 4]\\n            y = y / args[\\\"rng\\\"]\\n            y = y.astype(np.float32)\\n            y = torch.tensor(y, dtype=torch.float)\\n            y = y.unsqueeze(-1)\\n            y = y.permute(2, 0, 1)\\n\\n            return x, y\";\n",
       "                var nbb_formatted_code = \"class NowcastingDataset(torch.utils.data.Dataset):\\n    def __init__(self, paths, test=False):\\n        self.paths = paths\\n        self.test = test\\n\\n    def __len__(self):\\n        return len(self.paths)\\n\\n    def __getitem__(self, idx):\\n        path = self.paths[idx]\\n        data = np.load(path)\\n        x = data[:, :, :4]\\n        x = x / args[\\\"rng\\\"]\\n        x = x.astype(np.float32)\\n        x = torch.tensor(x, dtype=torch.float)\\n        x = x.permute(2, 0, 1)\\n        if self.test:\\n            return x\\n        else:\\n            y = data[:, :, 4]\\n            y = y / args[\\\"rng\\\"]\\n            y = y.astype(np.float32)\\n            y = torch.tensor(y, dtype=torch.float)\\n            y = y.unsqueeze(-1)\\n            y = y.permute(2, 0, 1)\\n\\n            return x, y\";\n",
       "                var nbb_cells = Jupyter.notebook.get_cells();\n",
       "                for (var i = 0; i < nbb_cells.length; ++i) {\n",
       "                    if (nbb_cells[i].input_prompt_number == nbb_cell_id) {\n",
       "                        if (nbb_cells[i].get_text() == nbb_unformatted_code) {\n",
       "                             nbb_cells[i].set_text(nbb_formatted_code);\n",
       "                        }\n",
       "                        break;\n",
       "                    }\n",
       "                }\n",
       "            }, 500);\n",
       "            "
      ],
      "text/plain": [
       "<IPython.core.display.Javascript object>"
      ]
     },
     "metadata": {},
     "output_type": "display_data"
    }
   ],
   "source": [
    "class NowcastingDataset(torch.utils.data.Dataset):\n",
    "    def __init__(self, paths, test=False):\n",
    "        self.paths = paths\n",
    "        self.test = test\n",
    "\n",
    "    def __len__(self):\n",
    "        return len(self.paths)\n",
    "\n",
    "    def __getitem__(self, idx):\n",
    "        path = self.paths[idx]\n",
    "        data = np.load(path)\n",
    "        x = data[:, :, :4]\n",
    "        x = x / args[\"rng\"]\n",
    "        x = x.astype(np.float32)\n",
    "        x = torch.tensor(x, dtype=torch.float)\n",
    "        x = x.permute(2, 0, 1)\n",
    "        if self.test:\n",
    "            return x\n",
    "        else:\n",
    "            y = data[:, :, 4]\n",
    "            y = y / args[\"rng\"]\n",
    "            y = y.astype(np.float32)\n",
    "            y = torch.tensor(y, dtype=torch.float)\n",
    "            y = y.unsqueeze(-1)\n",
    "            y = y.permute(2, 0, 1)\n",
    "\n",
    "            return x, y"
   ]
  },
  {
   "cell_type": "code",
   "execution_count": 18,
   "metadata": {},
   "outputs": [
    {
     "data": {
      "application/javascript": [
       "\n",
       "            setTimeout(function() {\n",
       "                var nbb_cell_id = 18;\n",
       "                var nbb_unformatted_code = \"class NowcastingDataModule(pl.LightningDataModule):\\n    def __init__(\\n        self,\\n        train_df=None,\\n        val_df=None,\\n        batch_size=args[\\\"batch_size\\\"],\\n        num_workers=args[\\\"num_workers\\\"],\\n    ):\\n        super().__init__()\\n        self.train_df = train_df\\n        self.val_df = val_df\\n        self.batch_size = batch_size\\n        self.num_workers = num_workers\\n\\n    def setup(self, stage=\\\"train\\\"):\\n        if stage == \\\"train\\\":\\n            train_paths = [\\n                args[\\\"train_data_path\\\"] / fn for fn in self.train_df.filename.values\\n            ]\\n            val_paths = [\\n                args[\\\"train_data_path\\\"] / fn for fn in self.val_df.filename.values\\n            ]\\n            self.train_dataset = NowcastingDataset(train_paths)\\n            self.val_dataset = NowcastingDataset(val_paths)\\n        else:\\n            test_paths = list(args[\\\"test_data_path\\\"].glob(\\\"*.npy\\\"))\\n            self.test_dataset = NowcastingDataset(test_paths, test=True)\\n\\n    def train_dataloader(self):\\n        return torch.utils.data.DataLoader(\\n            self.train_dataset,\\n            batch_size=self.batch_size,\\n            sampler=RandomSampler(self.train_dataset),\\n            pin_memory=True,\\n            num_workers=self.num_workers,\\n            drop_last=True,\\n        )\\n\\n    def val_dataloader(self):\\n        return torch.utils.data.DataLoader(\\n            self.val_dataset,\\n            batch_size=2 * self.batch_size,\\n            sampler=SequentialSampler(self.val_dataset),\\n            pin_memory=True,\\n            num_workers=self.num_workers,\\n        )\\n\\n    def test_dataloader(self):\\n        return torch.utils.data.DataLoader(\\n            self.test_dataset,\\n            batch_size=2 * self.batch_size,\\n            sampler=SequentialSampler(self.test_dataset),\\n            pin_memory=True,\\n            num_workers=self.num_workers,\\n        )\";\n",
       "                var nbb_formatted_code = \"class NowcastingDataModule(pl.LightningDataModule):\\n    def __init__(\\n        self,\\n        train_df=None,\\n        val_df=None,\\n        batch_size=args[\\\"batch_size\\\"],\\n        num_workers=args[\\\"num_workers\\\"],\\n    ):\\n        super().__init__()\\n        self.train_df = train_df\\n        self.val_df = val_df\\n        self.batch_size = batch_size\\n        self.num_workers = num_workers\\n\\n    def setup(self, stage=\\\"train\\\"):\\n        if stage == \\\"train\\\":\\n            train_paths = [\\n                args[\\\"train_data_path\\\"] / fn for fn in self.train_df.filename.values\\n            ]\\n            val_paths = [\\n                args[\\\"train_data_path\\\"] / fn for fn in self.val_df.filename.values\\n            ]\\n            self.train_dataset = NowcastingDataset(train_paths)\\n            self.val_dataset = NowcastingDataset(val_paths)\\n        else:\\n            test_paths = list(args[\\\"test_data_path\\\"].glob(\\\"*.npy\\\"))\\n            self.test_dataset = NowcastingDataset(test_paths, test=True)\\n\\n    def train_dataloader(self):\\n        return torch.utils.data.DataLoader(\\n            self.train_dataset,\\n            batch_size=self.batch_size,\\n            sampler=RandomSampler(self.train_dataset),\\n            pin_memory=True,\\n            num_workers=self.num_workers,\\n            drop_last=True,\\n        )\\n\\n    def val_dataloader(self):\\n        return torch.utils.data.DataLoader(\\n            self.val_dataset,\\n            batch_size=2 * self.batch_size,\\n            sampler=SequentialSampler(self.val_dataset),\\n            pin_memory=True,\\n            num_workers=self.num_workers,\\n        )\\n\\n    def test_dataloader(self):\\n        return torch.utils.data.DataLoader(\\n            self.test_dataset,\\n            batch_size=2 * self.batch_size,\\n            sampler=SequentialSampler(self.test_dataset),\\n            pin_memory=True,\\n            num_workers=self.num_workers,\\n        )\";\n",
       "                var nbb_cells = Jupyter.notebook.get_cells();\n",
       "                for (var i = 0; i < nbb_cells.length; ++i) {\n",
       "                    if (nbb_cells[i].input_prompt_number == nbb_cell_id) {\n",
       "                        if (nbb_cells[i].get_text() == nbb_unformatted_code) {\n",
       "                             nbb_cells[i].set_text(nbb_formatted_code);\n",
       "                        }\n",
       "                        break;\n",
       "                    }\n",
       "                }\n",
       "            }, 500);\n",
       "            "
      ],
      "text/plain": [
       "<IPython.core.display.Javascript object>"
      ]
     },
     "metadata": {},
     "output_type": "display_data"
    }
   ],
   "source": [
    "class NowcastingDataModule(pl.LightningDataModule):\n",
    "    def __init__(\n",
    "        self,\n",
    "        train_df=None,\n",
    "        val_df=None,\n",
    "        batch_size=args[\"batch_size\"],\n",
    "        num_workers=args[\"num_workers\"],\n",
    "    ):\n",
    "        super().__init__()\n",
    "        self.train_df = train_df\n",
    "        self.val_df = val_df\n",
    "        self.batch_size = batch_size\n",
    "        self.num_workers = num_workers\n",
    "\n",
    "    def setup(self, stage=\"train\"):\n",
    "        if stage == \"train\":\n",
    "            train_paths = [\n",
    "                args[\"train_data_path\"] / fn for fn in self.train_df.filename.values\n",
    "            ]\n",
    "            val_paths = [\n",
    "                args[\"train_data_path\"] / fn for fn in self.val_df.filename.values\n",
    "            ]\n",
    "            self.train_dataset = NowcastingDataset(train_paths)\n",
    "            self.val_dataset = NowcastingDataset(val_paths)\n",
    "        else:\n",
    "            test_paths = list(args[\"test_data_path\"].glob(\"*.npy\"))\n",
    "            self.test_dataset = NowcastingDataset(test_paths, test=True)\n",
    "\n",
    "    def train_dataloader(self):\n",
    "        return torch.utils.data.DataLoader(\n",
    "            self.train_dataset,\n",
    "            batch_size=self.batch_size,\n",
    "            sampler=RandomSampler(self.train_dataset),\n",
    "            pin_memory=True,\n",
    "            num_workers=self.num_workers,\n",
    "            drop_last=True,\n",
    "        )\n",
    "\n",
    "    def val_dataloader(self):\n",
    "        return torch.utils.data.DataLoader(\n",
    "            self.val_dataset,\n",
    "            batch_size=2 * self.batch_size,\n",
    "            sampler=SequentialSampler(self.val_dataset),\n",
    "            pin_memory=True,\n",
    "            num_workers=self.num_workers,\n",
    "        )\n",
    "\n",
    "    def test_dataloader(self):\n",
    "        return torch.utils.data.DataLoader(\n",
    "            self.test_dataset,\n",
    "            batch_size=2 * self.batch_size,\n",
    "            sampler=SequentialSampler(self.test_dataset),\n",
    "            pin_memory=True,\n",
    "            num_workers=self.num_workers,\n",
    "        )"
   ]
  },
  {
   "cell_type": "markdown",
   "metadata": {},
   "source": [
    "## Train"
   ]
  },
  {
   "cell_type": "code",
   "execution_count": null,
   "metadata": {
    "scrolled": false
   },
   "outputs": [
    {
     "name": "stderr",
     "output_type": "stream",
     "text": [
      "GPU available: True, used: True\n",
      "TPU available: False, using: 0 TPU cores\n",
      "LOCAL_RANK: 0 - CUDA_VISIBLE_DEVICES: [0]\n",
      "Using native 16bit precision.\n",
      "\n",
      "  | Name      | Type         | Params\n",
      "-------------------------------------------\n",
      "0 | criterion | SmoothL1Loss | 0     \n",
      "1 | tail      | BasicBlock   | 300   \n",
      "2 | encoder   | Encoder      | 25 M  \n",
      "3 | decoder   | Decoder      | 17 M  \n",
      "4 | head      | Sequential   | 8 K   \n"
     ]
    },
    {
     "data": {
      "application/vnd.jupyter.widget-view+json": {
       "model_id": "f6cbf2f4afb64d01b7584ee121a1da6e",
       "version_major": 2,
       "version_minor": 0
      },
      "text/plain": [
       "HBox(children=(HTML(value='Validation sanity check'), FloatProgress(value=1.0, bar_style='info', layout=Layout…"
      ]
     },
     "metadata": {},
     "output_type": "display_data"
    },
    {
     "name": "stdout",
     "output_type": "stream",
     "text": [
      "Epoch 0 | MAE/CSI: 18053432464599.61 | MAE: 18.05343246459961 | CSI: 0.0 | Loss: 0.011555060744285583\n"
     ]
    },
    {
     "data": {
      "application/vnd.jupyter.widget-view+json": {
       "model_id": "e02e2c5a7c694153a5ac69e51294884a",
       "version_major": 2,
       "version_minor": 0
      },
      "text/plain": [
       "HBox(children=(HTML(value='Training'), FloatProgress(value=1.0, bar_style='info', layout=Layout(flex='2'), max…"
      ]
     },
     "metadata": {},
     "output_type": "display_data"
    },
    {
     "data": {
      "application/vnd.jupyter.widget-view+json": {
       "model_id": "4403ddfd3cb8421d997ebf14219a7e88",
       "version_major": 2,
       "version_minor": 0
      },
      "text/plain": [
       "HBox(children=(HTML(value='Validating'), FloatProgress(value=1.0, bar_style='info', layout=Layout(flex='2'), m…"
      ]
     },
     "metadata": {},
     "output_type": "display_data"
    },
    {
     "name": "stderr",
     "output_type": "stream",
     "text": [
      "../src/utils.py:36: RuntimeWarning: overflow encountered in power\n",
      "  z = np.power(10.0, dbz / 10.0)\n"
     ]
    },
    {
     "name": "stdout",
     "output_type": "stream",
     "text": [
      "Epoch 0 | MAE/CSI: 4.579871016522517 | MAE: 3.356309652328491 | CSI: 0.7328393398450657 | Loss: 0.0015933009563013911\n"
     ]
    },
    {
     "data": {
      "application/vnd.jupyter.widget-view+json": {
       "model_id": "28814e59112a4e41aecf3c9f55868797",
       "version_major": 2,
       "version_minor": 0
      },
      "text/plain": [
       "HBox(children=(HTML(value='Validating'), FloatProgress(value=1.0, bar_style='info', layout=Layout(flex='2'), m…"
      ]
     },
     "metadata": {},
     "output_type": "display_data"
    },
    {
     "name": "stderr",
     "output_type": "stream",
     "text": [
      "../src/utils.py:36: RuntimeWarning: overflow encountered in power\n",
      "  z = np.power(10.0, dbz / 10.0)\n"
     ]
    },
    {
     "name": "stdout",
     "output_type": "stream",
     "text": [
      "Epoch 1 | MAE/CSI: 4.3457863606748175 | MAE: 3.272869348526001 | CSI: 0.7531132634908084 | Loss: 0.0015471124788746238\n"
     ]
    },
    {
     "data": {
      "application/vnd.jupyter.widget-view+json": {
       "model_id": "7dcafedcbc8f4c388e4afb2fd60656d8",
       "version_major": 2,
       "version_minor": 0
      },
      "text/plain": [
       "HBox(children=(HTML(value='Validating'), FloatProgress(value=1.0, bar_style='info', layout=Layout(flex='2'), m…"
      ]
     },
     "metadata": {},
     "output_type": "display_data"
    },
    {
     "name": "stderr",
     "output_type": "stream",
     "text": [
      "../src/utils.py:36: RuntimeWarning: overflow encountered in power\n",
      "  z = np.power(10.0, dbz / 10.0)\n"
     ]
    },
    {
     "name": "stdout",
     "output_type": "stream",
     "text": [
      "Epoch 2 | MAE/CSI: 4.294591652152133 | MAE: 3.2539639472961426 | CSI: 0.7576887887958337 | Loss: 0.0012963797198608518\n"
     ]
    },
    {
     "data": {
      "application/vnd.jupyter.widget-view+json": {
       "model_id": "0ccf9265046e47aba7705ead37cbfd59",
       "version_major": 2,
       "version_minor": 0
      },
      "text/plain": [
       "HBox(children=(HTML(value='Validating'), FloatProgress(value=1.0, bar_style='info', layout=Layout(flex='2'), m…"
      ]
     },
     "metadata": {},
     "output_type": "display_data"
    },
    {
     "name": "stderr",
     "output_type": "stream",
     "text": [
      "../src/utils.py:36: RuntimeWarning: overflow encountered in power\n",
      "  z = np.power(10.0, dbz / 10.0)\n"
     ]
    },
    {
     "name": "stdout",
     "output_type": "stream",
     "text": [
      "Epoch 3 | MAE/CSI: 4.154932101723256 | MAE: 3.154283046722412 | CSI: 0.7591659669745312 | Loss: 0.0012544452911242843\n"
     ]
    },
    {
     "data": {
      "application/vnd.jupyter.widget-view+json": {
       "model_id": "59323aa0540e439497bc330e2dcb9853",
       "version_major": 2,
       "version_minor": 0
      },
      "text/plain": [
       "HBox(children=(HTML(value='Validating'), FloatProgress(value=1.0, bar_style='info', layout=Layout(flex='2'), m…"
      ]
     },
     "metadata": {},
     "output_type": "display_data"
    },
    {
     "name": "stderr",
     "output_type": "stream",
     "text": [
      "../src/utils.py:36: RuntimeWarning: overflow encountered in power\n",
      "  z = np.power(10.0, dbz / 10.0)\n"
     ]
    },
    {
     "name": "stdout",
     "output_type": "stream",
     "text": [
      "Epoch 4 | MAE/CSI: 3.7860146000298136 | MAE: 2.913952112197876 | CSI: 0.7696621434505677 | Loss: 0.00123176712077111\n"
     ]
    },
    {
     "data": {
      "application/vnd.jupyter.widget-view+json": {
       "model_id": "f4b933dd0b7d449f92ac36598480e89d",
       "version_major": 2,
       "version_minor": 0
      },
      "text/plain": [
       "HBox(children=(HTML(value='Validating'), FloatProgress(value=1.0, bar_style='info', layout=Layout(flex='2'), m…"
      ]
     },
     "metadata": {},
     "output_type": "display_data"
    },
    {
     "name": "stderr",
     "output_type": "stream",
     "text": [
      "../src/utils.py:36: RuntimeWarning: overflow encountered in power\n",
      "  z = np.power(10.0, dbz / 10.0)\n"
     ]
    },
    {
     "name": "stdout",
     "output_type": "stream",
     "text": [
      "Epoch 5 | MAE/CSI: 4.065141708011735 | MAE: 3.1184253692626953 | CSI: 0.7671135702631766 | Loss: 0.0012020657304674387\n"
     ]
    },
    {
     "data": {
      "application/vnd.jupyter.widget-view+json": {
       "model_id": "88b7d3e1305d433a82c59d40c1c44aaf",
       "version_major": 2,
       "version_minor": 0
      },
      "text/plain": [
       "HBox(children=(HTML(value='Validating'), FloatProgress(value=1.0, bar_style='info', layout=Layout(flex='2'), m…"
      ]
     },
     "metadata": {},
     "output_type": "display_data"
    },
    {
     "name": "stderr",
     "output_type": "stream",
     "text": [
      "../src/utils.py:36: RuntimeWarning: overflow encountered in power\n",
      "  z = np.power(10.0, dbz / 10.0)\n"
     ]
    },
    {
     "name": "stdout",
     "output_type": "stream",
     "text": [
      "Epoch 6 | MAE/CSI: 3.61714756904823 | MAE: 2.808803081512451 | CSI: 0.7765243269430411 | Loss: 0.0011883970582857728\n"
     ]
    },
    {
     "data": {
      "application/vnd.jupyter.widget-view+json": {
       "model_id": "c6dabd0d340242c7a0a5db8148f42146",
       "version_major": 2,
       "version_minor": 0
      },
      "text/plain": [
       "HBox(children=(HTML(value='Validating'), FloatProgress(value=1.0, bar_style='info', layout=Layout(flex='2'), m…"
      ]
     },
     "metadata": {},
     "output_type": "display_data"
    },
    {
     "name": "stderr",
     "output_type": "stream",
     "text": [
      "../src/utils.py:36: RuntimeWarning: overflow encountered in power\n",
      "  z = np.power(10.0, dbz / 10.0)\n"
     ]
    },
    {
     "name": "stdout",
     "output_type": "stream",
     "text": [
      "Epoch 7 | MAE/CSI: 3.7737966527452103 | MAE: 2.9232699871063232 | CSI: 0.7746230801747217 | Loss: 0.0011574724921956658\n"
     ]
    },
    {
     "data": {
      "application/vnd.jupyter.widget-view+json": {
       "model_id": "d916876fa47c4325a4657159d63a7208",
       "version_major": 2,
       "version_minor": 0
      },
      "text/plain": [
       "HBox(children=(HTML(value='Validating'), FloatProgress(value=1.0, bar_style='info', layout=Layout(flex='2'), m…"
      ]
     },
     "metadata": {},
     "output_type": "display_data"
    },
    {
     "name": "stdout",
     "output_type": "stream",
     "text": [
      "Epoch 8 | MAE/CSI: 3.5785213933996576 | MAE: 2.792635440826416 | CSI: 0.7803880803880804 | Loss: 0.0011816049227491021\n"
     ]
    },
    {
     "name": "stderr",
     "output_type": "stream",
     "text": [
      "../src/utils.py:36: RuntimeWarning: overflow encountered in power\n",
      "  z = np.power(10.0, dbz / 10.0)\n"
     ]
    },
    {
     "data": {
      "application/vnd.jupyter.widget-view+json": {
       "model_id": "1791743d12bb4347a3cce079cd3f3087",
       "version_major": 2,
       "version_minor": 0
      },
      "text/plain": [
       "HBox(children=(HTML(value='Validating'), FloatProgress(value=1.0, bar_style='info', layout=Layout(flex='2'), m…"
      ]
     },
     "metadata": {},
     "output_type": "display_data"
    },
    {
     "name": "stderr",
     "output_type": "stream",
     "text": [
      "../src/utils.py:36: RuntimeWarning: overflow encountered in power\n",
      "  z = np.power(10.0, dbz / 10.0)\n"
     ]
    },
    {
     "name": "stdout",
     "output_type": "stream",
     "text": [
      "Epoch 9 | MAE/CSI: 3.7593860248772217 | MAE: 2.9188804626464844 | CSI: 0.776424778761062 | Loss: 0.0011313384165987372\n"
     ]
    },
    {
     "data": {
      "application/vnd.jupyter.widget-view+json": {
       "model_id": "715c2eea0fe445eab910394a3b404f1e",
       "version_major": 2,
       "version_minor": 0
      },
      "text/plain": [
       "HBox(children=(HTML(value='Validating'), FloatProgress(value=1.0, bar_style='info', layout=Layout(flex='2'), m…"
      ]
     },
     "metadata": {},
     "output_type": "display_data"
    },
    {
     "name": "stderr",
     "output_type": "stream",
     "text": [
      "../src/utils.py:36: RuntimeWarning: overflow encountered in power\n",
      "  z = np.power(10.0, dbz / 10.0)\n"
     ]
    },
    {
     "name": "stdout",
     "output_type": "stream",
     "text": [
      "Epoch 10 | MAE/CSI: 3.537799221788761 | MAE: 2.764934539794922 | CSI: 0.7815408298929396 | Loss: 0.0011271697003394365\n"
     ]
    },
    {
     "data": {
      "application/vnd.jupyter.widget-view+json": {
       "model_id": "760658f5ad6041ddad9f48459af02785",
       "version_major": 2,
       "version_minor": 0
      },
      "text/plain": [
       "HBox(children=(HTML(value='Validating'), FloatProgress(value=1.0, bar_style='info', layout=Layout(flex='2'), m…"
      ]
     },
     "metadata": {},
     "output_type": "display_data"
    },
    {
     "name": "stdout",
     "output_type": "stream",
     "text": [
      "Epoch 11 | MAE/CSI: 4.176114563603725 | MAE: 3.2004687786102295 | CSI: 0.7663747557356879 | Loss: 0.0011378307826817036\n"
     ]
    },
    {
     "data": {
      "application/vnd.jupyter.widget-view+json": {
       "model_id": "f29d82d17c8d4fa6a024244d1ed3e6bc",
       "version_major": 2,
       "version_minor": 0
      },
      "text/plain": [
       "HBox(children=(HTML(value='Validating'), FloatProgress(value=1.0, bar_style='info', layout=Layout(flex='2'), m…"
      ]
     },
     "metadata": {},
     "output_type": "display_data"
    },
    {
     "name": "stdout",
     "output_type": "stream",
     "text": [
      "Epoch 12 | MAE/CSI: 4.033352344612596 | MAE: 3.1121833324432373 | CSI: 0.7716120652330783 | Loss: 0.001107610878534615\n"
     ]
    },
    {
     "data": {
      "application/vnd.jupyter.widget-view+json": {
       "model_id": "a5cb37e8678f4ff8b5aace45880d6f6d",
       "version_major": 2,
       "version_minor": 0
      },
      "text/plain": [
       "HBox(children=(HTML(value='Validating'), FloatProgress(value=1.0, bar_style='info', layout=Layout(flex='2'), m…"
      ]
     },
     "metadata": {},
     "output_type": "display_data"
    },
    {
     "name": "stdout",
     "output_type": "stream",
     "text": [
      "Epoch 13 | MAE/CSI: 3.6702073925815 | MAE: 2.86871600151062 | CSI: 0.781622315759435 | Loss: 0.0010806667851284146\n"
     ]
    },
    {
     "data": {
      "application/vnd.jupyter.widget-view+json": {
       "model_id": "8b64e55a82ee4ea7a9ed872f7b380b40",
       "version_major": 2,
       "version_minor": 0
      },
      "text/plain": [
       "HBox(children=(HTML(value='Validating'), FloatProgress(value=1.0, bar_style='info', layout=Layout(flex='2'), m…"
      ]
     },
     "metadata": {},
     "output_type": "display_data"
    },
    {
     "name": "stdout",
     "output_type": "stream",
     "text": [
      "Epoch 14 | MAE/CSI: 3.359812260798782 | MAE: 2.65893816947937 | CSI: 0.7913948646773075 | Loss: 0.001116615254431963\n"
     ]
    },
    {
     "name": "stderr",
     "output_type": "stream",
     "text": [
      "../src/utils.py:36: RuntimeWarning: overflow encountered in power\n",
      "  z = np.power(10.0, dbz / 10.0)\n"
     ]
    },
    {
     "data": {
      "application/vnd.jupyter.widget-view+json": {
       "model_id": "ccbe2341ad044ae4bfc6145827a6299b",
       "version_major": 2,
       "version_minor": 0
      },
      "text/plain": [
       "HBox(children=(HTML(value='Validating'), FloatProgress(value=1.0, bar_style='info', layout=Layout(flex='2'), m…"
      ]
     },
     "metadata": {},
     "output_type": "display_data"
    },
    {
     "name": "stdout",
     "output_type": "stream",
     "text": [
      "Epoch 15 | MAE/CSI: 3.777346978087415 | MAE: 2.942171096801758 | CSI: 0.7788988181031997 | Loss: 0.0010497045004740357\n"
     ]
    },
    {
     "data": {
      "application/vnd.jupyter.widget-view+json": {
       "model_id": "e21184f2cd1e41bab275803fb27a24b0",
       "version_major": 2,
       "version_minor": 0
      },
      "text/plain": [
       "HBox(children=(HTML(value='Validating'), FloatProgress(value=1.0, bar_style='info', layout=Layout(flex='2'), m…"
      ]
     },
     "metadata": {},
     "output_type": "display_data"
    },
    {
     "name": "stdout",
     "output_type": "stream",
     "text": [
      "Epoch 16 | MAE/CSI: 3.730972666019791 | MAE: 2.9134128093719482 | CSI: 0.7808721934369602 | Loss: 0.0010338622378185391\n"
     ]
    },
    {
     "data": {
      "application/vnd.jupyter.widget-view+json": {
       "model_id": "c0625e1c518f44c494e68a8396678b85",
       "version_major": 2,
       "version_minor": 0
      },
      "text/plain": [
       "HBox(children=(HTML(value='Validating'), FloatProgress(value=1.0, bar_style='info', layout=Layout(flex='2'), m…"
      ]
     },
     "metadata": {},
     "output_type": "display_data"
    },
    {
     "name": "stdout",
     "output_type": "stream",
     "text": [
      "Epoch 17 | MAE/CSI: 3.216006483334444 | MAE: 2.5546412467956543 | CSI: 0.7943520201314134 | Loss: 0.0010403376072645187\n"
     ]
    },
    {
     "name": "stderr",
     "output_type": "stream",
     "text": [
      "../src/utils.py:36: RuntimeWarning: overflow encountered in power\n",
      "  z = np.power(10.0, dbz / 10.0)\n"
     ]
    },
    {
     "data": {
      "application/vnd.jupyter.widget-view+json": {
       "model_id": "eba978a0c17a43db92d23b8b9ae5b7e2",
       "version_major": 2,
       "version_minor": 0
      },
      "text/plain": [
       "HBox(children=(HTML(value='Validating'), FloatProgress(value=1.0, bar_style='info', layout=Layout(flex='2'), m…"
      ]
     },
     "metadata": {},
     "output_type": "display_data"
    },
    {
     "name": "stdout",
     "output_type": "stream",
     "text": [
      "Epoch 18 | MAE/CSI: 3.6045317048942183 | MAE: 2.8333561420440674 | CSI: 0.786053882725832 | Loss: 0.0010198085801675916\n"
     ]
    },
    {
     "data": {
      "application/vnd.jupyter.widget-view+json": {
       "model_id": "4a3e4bf564d8412f9df3a8deed8cf7bf",
       "version_major": 2,
       "version_minor": 0
      },
      "text/plain": [
       "HBox(children=(HTML(value='Validating'), FloatProgress(value=1.0, bar_style='info', layout=Layout(flex='2'), m…"
      ]
     },
     "metadata": {},
     "output_type": "display_data"
    },
    {
     "name": "stdout",
     "output_type": "stream",
     "text": [
      "Epoch 19 | MAE/CSI: 3.2532478057212075 | MAE: 2.5799641609191895 | CSI: 0.7930426192492238 | Loss: 0.0010090331779792905\n"
     ]
    },
    {
     "data": {
      "application/vnd.jupyter.widget-view+json": {
       "model_id": "2dd891eb85c74f7da253fdcbb93d7274",
       "version_major": 2,
       "version_minor": 0
      },
      "text/plain": [
       "HBox(children=(HTML(value='Validating'), FloatProgress(value=1.0, bar_style='info', layout=Layout(flex='2'), m…"
      ]
     },
     "metadata": {},
     "output_type": "display_data"
    },
    {
     "name": "stdout",
     "output_type": "stream",
     "text": [
      "Epoch 20 | MAE/CSI: 3.2199748341813246 | MAE: 2.5563158988952637 | CSI: 0.7938931297709924 | Loss: 0.0010016037849709392\n"
     ]
    },
    {
     "data": {
      "application/vnd.jupyter.widget-view+json": {
       "model_id": "1284e89674bd47c681dd0cd8238f35f0",
       "version_major": 2,
       "version_minor": 0
      },
      "text/plain": [
       "HBox(children=(HTML(value='Validating'), FloatProgress(value=1.0, bar_style='info', layout=Layout(flex='2'), m…"
      ]
     },
     "metadata": {},
     "output_type": "display_data"
    },
    {
     "name": "stdout",
     "output_type": "stream",
     "text": [
      "Epoch 21 | MAE/CSI: 3.856811757635469 | MAE: 3.0003974437713623 | CSI: 0.7779475982532751 | Loss: 0.0010271386709064245\n"
     ]
    },
    {
     "data": {
      "application/vnd.jupyter.widget-view+json": {
       "model_id": "aa73c2927a764e3ea499fa4100beb4e0",
       "version_major": 2,
       "version_minor": 0
      },
      "text/plain": [
       "HBox(children=(HTML(value='Validating'), FloatProgress(value=1.0, bar_style='info', layout=Layout(flex='2'), m…"
      ]
     },
     "metadata": {},
     "output_type": "display_data"
    },
    {
     "name": "stdout",
     "output_type": "stream",
     "text": [
      "Epoch 22 | MAE/CSI: 3.1347424155752437 | MAE: 2.4959778785705566 | CSI: 0.7962306140899923 | Loss: 0.0010296452092006803\n"
     ]
    },
    {
     "name": "stderr",
     "output_type": "stream",
     "text": [
      "../src/utils.py:36: RuntimeWarning: overflow encountered in power\n",
      "  z = np.power(10.0, dbz / 10.0)\n"
     ]
    },
    {
     "data": {
      "application/vnd.jupyter.widget-view+json": {
       "model_id": "6fa65efe55b349348c5cd3d08b467a7c",
       "version_major": 2,
       "version_minor": 0
      },
      "text/plain": [
       "HBox(children=(HTML(value='Validating'), FloatProgress(value=1.0, bar_style='info', layout=Layout(flex='2'), m…"
      ]
     },
     "metadata": {},
     "output_type": "display_data"
    },
    {
     "name": "stdout",
     "output_type": "stream",
     "text": [
      "Epoch 23 | MAE/CSI: 3.1336774350690413 | MAE: 2.504286289215088 | CSI: 0.7991525423728814 | Loss: 0.000995357520878315\n"
     ]
    },
    {
     "data": {
      "application/vnd.jupyter.widget-view+json": {
       "model_id": "2f4c9935ab584c90a7392f816af6f22a",
       "version_major": 2,
       "version_minor": 0
      },
      "text/plain": [
       "HBox(children=(HTML(value='Validating'), FloatProgress(value=1.0, bar_style='info', layout=Layout(flex='2'), m…"
      ]
     },
     "metadata": {},
     "output_type": "display_data"
    },
    {
     "name": "stdout",
     "output_type": "stream",
     "text": [
      "Epoch 24 | MAE/CSI: 3.155359118626466 | MAE: 2.518603563308716 | CSI: 0.7981987053194484 | Loss: 0.0009966425132006407\n"
     ]
    },
    {
     "name": "stderr",
     "output_type": "stream",
     "text": [
      "../src/utils.py:36: RuntimeWarning: overflow encountered in power\n",
      "  z = np.power(10.0, dbz / 10.0)\n"
     ]
    },
    {
     "data": {
      "application/vnd.jupyter.widget-view+json": {
       "model_id": "c4f0ad90a664479795c0d0e62c41d0ba",
       "version_major": 2,
       "version_minor": 0
      },
      "text/plain": [
       "HBox(children=(HTML(value='Validating'), FloatProgress(value=1.0, bar_style='info', layout=Layout(flex='2'), m…"
      ]
     },
     "metadata": {},
     "output_type": "display_data"
    },
    {
     "name": "stdout",
     "output_type": "stream",
     "text": [
      "Epoch 25 | MAE/CSI: 3.2987531262931515 | MAE: 2.6152637004852295 | CSI: 0.7928037050231564 | Loss: 0.0009848386980593204\n"
     ]
    },
    {
     "data": {
      "application/vnd.jupyter.widget-view+json": {
       "model_id": "7015f2336b984321bf0a58cec1c4bb6a",
       "version_major": 2,
       "version_minor": 0
      },
      "text/plain": [
       "HBox(children=(HTML(value='Validating'), FloatProgress(value=1.0, bar_style='info', layout=Layout(flex='2'), m…"
      ]
     },
     "metadata": {},
     "output_type": "display_data"
    },
    {
     "name": "stdout",
     "output_type": "stream",
     "text": [
      "Epoch 26 | MAE/CSI: 3.3408334380625853 | MAE: 2.6483819484710693 | CSI: 0.7927309150747657 | Loss: 0.0009853563969954848\n"
     ]
    },
    {
     "data": {
      "application/vnd.jupyter.widget-view+json": {
       "model_id": "2164a72dd4b143d7a446d2f06a9cbd2a",
       "version_major": 2,
       "version_minor": 0
      },
      "text/plain": [
       "HBox(children=(HTML(value='Validating'), FloatProgress(value=1.0, bar_style='info', layout=Layout(flex='2'), m…"
      ]
     },
     "metadata": {},
     "output_type": "display_data"
    },
    {
     "name": "stdout",
     "output_type": "stream",
     "text": [
      "Epoch 27 | MAE/CSI: 3.151360169059713 | MAE: 2.5201938152313232 | CSI: 0.7997162114224903 | Loss: 0.0009801144478842616\n"
     ]
    },
    {
     "data": {
      "application/vnd.jupyter.widget-view+json": {
       "model_id": "12b9d6e90f2141439f7fc488135cc960",
       "version_major": 2,
       "version_minor": 0
      },
      "text/plain": [
       "HBox(children=(HTML(value='Validating'), FloatProgress(value=1.0, bar_style='info', layout=Layout(flex='2'), m…"
      ]
     },
     "metadata": {},
     "output_type": "display_data"
    },
    {
     "name": "stdout",
     "output_type": "stream",
     "text": [
      "Epoch 28 | MAE/CSI: 3.383971888869794 | MAE: 2.6815693378448486 | CSI: 0.7924325100516945 | Loss: 0.0009856465039774776\n"
     ]
    },
    {
     "data": {
      "application/vnd.jupyter.widget-view+json": {
       "model_id": "68ba2d0300124d629e54bf417cede96e",
       "version_major": 2,
       "version_minor": 0
      },
      "text/plain": [
       "HBox(children=(HTML(value='Validating'), FloatProgress(value=1.0, bar_style='info', layout=Layout(flex='2'), m…"
      ]
     },
     "metadata": {},
     "output_type": "display_data"
    },
    {
     "name": "stdout",
     "output_type": "stream",
     "text": [
      "Epoch 29 | MAE/CSI: 3.3458963516517897 | MAE: 2.650679349899292 | CSI: 0.7922180101566412 | Loss: 0.0009886184707283974\n"
     ]
    },
    {
     "data": {
      "application/vnd.jupyter.widget-view+json": {
       "model_id": "fa96e02187c74c6b90607139f484a227",
       "version_major": 2,
       "version_minor": 0
      },
      "text/plain": [
       "HBox(children=(HTML(value='Validating'), FloatProgress(value=1.0, bar_style='info', layout=Layout(flex='2'), m…"
      ]
     },
     "metadata": {},
     "output_type": "display_data"
    },
    {
     "name": "stdout",
     "output_type": "stream",
     "text": [
      "Epoch 30 | MAE/CSI: 3.540172589897291 | MAE: 2.7885289192199707 | CSI: 0.7876816308826718 | Loss: 0.00101062364410609\n"
     ]
    },
    {
     "data": {
      "application/vnd.jupyter.widget-view+json": {
       "model_id": "34ece3d4e7b84afab3d7df74e8739769",
       "version_major": 2,
       "version_minor": 0
      },
      "text/plain": [
       "HBox(children=(HTML(value='Validating'), FloatProgress(value=1.0, bar_style='info', layout=Layout(flex='2'), m…"
      ]
     },
     "metadata": {},
     "output_type": "display_data"
    },
    {
     "name": "stdout",
     "output_type": "stream",
     "text": [
      "Epoch 31 | MAE/CSI: 3.1403178747400826 | MAE: 2.5151991844177246 | CSI: 0.8009377664109122 | Loss: 0.0009796030353754759\n"
     ]
    },
    {
     "data": {
      "application/vnd.jupyter.widget-view+json": {
       "model_id": "2b09f7630d0145ed925db402091ef5bb",
       "version_major": 2,
       "version_minor": 0
      },
      "text/plain": [
       "HBox(children=(HTML(value='Validating'), FloatProgress(value=1.0, bar_style='info', layout=Layout(flex='2'), m…"
      ]
     },
     "metadata": {},
     "output_type": "display_data"
    },
    {
     "name": "stdout",
     "output_type": "stream",
     "text": [
      "Epoch 32 | MAE/CSI: 3.137336144450593 | MAE: 2.5105366706848145 | CSI: 0.8002128414331323 | Loss: 0.0009821136482059956\n"
     ]
    },
    {
     "data": {
      "application/vnd.jupyter.widget-view+json": {
       "model_id": "8e92d0242e3b4f948b997fd189404b39",
       "version_major": 2,
       "version_minor": 0
      },
      "text/plain": [
       "HBox(children=(HTML(value='Validating'), FloatProgress(value=1.0, bar_style='info', layout=Layout(flex='2'), m…"
      ]
     },
     "metadata": {},
     "output_type": "display_data"
    },
    {
     "name": "stdout",
     "output_type": "stream",
     "text": [
      "Epoch 33 | MAE/CSI: 3.22167231289145 | MAE: 2.5630111694335938 | CSI: 0.7955530297648646 | Loss: 0.0009937712457031012\n"
     ]
    },
    {
     "data": {
      "application/vnd.jupyter.widget-view+json": {
       "model_id": "59783284006f494f8795590cc98023d8",
       "version_major": 2,
       "version_minor": 0
      },
      "text/plain": [
       "HBox(children=(HTML(value='Validating'), FloatProgress(value=1.0, bar_style='info', layout=Layout(flex='2'), m…"
      ]
     },
     "metadata": {},
     "output_type": "display_data"
    },
    {
     "name": "stdout",
     "output_type": "stream",
     "text": [
      "Epoch 34 | MAE/CSI: 3.107360140259587 | MAE: 2.48958420753479 | CSI: 0.8011894647408666 | Loss: 0.000986725091934204\n"
     ]
    },
    {
     "data": {
      "application/vnd.jupyter.widget-view+json": {
       "model_id": "0a71c0dd88884b45a12eaa2171496784",
       "version_major": 2,
       "version_minor": 0
      },
      "text/plain": [
       "HBox(children=(HTML(value='Validating'), FloatProgress(value=1.0, bar_style='info', layout=Layout(flex='2'), m…"
      ]
     },
     "metadata": {},
     "output_type": "display_data"
    },
    {
     "name": "stdout",
     "output_type": "stream",
     "text": [
      "Epoch 35 | MAE/CSI: 3.3972837724475897 | MAE: 2.691316843032837 | CSI: 0.7921966557095899 | Loss: 0.0010110668372362852\n"
     ]
    },
    {
     "data": {
      "application/vnd.jupyter.widget-view+json": {
       "model_id": "7d2929d4f8714b9b8b499cd012651aae",
       "version_major": 2,
       "version_minor": 0
      },
      "text/plain": [
       "HBox(children=(HTML(value='Validating'), FloatProgress(value=1.0, bar_style='info', layout=Layout(flex='2'), m…"
      ]
     },
     "metadata": {},
     "output_type": "display_data"
    },
    {
     "name": "stdout",
     "output_type": "stream",
     "text": [
      "Epoch 36 | MAE/CSI: 3.2956298785612326 | MAE: 2.6264376640319824 | CSI: 0.7969455796945579 | Loss: 0.000985836493782699\n"
     ]
    },
    {
     "data": {
      "application/vnd.jupyter.widget-view+json": {
       "model_id": "0b89cff3e84348d286a28c8709925c5f",
       "version_major": 2,
       "version_minor": 0
      },
      "text/plain": [
       "HBox(children=(HTML(value='Validating'), FloatProgress(value=1.0, bar_style='info', layout=Layout(flex='2'), m…"
      ]
     },
     "metadata": {},
     "output_type": "display_data"
    },
    {
     "name": "stdout",
     "output_type": "stream",
     "text": [
      "Epoch 37 | MAE/CSI: 3.276042547174778 | MAE: 2.6103878021240234 | CSI: 0.7968113248016014 | Loss: 0.0009991289116442204\n"
     ]
    },
    {
     "data": {
      "application/vnd.jupyter.widget-view+json": {
       "model_id": "60df573ae9ba4dd9a1220dfbb3f8867d",
       "version_major": 2,
       "version_minor": 0
      },
      "text/plain": [
       "HBox(children=(HTML(value='Validating'), FloatProgress(value=1.0, bar_style='info', layout=Layout(flex='2'), m…"
      ]
     },
     "metadata": {},
     "output_type": "display_data"
    },
    {
     "name": "stdout",
     "output_type": "stream",
     "text": [
      "Epoch 38 | MAE/CSI: 3.282018963884671 | MAE: 2.615131139755249 | CSI: 0.7968056152413694 | Loss: 0.0009931615786626935\n"
     ]
    },
    {
     "data": {
      "application/vnd.jupyter.widget-view+json": {
       "model_id": "1c59c50b13f84856924548b4f314dffa",
       "version_major": 2,
       "version_minor": 0
      },
      "text/plain": [
       "HBox(children=(HTML(value='Validating'), FloatProgress(value=1.0, bar_style='info', layout=Layout(flex='2'), m…"
      ]
     },
     "metadata": {},
     "output_type": "display_data"
    },
    {
     "name": "stdout",
     "output_type": "stream",
     "text": [
      "Epoch 39 | MAE/CSI: 3.1812205203792945 | MAE: 2.543889284133911 | CSI: 0.7996582656984195 | Loss: 0.000992935849353671\n"
     ]
    },
    {
     "data": {
      "application/vnd.jupyter.widget-view+json": {
       "model_id": "18c250afe9b04510ad40667227516315",
       "version_major": 2,
       "version_minor": 0
      },
      "text/plain": [
       "HBox(children=(HTML(value='Validating'), FloatProgress(value=1.0, bar_style='info', layout=Layout(flex='2'), m…"
      ]
     },
     "metadata": {},
     "output_type": "display_data"
    },
    {
     "name": "stdout",
     "output_type": "stream",
     "text": [
      "Epoch 40 | MAE/CSI: 3.307319243115345 | MAE: 2.6357016563415527 | CSI: 0.7969299189441217 | Loss: 0.0009866819018498063\n"
     ]
    },
    {
     "data": {
      "application/vnd.jupyter.widget-view+json": {
       "model_id": "308babf388cb45ef9d49af0814051083",
       "version_major": 2,
       "version_minor": 0
      },
      "text/plain": [
       "HBox(children=(HTML(value='Validating'), FloatProgress(value=1.0, bar_style='info', layout=Layout(flex='2'), m…"
      ]
     },
     "metadata": {},
     "output_type": "display_data"
    },
    {
     "name": "stdout",
     "output_type": "stream",
     "text": [
      "Epoch 41 | MAE/CSI: 3.143233505972508 | MAE: 2.513828754425049 | CSI: 0.7997588310398638 | Loss: 0.0009999492904171348\n"
     ]
    },
    {
     "data": {
      "application/vnd.jupyter.widget-view+json": {
       "model_id": "2bcfdb91f482422a890515f3da45b664",
       "version_major": 2,
       "version_minor": 0
      },
      "text/plain": [
       "HBox(children=(HTML(value='Validating'), FloatProgress(value=1.0, bar_style='info', layout=Layout(flex='2'), m…"
      ]
     },
     "metadata": {},
     "output_type": "display_data"
    },
    {
     "name": "stdout",
     "output_type": "stream",
     "text": [
      "Epoch 42 | MAE/CSI: 3.215217112553536 | MAE: 2.5696022510528564 | CSI: 0.7992002285061411 | Loss: 0.0009870363865047693\n"
     ]
    },
    {
     "data": {
      "application/vnd.jupyter.widget-view+json": {
       "model_id": "93459b4781074b5ba8b42980278ce58b",
       "version_major": 2,
       "version_minor": 0
      },
      "text/plain": [
       "HBox(children=(HTML(value='Validating'), FloatProgress(value=1.0, bar_style='info', layout=Layout(flex='2'), m…"
      ]
     },
     "metadata": {},
     "output_type": "display_data"
    },
    {
     "name": "stdout",
     "output_type": "stream",
     "text": [
      "Epoch 43 | MAE/CSI: 3.21669262308394 | MAE: 2.570596933364868 | CSI: 0.7991428571428572 | Loss: 0.000990581582300365\n"
     ]
    },
    {
     "data": {
      "application/vnd.jupyter.widget-view+json": {
       "model_id": "3adc190f0616417d86275da9b809f646",
       "version_major": 2,
       "version_minor": 0
      },
      "text/plain": [
       "HBox(children=(HTML(value='Validating'), FloatProgress(value=1.0, bar_style='info', layout=Layout(flex='2'), m…"
      ]
     },
     "metadata": {},
     "output_type": "display_data"
    },
    {
     "name": "stdout",
     "output_type": "stream",
     "text": [
      "Epoch 44 | MAE/CSI: 3.2109438338309406 | MAE: 2.5652711391448975 | CSI: 0.7989149832250696 | Loss: 0.0009919735603034496\n"
     ]
    },
    {
     "data": {
      "application/vnd.jupyter.widget-view+json": {
       "model_id": "6945e2154e664154b7068118a5bf35d8",
       "version_major": 2,
       "version_minor": 0
      },
      "text/plain": [
       "HBox(children=(HTML(value='Validating'), FloatProgress(value=1.0, bar_style='info', layout=Layout(flex='2'), m…"
      ]
     },
     "metadata": {},
     "output_type": "display_data"
    },
    {
     "name": "stdout",
     "output_type": "stream",
     "text": [
      "Epoch 45 | MAE/CSI: 3.2196984066052785 | MAE: 2.5702412128448486 | CSI: 0.7982863263120314 | Loss: 0.000992590212263167\n"
     ]
    },
    {
     "data": {
      "application/vnd.jupyter.widget-view+json": {
       "model_id": "257d69cb8de6424c8ecc42bf46d3c3d1",
       "version_major": 2,
       "version_minor": 0
      },
      "text/plain": [
       "HBox(children=(HTML(value='Validating'), FloatProgress(value=1.0, bar_style='info', layout=Layout(flex='2'), m…"
      ]
     },
     "metadata": {},
     "output_type": "display_data"
    },
    {
     "name": "stdout",
     "output_type": "stream",
     "text": [
      "Epoch 46 | MAE/CSI: 3.206927726907789 | MAE: 2.562476634979248 | CSI: 0.799044086174918 | Loss: 0.000992824207060039\n"
     ]
    },
    {
     "data": {
      "application/vnd.jupyter.widget-view+json": {
       "model_id": "5c2fcaabbb7f49c5979b4a849786956d",
       "version_major": 2,
       "version_minor": 0
      },
      "text/plain": [
       "HBox(children=(HTML(value='Validating'), FloatProgress(value=1.0, bar_style='info', layout=Layout(flex='2'), m…"
      ]
     },
     "metadata": {},
     "output_type": "display_data"
    },
    {
     "name": "stdout",
     "output_type": "stream",
     "text": [
      "Epoch 47 | MAE/CSI: 3.2243089758598296 | MAE: 2.5741519927978516 | CSI: 0.7983577293823635 | Loss: 0.0009943352779373527\n"
     ]
    },
    {
     "data": {
      "application/vnd.jupyter.widget-view+json": {
       "model_id": "e5dd68f551ae468b9a99f98d15a6bb34",
       "version_major": 2,
       "version_minor": 0
      },
      "text/plain": [
       "HBox(children=(HTML(value='Validating'), FloatProgress(value=1.0, bar_style='info', layout=Layout(flex='2'), m…"
      ]
     },
     "metadata": {},
     "output_type": "display_data"
    },
    {
     "name": "stdout",
     "output_type": "stream",
     "text": [
      "Epoch 48 | MAE/CSI: 3.167185464203879 | MAE: 2.532801866531372 | CSI: 0.7997011526967411 | Loss: 0.0009948504157364368\n"
     ]
    },
    {
     "data": {
      "application/vnd.jupyter.widget-view+json": {
       "model_id": "197e1de0e4e14b36bd3db43ff9fd0127",
       "version_major": 2,
       "version_minor": 0
      },
      "text/plain": [
       "HBox(children=(HTML(value='Validating'), FloatProgress(value=1.0, bar_style='info', layout=Layout(flex='2'), m…"
      ]
     },
     "metadata": {},
     "output_type": "display_data"
    },
    {
     "name": "stdout",
     "output_type": "stream",
     "text": [
      "Epoch 49 | MAE/CSI: 3.2167388425628727 | MAE: 2.569028615951538 | CSI: 0.7986438258386866 | Loss: 0.0009935392299667\n",
      "\n"
     ]
    },
    {
     "name": "stderr",
     "output_type": "stream",
     "text": [
      "GPU available: True, used: True\n",
      "TPU available: False, using: 0 TPU cores\n",
      "LOCAL_RANK: 0 - CUDA_VISIBLE_DEVICES: [0]\n",
      "Using native 16bit precision.\n",
      "\n",
      "  | Name      | Type         | Params\n",
      "-------------------------------------------\n",
      "0 | criterion | SmoothL1Loss | 0     \n",
      "1 | tail      | BasicBlock   | 300   \n",
      "2 | encoder   | Encoder      | 25 M  \n",
      "3 | decoder   | Decoder      | 17 M  \n",
      "4 | head      | Sequential   | 8 K   \n"
     ]
    },
    {
     "data": {
      "application/vnd.jupyter.widget-view+json": {
       "model_id": "cba4f62f6f904b18ba1da5a3be427e92",
       "version_major": 2,
       "version_minor": 0
      },
      "text/plain": [
       "HBox(children=(HTML(value='Validation sanity check'), FloatProgress(value=1.0, bar_style='info', layout=Layout…"
      ]
     },
     "metadata": {},
     "output_type": "display_data"
    },
    {
     "name": "stdout",
     "output_type": "stream",
     "text": [
      "Epoch 0 | MAE/CSI: 14487452507019.043 | MAE: 14.487452507019043 | CSI: 0.0 | Loss: 0.009541328065097332\n"
     ]
    },
    {
     "data": {
      "application/vnd.jupyter.widget-view+json": {
       "model_id": "cd67491c697d48e2af8b00afab7187ed",
       "version_major": 2,
       "version_minor": 0
      },
      "text/plain": [
       "HBox(children=(HTML(value='Training'), FloatProgress(value=1.0, bar_style='info', layout=Layout(flex='2'), max…"
      ]
     },
     "metadata": {},
     "output_type": "display_data"
    },
    {
     "data": {
      "application/vnd.jupyter.widget-view+json": {
       "model_id": "13880b180a4842cab1576d07ae699be4",
       "version_major": 2,
       "version_minor": 0
      },
      "text/plain": [
       "HBox(children=(HTML(value='Validating'), FloatProgress(value=1.0, bar_style='info', layout=Layout(flex='2'), m…"
      ]
     },
     "metadata": {},
     "output_type": "display_data"
    },
    {
     "name": "stdout",
     "output_type": "stream",
     "text": [
      "Epoch 0 | MAE/CSI: 5.392028101629733 | MAE: 3.834322214126587 | CSI: 0.7111094641666049 | Loss: 0.0021661436185240746\n"
     ]
    },
    {
     "data": {
      "application/vnd.jupyter.widget-view+json": {
       "model_id": "457a326ec0d3427bb8254ccf00da3dc2",
       "version_major": 2,
       "version_minor": 0
      },
      "text/plain": [
       "HBox(children=(HTML(value='Validating'), FloatProgress(value=1.0, bar_style='info', layout=Layout(flex='2'), m…"
      ]
     },
     "metadata": {},
     "output_type": "display_data"
    },
    {
     "name": "stdout",
     "output_type": "stream",
     "text": [
      "Epoch 1 | MAE/CSI: 4.158585763428692 | MAE: 3.119844675064087 | CSI: 0.7502177068214804 | Loss: 0.0013823203044012189\n"
     ]
    },
    {
     "data": {
      "application/vnd.jupyter.widget-view+json": {
       "model_id": "dac1a9d6360c4a10a0872f8e6adb6547",
       "version_major": 2,
       "version_minor": 0
      },
      "text/plain": [
       "HBox(children=(HTML(value='Validating'), FloatProgress(value=1.0, bar_style='info', layout=Layout(flex='2'), m…"
      ]
     },
     "metadata": {},
     "output_type": "display_data"
    },
    {
     "name": "stdout",
     "output_type": "stream",
     "text": [
      "Epoch 2 | MAE/CSI: 4.3142486810508425 | MAE: 3.232961654663086 | CSI: 0.749368405409422 | Loss: 0.0013024784857407212\n"
     ]
    },
    {
     "data": {
      "application/vnd.jupyter.widget-view+json": {
       "model_id": "46f1a7778a614768b4ecea9512ea2b58",
       "version_major": 2,
       "version_minor": 0
      },
      "text/plain": [
       "HBox(children=(HTML(value='Validating'), FloatProgress(value=1.0, bar_style='info', layout=Layout(flex='2'), m…"
      ]
     },
     "metadata": {},
     "output_type": "display_data"
    },
    {
     "name": "stdout",
     "output_type": "stream",
     "text": [
      "Epoch 3 | MAE/CSI: 3.7116308049028257 | MAE: 2.8598763942718506 | CSI: 0.770517474553349 | Loss: 0.0013511937577277422\n"
     ]
    },
    {
     "name": "stderr",
     "output_type": "stream",
     "text": [
      "../src/utils.py:36: RuntimeWarning: overflow encountered in power\n",
      "  z = np.power(10.0, dbz / 10.0)\n"
     ]
    },
    {
     "data": {
      "application/vnd.jupyter.widget-view+json": {
       "model_id": "949428eee1d84a8385ba5183ceafc8f1",
       "version_major": 2,
       "version_minor": 0
      },
      "text/plain": [
       "HBox(children=(HTML(value='Validating'), FloatProgress(value=1.0, bar_style='info', layout=Layout(flex='2'), m…"
      ]
     },
     "metadata": {},
     "output_type": "display_data"
    },
    {
     "name": "stderr",
     "output_type": "stream",
     "text": [
      "../src/utils.py:36: RuntimeWarning: overflow encountered in power\n",
      "  z = np.power(10.0, dbz / 10.0)\n"
     ]
    },
    {
     "name": "stdout",
     "output_type": "stream",
     "text": [
      "Epoch 4 | MAE/CSI: 3.539873240049237 | MAE: 2.7341103553771973 | CSI: 0.7723752151462995 | Loss: 0.001252486719749868\n"
     ]
    },
    {
     "data": {
      "application/vnd.jupyter.widget-view+json": {
       "model_id": "1c078b167e534b7488e0075077bca609",
       "version_major": 2,
       "version_minor": 0
      },
      "text/plain": [
       "HBox(children=(HTML(value='Validating'), FloatProgress(value=1.0, bar_style='info', layout=Layout(flex='2'), m…"
      ]
     },
     "metadata": {},
     "output_type": "display_data"
    },
    {
     "name": "stdout",
     "output_type": "stream",
     "text": [
      "Epoch 5 | MAE/CSI: 4.01579733783149 | MAE: 3.0554652214050293 | CSI: 0.7608614091693554 | Loss: 0.0011789751006290317\n"
     ]
    },
    {
     "data": {
      "application/vnd.jupyter.widget-view+json": {
       "model_id": "d0e33790c0fa48318eb793df1cfda842",
       "version_major": 2,
       "version_minor": 0
      },
      "text/plain": [
       "HBox(children=(HTML(value='Validating'), FloatProgress(value=1.0, bar_style='info', layout=Layout(flex='2'), m…"
      ]
     },
     "metadata": {},
     "output_type": "display_data"
    },
    {
     "name": "stdout",
     "output_type": "stream",
     "text": [
      "Epoch 6 | MAE/CSI: 3.7320073356218004 | MAE: 2.864356517791748 | CSI: 0.7675109559533536 | Loss: 0.0011457751970738173\n"
     ]
    },
    {
     "data": {
      "application/vnd.jupyter.widget-view+json": {
       "model_id": "e5c2cb15737a46159792932e62f99ed3",
       "version_major": 2,
       "version_minor": 0
      },
      "text/plain": [
       "HBox(children=(HTML(value='Validating'), FloatProgress(value=1.0, bar_style='info', layout=Layout(flex='2'), m…"
      ]
     },
     "metadata": {},
     "output_type": "display_data"
    },
    {
     "name": "stderr",
     "output_type": "stream",
     "text": [
      "../src/utils.py:36: RuntimeWarning: overflow encountered in power\n",
      "  z = np.power(10.0, dbz / 10.0)\n"
     ]
    },
    {
     "name": "stdout",
     "output_type": "stream",
     "text": [
      "Epoch 7 | MAE/CSI: 3.401637135420141 | MAE: 2.644503355026245 | CSI: 0.7774207682196582 | Loss: 0.0011405773693695664\n"
     ]
    },
    {
     "data": {
      "application/vnd.jupyter.widget-view+json": {
       "model_id": "242db299e4c44b75917ba09747ca309b",
       "version_major": 2,
       "version_minor": 0
      },
      "text/plain": [
       "HBox(children=(HTML(value='Validating'), FloatProgress(value=1.0, bar_style='info', layout=Layout(flex='2'), m…"
      ]
     },
     "metadata": {},
     "output_type": "display_data"
    },
    {
     "name": "stdout",
     "output_type": "stream",
     "text": [
      "Epoch 8 | MAE/CSI: 4.595668000327307 | MAE: 3.438323736190796 | CSI: 0.7481662591687042 | Loss: 0.0012028244091197848\n"
     ]
    },
    {
     "data": {
      "application/vnd.jupyter.widget-view+json": {
       "model_id": "26a303f530c14d31977eb3f5f5bcd121",
       "version_major": 2,
       "version_minor": 0
      },
      "text/plain": [
       "HBox(children=(HTML(value='Validating'), FloatProgress(value=1.0, bar_style='info', layout=Layout(flex='2'), m…"
      ]
     },
     "metadata": {},
     "output_type": "display_data"
    },
    {
     "name": "stderr",
     "output_type": "stream",
     "text": [
      "../src/utils.py:36: RuntimeWarning: overflow encountered in power\n",
      "  z = np.power(10.0, dbz / 10.0)\n"
     ]
    },
    {
     "name": "stdout",
     "output_type": "stream",
     "text": [
      "Epoch 9 | MAE/CSI: 3.4759753314680486 | MAE: 2.6975338459014893 | CSI: 0.7760509177027827 | Loss: 0.0010866763768717647\n"
     ]
    },
    {
     "data": {
      "application/vnd.jupyter.widget-view+json": {
       "model_id": "7999e78050774bf884f692794676a56f",
       "version_major": 2,
       "version_minor": 0
      },
      "text/plain": [
       "HBox(children=(HTML(value='Validating'), FloatProgress(value=1.0, bar_style='info', layout=Layout(flex='2'), m…"
      ]
     },
     "metadata": {},
     "output_type": "display_data"
    },
    {
     "name": "stdout",
     "output_type": "stream",
     "text": [
      "Epoch 10 | MAE/CSI: 3.2317734726219225 | MAE: 2.534553289413452 | CSI: 0.7842608124863248 | Loss: 0.0011001526145264506\n"
     ]
    },
    {
     "name": "stderr",
     "output_type": "stream",
     "text": [
      "../src/utils.py:36: RuntimeWarning: overflow encountered in power\n",
      "  z = np.power(10.0, dbz / 10.0)\n"
     ]
    },
    {
     "data": {
      "application/vnd.jupyter.widget-view+json": {
       "model_id": "e2f5b41d276640caae430f70230123cb",
       "version_major": 2,
       "version_minor": 0
      },
      "text/plain": [
       "HBox(children=(HTML(value='Validating'), FloatProgress(value=1.0, bar_style='info', layout=Layout(flex='2'), m…"
      ]
     },
     "metadata": {},
     "output_type": "display_data"
    },
    {
     "name": "stderr",
     "output_type": "stream",
     "text": [
      "../src/utils.py:36: RuntimeWarning: overflow encountered in power\n",
      "  z = np.power(10.0, dbz / 10.0)\n"
     ]
    },
    {
     "name": "stdout",
     "output_type": "stream",
     "text": [
      "Epoch 11 | MAE/CSI: 3.2738988791916976 | MAE: 2.5705955028533936 | CSI: 0.7851786501985002 | Loss: 0.0010762200690805912\n"
     ]
    },
    {
     "data": {
      "application/vnd.jupyter.widget-view+json": {
       "model_id": "91a8b1a8cdab4d17b7ef8b29bfc06168",
       "version_major": 2,
       "version_minor": 0
      },
      "text/plain": [
       "HBox(children=(HTML(value='Validating'), FloatProgress(value=1.0, bar_style='info', layout=Layout(flex='2'), m…"
      ]
     },
     "metadata": {},
     "output_type": "display_data"
    },
    {
     "name": "stdout",
     "output_type": "stream",
     "text": [
      "Epoch 12 | MAE/CSI: 3.2065835705106345 | MAE: 2.5200467109680176 | CSI: 0.785897718101108 | Loss: 0.001055945991538465\n"
     ]
    },
    {
     "data": {
      "application/vnd.jupyter.widget-view+json": {
       "model_id": "d9216bc069204c84b59672bfd1435417",
       "version_major": 2,
       "version_minor": 0
      },
      "text/plain": [
       "HBox(children=(HTML(value='Validating'), FloatProgress(value=1.0, bar_style='info', layout=Layout(flex='2'), m…"
      ]
     },
     "metadata": {},
     "output_type": "display_data"
    },
    {
     "name": "stdout",
     "output_type": "stream",
     "text": [
      "Epoch 13 | MAE/CSI: 3.6612566362170322 | MAE: 2.834601640701294 | CSI: 0.7742155009451795 | Loss: 0.00104250549338758\n"
     ]
    },
    {
     "data": {
      "application/vnd.jupyter.widget-view+json": {
       "model_id": "3476cd7419c54969972471d9e7cad7e5",
       "version_major": 2,
       "version_minor": 0
      },
      "text/plain": [
       "HBox(children=(HTML(value='Validating'), FloatProgress(value=1.0, bar_style='info', layout=Layout(flex='2'), m…"
      ]
     },
     "metadata": {},
     "output_type": "display_data"
    },
    {
     "name": "stdout",
     "output_type": "stream",
     "text": [
      "Epoch 14 | MAE/CSI: 3.0992773782456213 | MAE: 2.4434335231781006 | CSI: 0.7883881385789783 | Loss: 0.0010305154137313366\n"
     ]
    },
    {
     "data": {
      "application/vnd.jupyter.widget-view+json": {
       "model_id": "6d679fa8b6b04f328bed50f267c8bac8",
       "version_major": 2,
       "version_minor": 0
      },
      "text/plain": [
       "HBox(children=(HTML(value='Validating'), FloatProgress(value=1.0, bar_style='info', layout=Layout(flex='2'), m…"
      ]
     },
     "metadata": {},
     "output_type": "display_data"
    },
    {
     "name": "stdout",
     "output_type": "stream",
     "text": [
      "Epoch 15 | MAE/CSI: 3.639291737971471 | MAE: 2.8226284980773926 | CSI: 0.7755983035443805 | Loss: 0.0010273642838001251\n"
     ]
    },
    {
     "data": {
      "application/vnd.jupyter.widget-view+json": {
       "model_id": "c19f4005ca2040ce8cfa369ac57a741a",
       "version_major": 2,
       "version_minor": 0
      },
      "text/plain": [
       "HBox(children=(HTML(value='Validating'), FloatProgress(value=1.0, bar_style='info', layout=Layout(flex='2'), m…"
      ]
     },
     "metadata": {},
     "output_type": "display_data"
    },
    {
     "name": "stdout",
     "output_type": "stream",
     "text": [
      "Epoch 16 | MAE/CSI: 3.2597624066956175 | MAE: 2.5623531341552734 | CSI: 0.786055182699478 | Loss: 0.0010038955369964242\n"
     ]
    },
    {
     "data": {
      "application/vnd.jupyter.widget-view+json": {
       "model_id": "669a4a35a01f486ba3e9db002921c06f",
       "version_major": 2,
       "version_minor": 0
      },
      "text/plain": [
       "HBox(children=(HTML(value='Validating'), FloatProgress(value=1.0, bar_style='info', layout=Layout(flex='2'), m…"
      ]
     },
     "metadata": {},
     "output_type": "display_data"
    },
    {
     "name": "stdout",
     "output_type": "stream",
     "text": [
      "Epoch 17 | MAE/CSI: 3.2570115885248803 | MAE: 2.5611789226531982 | CSI: 0.7863585538576221 | Loss: 0.0010010426631197333\n"
     ]
    },
    {
     "data": {
      "application/vnd.jupyter.widget-view+json": {
       "model_id": "d66ba08e376046c691404001699f113b",
       "version_major": 2,
       "version_minor": 0
      },
      "text/plain": [
       "HBox(children=(HTML(value='Validating'), FloatProgress(value=1.0, bar_style='info', layout=Layout(flex='2'), m…"
      ]
     },
     "metadata": {},
     "output_type": "display_data"
    },
    {
     "name": "stdout",
     "output_type": "stream",
     "text": [
      "Epoch 18 | MAE/CSI: 3.406129191555971 | MAE: 2.6659343242645264 | CSI: 0.7826873774694616 | Loss: 0.000992716639302671\n"
     ]
    },
    {
     "data": {
      "application/vnd.jupyter.widget-view+json": {
       "model_id": "756646755ab844ae8afad07eb4c7bffa",
       "version_major": 2,
       "version_minor": 0
      },
      "text/plain": [
       "HBox(children=(HTML(value='Validating'), FloatProgress(value=1.0, bar_style='info', layout=Layout(flex='2'), m…"
      ]
     },
     "metadata": {},
     "output_type": "display_data"
    },
    {
     "name": "stdout",
     "output_type": "stream",
     "text": [
      "Epoch 19 | MAE/CSI: 3.144901228592783 | MAE: 2.488124370574951 | CSI: 0.791161371921732 | Loss: 0.0009813575306907296\n"
     ]
    },
    {
     "data": {
      "application/vnd.jupyter.widget-view+json": {
       "model_id": "0a0a28cb8de04035925733f5aaae64f5",
       "version_major": 2,
       "version_minor": 0
      },
      "text/plain": [
       "HBox(children=(HTML(value='Validating'), FloatProgress(value=1.0, bar_style='info', layout=Layout(flex='2'), m…"
      ]
     },
     "metadata": {},
     "output_type": "display_data"
    },
    {
     "name": "stdout",
     "output_type": "stream",
     "text": [
      "Epoch 20 | MAE/CSI: 3.0428135418560394 | MAE: 2.419461727142334 | CSI: 0.795139660665333 | Loss: 0.0009844209998846054\n"
     ]
    },
    {
     "name": "stderr",
     "output_type": "stream",
     "text": [
      "../src/utils.py:36: RuntimeWarning: overflow encountered in power\n",
      "  z = np.power(10.0, dbz / 10.0)\n"
     ]
    },
    {
     "data": {
      "application/vnd.jupyter.widget-view+json": {
       "model_id": "3bd7d95a09464e2c93e4bbc7b127268f",
       "version_major": 2,
       "version_minor": 0
      },
      "text/plain": [
       "HBox(children=(HTML(value='Validating'), FloatProgress(value=1.0, bar_style='info', layout=Layout(flex='2'), m…"
      ]
     },
     "metadata": {},
     "output_type": "display_data"
    },
    {
     "name": "stdout",
     "output_type": "stream",
     "text": [
      "Epoch 21 | MAE/CSI: 3.4147496972918714 | MAE: 2.6745433807373047 | CSI: 0.7832326283987915 | Loss: 0.0009928239742293954\n"
     ]
    },
    {
     "name": "stderr",
     "output_type": "stream",
     "text": [
      "../src/utils.py:36: RuntimeWarning: overflow encountered in power\n",
      "  z = np.power(10.0, dbz / 10.0)\n"
     ]
    },
    {
     "data": {
      "application/vnd.jupyter.widget-view+json": {
       "model_id": "bae234623e734a51a4de2d9c169d7de3",
       "version_major": 2,
       "version_minor": 0
      },
      "text/plain": [
       "HBox(children=(HTML(value='Validating'), FloatProgress(value=1.0, bar_style='info', layout=Layout(flex='2'), m…"
      ]
     },
     "metadata": {},
     "output_type": "display_data"
    },
    {
     "name": "stdout",
     "output_type": "stream",
     "text": [
      "Epoch 22 | MAE/CSI: 3.465787560107332 | MAE: 2.704352617263794 | CSI: 0.7802995914661824 | Loss: 0.0009944615885615349\n"
     ]
    },
    {
     "name": "stderr",
     "output_type": "stream",
     "text": [
      "../src/utils.py:36: RuntimeWarning: overflow encountered in power\n",
      "  z = np.power(10.0, dbz / 10.0)\n"
     ]
    },
    {
     "data": {
      "application/vnd.jupyter.widget-view+json": {
       "model_id": "b68df5562ca34f53b3a5caab0e14109f",
       "version_major": 2,
       "version_minor": 0
      },
      "text/plain": [
       "HBox(children=(HTML(value='Validating'), FloatProgress(value=1.0, bar_style='info', layout=Layout(flex='2'), m…"
      ]
     },
     "metadata": {},
     "output_type": "display_data"
    },
    {
     "name": "stdout",
     "output_type": "stream",
     "text": [
      "Epoch 23 | MAE/CSI: 3.4667651828205974 | MAE: 2.7036044597625732 | CSI: 0.7798637395912188 | Loss: 0.0010142156388610601\n"
     ]
    },
    {
     "data": {
      "application/vnd.jupyter.widget-view+json": {
       "model_id": "bff9e27a8ee0441a89a9d15d62fc6a79",
       "version_major": 2,
       "version_minor": 0
      },
      "text/plain": [
       "HBox(children=(HTML(value='Validating'), FloatProgress(value=1.0, bar_style='info', layout=Layout(flex='2'), m…"
      ]
     },
     "metadata": {},
     "output_type": "display_data"
    },
    {
     "name": "stderr",
     "output_type": "stream",
     "text": [
      "../src/utils.py:36: RuntimeWarning: overflow encountered in power\n",
      "  z = np.power(10.0, dbz / 10.0)\n"
     ]
    },
    {
     "name": "stdout",
     "output_type": "stream",
     "text": [
      "Epoch 24 | MAE/CSI: 3.3635030555243413 | MAE: 2.640925884246826 | CSI: 0.7851712457659014 | Loss: 0.0009805120062083006\n"
     ]
    },
    {
     "data": {
      "application/vnd.jupyter.widget-view+json": {
       "model_id": "f3ea25fda8674b48839b4671423dd49e",
       "version_major": 2,
       "version_minor": 0
      },
      "text/plain": [
       "HBox(children=(HTML(value='Validating'), FloatProgress(value=1.0, bar_style='info', layout=Layout(flex='2'), m…"
      ]
     },
     "metadata": {},
     "output_type": "display_data"
    },
    {
     "name": "stdout",
     "output_type": "stream",
     "text": [
      "Epoch 25 | MAE/CSI: 3.0347875782549485 | MAE: 2.413892984390259 | CSI: 0.7954075605434141 | Loss: 0.0009923680918291211\n"
     ]
    },
    {
     "name": "stderr",
     "output_type": "stream",
     "text": [
      "../src/utils.py:36: RuntimeWarning: overflow encountered in power\n",
      "  z = np.power(10.0, dbz / 10.0)\n"
     ]
    },
    {
     "data": {
      "application/vnd.jupyter.widget-view+json": {
       "model_id": "84d3e7cdc49a4b8090b60914bd297972",
       "version_major": 2,
       "version_minor": 0
      },
      "text/plain": [
       "HBox(children=(HTML(value='Validating'), FloatProgress(value=1.0, bar_style='info', layout=Layout(flex='2'), m…"
      ]
     },
     "metadata": {},
     "output_type": "display_data"
    },
    {
     "name": "stderr",
     "output_type": "stream",
     "text": [
      "../src/utils.py:36: RuntimeWarning: overflow encountered in power\n",
      "  z = np.power(10.0, dbz / 10.0)\n"
     ]
    },
    {
     "name": "stdout",
     "output_type": "stream",
     "text": [
      "Epoch 26 | MAE/CSI: 3.1692318757620845 | MAE: 2.50390887260437 | CSI: 0.7900680577368933 | Loss: 0.0009772846242412925\n"
     ]
    },
    {
     "data": {
      "application/vnd.jupyter.widget-view+json": {
       "model_id": "9f43d086e804488a87511eccdb538a0a",
       "version_major": 2,
       "version_minor": 0
      },
      "text/plain": [
       "HBox(children=(HTML(value='Validating'), FloatProgress(value=1.0, bar_style='info', layout=Layout(flex='2'), m…"
      ]
     },
     "metadata": {},
     "output_type": "display_data"
    },
    {
     "name": "stdout",
     "output_type": "stream",
     "text": [
      "Epoch 27 | MAE/CSI: 3.2020519076581904 | MAE: 2.5177001953125 | CSI: 0.7862771335117454 | Loss: 0.000999476877041161\n"
     ]
    },
    {
     "name": "stderr",
     "output_type": "stream",
     "text": [
      "../src/utils.py:36: RuntimeWarning: overflow encountered in power\n",
      "  z = np.power(10.0, dbz / 10.0)\n"
     ]
    },
    {
     "data": {
      "application/vnd.jupyter.widget-view+json": {
       "model_id": "c96c437af5804b3fb3fb7be380b7eaa5",
       "version_major": 2,
       "version_minor": 0
      },
      "text/plain": [
       "HBox(children=(HTML(value='Validating'), FloatProgress(value=1.0, bar_style='info', layout=Layout(flex='2'), m…"
      ]
     },
     "metadata": {},
     "output_type": "display_data"
    },
    {
     "name": "stderr",
     "output_type": "stream",
     "text": [
      "../src/utils.py:36: RuntimeWarning: overflow encountered in power\n",
      "  z = np.power(10.0, dbz / 10.0)\n"
     ]
    },
    {
     "name": "stdout",
     "output_type": "stream",
     "text": [
      "Epoch 28 | MAE/CSI: 3.0848241435457164 | MAE: 2.443657398223877 | CSI: 0.7921545230815125 | Loss: 0.0009700111113488674\n"
     ]
    },
    {
     "data": {
      "application/vnd.jupyter.widget-view+json": {
       "model_id": "82fc8df75f8740fd810e194ca9aa5f43",
       "version_major": 2,
       "version_minor": 0
      },
      "text/plain": [
       "HBox(children=(HTML(value='Validating'), FloatProgress(value=1.0, bar_style='info', layout=Layout(flex='2'), m…"
      ]
     },
     "metadata": {},
     "output_type": "display_data"
    },
    {
     "name": "stdout",
     "output_type": "stream",
     "text": [
      "Epoch 29 | MAE/CSI: 3.1461110961318504 | MAE: 2.488356351852417 | CSI: 0.7909308590242442 | Loss: 0.0009753701160661876\n"
     ]
    },
    {
     "name": "stderr",
     "output_type": "stream",
     "text": [
      "../src/utils.py:36: RuntimeWarning: overflow encountered in power\n",
      "  z = np.power(10.0, dbz / 10.0)\n"
     ]
    },
    {
     "data": {
      "application/vnd.jupyter.widget-view+json": {
       "model_id": "32e8d8235b2a4cceb680173996d837d6",
       "version_major": 2,
       "version_minor": 0
      },
      "text/plain": [
       "HBox(children=(HTML(value='Validating'), FloatProgress(value=1.0, bar_style='info', layout=Layout(flex='2'), m…"
      ]
     },
     "metadata": {},
     "output_type": "display_data"
    },
    {
     "name": "stdout",
     "output_type": "stream",
     "text": [
      "Epoch 30 | MAE/CSI: 3.1462543540290406 | MAE: 2.4851224422454834 | CSI: 0.7898669855029143 | Loss: 0.0009774373611435294\n"
     ]
    },
    {
     "data": {
      "application/vnd.jupyter.widget-view+json": {
       "model_id": "d51d498f3f8d4c2c9ce24c210d226c1b",
       "version_major": 2,
       "version_minor": 0
      },
      "text/plain": [
       "HBox(children=(HTML(value='Validating'), FloatProgress(value=1.0, bar_style='info', layout=Layout(flex='2'), m…"
      ]
     },
     "metadata": {},
     "output_type": "display_data"
    },
    {
     "name": "stdout",
     "output_type": "stream",
     "text": [
      "Epoch 31 | MAE/CSI: 3.0840243109285304 | MAE: 2.4406659603118896 | CSI: 0.7913899873162725 | Loss: 0.0009708466241136193\n"
     ]
    },
    {
     "name": "stderr",
     "output_type": "stream",
     "text": [
      "../src/utils.py:36: RuntimeWarning: overflow encountered in power\n",
      "  z = np.power(10.0, dbz / 10.0)\n"
     ]
    },
    {
     "data": {
      "application/vnd.jupyter.widget-view+json": {
       "model_id": "760cb02f21294ee6aba5baaa19e8337b",
       "version_major": 2,
       "version_minor": 0
      },
      "text/plain": [
       "HBox(children=(HTML(value='Validating'), FloatProgress(value=1.0, bar_style='info', layout=Layout(flex='2'), m…"
      ]
     },
     "metadata": {},
     "output_type": "display_data"
    },
    {
     "name": "stdout",
     "output_type": "stream",
     "text": [
      "Epoch 32 | MAE/CSI: 3.122035965640138 | MAE: 2.4696598052978516 | CSI: 0.7910414333706607 | Loss: 0.0009853055234998465\n"
     ]
    },
    {
     "name": "stderr",
     "output_type": "stream",
     "text": [
      "../src/utils.py:36: RuntimeWarning: overflow encountered in power\n",
      "  z = np.power(10.0, dbz / 10.0)\n"
     ]
    }
   ],
   "source": [
    "seed_everything(args[\"seed\"])\n",
    "pl.seed_everything(args[\"seed\"])\n",
    "\n",
    "df = pd.read_csv(args[\"train_folds_csv\"])\n",
    "\n",
    "for fold in range(5):\n",
    "    train_df = df[df.fold != fold]\n",
    "    val_df = df[df.fold == fold]\n",
    "\n",
    "    datamodule = NowcastingDataModule(\n",
    "        train_df, val_df, batch_size=args[\"batch_size\"], num_workers=args[\"num_workers\"]\n",
    "    )\n",
    "    datamodule.setup()\n",
    "\n",
    "    num_train_steps = (\n",
    "        int(\n",
    "            np.ceil(\n",
    "                len(train_df) // args[\"batch_size\"] / args[\"accumulate_grad_batches\"]\n",
    "            )\n",
    "        )\n",
    "        * args[\"max_epochs\"]\n",
    "    )\n",
    "\n",
    "    model = UNet(num_train_steps=num_train_steps)\n",
    "\n",
    "    trainer = pl.Trainer(\n",
    "        gpus=args[\"gpus\"],\n",
    "        max_epochs=args[\"max_epochs\"],\n",
    "        precision=args[\"precision\"],\n",
    "        progress_bar_refresh_rate=50,\n",
    "        #         accumulate_grad_batches=args[\"accumulate_grad_batches\"],\n",
    "        #         gradient_clip_val=args[\"gradient_clip_val\"],\n",
    "        auto_lr_find=True,\n",
    "    )\n",
    "\n",
    "    # learning rate finder\n",
    "    #     lr_finder = trainer.tuner.lr_find(model, datamodule=datamodule)\n",
    "    #     fig = lr_finder.plot(suggest=True)\n",
    "    #     fig.show()\n",
    "\n",
    "    trainer.fit(model, datamodule)\n",
    "    trainer.save_checkpoint(f\"unet_fold{fold}_bs{args['batch_size']}_epoch{args['max_epochs']}.ckpt\")\n",
    "\n",
    "    del datamodule, model, trainer\n",
    "    gc.collect()\n",
    "    torch.cuda.empty_cache()"
   ]
  },
  {
   "cell_type": "markdown",
   "metadata": {},
   "source": [
    "## Inference"
   ]
  },
  {
   "cell_type": "code",
   "execution_count": null,
   "metadata": {},
   "outputs": [],
   "source": [
    "datamodule = NowcastingDataModule()\n",
    "datamodule.setup(\"test\")\n",
    "\n",
    "final_preds = np.zeros((len(datamodule.test_dataset), 120, 120))\n",
    "\n",
    "for fold in range(5):\n",
    "    model = UNet.load_from_checkpoint(f\"unet_fold{fold}_bs{args['batch_size']}_epoch{args['max_epochs']}\")\n",
    "    model.cuda()\n",
    "    model.eval()\n",
    "    preds = []\n",
    "    with torch.no_grad():\n",
    "        for batch in tqdm(datamodule.test_dataloader()):\n",
    "            batch = batch.cuda()\n",
    "            imgs = model(batch)\n",
    "            imgs = imgs.detach().cpu().numpy()\n",
    "            imgs = imgs[:, 0, 4:124, 4:124]\n",
    "            imgs = args[\"rng\"] * imgs\n",
    "            imgs = imgs.clip(0, 255)\n",
    "            imgs = imgs.round()\n",
    "            preds.append(imgs)\n",
    "\n",
    "    preds = np.concatenate(preds)\n",
    "    preds = preds.astype(np.uint8)\n",
    "    final_preds += preds\n",
    "    \n",
    "    del model\n",
    "    gc.collect()\n",
    "    torch.cuda.empty_cache()\n",
    "    \n",
    "final_preds = final_preds.reshape(-1, 14400)"
   ]
  },
  {
   "cell_type": "code",
   "execution_count": null,
   "metadata": {},
   "outputs": [],
   "source": [
    "test_paths = datamodule.test_dataset.paths\n",
    "test_filenames = [path.name for path in test_paths]"
   ]
  },
  {
   "cell_type": "code",
   "execution_count": null,
   "metadata": {},
   "outputs": [],
   "source": [
    "subm = pd.DataFrame({\"file_name\"}: test_filenames)\n",
    "for i in tqdm(range(14400)):\n",
    "    subm[str(i)] = final_preds[:, i]"
   ]
  },
  {
   "cell_type": "code",
   "execution_count": null,
   "metadata": {},
   "outputs": [],
   "source": [
    "subm.to_csv(f\"unet_bs{args['batch_size']}_epoch{args['max_epochs']}_lr{model.lr}.csv\", index=False)\n",
    "subm.head()"
   ]
  },
  {
   "cell_type": "code",
   "execution_count": null,
   "metadata": {},
   "outputs": [],
   "source": []
  },
  {
   "cell_type": "code",
   "execution_count": null,
   "metadata": {},
   "outputs": [],
   "source": []
  },
  {
   "cell_type": "code",
   "execution_count": null,
   "metadata": {},
   "outputs": [],
   "source": []
  },
  {
   "cell_type": "code",
   "execution_count": null,
   "metadata": {},
   "outputs": [],
   "source": []
  },
  {
   "cell_type": "code",
   "execution_count": null,
   "metadata": {},
   "outputs": [],
   "source": []
  },
  {
   "cell_type": "code",
   "execution_count": null,
   "metadata": {},
   "outputs": [],
   "source": []
  },
  {
   "cell_type": "code",
   "execution_count": null,
   "metadata": {},
   "outputs": [],
   "source": []
  },
  {
   "cell_type": "code",
   "execution_count": null,
   "metadata": {},
   "outputs": [],
   "source": []
  },
  {
   "cell_type": "code",
   "execution_count": null,
   "metadata": {},
   "outputs": [],
   "source": []
  },
  {
   "cell_type": "code",
   "execution_count": null,
   "metadata": {},
   "outputs": [],
   "source": []
  }
 ],
 "metadata": {
  "kernelspec": {
   "display_name": "Python [conda env:torch2] *",
   "language": "python",
   "name": "conda-env-torch2-py"
  },
  "language_info": {
   "codemirror_mode": {
    "name": "ipython",
    "version": 3
   },
   "file_extension": ".py",
   "mimetype": "text/x-python",
   "name": "python",
   "nbconvert_exporter": "python",
   "pygments_lexer": "ipython3",
   "version": "3.8.6"
  }
 },
 "nbformat": 4,
 "nbformat_minor": 4
}
