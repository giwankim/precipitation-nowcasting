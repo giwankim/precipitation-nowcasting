{
 "cells": [
  {
   "cell_type": "code",
   "execution_count": 1,
   "metadata": {},
   "outputs": [],
   "source": [
    "import sys\n",
    "sys.path.insert(0, \"../src\")"
   ]
  },
  {
   "cell_type": "code",
   "execution_count": 2,
   "metadata": {},
   "outputs": [
    {
     "data": {
      "application/javascript": [
       "\n",
       "            setTimeout(function() {\n",
       "                var nbb_cell_id = 2;\n",
       "                var nbb_unformatted_code = \"%reload_ext autoreload\\n%autoreload 2\\n%matplotlib inline\\n%reload_ext nb_black\";\n",
       "                var nbb_formatted_code = \"%reload_ext autoreload\\n%autoreload 2\\n%matplotlib inline\\n%reload_ext nb_black\";\n",
       "                var nbb_cells = Jupyter.notebook.get_cells();\n",
       "                for (var i = 0; i < nbb_cells.length; ++i) {\n",
       "                    if (nbb_cells[i].input_prompt_number == nbb_cell_id) {\n",
       "                        if (nbb_cells[i].get_text() == nbb_unformatted_code) {\n",
       "                             nbb_cells[i].set_text(nbb_formatted_code);\n",
       "                        }\n",
       "                        break;\n",
       "                    }\n",
       "                }\n",
       "            }, 500);\n",
       "            "
      ],
      "text/plain": [
       "<IPython.core.display.Javascript object>"
      ]
     },
     "metadata": {},
     "output_type": "display_data"
    }
   ],
   "source": [
    "%reload_ext autoreload\n",
    "%autoreload 2\n",
    "%matplotlib inline\n",
    "%reload_ext nb_black"
   ]
  },
  {
   "cell_type": "code",
   "execution_count": 3,
   "metadata": {},
   "outputs": [
    {
     "data": {
      "application/javascript": [
       "\n",
       "            setTimeout(function() {\n",
       "                var nbb_cell_id = 3;\n",
       "                var nbb_unformatted_code = \"import gc\\nimport warnings\\nfrom pathlib import Path\\nfrom tqdm.notebook import tqdm\\n\\nimport cv2\\nimport numpy as np\\nimport pandas as pd\\nimport matplotlib.pyplot as plt\\nfrom sklearn import metrics\\n\\nimport torch\\nimport torch.nn as nn\\nimport torch.nn.functional as F\\nfrom torch.utils.data import Dataset, DataLoader, RandomSampler, SequentialSampler\\n\\nimport pytorch_lightning as pl\\n\\nimport torchvision.transforms as T\\nimport albumentations as A\\nfrom albumentations.pytorch import ToTensorV2\\n\\nfrom transformers import AdamW, get_cosine_schedule_with_warmup\\n\\nimport optim\\nimport loss\\nfrom utils import visualize, radar2precipitation, seed_everything\";\n",
       "                var nbb_formatted_code = \"import gc\\nimport warnings\\nfrom pathlib import Path\\nfrom tqdm.notebook import tqdm\\n\\nimport cv2\\nimport numpy as np\\nimport pandas as pd\\nimport matplotlib.pyplot as plt\\nfrom sklearn import metrics\\n\\nimport torch\\nimport torch.nn as nn\\nimport torch.nn.functional as F\\nfrom torch.utils.data import Dataset, DataLoader, RandomSampler, SequentialSampler\\n\\nimport pytorch_lightning as pl\\n\\nimport torchvision.transforms as T\\nimport albumentations as A\\nfrom albumentations.pytorch import ToTensorV2\\n\\nfrom transformers import AdamW, get_cosine_schedule_with_warmup\\n\\nimport optim\\nimport loss\\nfrom utils import visualize, radar2precipitation, seed_everything\";\n",
       "                var nbb_cells = Jupyter.notebook.get_cells();\n",
       "                for (var i = 0; i < nbb_cells.length; ++i) {\n",
       "                    if (nbb_cells[i].input_prompt_number == nbb_cell_id) {\n",
       "                        if (nbb_cells[i].get_text() == nbb_unformatted_code) {\n",
       "                             nbb_cells[i].set_text(nbb_formatted_code);\n",
       "                        }\n",
       "                        break;\n",
       "                    }\n",
       "                }\n",
       "            }, 500);\n",
       "            "
      ],
      "text/plain": [
       "<IPython.core.display.Javascript object>"
      ]
     },
     "metadata": {},
     "output_type": "display_data"
    }
   ],
   "source": [
    "import gc\n",
    "import warnings\n",
    "from pathlib import Path\n",
    "from tqdm.notebook import tqdm\n",
    "\n",
    "import cv2\n",
    "import numpy as np\n",
    "import pandas as pd\n",
    "import matplotlib.pyplot as plt\n",
    "from sklearn import metrics\n",
    "\n",
    "import torch\n",
    "import torch.nn as nn\n",
    "import torch.nn.functional as F\n",
    "from torch.utils.data import Dataset, DataLoader, RandomSampler, SequentialSampler\n",
    "\n",
    "import pytorch_lightning as pl\n",
    "\n",
    "import torchvision.transforms as T\n",
    "import albumentations as A\n",
    "from albumentations.pytorch import ToTensorV2\n",
    "\n",
    "from transformers import AdamW, get_cosine_schedule_with_warmup\n",
    "\n",
    "import optim\n",
    "import loss\n",
    "from utils import visualize, radar2precipitation, seed_everything"
   ]
  },
  {
   "cell_type": "code",
   "execution_count": 4,
   "metadata": {},
   "outputs": [
    {
     "data": {
      "application/javascript": [
       "\n",
       "            setTimeout(function() {\n",
       "                var nbb_cell_id = 4;\n",
       "                var nbb_unformatted_code = \"warnings.simplefilter(\\\"ignore\\\")\";\n",
       "                var nbb_formatted_code = \"warnings.simplefilter(\\\"ignore\\\")\";\n",
       "                var nbb_cells = Jupyter.notebook.get_cells();\n",
       "                for (var i = 0; i < nbb_cells.length; ++i) {\n",
       "                    if (nbb_cells[i].input_prompt_number == nbb_cell_id) {\n",
       "                        if (nbb_cells[i].get_text() == nbb_unformatted_code) {\n",
       "                             nbb_cells[i].set_text(nbb_formatted_code);\n",
       "                        }\n",
       "                        break;\n",
       "                    }\n",
       "                }\n",
       "            }, 500);\n",
       "            "
      ],
      "text/plain": [
       "<IPython.core.display.Javascript object>"
      ]
     },
     "metadata": {},
     "output_type": "display_data"
    }
   ],
   "source": [
    "warnings.simplefilter(\"ignore\")"
   ]
  },
  {
   "cell_type": "markdown",
   "metadata": {},
   "source": [
    "# U-Net"
   ]
  },
  {
   "cell_type": "markdown",
   "metadata": {},
   "source": [
    "## Config"
   ]
  },
  {
   "cell_type": "code",
   "execution_count": 5,
   "metadata": {},
   "outputs": [
    {
     "data": {
      "application/javascript": [
       "\n",
       "            setTimeout(function() {\n",
       "                var nbb_cell_id = 5;\n",
       "                var nbb_unformatted_code = \"args = dict(\\n    seed=42,\\n    dams=(6071, 6304, 7026, 7629, 7767, 8944, 11107),\\n    train_folds_csv=Path(\\\"../input/train_folds.csv\\\"),\\n    train_data_path=Path(\\\"../input/train\\\"),\\n    test_data_path=Path(\\\"../input/test\\\"),\\n    model_dir=Path(\\\"../models\\\"),\\n    output_dir=Path(\\\"../output\\\"),\\n    rng=255.0,\\n    num_workers=4,\\n    gpus=1,\\n    lr=1e-3,\\n    max_epochs=30,\\n    batch_size=256,\\n    precision=16,\\n    optimizer=\\\"adamw\\\",\\n    scheduler=\\\"cosine\\\",\\n    accumulate_grad_batches=1,\\n    gradient_clip_val=5.0,\\n    warmup_epochs=1,\\n)\\n\\nargs[\\\"trn_tfms\\\"] = A.Compose(\\n    [\\n        A.PadIfNeeded(min_height=128, min_width=128, always_apply=True, p=1),\\n        ToTensorV2(always_apply=True, p=1),\\n    ]\\n)\\n\\nargs[\\\"val_tfms\\\"] = A.Compose(\\n    [\\n        A.PadIfNeeded(min_height=128, min_width=128, always_apply=True, p=1),\\n        ToTensorV2(always_apply=True, p=1),\\n    ]\\n)\";\n",
       "                var nbb_formatted_code = \"args = dict(\\n    seed=42,\\n    dams=(6071, 6304, 7026, 7629, 7767, 8944, 11107),\\n    train_folds_csv=Path(\\\"../input/train_folds.csv\\\"),\\n    train_data_path=Path(\\\"../input/train\\\"),\\n    test_data_path=Path(\\\"../input/test\\\"),\\n    model_dir=Path(\\\"../models\\\"),\\n    output_dir=Path(\\\"../output\\\"),\\n    rng=255.0,\\n    num_workers=4,\\n    gpus=1,\\n    lr=1e-3,\\n    max_epochs=30,\\n    batch_size=256,\\n    precision=16,\\n    optimizer=\\\"adamw\\\",\\n    scheduler=\\\"cosine\\\",\\n    accumulate_grad_batches=1,\\n    gradient_clip_val=5.0,\\n    warmup_epochs=1,\\n)\\n\\nargs[\\\"trn_tfms\\\"] = A.Compose(\\n    [\\n        A.PadIfNeeded(min_height=128, min_width=128, always_apply=True, p=1),\\n        ToTensorV2(always_apply=True, p=1),\\n    ]\\n)\\n\\nargs[\\\"val_tfms\\\"] = A.Compose(\\n    [\\n        A.PadIfNeeded(min_height=128, min_width=128, always_apply=True, p=1),\\n        ToTensorV2(always_apply=True, p=1),\\n    ]\\n)\";\n",
       "                var nbb_cells = Jupyter.notebook.get_cells();\n",
       "                for (var i = 0; i < nbb_cells.length; ++i) {\n",
       "                    if (nbb_cells[i].input_prompt_number == nbb_cell_id) {\n",
       "                        if (nbb_cells[i].get_text() == nbb_unformatted_code) {\n",
       "                             nbb_cells[i].set_text(nbb_formatted_code);\n",
       "                        }\n",
       "                        break;\n",
       "                    }\n",
       "                }\n",
       "            }, 500);\n",
       "            "
      ],
      "text/plain": [
       "<IPython.core.display.Javascript object>"
      ]
     },
     "metadata": {},
     "output_type": "display_data"
    }
   ],
   "source": [
    "args = dict(\n",
    "    seed=42,\n",
    "    dams=(6071, 6304, 7026, 7629, 7767, 8944, 11107),\n",
    "    train_folds_csv=Path(\"../input/train_folds.csv\"),\n",
    "    train_data_path=Path(\"../input/train\"),\n",
    "    test_data_path=Path(\"../input/test\"),\n",
    "    model_dir=Path(\"../models\"),\n",
    "    output_dir=Path(\"../output\"),\n",
    "    rng=255.0,\n",
    "    num_workers=4,\n",
    "    gpus=1,\n",
    "    lr=1e-3,\n",
    "    max_epochs=30,\n",
    "    batch_size=256,\n",
    "    precision=16,\n",
    "    optimizer=\"adamw\",\n",
    "    scheduler=\"cosine\",\n",
    "    accumulate_grad_batches=1,\n",
    "    gradient_clip_val=5.0,\n",
    "    warmup_epochs=1,\n",
    ")\n",
    "\n",
    "args[\"trn_tfms\"] = A.Compose(\n",
    "    [\n",
    "        A.PadIfNeeded(min_height=128, min_width=128, always_apply=True, p=1),\n",
    "        ToTensorV2(always_apply=True, p=1),\n",
    "    ]\n",
    ")\n",
    "\n",
    "args[\"val_tfms\"] = A.Compose(\n",
    "    [\n",
    "        A.PadIfNeeded(min_height=128, min_width=128, always_apply=True, p=1),\n",
    "        ToTensorV2(always_apply=True, p=1),\n",
    "    ]\n",
    ")"
   ]
  },
  {
   "cell_type": "markdown",
   "metadata": {},
   "source": [
    "## Dataset"
   ]
  },
  {
   "cell_type": "code",
   "execution_count": 6,
   "metadata": {},
   "outputs": [
    {
     "data": {
      "application/javascript": [
       "\n",
       "            setTimeout(function() {\n",
       "                var nbb_cell_id = 6;\n",
       "                var nbb_unformatted_code = \"class NowcastingDataset(Dataset):\\n    def __init__(self, paths, tfms=None, test=False):\\n        self.paths = paths\\n        if tfms is not None:\\n            self.tfms = tfms\\n        else:\\n            self.tfms = A.Compose(\\n                [\\n                    A.PadIfNeeded(\\n                        min_height=128, min_width=128, always_apply=True, p=1\\n                    ),\\n                    ToTensorV2(always_apply=True, p=1),\\n                ]\\n            )\\n        self.test = test\\n\\n    def __len__(self):\\n        return len(self.paths)\\n\\n    def __getitem__(self, idx):\\n        path = self.paths[idx]\\n        data = np.load(path)\\n\\n        augmented = self.tfms(image=data)\\n        data = augmented[\\\"image\\\"]\\n\\n        x = data[:4, :, :]\\n        x = x / args[\\\"rng\\\"]\\n        if self.test:\\n            return x\\n        else:\\n            y = data[4, :, :]\\n            y = y / args[\\\"rng\\\"]\\n            y = y.unsqueeze(0)\\n\\n            return x, y\";\n",
       "                var nbb_formatted_code = \"class NowcastingDataset(Dataset):\\n    def __init__(self, paths, tfms=None, test=False):\\n        self.paths = paths\\n        if tfms is not None:\\n            self.tfms = tfms\\n        else:\\n            self.tfms = A.Compose(\\n                [\\n                    A.PadIfNeeded(\\n                        min_height=128, min_width=128, always_apply=True, p=1\\n                    ),\\n                    ToTensorV2(always_apply=True, p=1),\\n                ]\\n            )\\n        self.test = test\\n\\n    def __len__(self):\\n        return len(self.paths)\\n\\n    def __getitem__(self, idx):\\n        path = self.paths[idx]\\n        data = np.load(path)\\n\\n        augmented = self.tfms(image=data)\\n        data = augmented[\\\"image\\\"]\\n\\n        x = data[:4, :, :]\\n        x = x / args[\\\"rng\\\"]\\n        if self.test:\\n            return x\\n        else:\\n            y = data[4, :, :]\\n            y = y / args[\\\"rng\\\"]\\n            y = y.unsqueeze(0)\\n\\n            return x, y\";\n",
       "                var nbb_cells = Jupyter.notebook.get_cells();\n",
       "                for (var i = 0; i < nbb_cells.length; ++i) {\n",
       "                    if (nbb_cells[i].input_prompt_number == nbb_cell_id) {\n",
       "                        if (nbb_cells[i].get_text() == nbb_unformatted_code) {\n",
       "                             nbb_cells[i].set_text(nbb_formatted_code);\n",
       "                        }\n",
       "                        break;\n",
       "                    }\n",
       "                }\n",
       "            }, 500);\n",
       "            "
      ],
      "text/plain": [
       "<IPython.core.display.Javascript object>"
      ]
     },
     "metadata": {},
     "output_type": "display_data"
    }
   ],
   "source": [
    "class NowcastingDataset(Dataset):\n",
    "    def __init__(self, paths, tfms=None, test=False):\n",
    "        self.paths = paths\n",
    "        if tfms is not None:\n",
    "            self.tfms = tfms\n",
    "        else:\n",
    "            self.tfms = A.Compose(\n",
    "                [\n",
    "                    A.PadIfNeeded(\n",
    "                        min_height=128, min_width=128, always_apply=True, p=1\n",
    "                    ),\n",
    "                    ToTensorV2(always_apply=True, p=1),\n",
    "                ]\n",
    "            )\n",
    "        self.test = test\n",
    "\n",
    "    def __len__(self):\n",
    "        return len(self.paths)\n",
    "\n",
    "    def __getitem__(self, idx):\n",
    "        path = self.paths[idx]\n",
    "        data = np.load(path)\n",
    "\n",
    "        augmented = self.tfms(image=data)\n",
    "        data = augmented[\"image\"]\n",
    "\n",
    "        x = data[:4, :, :]\n",
    "        x = x / args[\"rng\"]\n",
    "        if self.test:\n",
    "            return x\n",
    "        else:\n",
    "            y = data[4, :, :]\n",
    "            y = y / args[\"rng\"]\n",
    "            y = y.unsqueeze(0)\n",
    "\n",
    "            return x, y"
   ]
  },
  {
   "cell_type": "code",
   "execution_count": 7,
   "metadata": {},
   "outputs": [
    {
     "data": {
      "application/javascript": [
       "\n",
       "            setTimeout(function() {\n",
       "                var nbb_cell_id = 7;\n",
       "                var nbb_unformatted_code = \"class NowcastingDataModule(pl.LightningDataModule):\\n    def __init__(\\n        self,\\n        train_df=None,\\n        val_df=None,\\n        batch_size=args[\\\"batch_size\\\"],\\n        num_workers=args[\\\"num_workers\\\"],\\n        test=False,\\n    ):\\n        super().__init__()\\n        self.train_df = train_df\\n        self.val_df = val_df\\n        self.batch_size = batch_size\\n        self.num_workers = num_workers\\n        self.test = test\\n\\n    def setup(self, stage=\\\"train\\\"):\\n        if stage == \\\"train\\\":\\n            train_paths = [\\n                args[\\\"train_data_path\\\"] / fn for fn in self.train_df.filename.values\\n            ]\\n            val_paths = [\\n                args[\\\"train_data_path\\\"] / fn for fn in self.val_df.filename.values\\n            ]\\n            self.train_dataset = NowcastingDataset(train_paths, tfms=args[\\\"trn_tfms\\\"])\\n            self.val_dataset = NowcastingDataset(val_paths, tfms=args[\\\"val_tfms\\\"])\\n        else:\\n            test_paths = list(sorted(args[\\\"test_data_path\\\"].glob(\\\"*.npy\\\")))\\n            self.test_dataset = NowcastingDataset(test_paths, test=True)\\n\\n    def train_dataloader(self):\\n        return DataLoader(\\n            self.train_dataset,\\n            batch_size=self.batch_size,\\n            sampler=RandomSampler(self.train_dataset),\\n            pin_memory=True,\\n            num_workers=self.num_workers,\\n            drop_last=True,\\n        )\\n\\n    def val_dataloader(self):\\n        return DataLoader(\\n            self.val_dataset,\\n            batch_size=2 * self.batch_size,\\n            sampler=SequentialSampler(self.val_dataset),\\n            pin_memory=True,\\n            num_workers=self.num_workers,\\n        )\\n\\n    def test_dataloader(self):\\n        return DataLoader(\\n            self.test_dataset,\\n            batch_size=2 * self.batch_size,\\n            sampler=SequentialSampler(self.test_dataset),\\n            pin_memory=True,\\n            num_workers=self.num_workers,\\n        )\";\n",
       "                var nbb_formatted_code = \"class NowcastingDataModule(pl.LightningDataModule):\\n    def __init__(\\n        self,\\n        train_df=None,\\n        val_df=None,\\n        batch_size=args[\\\"batch_size\\\"],\\n        num_workers=args[\\\"num_workers\\\"],\\n        test=False,\\n    ):\\n        super().__init__()\\n        self.train_df = train_df\\n        self.val_df = val_df\\n        self.batch_size = batch_size\\n        self.num_workers = num_workers\\n        self.test = test\\n\\n    def setup(self, stage=\\\"train\\\"):\\n        if stage == \\\"train\\\":\\n            train_paths = [\\n                args[\\\"train_data_path\\\"] / fn for fn in self.train_df.filename.values\\n            ]\\n            val_paths = [\\n                args[\\\"train_data_path\\\"] / fn for fn in self.val_df.filename.values\\n            ]\\n            self.train_dataset = NowcastingDataset(train_paths, tfms=args[\\\"trn_tfms\\\"])\\n            self.val_dataset = NowcastingDataset(val_paths, tfms=args[\\\"val_tfms\\\"])\\n        else:\\n            test_paths = list(sorted(args[\\\"test_data_path\\\"].glob(\\\"*.npy\\\")))\\n            self.test_dataset = NowcastingDataset(test_paths, test=True)\\n\\n    def train_dataloader(self):\\n        return DataLoader(\\n            self.train_dataset,\\n            batch_size=self.batch_size,\\n            sampler=RandomSampler(self.train_dataset),\\n            pin_memory=True,\\n            num_workers=self.num_workers,\\n            drop_last=True,\\n        )\\n\\n    def val_dataloader(self):\\n        return DataLoader(\\n            self.val_dataset,\\n            batch_size=2 * self.batch_size,\\n            sampler=SequentialSampler(self.val_dataset),\\n            pin_memory=True,\\n            num_workers=self.num_workers,\\n        )\\n\\n    def test_dataloader(self):\\n        return DataLoader(\\n            self.test_dataset,\\n            batch_size=2 * self.batch_size,\\n            sampler=SequentialSampler(self.test_dataset),\\n            pin_memory=True,\\n            num_workers=self.num_workers,\\n        )\";\n",
       "                var nbb_cells = Jupyter.notebook.get_cells();\n",
       "                for (var i = 0; i < nbb_cells.length; ++i) {\n",
       "                    if (nbb_cells[i].input_prompt_number == nbb_cell_id) {\n",
       "                        if (nbb_cells[i].get_text() == nbb_unformatted_code) {\n",
       "                             nbb_cells[i].set_text(nbb_formatted_code);\n",
       "                        }\n",
       "                        break;\n",
       "                    }\n",
       "                }\n",
       "            }, 500);\n",
       "            "
      ],
      "text/plain": [
       "<IPython.core.display.Javascript object>"
      ]
     },
     "metadata": {},
     "output_type": "display_data"
    }
   ],
   "source": [
    "class NowcastingDataModule(pl.LightningDataModule):\n",
    "    def __init__(\n",
    "        self,\n",
    "        train_df=None,\n",
    "        val_df=None,\n",
    "        batch_size=args[\"batch_size\"],\n",
    "        num_workers=args[\"num_workers\"],\n",
    "        test=False,\n",
    "    ):\n",
    "        super().__init__()\n",
    "        self.train_df = train_df\n",
    "        self.val_df = val_df\n",
    "        self.batch_size = batch_size\n",
    "        self.num_workers = num_workers\n",
    "        self.test = test\n",
    "\n",
    "    def setup(self, stage=\"train\"):\n",
    "        if stage == \"train\":\n",
    "            train_paths = [\n",
    "                args[\"train_data_path\"] / fn for fn in self.train_df.filename.values\n",
    "            ]\n",
    "            val_paths = [\n",
    "                args[\"train_data_path\"] / fn for fn in self.val_df.filename.values\n",
    "            ]\n",
    "            self.train_dataset = NowcastingDataset(train_paths, tfms=args[\"trn_tfms\"])\n",
    "            self.val_dataset = NowcastingDataset(val_paths, tfms=args[\"val_tfms\"])\n",
    "        else:\n",
    "            test_paths = list(sorted(args[\"test_data_path\"].glob(\"*.npy\")))\n",
    "            self.test_dataset = NowcastingDataset(test_paths, test=True)\n",
    "\n",
    "    def train_dataloader(self):\n",
    "        return DataLoader(\n",
    "            self.train_dataset,\n",
    "            batch_size=self.batch_size,\n",
    "            sampler=RandomSampler(self.train_dataset),\n",
    "            pin_memory=True,\n",
    "            num_workers=self.num_workers,\n",
    "            drop_last=True,\n",
    "        )\n",
    "\n",
    "    def val_dataloader(self):\n",
    "        return DataLoader(\n",
    "            self.val_dataset,\n",
    "            batch_size=2 * self.batch_size,\n",
    "            sampler=SequentialSampler(self.val_dataset),\n",
    "            pin_memory=True,\n",
    "            num_workers=self.num_workers,\n",
    "        )\n",
    "\n",
    "    def test_dataloader(self):\n",
    "        return DataLoader(\n",
    "            self.test_dataset,\n",
    "            batch_size=2 * self.batch_size,\n",
    "            sampler=SequentialSampler(self.test_dataset),\n",
    "            pin_memory=True,\n",
    "            num_workers=self.num_workers,\n",
    "        )"
   ]
  },
  {
   "cell_type": "markdown",
   "metadata": {},
   "source": [
    "## Model"
   ]
  },
  {
   "cell_type": "markdown",
   "metadata": {},
   "source": [
    "### Basic"
   ]
  },
  {
   "cell_type": "code",
   "execution_count": 8,
   "metadata": {},
   "outputs": [
    {
     "data": {
      "application/javascript": [
       "\n",
       "            setTimeout(function() {\n",
       "                var nbb_cell_id = 8;\n",
       "                var nbb_unformatted_code = \"class BasicBlock(nn.Module):\\n    def __init__(self, in_ch, out_ch):\\n        assert in_ch == out_ch\\n        super().__init__()\\n        self.net = nn.Sequential(\\n            nn.Conv2d(in_ch, out_ch, kernel_size=3, padding=1, bias=False),\\n            nn.BatchNorm2d(out_ch),\\n            nn.LeakyReLU(inplace=True),\\n            nn.Conv2d(out_ch, out_ch, kernel_size=3, padding=1),\\n        )\\n\\n    def forward(self, x):\\n        return x + self.net(x)\";\n",
       "                var nbb_formatted_code = \"class BasicBlock(nn.Module):\\n    def __init__(self, in_ch, out_ch):\\n        assert in_ch == out_ch\\n        super().__init__()\\n        self.net = nn.Sequential(\\n            nn.Conv2d(in_ch, out_ch, kernel_size=3, padding=1, bias=False),\\n            nn.BatchNorm2d(out_ch),\\n            nn.LeakyReLU(inplace=True),\\n            nn.Conv2d(out_ch, out_ch, kernel_size=3, padding=1),\\n        )\\n\\n    def forward(self, x):\\n        return x + self.net(x)\";\n",
       "                var nbb_cells = Jupyter.notebook.get_cells();\n",
       "                for (var i = 0; i < nbb_cells.length; ++i) {\n",
       "                    if (nbb_cells[i].input_prompt_number == nbb_cell_id) {\n",
       "                        if (nbb_cells[i].get_text() == nbb_unformatted_code) {\n",
       "                             nbb_cells[i].set_text(nbb_formatted_code);\n",
       "                        }\n",
       "                        break;\n",
       "                    }\n",
       "                }\n",
       "            }, 500);\n",
       "            "
      ],
      "text/plain": [
       "<IPython.core.display.Javascript object>"
      ]
     },
     "metadata": {},
     "output_type": "display_data"
    }
   ],
   "source": [
    "class BasicBlock(nn.Module):\n",
    "    def __init__(self, in_ch, out_ch):\n",
    "        assert in_ch == out_ch\n",
    "        super().__init__()\n",
    "        self.net = nn.Sequential(\n",
    "            nn.Conv2d(in_ch, out_ch, kernel_size=3, padding=1, bias=False),\n",
    "            nn.BatchNorm2d(out_ch),\n",
    "            nn.LeakyReLU(inplace=True),\n",
    "            nn.Conv2d(out_ch, out_ch, kernel_size=3, padding=1),\n",
    "        )\n",
    "\n",
    "    def forward(self, x):\n",
    "        return x + self.net(x)"
   ]
  },
  {
   "cell_type": "markdown",
   "metadata": {},
   "source": [
    "### Encoder"
   ]
  },
  {
   "cell_type": "code",
   "execution_count": 9,
   "metadata": {},
   "outputs": [
    {
     "data": {
      "application/javascript": [
       "\n",
       "            setTimeout(function() {\n",
       "                var nbb_cell_id = 9;\n",
       "                var nbb_unformatted_code = \"class DownBlock(nn.Module):\\n    def __init__(self, in_ch, out_ch):\\n        super().__init__()\\n        self.id_conv = nn.Conv2d(in_ch, out_ch, kernel_size=1, stride=2)\\n        self.net = nn.Sequential(\\n            nn.BatchNorm2d(in_ch),\\n            nn.LeakyReLU(inplace=True),\\n            nn.MaxPool2d(2),\\n            nn.BatchNorm2d(in_ch),\\n            nn.LeakyReLU(inplace=True),\\n            nn.Conv2d(in_ch, out_ch, kernel_size=3, padding=1),\\n        )\\n\\n    def forward(self, x):\\n        residual = x\\n        residual = self.id_conv(residual)\\n        x = self.net(x)\\n        return residual + x, x\\n\\n\\nclass Encoder(nn.Module):\\n    def __init__(self, chs=[4, 64, 128, 256, 512, 1024]):\\n        super().__init__()\\n        self.blocks = nn.ModuleList(\\n            [DownBlock(chs[i], chs[i + 1]) for i in range(len(chs) - 1)]\\n        )\\n        self.basic = BasicBlock(chs[-1], chs[-1])\\n\\n    def forward(self, x):\\n        feats = []\\n        for block in self.blocks:\\n            x, feat = block(x)\\n            feats.append(feat)\\n        x = self.basic(x)\\n        feats.append(x)\\n        return feats\";\n",
       "                var nbb_formatted_code = \"class DownBlock(nn.Module):\\n    def __init__(self, in_ch, out_ch):\\n        super().__init__()\\n        self.id_conv = nn.Conv2d(in_ch, out_ch, kernel_size=1, stride=2)\\n        self.net = nn.Sequential(\\n            nn.BatchNorm2d(in_ch),\\n            nn.LeakyReLU(inplace=True),\\n            nn.MaxPool2d(2),\\n            nn.BatchNorm2d(in_ch),\\n            nn.LeakyReLU(inplace=True),\\n            nn.Conv2d(in_ch, out_ch, kernel_size=3, padding=1),\\n        )\\n\\n    def forward(self, x):\\n        residual = x\\n        residual = self.id_conv(residual)\\n        x = self.net(x)\\n        return residual + x, x\\n\\n\\nclass Encoder(nn.Module):\\n    def __init__(self, chs=[4, 64, 128, 256, 512, 1024]):\\n        super().__init__()\\n        self.blocks = nn.ModuleList(\\n            [DownBlock(chs[i], chs[i + 1]) for i in range(len(chs) - 1)]\\n        )\\n        self.basic = BasicBlock(chs[-1], chs[-1])\\n\\n    def forward(self, x):\\n        feats = []\\n        for block in self.blocks:\\n            x, feat = block(x)\\n            feats.append(feat)\\n        x = self.basic(x)\\n        feats.append(x)\\n        return feats\";\n",
       "                var nbb_cells = Jupyter.notebook.get_cells();\n",
       "                for (var i = 0; i < nbb_cells.length; ++i) {\n",
       "                    if (nbb_cells[i].input_prompt_number == nbb_cell_id) {\n",
       "                        if (nbb_cells[i].get_text() == nbb_unformatted_code) {\n",
       "                             nbb_cells[i].set_text(nbb_formatted_code);\n",
       "                        }\n",
       "                        break;\n",
       "                    }\n",
       "                }\n",
       "            }, 500);\n",
       "            "
      ],
      "text/plain": [
       "<IPython.core.display.Javascript object>"
      ]
     },
     "metadata": {},
     "output_type": "display_data"
    }
   ],
   "source": [
    "class DownBlock(nn.Module):\n",
    "    def __init__(self, in_ch, out_ch):\n",
    "        super().__init__()\n",
    "        self.id_conv = nn.Conv2d(in_ch, out_ch, kernel_size=1, stride=2)\n",
    "        self.net = nn.Sequential(\n",
    "            nn.BatchNorm2d(in_ch),\n",
    "            nn.LeakyReLU(inplace=True),\n",
    "            nn.MaxPool2d(2),\n",
    "            nn.BatchNorm2d(in_ch),\n",
    "            nn.LeakyReLU(inplace=True),\n",
    "            nn.Conv2d(in_ch, out_ch, kernel_size=3, padding=1),\n",
    "        )\n",
    "\n",
    "    def forward(self, x):\n",
    "        residual = x\n",
    "        residual = self.id_conv(residual)\n",
    "        x = self.net(x)\n",
    "        return residual + x, x\n",
    "\n",
    "\n",
    "class Encoder(nn.Module):\n",
    "    def __init__(self, chs=[4, 64, 128, 256, 512, 1024]):\n",
    "        super().__init__()\n",
    "        self.blocks = nn.ModuleList(\n",
    "            [DownBlock(chs[i], chs[i + 1]) for i in range(len(chs) - 1)]\n",
    "        )\n",
    "        self.basic = BasicBlock(chs[-1], chs[-1])\n",
    "\n",
    "    def forward(self, x):\n",
    "        feats = []\n",
    "        for block in self.blocks:\n",
    "            x, feat = block(x)\n",
    "            feats.append(feat)\n",
    "        x = self.basic(x)\n",
    "        feats.append(x)\n",
    "        return feats"
   ]
  },
  {
   "cell_type": "markdown",
   "metadata": {},
   "source": [
    "### Decoder"
   ]
  },
  {
   "cell_type": "code",
   "execution_count": 10,
   "metadata": {},
   "outputs": [
    {
     "data": {
      "application/javascript": [
       "\n",
       "            setTimeout(function() {\n",
       "                var nbb_cell_id = 10;\n",
       "                var nbb_unformatted_code = \"class UpBlock(nn.Module):\\n    def __init__(self, in_ch, out_ch, bilinear=False):\\n        super().__init__()\\n        self.id_conv = nn.ConvTranspose2d(\\n            in_ch + in_ch, out_ch, kernel_size=2, stride=2\\n        )\\n        layers = []\\n        if bilinear:\\n            layers.append(nn.Upsample(scale_factor=2, mode=\\\"nearest\\\"))\\n        else:\\n            layers.append(\\n                nn.ConvTranspose2d(in_ch + in_ch, out_ch, kernel_size=2, stride=2)\\n            )\\n        layers.extend(\\n            [\\n                nn.BatchNorm2d(out_ch),\\n                nn.LeakyReLU(inplace=True),\\n                nn.Conv2d(out_ch, out_ch, kernel_size=3, padding=1, bias=False),\\n                nn.BatchNorm2d(out_ch),\\n                nn.LeakyReLU(inplace=True),\\n                nn.Conv2d(out_ch, out_ch, kernel_size=3, padding=1, bias=False),\\n            ]\\n        )\\n        self.block = nn.Sequential(*layers)\\n\\n    def forward(self, x, feat):\\n        x = torch.cat([x, feat], dim=1)\\n        residual = x\\n        residual = self.id_conv(residual)\\n        x = self.block(x)\\n        return x + residual\\n\\n\\nclass Decoder(nn.Module):\\n    def __init__(self, chs=[1024, 512, 256, 128, 64]):\\n        super().__init__()\\n        self.blocks = nn.ModuleList(\\n            [UpBlock(chs[i], chs[i + 1]) for i in range(len(chs) - 1)]\\n        )\\n\\n    def forward(self, x, feats):\\n        for block, feat in zip(self.blocks, feats):\\n            x = block(x, feat)\\n        return x\";\n",
       "                var nbb_formatted_code = \"class UpBlock(nn.Module):\\n    def __init__(self, in_ch, out_ch, bilinear=False):\\n        super().__init__()\\n        self.id_conv = nn.ConvTranspose2d(\\n            in_ch + in_ch, out_ch, kernel_size=2, stride=2\\n        )\\n        layers = []\\n        if bilinear:\\n            layers.append(nn.Upsample(scale_factor=2, mode=\\\"nearest\\\"))\\n        else:\\n            layers.append(\\n                nn.ConvTranspose2d(in_ch + in_ch, out_ch, kernel_size=2, stride=2)\\n            )\\n        layers.extend(\\n            [\\n                nn.BatchNorm2d(out_ch),\\n                nn.LeakyReLU(inplace=True),\\n                nn.Conv2d(out_ch, out_ch, kernel_size=3, padding=1, bias=False),\\n                nn.BatchNorm2d(out_ch),\\n                nn.LeakyReLU(inplace=True),\\n                nn.Conv2d(out_ch, out_ch, kernel_size=3, padding=1, bias=False),\\n            ]\\n        )\\n        self.block = nn.Sequential(*layers)\\n\\n    def forward(self, x, feat):\\n        x = torch.cat([x, feat], dim=1)\\n        residual = x\\n        residual = self.id_conv(residual)\\n        x = self.block(x)\\n        return x + residual\\n\\n\\nclass Decoder(nn.Module):\\n    def __init__(self, chs=[1024, 512, 256, 128, 64]):\\n        super().__init__()\\n        self.blocks = nn.ModuleList(\\n            [UpBlock(chs[i], chs[i + 1]) for i in range(len(chs) - 1)]\\n        )\\n\\n    def forward(self, x, feats):\\n        for block, feat in zip(self.blocks, feats):\\n            x = block(x, feat)\\n        return x\";\n",
       "                var nbb_cells = Jupyter.notebook.get_cells();\n",
       "                for (var i = 0; i < nbb_cells.length; ++i) {\n",
       "                    if (nbb_cells[i].input_prompt_number == nbb_cell_id) {\n",
       "                        if (nbb_cells[i].get_text() == nbb_unformatted_code) {\n",
       "                             nbb_cells[i].set_text(nbb_formatted_code);\n",
       "                        }\n",
       "                        break;\n",
       "                    }\n",
       "                }\n",
       "            }, 500);\n",
       "            "
      ],
      "text/plain": [
       "<IPython.core.display.Javascript object>"
      ]
     },
     "metadata": {},
     "output_type": "display_data"
    }
   ],
   "source": [
    "class UpBlock(nn.Module):\n",
    "    def __init__(self, in_ch, out_ch, bilinear=False):\n",
    "        super().__init__()\n",
    "        self.id_conv = nn.ConvTranspose2d(\n",
    "            in_ch + in_ch, out_ch, kernel_size=2, stride=2\n",
    "        )\n",
    "        layers = []\n",
    "        if bilinear:\n",
    "            layers.append(nn.Upsample(scale_factor=2, mode=\"nearest\"))\n",
    "        else:\n",
    "            layers.append(\n",
    "                nn.ConvTranspose2d(in_ch + in_ch, out_ch, kernel_size=2, stride=2)\n",
    "            )\n",
    "        layers.extend(\n",
    "            [\n",
    "                nn.BatchNorm2d(out_ch),\n",
    "                nn.LeakyReLU(inplace=True),\n",
    "                nn.Conv2d(out_ch, out_ch, kernel_size=3, padding=1, bias=False),\n",
    "                nn.BatchNorm2d(out_ch),\n",
    "                nn.LeakyReLU(inplace=True),\n",
    "                nn.Conv2d(out_ch, out_ch, kernel_size=3, padding=1, bias=False),\n",
    "            ]\n",
    "        )\n",
    "        self.block = nn.Sequential(*layers)\n",
    "\n",
    "    def forward(self, x, feat):\n",
    "        x = torch.cat([x, feat], dim=1)\n",
    "        residual = x\n",
    "        residual = self.id_conv(residual)\n",
    "        x = self.block(x)\n",
    "        return x + residual\n",
    "\n",
    "\n",
    "class Decoder(nn.Module):\n",
    "    def __init__(self, chs=[1024, 512, 256, 128, 64]):\n",
    "        super().__init__()\n",
    "        self.blocks = nn.ModuleList(\n",
    "            [UpBlock(chs[i], chs[i + 1]) for i in range(len(chs) - 1)]\n",
    "        )\n",
    "\n",
    "    def forward(self, x, feats):\n",
    "        for block, feat in zip(self.blocks, feats):\n",
    "            x = block(x, feat)\n",
    "        return x"
   ]
  },
  {
   "cell_type": "markdown",
   "metadata": {},
   "source": [
    "### U-Net"
   ]
  },
  {
   "cell_type": "code",
   "execution_count": 16,
   "metadata": {},
   "outputs": [
    {
     "data": {
      "application/javascript": [
       "\n",
       "            setTimeout(function() {\n",
       "                var nbb_cell_id = 16;\n",
       "                var nbb_unformatted_code = \"class UNet(pl.LightningModule):\\n    def __init__(\\n        self,\\n        lr=args[\\\"lr\\\"],\\n        enc_chs=[4, 64, 128, 256, 512, 1024],\\n        dec_chs=[1024, 512, 256, 128, 64],\\n        num_train_steps=None,\\n    ):\\n        super().__init__()\\n        self.lr = lr\\n        self.num_train_steps = num_train_steps\\n        self.criterion = nn.L1Loss()\\n\\n        self.tail = BasicBlock(4, enc_chs[0])\\n        self.encoder = Encoder(enc_chs)\\n        self.decoder = Decoder(dec_chs)\\n        self.head = nn.Sequential(\\n            nn.ConvTranspose2d(dec_chs[-1], 32, kernel_size=2, stride=2, bias=False),\\n            nn.BatchNorm2d(32),\\n            nn.LeakyReLU(inplace=True),\\n            nn.Conv2d(32, 1, kernel_size=3, padding=1),\\n            #             nn.ReLU(inplace=True),\\n            nn.Sigmoid(),\\n        )\\n\\n    def forward(self, x):\\n        x = self.tail(x)\\n        feats = self.encoder(x)\\n        feats = feats[::-1]\\n        x = self.decoder(feats[0], feats[1:])\\n        x = self.head(x)\\n        return x\\n\\n    def shared_step(self, batch, batch_idx):\\n        x, y = batch\\n        y_hat = self(x)\\n        loss = self.criterion(y_hat, y)\\n        return loss, y, y_hat\\n\\n    def training_step(self, batch, batch_idx):\\n        loss, y, y_hat = self.shared_step(batch, batch_idx)\\n        self.log(\\\"train_loss\\\", loss)\\n        for i, param_group in enumerate(self.optimizer.param_groups):\\n            self.log(f\\\"lr/lr{i}\\\", param_group[\\\"lr\\\"])\\n        return {\\\"loss\\\": loss}\\n\\n    def validation_step(self, batch, batch_idx):\\n        loss, y, y_hat = self.shared_step(batch, batch_idx)\\n        return {\\\"loss\\\": loss, \\\"y\\\": y.detach(), \\\"y_hat\\\": y_hat.detach()}\\n\\n    def validation_epoch_end(self, outputs):\\n        avg_loss = torch.stack([x[\\\"loss\\\"] for x in outputs]).mean()\\n        self.log(\\\"val_loss\\\", avg_loss)\\n\\n        y = torch.cat([x[\\\"y\\\"] for x in outputs])\\n        y_hat = torch.cat([x[\\\"y_hat\\\"] for x in outputs])\\n\\n        crop = T.CenterCrop(120)\\n        y = crop(y)\\n        y_hat = crop(y_hat)\\n\\n        batch_size = len(y)\\n        y = y.detach().cpu().numpy()\\n        y *= args[\\\"rng\\\"]\\n        y = y.reshape(batch_size, -1)\\n        y = y[:, args[\\\"dams\\\"]]\\n        y_hat = y_hat.detach().cpu().numpy()\\n        y_hat *= args[\\\"rng\\\"]\\n        y_hat = y_hat.reshape(batch_size, -1)\\n        y_hat = y_hat[:, args[\\\"dams\\\"]]\\n\\n        y_true = radar2precipitation(y)\\n        y_true = np.where(y_true >= 0.1, 1, 0)\\n        y_true = y_true.ravel()\\n        y_pred = radar2precipitation(y_hat)\\n        y_pred = np.where(y_pred >= 0.1, 1, 0)\\n        y_pred = y_pred.ravel()\\n\\n        y = y.ravel()\\n        y_hat = y_hat.ravel()\\n        mae = metrics.mean_absolute_error(y, y_hat, sample_weight=y_true)\\n        self.log(\\\"mae\\\", mae)\\n\\n        tn, fp, fn, tp = metrics.confusion_matrix(y_true, y_pred).ravel()\\n        csi = tp / (tp + fn + fp)\\n        self.log(\\\"csi\\\", csi)\\n\\n        comp_metric = mae / (csi + 1e-12)\\n        self.log(\\\"comp_metric\\\", comp_metric)\\n\\n        print(\\n            f\\\"Epoch {self.current_epoch} | MAE/CSI: {comp_metric} | MAE: {mae} | CSI: {csi} | Loss: {avg_loss}\\\"\\n        )\\n\\n    def configure_optimizers(self):\\n        # optimizer\\n        if args[\\\"optimizer\\\"] == \\\"adam\\\":\\n            self.optimizer = torch.optim.Adam(self.parameters(), lr=self.lr)\\n        elif args[\\\"optimizer\\\"] == \\\"adamw\\\":\\n            self.optimizer = AdamW(self.parameters(), lr=self.lr)\\n        elif args[\\\"optimizer\\\"] == \\\"radam\\\":\\n            self.optimizer = optim.RAdam(self.parameters(), lr=self.lr)\\n        elif args[\\\"optimizer\\\"] == \\\"ranger\\\":\\n            self.optimizer = optim.RAdam(self.parameters(), lr=self.lr)\\n            self.optimizer = optim.Lookahead(self.optimizer)\\n\\n        # scheduler\\n        if args[\\\"scheduler\\\"] == \\\"cosine\\\":\\n            self.scheduler = get_cosine_schedule_with_warmup(\\n                self.optimizer,\\n                num_warmup_steps=self.num_train_steps * args[\\\"warmup_epochs\\\"],\\n                num_training_steps=self.num_train_steps * args[\\\"max_epochs\\\"],\\n            )\\n            return [self.optimizer], [{\\\"scheduler\\\": self.scheduler, \\\"interval\\\": \\\"step\\\"}]\\n        elif args[\\\"scheduler\\\"] == \\\"step\\\":\\n            self.scheduler = torch.optim.lr_scheduler.StepLR(\\n                self.optimizer, step_size=10, gamma=0.5\\n            )\\n            return [self.optimizer], [\\n                {\\\"scheduler\\\": self.scheduler, \\\"interval\\\": \\\"epoch\\\"}\\n            ]\\n        elif args[\\\"scheduler\\\"] == \\\"plateau\\\":\\n            self.scheduler = torch.optim.lr_scheduler.ReduceLROnPlateau(\\n                self.optimizer, mode=\\\"min\\\", factor=0.1, patience=3, verbose=True\\n            )\\n            return [self.optimizer], [\\n                {\\n                    \\\"scheduler\\\": self.scheduler,\\n                    \\\"interval\\\": \\\"epoch\\\",\\n                    \\\"reduce_on_plateau\\\": True,\\n                    \\\"monitor\\\": \\\"comp_metric\\\",\\n                }\\n            ]\\n        else:\\n            self.scheduler = None\\n            return [self.optimizer]\";\n",
       "                var nbb_formatted_code = \"class UNet(pl.LightningModule):\\n    def __init__(\\n        self,\\n        lr=args[\\\"lr\\\"],\\n        enc_chs=[4, 64, 128, 256, 512, 1024],\\n        dec_chs=[1024, 512, 256, 128, 64],\\n        num_train_steps=None,\\n    ):\\n        super().__init__()\\n        self.lr = lr\\n        self.num_train_steps = num_train_steps\\n        self.criterion = nn.L1Loss()\\n\\n        self.tail = BasicBlock(4, enc_chs[0])\\n        self.encoder = Encoder(enc_chs)\\n        self.decoder = Decoder(dec_chs)\\n        self.head = nn.Sequential(\\n            nn.ConvTranspose2d(dec_chs[-1], 32, kernel_size=2, stride=2, bias=False),\\n            nn.BatchNorm2d(32),\\n            nn.LeakyReLU(inplace=True),\\n            nn.Conv2d(32, 1, kernel_size=3, padding=1),\\n            #             nn.ReLU(inplace=True),\\n            nn.Sigmoid(),\\n        )\\n\\n    def forward(self, x):\\n        x = self.tail(x)\\n        feats = self.encoder(x)\\n        feats = feats[::-1]\\n        x = self.decoder(feats[0], feats[1:])\\n        x = self.head(x)\\n        return x\\n\\n    def shared_step(self, batch, batch_idx):\\n        x, y = batch\\n        y_hat = self(x)\\n        loss = self.criterion(y_hat, y)\\n        return loss, y, y_hat\\n\\n    def training_step(self, batch, batch_idx):\\n        loss, y, y_hat = self.shared_step(batch, batch_idx)\\n        self.log(\\\"train_loss\\\", loss)\\n        for i, param_group in enumerate(self.optimizer.param_groups):\\n            self.log(f\\\"lr/lr{i}\\\", param_group[\\\"lr\\\"])\\n        return {\\\"loss\\\": loss}\\n\\n    def validation_step(self, batch, batch_idx):\\n        loss, y, y_hat = self.shared_step(batch, batch_idx)\\n        return {\\\"loss\\\": loss, \\\"y\\\": y.detach(), \\\"y_hat\\\": y_hat.detach()}\\n\\n    def validation_epoch_end(self, outputs):\\n        avg_loss = torch.stack([x[\\\"loss\\\"] for x in outputs]).mean()\\n        self.log(\\\"val_loss\\\", avg_loss)\\n\\n        y = torch.cat([x[\\\"y\\\"] for x in outputs])\\n        y_hat = torch.cat([x[\\\"y_hat\\\"] for x in outputs])\\n\\n        crop = T.CenterCrop(120)\\n        y = crop(y)\\n        y_hat = crop(y_hat)\\n\\n        batch_size = len(y)\\n        y = y.detach().cpu().numpy()\\n        y *= args[\\\"rng\\\"]\\n        y = y.reshape(batch_size, -1)\\n        y = y[:, args[\\\"dams\\\"]]\\n        y_hat = y_hat.detach().cpu().numpy()\\n        y_hat *= args[\\\"rng\\\"]\\n        y_hat = y_hat.reshape(batch_size, -1)\\n        y_hat = y_hat[:, args[\\\"dams\\\"]]\\n\\n        y_true = radar2precipitation(y)\\n        y_true = np.where(y_true >= 0.1, 1, 0)\\n        y_true = y_true.ravel()\\n        y_pred = radar2precipitation(y_hat)\\n        y_pred = np.where(y_pred >= 0.1, 1, 0)\\n        y_pred = y_pred.ravel()\\n\\n        y = y.ravel()\\n        y_hat = y_hat.ravel()\\n        mae = metrics.mean_absolute_error(y, y_hat, sample_weight=y_true)\\n        self.log(\\\"mae\\\", mae)\\n\\n        tn, fp, fn, tp = metrics.confusion_matrix(y_true, y_pred).ravel()\\n        csi = tp / (tp + fn + fp)\\n        self.log(\\\"csi\\\", csi)\\n\\n        comp_metric = mae / (csi + 1e-12)\\n        self.log(\\\"comp_metric\\\", comp_metric)\\n\\n        print(\\n            f\\\"Epoch {self.current_epoch} | MAE/CSI: {comp_metric} | MAE: {mae} | CSI: {csi} | Loss: {avg_loss}\\\"\\n        )\\n\\n    def configure_optimizers(self):\\n        # optimizer\\n        if args[\\\"optimizer\\\"] == \\\"adam\\\":\\n            self.optimizer = torch.optim.Adam(self.parameters(), lr=self.lr)\\n        elif args[\\\"optimizer\\\"] == \\\"adamw\\\":\\n            self.optimizer = AdamW(self.parameters(), lr=self.lr)\\n        elif args[\\\"optimizer\\\"] == \\\"radam\\\":\\n            self.optimizer = optim.RAdam(self.parameters(), lr=self.lr)\\n        elif args[\\\"optimizer\\\"] == \\\"ranger\\\":\\n            self.optimizer = optim.RAdam(self.parameters(), lr=self.lr)\\n            self.optimizer = optim.Lookahead(self.optimizer)\\n\\n        # scheduler\\n        if args[\\\"scheduler\\\"] == \\\"cosine\\\":\\n            self.scheduler = get_cosine_schedule_with_warmup(\\n                self.optimizer,\\n                num_warmup_steps=self.num_train_steps * args[\\\"warmup_epochs\\\"],\\n                num_training_steps=self.num_train_steps * args[\\\"max_epochs\\\"],\\n            )\\n            return [self.optimizer], [{\\\"scheduler\\\": self.scheduler, \\\"interval\\\": \\\"step\\\"}]\\n        elif args[\\\"scheduler\\\"] == \\\"step\\\":\\n            self.scheduler = torch.optim.lr_scheduler.StepLR(\\n                self.optimizer, step_size=10, gamma=0.5\\n            )\\n            return [self.optimizer], [\\n                {\\\"scheduler\\\": self.scheduler, \\\"interval\\\": \\\"epoch\\\"}\\n            ]\\n        elif args[\\\"scheduler\\\"] == \\\"plateau\\\":\\n            self.scheduler = torch.optim.lr_scheduler.ReduceLROnPlateau(\\n                self.optimizer, mode=\\\"min\\\", factor=0.1, patience=3, verbose=True\\n            )\\n            return [self.optimizer], [\\n                {\\n                    \\\"scheduler\\\": self.scheduler,\\n                    \\\"interval\\\": \\\"epoch\\\",\\n                    \\\"reduce_on_plateau\\\": True,\\n                    \\\"monitor\\\": \\\"comp_metric\\\",\\n                }\\n            ]\\n        else:\\n            self.scheduler = None\\n            return [self.optimizer]\";\n",
       "                var nbb_cells = Jupyter.notebook.get_cells();\n",
       "                for (var i = 0; i < nbb_cells.length; ++i) {\n",
       "                    if (nbb_cells[i].input_prompt_number == nbb_cell_id) {\n",
       "                        if (nbb_cells[i].get_text() == nbb_unformatted_code) {\n",
       "                             nbb_cells[i].set_text(nbb_formatted_code);\n",
       "                        }\n",
       "                        break;\n",
       "                    }\n",
       "                }\n",
       "            }, 500);\n",
       "            "
      ],
      "text/plain": [
       "<IPython.core.display.Javascript object>"
      ]
     },
     "metadata": {},
     "output_type": "display_data"
    }
   ],
   "source": [
    "class UNet(pl.LightningModule):\n",
    "    def __init__(\n",
    "        self,\n",
    "        lr=args[\"lr\"],\n",
    "        enc_chs=[4, 64, 128, 256, 512, 1024],\n",
    "        dec_chs=[1024, 512, 256, 128, 64],\n",
    "        num_train_steps=None,\n",
    "    ):\n",
    "        super().__init__()\n",
    "        self.lr = lr\n",
    "        self.num_train_steps = num_train_steps\n",
    "        self.criterion = nn.L1Loss()\n",
    "\n",
    "        self.tail = BasicBlock(4, enc_chs[0])\n",
    "        self.encoder = Encoder(enc_chs)\n",
    "        self.decoder = Decoder(dec_chs)\n",
    "        self.head = nn.Sequential(\n",
    "            nn.ConvTranspose2d(dec_chs[-1], 32, kernel_size=2, stride=2, bias=False),\n",
    "            nn.BatchNorm2d(32),\n",
    "            nn.LeakyReLU(inplace=True),\n",
    "            nn.Conv2d(32, 1, kernel_size=3, padding=1),\n",
    "            #             nn.ReLU(inplace=True),\n",
    "            nn.Sigmoid(),\n",
    "        )\n",
    "\n",
    "    def forward(self, x):\n",
    "        x = self.tail(x)\n",
    "        feats = self.encoder(x)\n",
    "        feats = feats[::-1]\n",
    "        x = self.decoder(feats[0], feats[1:])\n",
    "        x = self.head(x)\n",
    "        return x\n",
    "\n",
    "    def shared_step(self, batch, batch_idx):\n",
    "        x, y = batch\n",
    "        y_hat = self(x)\n",
    "        loss = self.criterion(y_hat, y)\n",
    "        return loss, y, y_hat\n",
    "\n",
    "    def training_step(self, batch, batch_idx):\n",
    "        loss, y, y_hat = self.shared_step(batch, batch_idx)\n",
    "        self.log(\"train_loss\", loss)\n",
    "        for i, param_group in enumerate(self.optimizer.param_groups):\n",
    "            self.log(f\"lr/lr{i}\", param_group[\"lr\"])\n",
    "        return {\"loss\": loss}\n",
    "\n",
    "    def validation_step(self, batch, batch_idx):\n",
    "        loss, y, y_hat = self.shared_step(batch, batch_idx)\n",
    "        return {\"loss\": loss, \"y\": y.detach(), \"y_hat\": y_hat.detach()}\n",
    "\n",
    "    def validation_epoch_end(self, outputs):\n",
    "        avg_loss = torch.stack([x[\"loss\"] for x in outputs]).mean()\n",
    "        self.log(\"val_loss\", avg_loss)\n",
    "\n",
    "        y = torch.cat([x[\"y\"] for x in outputs])\n",
    "        y_hat = torch.cat([x[\"y_hat\"] for x in outputs])\n",
    "\n",
    "        crop = T.CenterCrop(120)\n",
    "        y = crop(y)\n",
    "        y_hat = crop(y_hat)\n",
    "\n",
    "        batch_size = len(y)\n",
    "        y = y.detach().cpu().numpy()\n",
    "        y *= args[\"rng\"]\n",
    "        y = y.reshape(batch_size, -1)\n",
    "        y = y[:, args[\"dams\"]]\n",
    "        y_hat = y_hat.detach().cpu().numpy()\n",
    "        y_hat *= args[\"rng\"]\n",
    "        y_hat = y_hat.reshape(batch_size, -1)\n",
    "        y_hat = y_hat[:, args[\"dams\"]]\n",
    "\n",
    "        y_true = radar2precipitation(y)\n",
    "        y_true = np.where(y_true >= 0.1, 1, 0)\n",
    "        y_true = y_true.ravel()\n",
    "        y_pred = radar2precipitation(y_hat)\n",
    "        y_pred = np.where(y_pred >= 0.1, 1, 0)\n",
    "        y_pred = y_pred.ravel()\n",
    "\n",
    "        y = y.ravel()\n",
    "        y_hat = y_hat.ravel()\n",
    "        mae = metrics.mean_absolute_error(y, y_hat, sample_weight=y_true)\n",
    "        self.log(\"mae\", mae)\n",
    "\n",
    "        tn, fp, fn, tp = metrics.confusion_matrix(y_true, y_pred).ravel()\n",
    "        csi = tp / (tp + fn + fp)\n",
    "        self.log(\"csi\", csi)\n",
    "\n",
    "        comp_metric = mae / (csi + 1e-12)\n",
    "        self.log(\"comp_metric\", comp_metric)\n",
    "\n",
    "        print(\n",
    "            f\"Epoch {self.current_epoch} | MAE/CSI: {comp_metric} | MAE: {mae} | CSI: {csi} | Loss: {avg_loss}\"\n",
    "        )\n",
    "\n",
    "    def configure_optimizers(self):\n",
    "        # optimizer\n",
    "        if args[\"optimizer\"] == \"adam\":\n",
    "            self.optimizer = torch.optim.Adam(self.parameters(), lr=self.lr)\n",
    "        elif args[\"optimizer\"] == \"adamw\":\n",
    "            self.optimizer = AdamW(self.parameters(), lr=self.lr)\n",
    "        elif args[\"optimizer\"] == \"radam\":\n",
    "            self.optimizer = optim.RAdam(self.parameters(), lr=self.lr)\n",
    "        elif args[\"optimizer\"] == \"ranger\":\n",
    "            self.optimizer = optim.RAdam(self.parameters(), lr=self.lr)\n",
    "            self.optimizer = optim.Lookahead(self.optimizer)\n",
    "\n",
    "        # scheduler\n",
    "        if args[\"scheduler\"] == \"cosine\":\n",
    "            self.scheduler = get_cosine_schedule_with_warmup(\n",
    "                self.optimizer,\n",
    "                num_warmup_steps=self.num_train_steps * args[\"warmup_epochs\"],\n",
    "                num_training_steps=self.num_train_steps * args[\"max_epochs\"],\n",
    "            )\n",
    "            return [self.optimizer], [{\"scheduler\": self.scheduler, \"interval\": \"step\"}]\n",
    "        elif args[\"scheduler\"] == \"step\":\n",
    "            self.scheduler = torch.optim.lr_scheduler.StepLR(\n",
    "                self.optimizer, step_size=10, gamma=0.5\n",
    "            )\n",
    "            return [self.optimizer], [\n",
    "                {\"scheduler\": self.scheduler, \"interval\": \"epoch\"}\n",
    "            ]\n",
    "        elif args[\"scheduler\"] == \"plateau\":\n",
    "            self.scheduler = torch.optim.lr_scheduler.ReduceLROnPlateau(\n",
    "                self.optimizer, mode=\"min\", factor=0.1, patience=3, verbose=True\n",
    "            )\n",
    "            return [self.optimizer], [\n",
    "                {\n",
    "                    \"scheduler\": self.scheduler,\n",
    "                    \"interval\": \"epoch\",\n",
    "                    \"reduce_on_plateau\": True,\n",
    "                    \"monitor\": \"comp_metric\",\n",
    "                }\n",
    "            ]\n",
    "        else:\n",
    "            self.scheduler = None\n",
    "            return [self.optimizer]"
   ]
  },
  {
   "cell_type": "markdown",
   "metadata": {},
   "source": [
    "## Train"
   ]
  },
  {
   "cell_type": "code",
   "execution_count": 12,
   "metadata": {},
   "outputs": [
    {
     "data": {
      "text/plain": [
       "42"
      ]
     },
     "execution_count": 12,
     "metadata": {},
     "output_type": "execute_result"
    },
    {
     "data": {
      "application/javascript": [
       "\n",
       "            setTimeout(function() {\n",
       "                var nbb_cell_id = 12;\n",
       "                var nbb_unformatted_code = \"seed_everything(args[\\\"seed\\\"])\\npl.seed_everything(args[\\\"seed\\\"])\";\n",
       "                var nbb_formatted_code = \"seed_everything(args[\\\"seed\\\"])\\npl.seed_everything(args[\\\"seed\\\"])\";\n",
       "                var nbb_cells = Jupyter.notebook.get_cells();\n",
       "                for (var i = 0; i < nbb_cells.length; ++i) {\n",
       "                    if (nbb_cells[i].input_prompt_number == nbb_cell_id) {\n",
       "                        if (nbb_cells[i].get_text() == nbb_unformatted_code) {\n",
       "                             nbb_cells[i].set_text(nbb_formatted_code);\n",
       "                        }\n",
       "                        break;\n",
       "                    }\n",
       "                }\n",
       "            }, 500);\n",
       "            "
      ],
      "text/plain": [
       "<IPython.core.display.Javascript object>"
      ]
     },
     "metadata": {},
     "output_type": "display_data"
    }
   ],
   "source": [
    "seed_everything(args[\"seed\"])\n",
    "pl.seed_everything(args[\"seed\"])"
   ]
  },
  {
   "cell_type": "code",
   "execution_count": 13,
   "metadata": {},
   "outputs": [
    {
     "data": {
      "application/javascript": [
       "\n",
       "            setTimeout(function() {\n",
       "                var nbb_cell_id = 13;\n",
       "                var nbb_unformatted_code = \"df = pd.read_csv(args[\\\"train_folds_csv\\\"])\";\n",
       "                var nbb_formatted_code = \"df = pd.read_csv(args[\\\"train_folds_csv\\\"])\";\n",
       "                var nbb_cells = Jupyter.notebook.get_cells();\n",
       "                for (var i = 0; i < nbb_cells.length; ++i) {\n",
       "                    if (nbb_cells[i].input_prompt_number == nbb_cell_id) {\n",
       "                        if (nbb_cells[i].get_text() == nbb_unformatted_code) {\n",
       "                             nbb_cells[i].set_text(nbb_formatted_code);\n",
       "                        }\n",
       "                        break;\n",
       "                    }\n",
       "                }\n",
       "            }, 500);\n",
       "            "
      ],
      "text/plain": [
       "<IPython.core.display.Javascript object>"
      ]
     },
     "metadata": {},
     "output_type": "display_data"
    }
   ],
   "source": [
    "df = pd.read_csv(args[\"train_folds_csv\"])"
   ]
  },
  {
   "cell_type": "code",
   "execution_count": 14,
   "metadata": {},
   "outputs": [
    {
     "data": {
      "application/javascript": [
       "\n",
       "            setTimeout(function() {\n",
       "                var nbb_cell_id = 14;\n",
       "                var nbb_unformatted_code = \"def train_fold(df, fold, lr_find=False):\\n    train_df = df[df.fold != fold]\\n    val_df = df[df.fold == fold]\\n\\n    datamodule = NowcastingDataModule(train_df, val_df)\\n    datamodule.setup()\\n\\n    num_train_steps = np.ceil(\\n        len(train_df) // args[\\\"batch_size\\\"] / args[\\\"accumulate_grad_batches\\\"]\\n    )\\n    model = UNet(num_train_steps=num_train_steps)\\n\\n    trainer = pl.Trainer(\\n        gpus=args[\\\"gpus\\\"],\\n        max_epochs=args[\\\"max_epochs\\\"],\\n        precision=args[\\\"precision\\\"],\\n        progress_bar_refresh_rate=50,\\n        benchmark=True,\\n    )\\n\\n    if lr_find:\\n        lr_finder = trainer.tuner.lr_find(model, datamodule=datamodule)\\n        fig = lr_finder.plot(suggest=True)\\n        fig.show()\\n        return\\n\\n    print(f\\\"Training fold {fold}...\\\")\\n    trainer.fit(model, datamodule)\\n\\n    checkpoint = (\\n        args[\\\"model_dir\\\"]\\n        / f\\\"unet_sigmoid_fold{fold}_bs{args['batch_size']}_epochs{args['max_epochs']}_lr{model.lr}_{args['optimizer']}_{args['scheduler']}.ckpt\\\"\\n    )\\n    trainer.save_checkpoint(checkpoint)\\n    print(\\\"Model saved at\\\", checkpoint)\\n\\n    del model, trainer, datamodule\\n    gc.collect()\\n    torch.cuda.empty_cache()\";\n",
       "                var nbb_formatted_code = \"def train_fold(df, fold, lr_find=False):\\n    train_df = df[df.fold != fold]\\n    val_df = df[df.fold == fold]\\n\\n    datamodule = NowcastingDataModule(train_df, val_df)\\n    datamodule.setup()\\n\\n    num_train_steps = np.ceil(\\n        len(train_df) // args[\\\"batch_size\\\"] / args[\\\"accumulate_grad_batches\\\"]\\n    )\\n    model = UNet(num_train_steps=num_train_steps)\\n\\n    trainer = pl.Trainer(\\n        gpus=args[\\\"gpus\\\"],\\n        max_epochs=args[\\\"max_epochs\\\"],\\n        precision=args[\\\"precision\\\"],\\n        progress_bar_refresh_rate=50,\\n        benchmark=True,\\n    )\\n\\n    if lr_find:\\n        lr_finder = trainer.tuner.lr_find(model, datamodule=datamodule)\\n        fig = lr_finder.plot(suggest=True)\\n        fig.show()\\n        return\\n\\n    print(f\\\"Training fold {fold}...\\\")\\n    trainer.fit(model, datamodule)\\n\\n    checkpoint = (\\n        args[\\\"model_dir\\\"]\\n        / f\\\"unet_sigmoid_fold{fold}_bs{args['batch_size']}_epochs{args['max_epochs']}_lr{model.lr}_{args['optimizer']}_{args['scheduler']}.ckpt\\\"\\n    )\\n    trainer.save_checkpoint(checkpoint)\\n    print(\\\"Model saved at\\\", checkpoint)\\n\\n    del model, trainer, datamodule\\n    gc.collect()\\n    torch.cuda.empty_cache()\";\n",
       "                var nbb_cells = Jupyter.notebook.get_cells();\n",
       "                for (var i = 0; i < nbb_cells.length; ++i) {\n",
       "                    if (nbb_cells[i].input_prompt_number == nbb_cell_id) {\n",
       "                        if (nbb_cells[i].get_text() == nbb_unformatted_code) {\n",
       "                             nbb_cells[i].set_text(nbb_formatted_code);\n",
       "                        }\n",
       "                        break;\n",
       "                    }\n",
       "                }\n",
       "            }, 500);\n",
       "            "
      ],
      "text/plain": [
       "<IPython.core.display.Javascript object>"
      ]
     },
     "metadata": {},
     "output_type": "display_data"
    }
   ],
   "source": [
    "def train_fold(df, fold, lr_find=False):\n",
    "    train_df = df[df.fold != fold]\n",
    "    val_df = df[df.fold == fold]\n",
    "\n",
    "    datamodule = NowcastingDataModule(train_df, val_df)\n",
    "    datamodule.setup()\n",
    "\n",
    "    num_train_steps = np.ceil(\n",
    "        len(train_df) // args[\"batch_size\"] / args[\"accumulate_grad_batches\"]\n",
    "    )\n",
    "    model = UNet(num_train_steps=num_train_steps)\n",
    "\n",
    "    trainer = pl.Trainer(\n",
    "        gpus=args[\"gpus\"],\n",
    "        max_epochs=args[\"max_epochs\"],\n",
    "        precision=args[\"precision\"],\n",
    "        progress_bar_refresh_rate=50,\n",
    "        benchmark=True,\n",
    "    )\n",
    "\n",
    "    if lr_find:\n",
    "        lr_finder = trainer.tuner.lr_find(model, datamodule=datamodule)\n",
    "        fig = lr_finder.plot(suggest=True)\n",
    "        fig.show()\n",
    "        return\n",
    "\n",
    "    print(f\"Training fold {fold}...\")\n",
    "    trainer.fit(model, datamodule)\n",
    "\n",
    "    checkpoint = (\n",
    "        args[\"model_dir\"]\n",
    "        / f\"unet_sigmoid_fold{fold}_bs{args['batch_size']}_epochs{args['max_epochs']}_lr{model.lr}_{args['optimizer']}_{args['scheduler']}.ckpt\"\n",
    "    )\n",
    "    trainer.save_checkpoint(checkpoint)\n",
    "    print(\"Model saved at\", checkpoint)\n",
    "\n",
    "    del model, trainer, datamodule\n",
    "    gc.collect()\n",
    "    torch.cuda.empty_cache()"
   ]
  },
  {
   "cell_type": "code",
   "execution_count": 16,
   "metadata": {
    "scrolled": true
   },
   "outputs": [
    {
     "name": "stderr",
     "output_type": "stream",
     "text": [
      "GPU available: True, used: True\n",
      "TPU available: False, using: 0 TPU cores\n",
      "LOCAL_RANK: 0 - CUDA_VISIBLE_DEVICES: [0]\n",
      "Using native 16bit precision.\n"
     ]
    },
    {
     "name": "stdout",
     "output_type": "stream",
     "text": [
      "Training fold 0...\n"
     ]
    },
    {
     "name": "stderr",
     "output_type": "stream",
     "text": [
      "\n",
      "  | Name      | Type       | Params\n",
      "-----------------------------------------\n",
      "0 | criterion | L1Loss     | 0     \n",
      "1 | tail      | BasicBlock | 300   \n",
      "2 | encoder   | Encoder    | 25 M  \n",
      "3 | decoder   | Decoder    | 17 M  \n",
      "4 | head      | Sequential | 8 K   \n"
     ]
    },
    {
     "data": {
      "application/vnd.jupyter.widget-view+json": {
       "model_id": "e340beec3a3749aaaf7fcef74b3c6726",
       "version_major": 2,
       "version_minor": 0
      },
      "text/plain": [
       "HBox(children=(HTML(value='Validation sanity check'), FloatProgress(value=1.0, bar_style='info', layout=Layout…"
      ]
     },
     "metadata": {},
     "output_type": "display_data"
    },
    {
     "name": "stdout",
     "output_type": "stream",
     "text": [
      "Epoch 0 | MAE/CSI: 110793664383561.66 | MAE: 110.79366438356165 | CSI: 0.0 | Loss: 0.05267500877380371\n"
     ]
    },
    {
     "data": {
      "application/vnd.jupyter.widget-view+json": {
       "model_id": "1f8163856b804c03a1356bc70986b5b1",
       "version_major": 2,
       "version_minor": 0
      },
      "text/plain": [
       "HBox(children=(HTML(value='Training'), FloatProgress(value=1.0, bar_style='info', layout=Layout(flex='2'), max…"
      ]
     },
     "metadata": {},
     "output_type": "display_data"
    },
    {
     "data": {
      "application/vnd.jupyter.widget-view+json": {
       "model_id": "ab4a02f18c184218ab3ae7a8e2ee813c",
       "version_major": 2,
       "version_minor": 0
      },
      "text/plain": [
       "HBox(children=(HTML(value='Validating'), FloatProgress(value=1.0, bar_style='info', layout=Layout(flex='2'), m…"
      ]
     },
     "metadata": {},
     "output_type": "display_data"
    },
    {
     "name": "stdout",
     "output_type": "stream",
     "text": [
      "Epoch 0 | MAE/CSI: 33.186943419342214 | MAE: 25.55001192118522 | CSI: 0.7698814439856134 | Loss: 0.017848094925284386\n"
     ]
    },
    {
     "data": {
      "application/vnd.jupyter.widget-view+json": {
       "model_id": "67061e885fb545a3bed1513ea4741a74",
       "version_major": 2,
       "version_minor": 0
      },
      "text/plain": [
       "HBox(children=(HTML(value='Validating'), FloatProgress(value=1.0, bar_style='info', layout=Layout(flex='2'), m…"
      ]
     },
     "metadata": {},
     "output_type": "display_data"
    },
    {
     "name": "stdout",
     "output_type": "stream",
     "text": [
      "Epoch 1 | MAE/CSI: 25.185173461181805 | MAE: 19.69605205396773 | CSI: 0.7820494897245911 | Loss: 0.01364449504762888\n"
     ]
    },
    {
     "data": {
      "application/vnd.jupyter.widget-view+json": {
       "model_id": "7c1220abc1e14797a75ed1160d130621",
       "version_major": 2,
       "version_minor": 0
      },
      "text/plain": [
       "HBox(children=(HTML(value='Validating'), FloatProgress(value=1.0, bar_style='info', layout=Layout(flex='2'), m…"
      ]
     },
     "metadata": {},
     "output_type": "display_data"
    },
    {
     "name": "stdout",
     "output_type": "stream",
     "text": [
      "Epoch 2 | MAE/CSI: 25.54220371042292 | MAE: 20.054110962616964 | CSI: 0.7851362862010222 | Loss: 0.013360547833144665\n"
     ]
    },
    {
     "data": {
      "application/vnd.jupyter.widget-view+json": {
       "model_id": "eda949cdabdf43ff8c57f0c7a987893e",
       "version_major": 2,
       "version_minor": 0
      },
      "text/plain": [
       "HBox(children=(HTML(value='Validating'), FloatProgress(value=1.0, bar_style='info', layout=Layout(flex='2'), m…"
      ]
     },
     "metadata": {},
     "output_type": "display_data"
    },
    {
     "name": "stdout",
     "output_type": "stream",
     "text": [
      "Epoch 3 | MAE/CSI: 27.026754305478295 | MAE: 21.24946493606421 | CSI: 0.7862381363244176 | Loss: 0.013475954532623291\n"
     ]
    },
    {
     "data": {
      "application/vnd.jupyter.widget-view+json": {
       "model_id": "0383e854b13e4225b7ec1e8fdc0c59b7",
       "version_major": 2,
       "version_minor": 0
      },
      "text/plain": [
       "HBox(children=(HTML(value='Validating'), FloatProgress(value=1.0, bar_style='info', layout=Layout(flex='2'), m…"
      ]
     },
     "metadata": {},
     "output_type": "display_data"
    },
    {
     "name": "stdout",
     "output_type": "stream",
     "text": [
      "Epoch 4 | MAE/CSI: 21.443058880888415 | MAE: 17.222089883581003 | CSI: 0.8031545302946081 | Loss: 0.012746231630444527\n"
     ]
    },
    {
     "data": {
      "application/vnd.jupyter.widget-view+json": {
       "model_id": "cc3d623fe7bd44bf910368fae52c2b4f",
       "version_major": 2,
       "version_minor": 0
      },
      "text/plain": [
       "HBox(children=(HTML(value='Validating'), FloatProgress(value=1.0, bar_style='info', layout=Layout(flex='2'), m…"
      ]
     },
     "metadata": {},
     "output_type": "display_data"
    },
    {
     "name": "stdout",
     "output_type": "stream",
     "text": [
      "Epoch 5 | MAE/CSI: 21.810521936074984 | MAE: 17.524096834325515 | CSI: 0.8034698521046644 | Loss: 0.012218066491186619\n"
     ]
    },
    {
     "data": {
      "application/vnd.jupyter.widget-view+json": {
       "model_id": "c94d6cf2a99448b6b811fddcf8d2565a",
       "version_major": 2,
       "version_minor": 0
      },
      "text/plain": [
       "HBox(children=(HTML(value='Validating'), FloatProgress(value=1.0, bar_style='info', layout=Layout(flex='2'), m…"
      ]
     },
     "metadata": {},
     "output_type": "display_data"
    },
    {
     "name": "stdout",
     "output_type": "stream",
     "text": [
      "Epoch 6 | MAE/CSI: 19.459475168673396 | MAE: 15.815077867269974 | CSI: 0.8127186231985448 | Loss: 0.011925801634788513\n"
     ]
    },
    {
     "data": {
      "application/vnd.jupyter.widget-view+json": {
       "model_id": "a91b1778b4374d0c94ddfd7c8be2056b",
       "version_major": 2,
       "version_minor": 0
      },
      "text/plain": [
       "HBox(children=(HTML(value='Validating'), FloatProgress(value=1.0, bar_style='info', layout=Layout(flex='2'), m…"
      ]
     },
     "metadata": {},
     "output_type": "display_data"
    },
    {
     "name": "stdout",
     "output_type": "stream",
     "text": [
      "Epoch 7 | MAE/CSI: 21.077778418376518 | MAE: 17.037970858700216 | CSI: 0.8083380762663631 | Loss: 0.011935080401599407\n"
     ]
    },
    {
     "data": {
      "application/vnd.jupyter.widget-view+json": {
       "model_id": "b2aab07fe413456eb4bd186360a0b2f3",
       "version_major": 2,
       "version_minor": 0
      },
      "text/plain": [
       "HBox(children=(HTML(value='Validating'), FloatProgress(value=1.0, bar_style='info', layout=Layout(flex='2'), m…"
      ]
     },
     "metadata": {},
     "output_type": "display_data"
    },
    {
     "name": "stdout",
     "output_type": "stream",
     "text": [
      "Epoch 8 | MAE/CSI: 20.73141515057428 | MAE: 16.773482073236565 | CSI: 0.8090852434041964 | Loss: 0.012599549256265163\n"
     ]
    },
    {
     "data": {
      "application/vnd.jupyter.widget-view+json": {
       "model_id": "02e2db2eda824017a74f5cb273a98dc0",
       "version_major": 2,
       "version_minor": 0
      },
      "text/plain": [
       "HBox(children=(HTML(value='Validating'), FloatProgress(value=1.0, bar_style='info', layout=Layout(flex='2'), m…"
      ]
     },
     "metadata": {},
     "output_type": "display_data"
    },
    {
     "name": "stdout",
     "output_type": "stream",
     "text": [
      "Epoch 9 | MAE/CSI: 20.89835070821418 | MAE: 17.01616066608685 | CSI: 0.8142346208869814 | Loss: 0.011802570894360542\n"
     ]
    },
    {
     "data": {
      "application/vnd.jupyter.widget-view+json": {
       "model_id": "4a39513ea57849868f4459c2df69aa53",
       "version_major": 2,
       "version_minor": 0
      },
      "text/plain": [
       "HBox(children=(HTML(value='Validating'), FloatProgress(value=1.0, bar_style='info', layout=Layout(flex='2'), m…"
      ]
     },
     "metadata": {},
     "output_type": "display_data"
    },
    {
     "name": "stdout",
     "output_type": "stream",
     "text": [
      "Epoch 10 | MAE/CSI: 20.213408750832656 | MAE: 16.462153962294565 | CSI: 0.8144175069727526 | Loss: 0.011618967168033123\n"
     ]
    },
    {
     "data": {
      "application/vnd.jupyter.widget-view+json": {
       "model_id": "34c0998b4b6c4b8dbfda754b1911cd02",
       "version_major": 2,
       "version_minor": 0
      },
      "text/plain": [
       "HBox(children=(HTML(value='Validating'), FloatProgress(value=1.0, bar_style='info', layout=Layout(flex='2'), m…"
      ]
     },
     "metadata": {},
     "output_type": "display_data"
    },
    {
     "name": "stdout",
     "output_type": "stream",
     "text": [
      "Epoch 11 | MAE/CSI: 24.208863723571998 | MAE: 19.503725665599507 | CSI: 0.805643994211288 | Loss: 0.012568147853016853\n"
     ]
    },
    {
     "data": {
      "application/vnd.jupyter.widget-view+json": {
       "model_id": "54b41b9e8d894bd4bdd4c9aef70f31e6",
       "version_major": 2,
       "version_minor": 0
      },
      "text/plain": [
       "HBox(children=(HTML(value='Validating'), FloatProgress(value=1.0, bar_style='info', layout=Layout(flex='2'), m…"
      ]
     },
     "metadata": {},
     "output_type": "display_data"
    },
    {
     "name": "stdout",
     "output_type": "stream",
     "text": [
      "Epoch 12 | MAE/CSI: 20.601691043830602 | MAE: 16.781879929672506 | CSI: 0.81458749643163 | Loss: 0.01178012229502201\n"
     ]
    },
    {
     "data": {
      "application/vnd.jupyter.widget-view+json": {
       "model_id": "8341b57fc5294c0aa6531493b313718e",
       "version_major": 2,
       "version_minor": 0
      },
      "text/plain": [
       "HBox(children=(HTML(value='Validating'), FloatProgress(value=1.0, bar_style='info', layout=Layout(flex='2'), m…"
      ]
     },
     "metadata": {},
     "output_type": "display_data"
    },
    {
     "name": "stdout",
     "output_type": "stream",
     "text": [
      "Epoch 13 | MAE/CSI: 19.976155204575853 | MAE: 16.334156712039647 | CSI: 0.8176827094474153 | Loss: 0.011617383919656277\n"
     ]
    },
    {
     "data": {
      "application/vnd.jupyter.widget-view+json": {
       "model_id": "ee62e7c1f038428da229a1ca55d9ee54",
       "version_major": 2,
       "version_minor": 0
      },
      "text/plain": [
       "HBox(children=(HTML(value='Validating'), FloatProgress(value=1.0, bar_style='info', layout=Layout(flex='2'), m…"
      ]
     },
     "metadata": {},
     "output_type": "display_data"
    },
    {
     "name": "stdout",
     "output_type": "stream",
     "text": [
      "Epoch 14 | MAE/CSI: 18.39588910524068 | MAE: 15.092483317838292 | CSI: 0.8204269568857262 | Loss: 0.01175840012729168\n"
     ]
    },
    {
     "data": {
      "application/vnd.jupyter.widget-view+json": {
       "model_id": "13c26c69dd2547c2954e49585ddc6682",
       "version_major": 2,
       "version_minor": 0
      },
      "text/plain": [
       "HBox(children=(HTML(value='Validating'), FloatProgress(value=1.0, bar_style='info', layout=Layout(flex='2'), m…"
      ]
     },
     "metadata": {},
     "output_type": "display_data"
    },
    {
     "name": "stdout",
     "output_type": "stream",
     "text": [
      "Epoch 15 | MAE/CSI: 19.09062582033396 | MAE: 15.576906377459213 | CSI: 0.8159452981813056 | Loss: 0.011697824113070965\n"
     ]
    },
    {
     "data": {
      "application/vnd.jupyter.widget-view+json": {
       "model_id": "0791fdbd0ae64936839efb7189a1e5ee",
       "version_major": 2,
       "version_minor": 0
      },
      "text/plain": [
       "HBox(children=(HTML(value='Validating'), FloatProgress(value=1.0, bar_style='info', layout=Layout(flex='2'), m…"
      ]
     },
     "metadata": {},
     "output_type": "display_data"
    },
    {
     "name": "stdout",
     "output_type": "stream",
     "text": [
      "Epoch 16 | MAE/CSI: 18.493273251072264 | MAE: 15.189089688174784 | CSI: 0.8213305174234424 | Loss: 0.011621751822531223\n"
     ]
    },
    {
     "data": {
      "application/vnd.jupyter.widget-view+json": {
       "model_id": "40dedef37d074264bec6de3792f9b399",
       "version_major": 2,
       "version_minor": 0
      },
      "text/plain": [
       "HBox(children=(HTML(value='Validating'), FloatProgress(value=1.0, bar_style='info', layout=Layout(flex='2'), m…"
      ]
     },
     "metadata": {},
     "output_type": "display_data"
    },
    {
     "name": "stdout",
     "output_type": "stream",
     "text": [
      "Epoch 17 | MAE/CSI: 18.927566425968354 | MAE: 15.492399944517754 | CSI: 0.818509870515814 | Loss: 0.011545676738023758\n"
     ]
    },
    {
     "data": {
      "application/vnd.jupyter.widget-view+json": {
       "model_id": "7a1dfe2df2e540f8a456b693d6224aa8",
       "version_major": 2,
       "version_minor": 0
      },
      "text/plain": [
       "HBox(children=(HTML(value='Validating'), FloatProgress(value=1.0, bar_style='info', layout=Layout(flex='2'), m…"
      ]
     },
     "metadata": {},
     "output_type": "display_data"
    },
    {
     "name": "stdout",
     "output_type": "stream",
     "text": [
      "Epoch 18 | MAE/CSI: 19.334057504131742 | MAE: 15.774070578664828 | CSI: 0.8158696422245838 | Loss: 0.011600039899349213\n"
     ]
    },
    {
     "data": {
      "application/vnd.jupyter.widget-view+json": {
       "model_id": "09324ff636fd4c909de601b3dab5fc64",
       "version_major": 2,
       "version_minor": 0
      },
      "text/plain": [
       "HBox(children=(HTML(value='Validating'), FloatProgress(value=1.0, bar_style='info', layout=Layout(flex='2'), m…"
      ]
     },
     "metadata": {},
     "output_type": "display_data"
    },
    {
     "name": "stdout",
     "output_type": "stream",
     "text": [
      "Epoch 19 | MAE/CSI: 19.14047650865582 | MAE: 15.601810012202344 | CSI: 0.8151212957069099 | Loss: 0.011548931710422039\n"
     ]
    },
    {
     "data": {
      "application/vnd.jupyter.widget-view+json": {
       "model_id": "2ebe0a8060ed4d01ba46d6a03fcefea2",
       "version_major": 2,
       "version_minor": 0
      },
      "text/plain": [
       "HBox(children=(HTML(value='Validating'), FloatProgress(value=1.0, bar_style='info', layout=Layout(flex='2'), m…"
      ]
     },
     "metadata": {},
     "output_type": "display_data"
    },
    {
     "name": "stdout",
     "output_type": "stream",
     "text": [
      "Epoch 20 | MAE/CSI: 20.027654187947494 | MAE: 16.23505613828575 | CSI: 0.8106319385140905 | Loss: 0.011748154647648335\n"
     ]
    },
    {
     "data": {
      "application/vnd.jupyter.widget-view+json": {
       "model_id": "0b84e7d7820f43e2ba540e52081e90c6",
       "version_major": 2,
       "version_minor": 0
      },
      "text/plain": [
       "HBox(children=(HTML(value='Validating'), FloatProgress(value=1.0, bar_style='info', layout=Layout(flex='2'), m…"
      ]
     },
     "metadata": {},
     "output_type": "display_data"
    },
    {
     "name": "stdout",
     "output_type": "stream",
     "text": [
      "Epoch 21 | MAE/CSI: 19.016997137613103 | MAE: 15.494138983728332 | CSI: 0.814752133135886 | Loss: 0.011649723164737225\n"
     ]
    },
    {
     "data": {
      "application/vnd.jupyter.widget-view+json": {
       "model_id": "ca046f3f353f49cf944135f32bc6cbac",
       "version_major": 2,
       "version_minor": 0
      },
      "text/plain": [
       "HBox(children=(HTML(value='Validating'), FloatProgress(value=1.0, bar_style='info', layout=Layout(flex='2'), m…"
      ]
     },
     "metadata": {},
     "output_type": "display_data"
    },
    {
     "name": "stdout",
     "output_type": "stream",
     "text": [
      "Epoch 22 | MAE/CSI: 19.549548452653777 | MAE: 15.862644750554823 | CSI: 0.8114072194021432 | Loss: 0.01184056606143713\n"
     ]
    },
    {
     "data": {
      "application/vnd.jupyter.widget-view+json": {
       "model_id": "e0407bfcb9514a509f0f55da0e4f3a56",
       "version_major": 2,
       "version_minor": 0
      },
      "text/plain": [
       "HBox(children=(HTML(value='Validating'), FloatProgress(value=1.0, bar_style='info', layout=Layout(flex='2'), m…"
      ]
     },
     "metadata": {},
     "output_type": "display_data"
    },
    {
     "name": "stdout",
     "output_type": "stream",
     "text": [
      "Epoch 23 | MAE/CSI: 19.62327869559657 | MAE: 15.935058043144943 | CSI: 0.8120487045164944 | Loss: 0.011686836369335651\n"
     ]
    },
    {
     "data": {
      "application/vnd.jupyter.widget-view+json": {
       "model_id": "50c6661120e34e21a5f563af56eaddb5",
       "version_major": 2,
       "version_minor": 0
      },
      "text/plain": [
       "HBox(children=(HTML(value='Validating'), FloatProgress(value=1.0, bar_style='info', layout=Layout(flex='2'), m…"
      ]
     },
     "metadata": {},
     "output_type": "display_data"
    },
    {
     "name": "stdout",
     "output_type": "stream",
     "text": [
      "Epoch 24 | MAE/CSI: 19.20136738616643 | MAE: 15.653670722243882 | CSI: 0.8152372905224616 | Loss: 0.011736424639821053\n"
     ]
    },
    {
     "data": {
      "application/vnd.jupyter.widget-view+json": {
       "model_id": "bde6ebc6396143b39f6e898fb8c7abc7",
       "version_major": 2,
       "version_minor": 0
      },
      "text/plain": [
       "HBox(children=(HTML(value='Validating'), FloatProgress(value=1.0, bar_style='info', layout=Layout(flex='2'), m…"
      ]
     },
     "metadata": {},
     "output_type": "display_data"
    },
    {
     "name": "stdout",
     "output_type": "stream",
     "text": [
      "Epoch 25 | MAE/CSI: 19.269590556557628 | MAE: 15.65051845909309 | CSI: 0.8121873899260303 | Loss: 0.011749816127121449\n"
     ]
    },
    {
     "data": {
      "application/vnd.jupyter.widget-view+json": {
       "model_id": "a72177c3bb1840b8a725a8bc53f59335",
       "version_major": 2,
       "version_minor": 0
      },
      "text/plain": [
       "HBox(children=(HTML(value='Validating'), FloatProgress(value=1.0, bar_style='info', layout=Layout(flex='2'), m…"
      ]
     },
     "metadata": {},
     "output_type": "display_data"
    },
    {
     "name": "stdout",
     "output_type": "stream",
     "text": [
      "Epoch 26 | MAE/CSI: 19.560944262355147 | MAE: 15.85134794678203 | CSI: 0.8103569916748977 | Loss: 0.011810777708888054\n"
     ]
    },
    {
     "data": {
      "application/vnd.jupyter.widget-view+json": {
       "model_id": "58d578baa0094079bb079ea6d745f2fb",
       "version_major": 2,
       "version_minor": 0
      },
      "text/plain": [
       "HBox(children=(HTML(value='Validating'), FloatProgress(value=1.0, bar_style='info', layout=Layout(flex='2'), m…"
      ]
     },
     "metadata": {},
     "output_type": "display_data"
    },
    {
     "name": "stdout",
     "output_type": "stream",
     "text": [
      "Epoch 27 | MAE/CSI: 19.463234309122434 | MAE: 15.779038946990088 | CSI: 0.8107100133699247 | Loss: 0.011808572337031364\n"
     ]
    },
    {
     "data": {
      "application/vnd.jupyter.widget-view+json": {
       "model_id": "0bb48e14af5743798aca97d9b6e1fb6a",
       "version_major": 2,
       "version_minor": 0
      },
      "text/plain": [
       "HBox(children=(HTML(value='Validating'), FloatProgress(value=1.0, bar_style='info', layout=Layout(flex='2'), m…"
      ]
     },
     "metadata": {},
     "output_type": "display_data"
    },
    {
     "name": "stdout",
     "output_type": "stream",
     "text": [
      "Epoch 28 | MAE/CSI: 19.463016053011348 | MAE: 15.769864921350168 | CSI: 0.8102477477477478 | Loss: 0.01181867253035307\n"
     ]
    },
    {
     "data": {
      "application/vnd.jupyter.widget-view+json": {
       "model_id": "652bf4b1300d4c3d8c70706ad9a5fffd",
       "version_major": 2,
       "version_minor": 0
      },
      "text/plain": [
       "HBox(children=(HTML(value='Validating'), FloatProgress(value=1.0, bar_style='info', layout=Layout(flex='2'), m…"
      ]
     },
     "metadata": {},
     "output_type": "display_data"
    },
    {
     "name": "stdout",
     "output_type": "stream",
     "text": [
      "Epoch 29 | MAE/CSI: 19.419930651638133 | MAE: 15.728437331303983 | CSI: 0.8099121265377855 | Loss: 0.011822505854070187\n",
      "\n",
      "Model saved at ../models/unet_fold0_bs256_epochs30_lr0.001_adamw_cosine.ckpt\n"
     ]
    },
    {
     "name": "stderr",
     "output_type": "stream",
     "text": [
      "GPU available: True, used: True\n",
      "TPU available: False, using: 0 TPU cores\n",
      "LOCAL_RANK: 0 - CUDA_VISIBLE_DEVICES: [0]\n",
      "Using native 16bit precision.\n",
      "\n",
      "  | Name      | Type       | Params\n",
      "-----------------------------------------\n",
      "0 | criterion | L1Loss     | 0     \n",
      "1 | tail      | BasicBlock | 300   \n",
      "2 | encoder   | Encoder    | 25 M  \n",
      "3 | decoder   | Decoder    | 17 M  \n",
      "4 | head      | Sequential | 8 K   \n"
     ]
    },
    {
     "name": "stdout",
     "output_type": "stream",
     "text": [
      "Training fold 1...\n"
     ]
    },
    {
     "data": {
      "application/vnd.jupyter.widget-view+json": {
       "model_id": "d1ff6d803a8541fda99aeb6d32bd7bc2",
       "version_major": 2,
       "version_minor": 0
      },
      "text/plain": [
       "HBox(children=(HTML(value='Validation sanity check'), FloatProgress(value=1.0, bar_style='info', layout=Layout…"
      ]
     },
     "metadata": {},
     "output_type": "display_data"
    },
    {
     "name": "stdout",
     "output_type": "stream",
     "text": [
      "Epoch 0 | MAE/CSI: 109838714384134.84 | MAE: 109.83871438413485 | CSI: 0.0 | Loss: 0.050759207457304\n"
     ]
    },
    {
     "data": {
      "application/vnd.jupyter.widget-view+json": {
       "model_id": "3fd59c9f003548f58f39e4e6373646e4",
       "version_major": 2,
       "version_minor": 0
      },
      "text/plain": [
       "HBox(children=(HTML(value='Training'), FloatProgress(value=1.0, bar_style='info', layout=Layout(flex='2'), max…"
      ]
     },
     "metadata": {},
     "output_type": "display_data"
    },
    {
     "data": {
      "application/vnd.jupyter.widget-view+json": {
       "model_id": "46cc5e9d0f9f49558c36f81a6d0688e1",
       "version_major": 2,
       "version_minor": 0
      },
      "text/plain": [
       "HBox(children=(HTML(value='Validating'), FloatProgress(value=1.0, bar_style='info', layout=Layout(flex='2'), m…"
      ]
     },
     "metadata": {},
     "output_type": "display_data"
    },
    {
     "name": "stdout",
     "output_type": "stream",
     "text": [
      "Epoch 0 | MAE/CSI: 30.438610328033292 | MAE: 22.877340869081632 | CSI: 0.7515895312731037 | Loss: 0.01447451300919056\n"
     ]
    },
    {
     "data": {
      "application/vnd.jupyter.widget-view+json": {
       "model_id": "a902d952874a4a78a3cd2bd7283a1d1e",
       "version_major": 2,
       "version_minor": 0
      },
      "text/plain": [
       "HBox(children=(HTML(value='Validating'), FloatProgress(value=1.0, bar_style='info', layout=Layout(flex='2'), m…"
      ]
     },
     "metadata": {},
     "output_type": "display_data"
    },
    {
     "name": "stdout",
     "output_type": "stream",
     "text": [
      "Epoch 1 | MAE/CSI: 27.81257920736288 | MAE: 21.42626403857756 | CSI: 0.7703803332586117 | Loss: 0.013589969836175442\n"
     ]
    },
    {
     "data": {
      "application/vnd.jupyter.widget-view+json": {
       "model_id": "8a4c7fec056a43a3bb14b68e607b9861",
       "version_major": 2,
       "version_minor": 0
      },
      "text/plain": [
       "HBox(children=(HTML(value='Validating'), FloatProgress(value=1.0, bar_style='info', layout=Layout(flex='2'), m…"
      ]
     },
     "metadata": {},
     "output_type": "display_data"
    },
    {
     "name": "stdout",
     "output_type": "stream",
     "text": [
      "Epoch 2 | MAE/CSI: 23.791732404542913 | MAE: 18.607595477371124 | CSI: 0.7821034282393957 | Loss: 0.013189456425607204\n"
     ]
    },
    {
     "data": {
      "application/vnd.jupyter.widget-view+json": {
       "model_id": "7cef39366f3d4379baddfb28bd5cf6f1",
       "version_major": 2,
       "version_minor": 0
      },
      "text/plain": [
       "HBox(children=(HTML(value='Validating'), FloatProgress(value=1.0, bar_style='info', layout=Layout(flex='2'), m…"
      ]
     },
     "metadata": {},
     "output_type": "display_data"
    },
    {
     "name": "stdout",
     "output_type": "stream",
     "text": [
      "Epoch 3 | MAE/CSI: 24.67189650396396 | MAE: 19.398163979907117 | CSI: 0.7862453531598513 | Loss: 0.01269851066172123\n"
     ]
    },
    {
     "data": {
      "application/vnd.jupyter.widget-view+json": {
       "model_id": "69ff40148b304ff3901476ec9e9e839e",
       "version_major": 2,
       "version_minor": 0
      },
      "text/plain": [
       "HBox(children=(HTML(value='Validating'), FloatProgress(value=1.0, bar_style='info', layout=Layout(flex='2'), m…"
      ]
     },
     "metadata": {},
     "output_type": "display_data"
    },
    {
     "name": "stdout",
     "output_type": "stream",
     "text": [
      "Epoch 4 | MAE/CSI: 22.37970634801444 | MAE: 17.825067209957396 | CSI: 0.7964835164835165 | Loss: 0.01245537493377924\n"
     ]
    },
    {
     "data": {
      "application/vnd.jupyter.widget-view+json": {
       "model_id": "561ef88774334a06b954a0239811fcec",
       "version_major": 2,
       "version_minor": 0
      },
      "text/plain": [
       "HBox(children=(HTML(value='Validating'), FloatProgress(value=1.0, bar_style='info', layout=Layout(flex='2'), m…"
      ]
     },
     "metadata": {},
     "output_type": "display_data"
    },
    {
     "name": "stdout",
     "output_type": "stream",
     "text": [
      "Epoch 5 | MAE/CSI: 21.38870789855043 | MAE: 17.124827474286082 | CSI: 0.8006480595036454 | Loss: 0.012010117061436176\n"
     ]
    },
    {
     "data": {
      "application/vnd.jupyter.widget-view+json": {
       "model_id": "20583f22ca784c0aafc31ab4d9ea1d2f",
       "version_major": 2,
       "version_minor": 0
      },
      "text/plain": [
       "HBox(children=(HTML(value='Validating'), FloatProgress(value=1.0, bar_style='info', layout=Layout(flex='2'), m…"
      ]
     },
     "metadata": {},
     "output_type": "display_data"
    },
    {
     "name": "stdout",
     "output_type": "stream",
     "text": [
      "Epoch 6 | MAE/CSI: 23.121047769023082 | MAE: 18.387481908225936 | CSI: 0.7952702702702703 | Loss: 0.01195940189063549\n"
     ]
    },
    {
     "data": {
      "application/vnd.jupyter.widget-view+json": {
       "model_id": "950d2184f7884e85a64d8b1a99f5a151",
       "version_major": 2,
       "version_minor": 0
      },
      "text/plain": [
       "HBox(children=(HTML(value='Validating'), FloatProgress(value=1.0, bar_style='info', layout=Layout(flex='2'), m…"
      ]
     },
     "metadata": {},
     "output_type": "display_data"
    },
    {
     "name": "stdout",
     "output_type": "stream",
     "text": [
      "Epoch 7 | MAE/CSI: 21.380010649024133 | MAE: 17.249816201340995 | CSI: 0.8068198133524767 | Loss: 0.012651579454541206\n"
     ]
    },
    {
     "data": {
      "application/vnd.jupyter.widget-view+json": {
       "model_id": "c34d43b63339466da512b9ca8fcc28e7",
       "version_major": 2,
       "version_minor": 0
      },
      "text/plain": [
       "HBox(children=(HTML(value='Validating'), FloatProgress(value=1.0, bar_style='info', layout=Layout(flex='2'), m…"
      ]
     },
     "metadata": {},
     "output_type": "display_data"
    },
    {
     "name": "stdout",
     "output_type": "stream",
     "text": [
      "Epoch 8 | MAE/CSI: 19.884120596258796 | MAE: 16.060755238895975 | CSI: 0.8077176539503551 | Loss: 0.011617396026849747\n"
     ]
    },
    {
     "data": {
      "application/vnd.jupyter.widget-view+json": {
       "model_id": "e8c6f8c1bddd425f8c1fa188a7bbb532",
       "version_major": 2,
       "version_minor": 0
      },
      "text/plain": [
       "HBox(children=(HTML(value='Validating'), FloatProgress(value=1.0, bar_style='info', layout=Layout(flex='2'), m…"
      ]
     },
     "metadata": {},
     "output_type": "display_data"
    },
    {
     "name": "stdout",
     "output_type": "stream",
     "text": [
      "Epoch 9 | MAE/CSI: 19.95838481240207 | MAE: 16.128404994784848 | CSI: 0.8081017149615612 | Loss: 0.011446814052760601\n"
     ]
    },
    {
     "data": {
      "application/vnd.jupyter.widget-view+json": {
       "model_id": "89385dfbb8de4e0fb18e2bf5bad2c8c7",
       "version_major": 2,
       "version_minor": 0
      },
      "text/plain": [
       "HBox(children=(HTML(value='Validating'), FloatProgress(value=1.0, bar_style='info', layout=Layout(flex='2'), m…"
      ]
     },
     "metadata": {},
     "output_type": "display_data"
    },
    {
     "name": "stdout",
     "output_type": "stream",
     "text": [
      "Epoch 10 | MAE/CSI: 21.23726514737613 | MAE: 17.11664908782062 | CSI: 0.8059723777528929 | Loss: 0.011620122008025646\n"
     ]
    },
    {
     "data": {
      "application/vnd.jupyter.widget-view+json": {
       "model_id": "00e352a8062240b5a5743916fc96a69c",
       "version_major": 2,
       "version_minor": 0
      },
      "text/plain": [
       "HBox(children=(HTML(value='Validating'), FloatProgress(value=1.0, bar_style='info', layout=Layout(flex='2'), m…"
      ]
     },
     "metadata": {},
     "output_type": "display_data"
    },
    {
     "name": "stdout",
     "output_type": "stream",
     "text": [
      "Epoch 11 | MAE/CSI: 19.230807556137442 | MAE: 15.613997821907722 | CSI: 0.8119262686347948 | Loss: 0.01138119213283062\n"
     ]
    },
    {
     "data": {
      "application/vnd.jupyter.widget-view+json": {
       "model_id": "1d6c1804cef14876ae4e43dd9b324c3e",
       "version_major": 2,
       "version_minor": 0
      },
      "text/plain": [
       "HBox(children=(HTML(value='Validating'), FloatProgress(value=1.0, bar_style='info', layout=Layout(flex='2'), m…"
      ]
     },
     "metadata": {},
     "output_type": "display_data"
    },
    {
     "name": "stdout",
     "output_type": "stream",
     "text": [
      "Epoch 12 | MAE/CSI: 19.26334314043933 | MAE: 15.615153630625755 | CSI: 0.810614934114202 | Loss: 0.011543345637619495\n"
     ]
    },
    {
     "data": {
      "application/vnd.jupyter.widget-view+json": {
       "model_id": "7ce763edb2fe4a07a766106f37696d98",
       "version_major": 2,
       "version_minor": 0
      },
      "text/plain": [
       "HBox(children=(HTML(value='Validating'), FloatProgress(value=1.0, bar_style='info', layout=Layout(flex='2'), m…"
      ]
     },
     "metadata": {},
     "output_type": "display_data"
    },
    {
     "name": "stdout",
     "output_type": "stream",
     "text": [
      "Epoch 13 | MAE/CSI: 19.264658003703257 | MAE: 15.678122278859526 | CSI: 0.8138282172373081 | Loss: 0.011346523649990559\n"
     ]
    },
    {
     "data": {
      "application/vnd.jupyter.widget-view+json": {
       "model_id": "79c599c142f541bdb0a2ec25d4745d0a",
       "version_major": 2,
       "version_minor": 0
      },
      "text/plain": [
       "HBox(children=(HTML(value='Validating'), FloatProgress(value=1.0, bar_style='info', layout=Layout(flex='2'), m…"
      ]
     },
     "metadata": {},
     "output_type": "display_data"
    },
    {
     "name": "stdout",
     "output_type": "stream",
     "text": [
      "Epoch 14 | MAE/CSI: 19.5614310438213 | MAE: 15.858158574006369 | CSI: 0.8106849922411882 | Loss: 0.011353997513651848\n"
     ]
    },
    {
     "data": {
      "application/vnd.jupyter.widget-view+json": {
       "model_id": "d99419b31ccd42a695a7f7d64b342efb",
       "version_major": 2,
       "version_minor": 0
      },
      "text/plain": [
       "HBox(children=(HTML(value='Validating'), FloatProgress(value=1.0, bar_style='info', layout=Layout(flex='2'), m…"
      ]
     },
     "metadata": {},
     "output_type": "display_data"
    },
    {
     "name": "stdout",
     "output_type": "stream",
     "text": [
      "Epoch 15 | MAE/CSI: 20.325657045944222 | MAE: 16.421114476880287 | CSI: 0.8079007945347887 | Loss: 0.011452319100499153\n"
     ]
    },
    {
     "data": {
      "application/vnd.jupyter.widget-view+json": {
       "model_id": "71964a988c884548818bbe9245ae6576",
       "version_major": 2,
       "version_minor": 0
      },
      "text/plain": [
       "HBox(children=(HTML(value='Validating'), FloatProgress(value=1.0, bar_style='info', layout=Layout(flex='2'), m…"
      ]
     },
     "metadata": {},
     "output_type": "display_data"
    },
    {
     "name": "stdout",
     "output_type": "stream",
     "text": [
      "Epoch 16 | MAE/CSI: 19.160887430973464 | MAE: 15.560784978478654 | CSI: 0.8121119146760173 | Loss: 0.011521076783537865\n"
     ]
    },
    {
     "data": {
      "application/vnd.jupyter.widget-view+json": {
       "model_id": "87bdbf52bbb34e9790ec466ae817032c",
       "version_major": 2,
       "version_minor": 0
      },
      "text/plain": [
       "HBox(children=(HTML(value='Validating'), FloatProgress(value=1.0, bar_style='info', layout=Layout(flex='2'), m…"
      ]
     },
     "metadata": {},
     "output_type": "display_data"
    },
    {
     "name": "stdout",
     "output_type": "stream",
     "text": [
      "Epoch 17 | MAE/CSI: 18.913051188853814 | MAE: 15.386936254420686 | CSI: 0.8135618151062735 | Loss: 0.01132373046129942\n"
     ]
    },
    {
     "data": {
      "application/vnd.jupyter.widget-view+json": {
       "model_id": "93c2f47a6bbe4ffea2204ac56ac38d7f",
       "version_major": 2,
       "version_minor": 0
      },
      "text/plain": [
       "HBox(children=(HTML(value='Validating'), FloatProgress(value=1.0, bar_style='info', layout=Layout(flex='2'), m…"
      ]
     },
     "metadata": {},
     "output_type": "display_data"
    },
    {
     "name": "stdout",
     "output_type": "stream",
     "text": [
      "Epoch 18 | MAE/CSI: 20.261271536845946 | MAE: 16.398104336047624 | CSI: 0.8093324402768475 | Loss: 0.011397392489016056\n"
     ]
    },
    {
     "data": {
      "application/vnd.jupyter.widget-view+json": {
       "model_id": "b7b1c439f59c474b8d5af5c5b42a82e3",
       "version_major": 2,
       "version_minor": 0
      },
      "text/plain": [
       "HBox(children=(HTML(value='Validating'), FloatProgress(value=1.0, bar_style='info', layout=Layout(flex='2'), m…"
      ]
     },
     "metadata": {},
     "output_type": "display_data"
    },
    {
     "name": "stdout",
     "output_type": "stream",
     "text": [
      "Epoch 19 | MAE/CSI: 18.88648488743959 | MAE: 15.356261966135346 | CSI: 0.813082056170712 | Loss: 0.011438331566751003\n"
     ]
    },
    {
     "data": {
      "application/vnd.jupyter.widget-view+json": {
       "model_id": "62d0d3a89b6e4d7abd0d1f9fa6cba609",
       "version_major": 2,
       "version_minor": 0
      },
      "text/plain": [
       "HBox(children=(HTML(value='Validating'), FloatProgress(value=1.0, bar_style='info', layout=Layout(flex='2'), m…"
      ]
     },
     "metadata": {},
     "output_type": "display_data"
    },
    {
     "name": "stdout",
     "output_type": "stream",
     "text": [
      "Epoch 20 | MAE/CSI: 18.90888501053057 | MAE: 15.309875574315502 | CSI: 0.8096656976744186 | Loss: 0.011600780300796032\n"
     ]
    },
    {
     "data": {
      "application/vnd.jupyter.widget-view+json": {
       "model_id": "9a9f131a35ef4f0294a57718a026597d",
       "version_major": 2,
       "version_minor": 0
      },
      "text/plain": [
       "HBox(children=(HTML(value='Validating'), FloatProgress(value=1.0, bar_style='info', layout=Layout(flex='2'), m…"
      ]
     },
     "metadata": {},
     "output_type": "display_data"
    },
    {
     "name": "stdout",
     "output_type": "stream",
     "text": [
      "Epoch 21 | MAE/CSI: 19.057435755200128 | MAE: 15.442373928848985 | CSI: 0.8103070175438597 | Loss: 0.011565647087991238\n"
     ]
    },
    {
     "data": {
      "application/vnd.jupyter.widget-view+json": {
       "model_id": "f16275d93b70448eb23b32e982976b0d",
       "version_major": 2,
       "version_minor": 0
      },
      "text/plain": [
       "HBox(children=(HTML(value='Validating'), FloatProgress(value=1.0, bar_style='info', layout=Layout(flex='2'), m…"
      ]
     },
     "metadata": {},
     "output_type": "display_data"
    },
    {
     "name": "stdout",
     "output_type": "stream",
     "text": [
      "Epoch 22 | MAE/CSI: 19.747915922078203 | MAE: 15.972321902462133 | CSI: 0.8088105076741441 | Loss: 0.01151563972234726\n"
     ]
    },
    {
     "data": {
      "application/vnd.jupyter.widget-view+json": {
       "model_id": "c7e469afd97e422f80a5fa2eafbe7e2d",
       "version_major": 2,
       "version_minor": 0
      },
      "text/plain": [
       "HBox(children=(HTML(value='Validating'), FloatProgress(value=1.0, bar_style='info', layout=Layout(flex='2'), m…"
      ]
     },
     "metadata": {},
     "output_type": "display_data"
    },
    {
     "name": "stdout",
     "output_type": "stream",
     "text": [
      "Epoch 23 | MAE/CSI: 18.986097731680978 | MAE: 15.399541466936103 | CSI: 0.8110956598111688 | Loss: 0.01157230231910944\n"
     ]
    },
    {
     "data": {
      "application/vnd.jupyter.widget-view+json": {
       "model_id": "7a00e6b480f54b0bb22892842fcc17ee",
       "version_major": 2,
       "version_minor": 0
      },
      "text/plain": [
       "HBox(children=(HTML(value='Validating'), FloatProgress(value=1.0, bar_style='info', layout=Layout(flex='2'), m…"
      ]
     },
     "metadata": {},
     "output_type": "display_data"
    },
    {
     "name": "stdout",
     "output_type": "stream",
     "text": [
      "Epoch 24 | MAE/CSI: 18.99107928711418 | MAE: 15.39025627194611 | CSI: 0.8103939770484614 | Loss: 0.011596854776144028\n"
     ]
    },
    {
     "data": {
      "application/vnd.jupyter.widget-view+json": {
       "model_id": "a130b024b6a6472e86c29bf913da82e0",
       "version_major": 2,
       "version_minor": 0
      },
      "text/plain": [
       "HBox(children=(HTML(value='Validating'), FloatProgress(value=1.0, bar_style='info', layout=Layout(flex='2'), m…"
      ]
     },
     "metadata": {},
     "output_type": "display_data"
    },
    {
     "name": "stdout",
     "output_type": "stream",
     "text": [
      "Epoch 25 | MAE/CSI: 19.7236355264424 | MAE: 15.961558913109142 | CSI: 0.8092604880926049 | Loss: 0.011602360755205154\n"
     ]
    },
    {
     "data": {
      "application/vnd.jupyter.widget-view+json": {
       "model_id": "fa868a2ea33948d6931841708c47faff",
       "version_major": 2,
       "version_minor": 0
      },
      "text/plain": [
       "HBox(children=(HTML(value='Validating'), FloatProgress(value=1.0, bar_style='info', layout=Layout(flex='2'), m…"
      ]
     },
     "metadata": {},
     "output_type": "display_data"
    },
    {
     "name": "stdout",
     "output_type": "stream",
     "text": [
      "Epoch 26 | MAE/CSI: 19.66751364177057 | MAE: 15.879075442501195 | CSI: 0.8073758448427858 | Loss: 0.01169213280081749\n"
     ]
    },
    {
     "data": {
      "application/vnd.jupyter.widget-view+json": {
       "model_id": "e2f5842c9ac34e9f833d477de063b938",
       "version_major": 2,
       "version_minor": 0
      },
      "text/plain": [
       "HBox(children=(HTML(value='Validating'), FloatProgress(value=1.0, bar_style='info', layout=Layout(flex='2'), m…"
      ]
     },
     "metadata": {},
     "output_type": "display_data"
    },
    {
     "name": "stdout",
     "output_type": "stream",
     "text": [
      "Epoch 27 | MAE/CSI: 19.442847596632387 | MAE: 15.730006844393438 | CSI: 0.8090382217005355 | Loss: 0.011666052974760532\n"
     ]
    },
    {
     "data": {
      "application/vnd.jupyter.widget-view+json": {
       "model_id": "616cdce2484f41d4bef4fb6a2e282aec",
       "version_major": 2,
       "version_minor": 0
      },
      "text/plain": [
       "HBox(children=(HTML(value='Validating'), FloatProgress(value=1.0, bar_style='info', layout=Layout(flex='2'), m…"
      ]
     },
     "metadata": {},
     "output_type": "display_data"
    },
    {
     "name": "stdout",
     "output_type": "stream",
     "text": [
      "Epoch 28 | MAE/CSI: 19.545673056666146 | MAE: 15.805726503701734 | CSI: 0.8086560364464692 | Loss: 0.011664430610835552\n"
     ]
    },
    {
     "data": {
      "application/vnd.jupyter.widget-view+json": {
       "model_id": "307618286fe141c797ea990e8ff558ca",
       "version_major": 2,
       "version_minor": 0
      },
      "text/plain": [
       "HBox(children=(HTML(value='Validating'), FloatProgress(value=1.0, bar_style='info', layout=Layout(flex='2'), m…"
      ]
     },
     "metadata": {},
     "output_type": "display_data"
    },
    {
     "name": "stdout",
     "output_type": "stream",
     "text": [
      "Epoch 29 | MAE/CSI: 19.661343826279275 | MAE: 15.894221094064639 | CSI: 0.8083995292733157 | Loss: 0.01167358923703432\n",
      "\n",
      "Model saved at ../models/unet_fold1_bs256_epochs30_lr0.001_adamw_cosine.ckpt\n"
     ]
    },
    {
     "name": "stderr",
     "output_type": "stream",
     "text": [
      "GPU available: True, used: True\n",
      "TPU available: False, using: 0 TPU cores\n",
      "LOCAL_RANK: 0 - CUDA_VISIBLE_DEVICES: [0]\n",
      "Using native 16bit precision.\n",
      "\n",
      "  | Name      | Type       | Params\n",
      "-----------------------------------------\n",
      "0 | criterion | L1Loss     | 0     \n",
      "1 | tail      | BasicBlock | 300   \n",
      "2 | encoder   | Encoder    | 25 M  \n",
      "3 | decoder   | Decoder    | 17 M  \n",
      "4 | head      | Sequential | 8 K   \n"
     ]
    },
    {
     "name": "stdout",
     "output_type": "stream",
     "text": [
      "Training fold 2...\n"
     ]
    },
    {
     "data": {
      "application/vnd.jupyter.widget-view+json": {
       "model_id": "405f5c85ef084bce8b871f410f30d9f6",
       "version_major": 2,
       "version_minor": 0
      },
      "text/plain": [
       "HBox(children=(HTML(value='Validation sanity check'), FloatProgress(value=1.0, bar_style='info', layout=Layout…"
      ]
     },
     "metadata": {},
     "output_type": "display_data"
    },
    {
     "name": "stdout",
     "output_type": "stream",
     "text": [
      "Epoch 0 | MAE/CSI: 98624364269755.4 | MAE: 98.6243642697554 | CSI: 0.0 | Loss: 0.08764511346817017\n"
     ]
    },
    {
     "data": {
      "application/vnd.jupyter.widget-view+json": {
       "model_id": "b6c1c69682bc46f6af0cd0ffdb37f6f2",
       "version_major": 2,
       "version_minor": 0
      },
      "text/plain": [
       "HBox(children=(HTML(value='Training'), FloatProgress(value=1.0, bar_style='info', layout=Layout(flex='2'), max…"
      ]
     },
     "metadata": {},
     "output_type": "display_data"
    },
    {
     "data": {
      "application/vnd.jupyter.widget-view+json": {
       "model_id": "25d0948609e64e97b71a4345eeaa62c1",
       "version_major": 2,
       "version_minor": 0
      },
      "text/plain": [
       "HBox(children=(HTML(value='Validating'), FloatProgress(value=1.0, bar_style='info', layout=Layout(flex='2'), m…"
      ]
     },
     "metadata": {},
     "output_type": "display_data"
    },
    {
     "name": "stdout",
     "output_type": "stream",
     "text": [
      "Epoch 0 | MAE/CSI: 28.118997965134586 | MAE: 21.552152280986306 | CSI: 0.7664623151821133 | Loss: 0.01427386049181223\n"
     ]
    },
    {
     "data": {
      "application/vnd.jupyter.widget-view+json": {
       "model_id": "790146027622489ea4f5c7f7aa93cad4",
       "version_major": 2,
       "version_minor": 0
      },
      "text/plain": [
       "HBox(children=(HTML(value='Validating'), FloatProgress(value=1.0, bar_style='info', layout=Layout(flex='2'), m…"
      ]
     },
     "metadata": {},
     "output_type": "display_data"
    },
    {
     "name": "stdout",
     "output_type": "stream",
     "text": [
      "Epoch 1 | MAE/CSI: 27.128638812721636 | MAE: 21.151175594950804 | CSI: 0.7796622506915126 | Loss: 0.013792337849736214\n"
     ]
    },
    {
     "data": {
      "application/vnd.jupyter.widget-view+json": {
       "model_id": "54c89488e7d349bf8fb01b31cbe88e08",
       "version_major": 2,
       "version_minor": 0
      },
      "text/plain": [
       "HBox(children=(HTML(value='Validating'), FloatProgress(value=1.0, bar_style='info', layout=Layout(flex='2'), m…"
      ]
     },
     "metadata": {},
     "output_type": "display_data"
    },
    {
     "name": "stdout",
     "output_type": "stream",
     "text": [
      "Epoch 2 | MAE/CSI: 24.618840091334018 | MAE: 19.40673530777922 | CSI: 0.7882879630298216 | Loss: 0.01312659028917551\n"
     ]
    },
    {
     "data": {
      "application/vnd.jupyter.widget-view+json": {
       "model_id": "9689e4bd0e5543c8826899daba921033",
       "version_major": 2,
       "version_minor": 0
      },
      "text/plain": [
       "HBox(children=(HTML(value='Validating'), FloatProgress(value=1.0, bar_style='info', layout=Layout(flex='2'), m…"
      ]
     },
     "metadata": {},
     "output_type": "display_data"
    },
    {
     "name": "stdout",
     "output_type": "stream",
     "text": [
      "Epoch 3 | MAE/CSI: 23.996545896105665 | MAE: 19.048209403667897 | CSI: 0.793789634813033 | Loss: 0.012730807065963745\n"
     ]
    },
    {
     "data": {
      "application/vnd.jupyter.widget-view+json": {
       "model_id": "1f68408fc1b241f1ab3cc6f33434c4f9",
       "version_major": 2,
       "version_minor": 0
      },
      "text/plain": [
       "HBox(children=(HTML(value='Validating'), FloatProgress(value=1.0, bar_style='info', layout=Layout(flex='2'), m…"
      ]
     },
     "metadata": {},
     "output_type": "display_data"
    },
    {
     "name": "stdout",
     "output_type": "stream",
     "text": [
      "Epoch 4 | MAE/CSI: 22.49951004667157 | MAE: 18.03575311320954 | CSI: 0.8016064827978391 | Loss: 0.012839207425713539\n"
     ]
    },
    {
     "data": {
      "application/vnd.jupyter.widget-view+json": {
       "model_id": "936cafc4880d4ef896ded07a9d1fb4e5",
       "version_major": 2,
       "version_minor": 0
      },
      "text/plain": [
       "HBox(children=(HTML(value='Validating'), FloatProgress(value=1.0, bar_style='info', layout=Layout(flex='2'), m…"
      ]
     },
     "metadata": {},
     "output_type": "display_data"
    },
    {
     "name": "stdout",
     "output_type": "stream",
     "text": [
      "Epoch 5 | MAE/CSI: 21.361131217621754 | MAE: 17.257766442326197 | CSI: 0.8079050807977871 | Loss: 0.012023642659187317\n"
     ]
    },
    {
     "data": {
      "application/vnd.jupyter.widget-view+json": {
       "model_id": "b96e1401f7fb48279141083e6341b988",
       "version_major": 2,
       "version_minor": 0
      },
      "text/plain": [
       "HBox(children=(HTML(value='Validating'), FloatProgress(value=1.0, bar_style='info', layout=Layout(flex='2'), m…"
      ]
     },
     "metadata": {},
     "output_type": "display_data"
    },
    {
     "name": "stdout",
     "output_type": "stream",
     "text": [
      "Epoch 6 | MAE/CSI: 20.236411459874972 | MAE: 16.415489828220917 | CSI: 0.811185810327564 | Loss: 0.012115568853914738\n"
     ]
    },
    {
     "data": {
      "application/vnd.jupyter.widget-view+json": {
       "model_id": "61756ecb35544951bb8b588df639509d",
       "version_major": 2,
       "version_minor": 0
      },
      "text/plain": [
       "HBox(children=(HTML(value='Validating'), FloatProgress(value=1.0, bar_style='info', layout=Layout(flex='2'), m…"
      ]
     },
     "metadata": {},
     "output_type": "display_data"
    },
    {
     "name": "stdout",
     "output_type": "stream",
     "text": [
      "Epoch 7 | MAE/CSI: 24.470472404637587 | MAE: 19.564411922558676 | CSI: 0.7995110024449877 | Loss: 0.012515711598098278\n"
     ]
    },
    {
     "data": {
      "application/vnd.jupyter.widget-view+json": {
       "model_id": "55e6ce89340e4a35a699ea62ac0d03e7",
       "version_major": 2,
       "version_minor": 0
      },
      "text/plain": [
       "HBox(children=(HTML(value='Validating'), FloatProgress(value=1.0, bar_style='info', layout=Layout(flex='2'), m…"
      ]
     },
     "metadata": {},
     "output_type": "display_data"
    },
    {
     "name": "stdout",
     "output_type": "stream",
     "text": [
      "Epoch 8 | MAE/CSI: 19.02272187040231 | MAE: 15.550396087375951 | CSI: 0.817464303652149 | Loss: 0.011686594225466251\n"
     ]
    },
    {
     "data": {
      "application/vnd.jupyter.widget-view+json": {
       "model_id": "bd2dfacd4e544b9499aab1e79445a0a2",
       "version_major": 2,
       "version_minor": 0
      },
      "text/plain": [
       "HBox(children=(HTML(value='Validating'), FloatProgress(value=1.0, bar_style='info', layout=Layout(flex='2'), m…"
      ]
     },
     "metadata": {},
     "output_type": "display_data"
    },
    {
     "name": "stdout",
     "output_type": "stream",
     "text": [
      "Epoch 9 | MAE/CSI: 20.080601901201696 | MAE: 16.387970643444902 | CSI: 0.816109533173112 | Loss: 0.011634819209575653\n"
     ]
    },
    {
     "data": {
      "application/vnd.jupyter.widget-view+json": {
       "model_id": "b2a5005184fd465d9aa296ce26441527",
       "version_major": 2,
       "version_minor": 0
      },
      "text/plain": [
       "HBox(children=(HTML(value='Validating'), FloatProgress(value=1.0, bar_style='info', layout=Layout(flex='2'), m…"
      ]
     },
     "metadata": {},
     "output_type": "display_data"
    },
    {
     "name": "stdout",
     "output_type": "stream",
     "text": [
      "Epoch 10 | MAE/CSI: 19.03831631311525 | MAE: 15.581505716571792 | CSI: 0.8184287654585746 | Loss: 0.011825410649180412\n"
     ]
    },
    {
     "data": {
      "application/vnd.jupyter.widget-view+json": {
       "model_id": "53c512a1f821453cbde93599832b96d8",
       "version_major": 2,
       "version_minor": 0
      },
      "text/plain": [
       "HBox(children=(HTML(value='Validating'), FloatProgress(value=1.0, bar_style='info', layout=Layout(flex='2'), m…"
      ]
     },
     "metadata": {},
     "output_type": "display_data"
    },
    {
     "name": "stdout",
     "output_type": "stream",
     "text": [
      "Epoch 11 | MAE/CSI: 19.32006970412333 | MAE: 15.80681914816354 | CSI: 0.8181553891997965 | Loss: 0.01143832691013813\n"
     ]
    },
    {
     "data": {
      "application/vnd.jupyter.widget-view+json": {
       "model_id": "8da809ca9ee9444f87344ee092618358",
       "version_major": 2,
       "version_minor": 0
      },
      "text/plain": [
       "HBox(children=(HTML(value='Validating'), FloatProgress(value=1.0, bar_style='info', layout=Layout(flex='2'), m…"
      ]
     },
     "metadata": {},
     "output_type": "display_data"
    },
    {
     "name": "stdout",
     "output_type": "stream",
     "text": [
      "Epoch 12 | MAE/CSI: 18.683346398615083 | MAE: 15.279302381427371 | CSI: 0.8178033022254128 | Loss: 0.011568550951778889\n"
     ]
    },
    {
     "data": {
      "application/vnd.jupyter.widget-view+json": {
       "model_id": "f850472f38c14a5db4959df141dbe859",
       "version_major": 2,
       "version_minor": 0
      },
      "text/plain": [
       "HBox(children=(HTML(value='Validating'), FloatProgress(value=1.0, bar_style='info', layout=Layout(flex='2'), m…"
      ]
     },
     "metadata": {},
     "output_type": "display_data"
    },
    {
     "name": "stdout",
     "output_type": "stream",
     "text": [
      "Epoch 13 | MAE/CSI: 19.403732510254446 | MAE: 15.866799598526859 | CSI: 0.8177189409368636 | Loss: 0.011433429084718227\n"
     ]
    },
    {
     "data": {
      "application/vnd.jupyter.widget-view+json": {
       "model_id": "57a156dfab894249b5f6e6d972afc0f0",
       "version_major": 2,
       "version_minor": 0
      },
      "text/plain": [
       "HBox(children=(HTML(value='Validating'), FloatProgress(value=1.0, bar_style='info', layout=Layout(flex='2'), m…"
      ]
     },
     "metadata": {},
     "output_type": "display_data"
    },
    {
     "name": "stdout",
     "output_type": "stream",
     "text": [
      "Epoch 14 | MAE/CSI: 18.861351107256343 | MAE: 15.467400527873899 | CSI: 0.8200579290369298 | Loss: 0.011417574249207973\n"
     ]
    },
    {
     "data": {
      "application/vnd.jupyter.widget-view+json": {
       "model_id": "275cbf5881ac4340913d46a69d6a3cd7",
       "version_major": 2,
       "version_minor": 0
      },
      "text/plain": [
       "HBox(children=(HTML(value='Validating'), FloatProgress(value=1.0, bar_style='info', layout=Layout(flex='2'), m…"
      ]
     },
     "metadata": {},
     "output_type": "display_data"
    },
    {
     "name": "stdout",
     "output_type": "stream",
     "text": [
      "Epoch 15 | MAE/CSI: 20.403804237083232 | MAE: 16.587705867603038 | CSI: 0.8129712319742333 | Loss: 0.011530996300280094\n"
     ]
    },
    {
     "data": {
      "application/vnd.jupyter.widget-view+json": {
       "model_id": "9ee8f92c20014609943c833a22917bf9",
       "version_major": 2,
       "version_minor": 0
      },
      "text/plain": [
       "HBox(children=(HTML(value='Validating'), FloatProgress(value=1.0, bar_style='info', layout=Layout(flex='2'), m…"
      ]
     },
     "metadata": {},
     "output_type": "display_data"
    },
    {
     "name": "stdout",
     "output_type": "stream",
     "text": [
      "Epoch 16 | MAE/CSI: 18.508092655544406 | MAE: 15.191096051399349 | CSI: 0.8207812838472092 | Loss: 0.011424791999161243\n"
     ]
    },
    {
     "data": {
      "application/vnd.jupyter.widget-view+json": {
       "model_id": "0896606bc2d34a11afb711583c9d93e1",
       "version_major": 2,
       "version_minor": 0
      },
      "text/plain": [
       "HBox(children=(HTML(value='Validating'), FloatProgress(value=1.0, bar_style='info', layout=Layout(flex='2'), m…"
      ]
     },
     "metadata": {},
     "output_type": "display_data"
    },
    {
     "name": "stdout",
     "output_type": "stream",
     "text": [
      "Epoch 17 | MAE/CSI: 18.44665647834475 | MAE: 15.127479769290078 | CSI: 0.8200662156326471 | Loss: 0.011457541026175022\n"
     ]
    },
    {
     "data": {
      "application/vnd.jupyter.widget-view+json": {
       "model_id": "d2cacea574c14483914d2348191e01a7",
       "version_major": 2,
       "version_minor": 0
      },
      "text/plain": [
       "HBox(children=(HTML(value='Validating'), FloatProgress(value=1.0, bar_style='info', layout=Layout(flex='2'), m…"
      ]
     },
     "metadata": {},
     "output_type": "display_data"
    },
    {
     "name": "stdout",
     "output_type": "stream",
     "text": [
      "Epoch 18 | MAE/CSI: 18.96570753645215 | MAE: 15.53061988275734 | CSI: 0.8188790137614679 | Loss: 0.011679432354867458\n"
     ]
    },
    {
     "data": {
      "application/vnd.jupyter.widget-view+json": {
       "model_id": "e4f80b1db2e1480b846cc0d1a16d2145",
       "version_major": 2,
       "version_minor": 0
      },
      "text/plain": [
       "HBox(children=(HTML(value='Validating'), FloatProgress(value=1.0, bar_style='info', layout=Layout(flex='2'), m…"
      ]
     },
     "metadata": {},
     "output_type": "display_data"
    },
    {
     "name": "stdout",
     "output_type": "stream",
     "text": [
      "Epoch 19 | MAE/CSI: 18.822043787124592 | MAE: 15.420485982148985 | CSI: 0.8192779783393502 | Loss: 0.011392543092370033\n"
     ]
    },
    {
     "data": {
      "application/vnd.jupyter.widget-view+json": {
       "model_id": "cb9947c1fcb64350b6d0b60ef911121b",
       "version_major": 2,
       "version_minor": 0
      },
      "text/plain": [
       "HBox(children=(HTML(value='Validating'), FloatProgress(value=1.0, bar_style='info', layout=Layout(flex='2'), m…"
      ]
     },
     "metadata": {},
     "output_type": "display_data"
    },
    {
     "name": "stdout",
     "output_type": "stream",
     "text": [
      "Epoch 20 | MAE/CSI: 18.606130005732833 | MAE: 15.197414212351436 | CSI: 0.8167960885821111 | Loss: 0.01142452098429203\n"
     ]
    },
    {
     "data": {
      "application/vnd.jupyter.widget-view+json": {
       "model_id": "8a96d1ab45ff4d289137cec22137db89",
       "version_major": 2,
       "version_minor": 0
      },
      "text/plain": [
       "HBox(children=(HTML(value='Validating'), FloatProgress(value=1.0, bar_style='info', layout=Layout(flex='2'), m…"
      ]
     },
     "metadata": {},
     "output_type": "display_data"
    },
    {
     "name": "stdout",
     "output_type": "stream",
     "text": [
      "Epoch 21 | MAE/CSI: 18.9835783172211 | MAE: 15.499320162112285 | CSI: 0.8164593578247035 | Loss: 0.011478066444396973\n"
     ]
    },
    {
     "data": {
      "application/vnd.jupyter.widget-view+json": {
       "model_id": "50d37fa7501b41ddaa7db99ad4bf9333",
       "version_major": 2,
       "version_minor": 0
      },
      "text/plain": [
       "HBox(children=(HTML(value='Validating'), FloatProgress(value=1.0, bar_style='info', layout=Layout(flex='2'), m…"
      ]
     },
     "metadata": {},
     "output_type": "display_data"
    },
    {
     "name": "stdout",
     "output_type": "stream",
     "text": [
      "Epoch 22 | MAE/CSI: 19.555789183906093 | MAE: 15.923755880672903 | CSI: 0.8142732431252728 | Loss: 0.01156239677220583\n"
     ]
    },
    {
     "data": {
      "application/vnd.jupyter.widget-view+json": {
       "model_id": "077ca7638bbd458690edb7ed9a90cd97",
       "version_major": 2,
       "version_minor": 0
      },
      "text/plain": [
       "HBox(children=(HTML(value='Validating'), FloatProgress(value=1.0, bar_style='info', layout=Layout(flex='2'), m…"
      ]
     },
     "metadata": {},
     "output_type": "display_data"
    },
    {
     "name": "stdout",
     "output_type": "stream",
     "text": [
      "Epoch 23 | MAE/CSI: 18.89104865410489 | MAE: 15.40757357276467 | CSI: 0.8156018151696319 | Loss: 0.011537961661815643\n"
     ]
    },
    {
     "data": {
      "application/vnd.jupyter.widget-view+json": {
       "model_id": "c290c6b11d734153ac8a1a9f48004f93",
       "version_major": 2,
       "version_minor": 0
      },
      "text/plain": [
       "HBox(children=(HTML(value='Validating'), FloatProgress(value=1.0, bar_style='info', layout=Layout(flex='2'), m…"
      ]
     },
     "metadata": {},
     "output_type": "display_data"
    },
    {
     "name": "stdout",
     "output_type": "stream",
     "text": [
      "Epoch 24 | MAE/CSI: 18.59823612059139 | MAE: 15.182996494158246 | CSI: 0.816367552045944 | Loss: 0.011565683409571648\n"
     ]
    },
    {
     "data": {
      "application/vnd.jupyter.widget-view+json": {
       "model_id": "5b52ca41066c41aaa98c9f2d1bc789dc",
       "version_major": 2,
       "version_minor": 0
      },
      "text/plain": [
       "HBox(children=(HTML(value='Validating'), FloatProgress(value=1.0, bar_style='info', layout=Layout(flex='2'), m…"
      ]
     },
     "metadata": {},
     "output_type": "display_data"
    },
    {
     "name": "stdout",
     "output_type": "stream",
     "text": [
      "Epoch 25 | MAE/CSI: 19.234773276351596 | MAE: 15.645243910983037 | CSI: 0.8133833285261033 | Loss: 0.011604744009673595\n"
     ]
    },
    {
     "data": {
      "application/vnd.jupyter.widget-view+json": {
       "model_id": "8dc8dee56c1a4d83a52653d57b7d466d",
       "version_major": 2,
       "version_minor": 0
      },
      "text/plain": [
       "HBox(children=(HTML(value='Validating'), FloatProgress(value=1.0, bar_style='info', layout=Layout(flex='2'), m…"
      ]
     },
     "metadata": {},
     "output_type": "display_data"
    },
    {
     "name": "stdout",
     "output_type": "stream",
     "text": [
      "Epoch 26 | MAE/CSI: 18.789052965351058 | MAE: 15.296363151240856 | CSI: 0.8141103854159191 | Loss: 0.01161937415599823\n"
     ]
    },
    {
     "data": {
      "application/vnd.jupyter.widget-view+json": {
       "model_id": "475a0e05c6a142e0bd4792de41e7ba2e",
       "version_major": 2,
       "version_minor": 0
      },
      "text/plain": [
       "HBox(children=(HTML(value='Validating'), FloatProgress(value=1.0, bar_style='info', layout=Layout(flex='2'), m…"
      ]
     },
     "metadata": {},
     "output_type": "display_data"
    },
    {
     "name": "stdout",
     "output_type": "stream",
     "text": [
      "Epoch 27 | MAE/CSI: 18.882758069128442 | MAE: 15.359764472001991 | CSI: 0.8134280180761781 | Loss: 0.011645403690636158\n"
     ]
    },
    {
     "data": {
      "application/vnd.jupyter.widget-view+json": {
       "model_id": "5d0dcfc251c642f9b1c59dd535cb9984",
       "version_major": 2,
       "version_minor": 0
      },
      "text/plain": [
       "HBox(children=(HTML(value='Validating'), FloatProgress(value=1.0, bar_style='info', layout=Layout(flex='2'), m…"
      ]
     },
     "metadata": {},
     "output_type": "display_data"
    },
    {
     "name": "stdout",
     "output_type": "stream",
     "text": [
      "Epoch 28 | MAE/CSI: 18.913308360419204 | MAE: 15.388432096423116 | CSI: 0.8136298421807747 | Loss: 0.011661795899271965\n"
     ]
    },
    {
     "data": {
      "application/vnd.jupyter.widget-view+json": {
       "model_id": "e6ddf2f7232741f9a3e1d076aff25238",
       "version_major": 2,
       "version_minor": 0
      },
      "text/plain": [
       "HBox(children=(HTML(value='Validating'), FloatProgress(value=1.0, bar_style='info', layout=Layout(flex='2'), m…"
      ]
     },
     "metadata": {},
     "output_type": "display_data"
    },
    {
     "name": "stdout",
     "output_type": "stream",
     "text": [
      "Epoch 29 | MAE/CSI: 18.950830060861367 | MAE: 15.392199249279548 | CSI: 0.8122176812217681 | Loss: 0.011679957620799541\n",
      "\n",
      "Model saved at ../models/unet_fold2_bs256_epochs30_lr0.001_adamw_cosine.ckpt\n"
     ]
    },
    {
     "name": "stderr",
     "output_type": "stream",
     "text": [
      "GPU available: True, used: True\n",
      "TPU available: False, using: 0 TPU cores\n",
      "LOCAL_RANK: 0 - CUDA_VISIBLE_DEVICES: [0]\n",
      "Using native 16bit precision.\n",
      "\n",
      "  | Name      | Type       | Params\n",
      "-----------------------------------------\n",
      "0 | criterion | L1Loss     | 0     \n",
      "1 | tail      | BasicBlock | 300   \n",
      "2 | encoder   | Encoder    | 25 M  \n",
      "3 | decoder   | Decoder    | 17 M  \n",
      "4 | head      | Sequential | 8 K   \n"
     ]
    },
    {
     "name": "stdout",
     "output_type": "stream",
     "text": [
      "Training fold 3...\n"
     ]
    },
    {
     "data": {
      "application/vnd.jupyter.widget-view+json": {
       "model_id": "ad83a026b5e544bf8e4d9fa29eb2b718",
       "version_major": 2,
       "version_minor": 0
      },
      "text/plain": [
       "HBox(children=(HTML(value='Validation sanity check'), FloatProgress(value=1.0, bar_style='info', layout=Layout…"
      ]
     },
     "metadata": {},
     "output_type": "display_data"
    },
    {
     "name": "stdout",
     "output_type": "stream",
     "text": [
      "Epoch 0 | MAE/CSI: 110557260156424.86 | MAE: 110.55726015642486 | CSI: 0.0 | Loss: 0.05172676593065262\n"
     ]
    },
    {
     "data": {
      "application/vnd.jupyter.widget-view+json": {
       "model_id": "8af8c9128df944fb9cf91293421f8331",
       "version_major": 2,
       "version_minor": 0
      },
      "text/plain": [
       "HBox(children=(HTML(value='Training'), FloatProgress(value=1.0, bar_style='info', layout=Layout(flex='2'), max…"
      ]
     },
     "metadata": {},
     "output_type": "display_data"
    },
    {
     "data": {
      "application/vnd.jupyter.widget-view+json": {
       "model_id": "95ca18fc0bac4fee85fe76284d969c53",
       "version_major": 2,
       "version_minor": 0
      },
      "text/plain": [
       "HBox(children=(HTML(value='Validating'), FloatProgress(value=1.0, bar_style='info', layout=Layout(flex='2'), m…"
      ]
     },
     "metadata": {},
     "output_type": "display_data"
    },
    {
     "name": "stdout",
     "output_type": "stream",
     "text": [
      "Epoch 0 | MAE/CSI: 53.56887701828267 | MAE: 35.32899085851282 | CSI: 0.6595059076262084 | Loss: 0.01728362962603569\n"
     ]
    },
    {
     "data": {
      "application/vnd.jupyter.widget-view+json": {
       "model_id": "9e4cded4871444eebff9948e284b2efe",
       "version_major": 2,
       "version_minor": 0
      },
      "text/plain": [
       "HBox(children=(HTML(value='Validating'), FloatProgress(value=1.0, bar_style='info', layout=Layout(flex='2'), m…"
      ]
     },
     "metadata": {},
     "output_type": "display_data"
    },
    {
     "name": "stdout",
     "output_type": "stream",
     "text": [
      "Epoch 1 | MAE/CSI: 30.639784592662963 | MAE: 23.430682562051953 | CSI: 0.7647143370463528 | Loss: 0.014653380028903484\n"
     ]
    },
    {
     "data": {
      "application/vnd.jupyter.widget-view+json": {
       "model_id": "553f0ab5c3924ae49cd47cbc05afb482",
       "version_major": 2,
       "version_minor": 0
      },
      "text/plain": [
       "HBox(children=(HTML(value='Validating'), FloatProgress(value=1.0, bar_style='info', layout=Layout(flex='2'), m…"
      ]
     },
     "metadata": {},
     "output_type": "display_data"
    },
    {
     "name": "stdout",
     "output_type": "stream",
     "text": [
      "Epoch 2 | MAE/CSI: 24.957249398984533 | MAE: 19.493277948112066 | CSI: 0.7810667608618863 | Loss: 0.013412871398031712\n"
     ]
    },
    {
     "data": {
      "application/vnd.jupyter.widget-view+json": {
       "model_id": "b66782cf56f540179789b8338ab5add8",
       "version_major": 2,
       "version_minor": 0
      },
      "text/plain": [
       "HBox(children=(HTML(value='Validating'), FloatProgress(value=1.0, bar_style='info', layout=Layout(flex='2'), m…"
      ]
     },
     "metadata": {},
     "output_type": "display_data"
    },
    {
     "name": "stdout",
     "output_type": "stream",
     "text": [
      "Epoch 3 | MAE/CSI: 22.953791365850908 | MAE: 18.058455785756223 | CSI: 0.7867308497279196 | Loss: 0.013156878761947155\n"
     ]
    },
    {
     "data": {
      "application/vnd.jupyter.widget-view+json": {
       "model_id": "4338523873ab430b8af44a2c03af89b2",
       "version_major": 2,
       "version_minor": 0
      },
      "text/plain": [
       "HBox(children=(HTML(value='Validating'), FloatProgress(value=1.0, bar_style='info', layout=Layout(flex='2'), m…"
      ]
     },
     "metadata": {},
     "output_type": "display_data"
    },
    {
     "name": "stdout",
     "output_type": "stream",
     "text": [
      "Epoch 4 | MAE/CSI: 23.78838192093069 | MAE: 18.79893090212847 | CSI: 0.7902568137921168 | Loss: 0.012770530767738819\n"
     ]
    },
    {
     "data": {
      "application/vnd.jupyter.widget-view+json": {
       "model_id": "112cfcb535c247c8a802d637cd4ea78e",
       "version_major": 2,
       "version_minor": 0
      },
      "text/plain": [
       "HBox(children=(HTML(value='Validating'), FloatProgress(value=1.0, bar_style='info', layout=Layout(flex='2'), m…"
      ]
     },
     "metadata": {},
     "output_type": "display_data"
    },
    {
     "name": "stdout",
     "output_type": "stream",
     "text": [
      "Epoch 5 | MAE/CSI: 24.134156968826158 | MAE: 19.308000326101173 | CSI: 0.8000279583420703 | Loss: 0.013565506786108017\n"
     ]
    },
    {
     "data": {
      "application/vnd.jupyter.widget-view+json": {
       "model_id": "459e7710db3f4715a22d2109736243d5",
       "version_major": 2,
       "version_minor": 0
      },
      "text/plain": [
       "HBox(children=(HTML(value='Validating'), FloatProgress(value=1.0, bar_style='info', layout=Layout(flex='2'), m…"
      ]
     },
     "metadata": {},
     "output_type": "display_data"
    },
    {
     "name": "stdout",
     "output_type": "stream",
     "text": [
      "Epoch 6 | MAE/CSI: 21.513528786478364 | MAE: 17.24819258159191 | CSI: 0.8017370256994376 | Loss: 0.012290913611650467\n"
     ]
    },
    {
     "data": {
      "application/vnd.jupyter.widget-view+json": {
       "model_id": "162357f4824543e993f6c37e3a001450",
       "version_major": 2,
       "version_minor": 0
      },
      "text/plain": [
       "HBox(children=(HTML(value='Validating'), FloatProgress(value=1.0, bar_style='info', layout=Layout(flex='2'), m…"
      ]
     },
     "metadata": {},
     "output_type": "display_data"
    },
    {
     "name": "stdout",
     "output_type": "stream",
     "text": [
      "Epoch 7 | MAE/CSI: 21.362476504765034 | MAE: 17.063856162282722 | CSI: 0.7987770593196514 | Loss: 0.01256471686065197\n"
     ]
    },
    {
     "data": {
      "application/vnd.jupyter.widget-view+json": {
       "model_id": "f2335250002d46c79c67a2917e2752f6",
       "version_major": 2,
       "version_minor": 0
      },
      "text/plain": [
       "HBox(children=(HTML(value='Validating'), FloatProgress(value=1.0, bar_style='info', layout=Layout(flex='2'), m…"
      ]
     },
     "metadata": {},
     "output_type": "display_data"
    },
    {
     "name": "stdout",
     "output_type": "stream",
     "text": [
      "Epoch 8 | MAE/CSI: 24.453781933161846 | MAE: 19.512796349196865 | CSI: 0.7979459538203802 | Loss: 0.012635443359613419\n"
     ]
    },
    {
     "data": {
      "application/vnd.jupyter.widget-view+json": {
       "model_id": "166c60d14bf04ec5a3a2886cf4736daf",
       "version_major": 2,
       "version_minor": 0
      },
      "text/plain": [
       "HBox(children=(HTML(value='Validating'), FloatProgress(value=1.0, bar_style='info', layout=Layout(flex='2'), m…"
      ]
     },
     "metadata": {},
     "output_type": "display_data"
    },
    {
     "name": "stdout",
     "output_type": "stream",
     "text": [
      "Epoch 9 | MAE/CSI: 20.900274204023304 | MAE: 16.887015755273936 | CSI: 0.8079805839103433 | Loss: 0.0120097566395998\n"
     ]
    },
    {
     "data": {
      "application/vnd.jupyter.widget-view+json": {
       "model_id": "81464fc773bf4bc6891968689cce104a",
       "version_major": 2,
       "version_minor": 0
      },
      "text/plain": [
       "HBox(children=(HTML(value='Validating'), FloatProgress(value=1.0, bar_style='info', layout=Layout(flex='2'), m…"
      ]
     },
     "metadata": {},
     "output_type": "display_data"
    },
    {
     "name": "stdout",
     "output_type": "stream",
     "text": [
      "Epoch 10 | MAE/CSI: 20.906133797377368 | MAE: 16.826452392597048 | CSI: 0.8048572039028559 | Loss: 0.012089049443602562\n"
     ]
    },
    {
     "data": {
      "application/vnd.jupyter.widget-view+json": {
       "model_id": "a10d960e744b41c7bb5eb130d315edef",
       "version_major": 2,
       "version_minor": 0
      },
      "text/plain": [
       "HBox(children=(HTML(value='Validating'), FloatProgress(value=1.0, bar_style='info', layout=Layout(flex='2'), m…"
      ]
     },
     "metadata": {},
     "output_type": "display_data"
    },
    {
     "name": "stdout",
     "output_type": "stream",
     "text": [
      "Epoch 11 | MAE/CSI: 19.764185822147727 | MAE: 16.106189117183263 | CSI: 0.8149179157744468 | Loss: 0.011762270703911781\n"
     ]
    },
    {
     "data": {
      "application/vnd.jupyter.widget-view+json": {
       "model_id": "7d0369708b3b438893095d9962042ef8",
       "version_major": 2,
       "version_minor": 0
      },
      "text/plain": [
       "HBox(children=(HTML(value='Validating'), FloatProgress(value=1.0, bar_style='info', layout=Layout(flex='2'), m…"
      ]
     },
     "metadata": {},
     "output_type": "display_data"
    },
    {
     "name": "stdout",
     "output_type": "stream",
     "text": [
      "Epoch 12 | MAE/CSI: 19.216470309349777 | MAE: 15.633324322908592 | CSI: 0.8135377658446973 | Loss: 0.011789782904088497\n"
     ]
    },
    {
     "data": {
      "application/vnd.jupyter.widget-view+json": {
       "model_id": "7f3c1002588b4ca3836d07279147d918",
       "version_major": 2,
       "version_minor": 0
      },
      "text/plain": [
       "HBox(children=(HTML(value='Validating'), FloatProgress(value=1.0, bar_style='info', layout=Layout(flex='2'), m…"
      ]
     },
     "metadata": {},
     "output_type": "display_data"
    },
    {
     "name": "stdout",
     "output_type": "stream",
     "text": [
      "Epoch 13 | MAE/CSI: 21.358521733793662 | MAE: 17.035517334854887 | CSI: 0.7975981459372147 | Loss: 0.012352569960057735\n"
     ]
    },
    {
     "data": {
      "application/vnd.jupyter.widget-view+json": {
       "model_id": "75d2d7bf01e04d9599bb623b20280d43",
       "version_major": 2,
       "version_minor": 0
      },
      "text/plain": [
       "HBox(children=(HTML(value='Validating'), FloatProgress(value=1.0, bar_style='info', layout=Layout(flex='2'), m…"
      ]
     },
     "metadata": {},
     "output_type": "display_data"
    },
    {
     "name": "stdout",
     "output_type": "stream",
     "text": [
      "Epoch 14 | MAE/CSI: 18.955754078822256 | MAE: 15.441341389797334 | CSI: 0.8145991621103458 | Loss: 0.011553915217518806\n"
     ]
    },
    {
     "data": {
      "application/vnd.jupyter.widget-view+json": {
       "model_id": "5a51217b899446be8c22bfb4d1f8b382",
       "version_major": 2,
       "version_minor": 0
      },
      "text/plain": [
       "HBox(children=(HTML(value='Validating'), FloatProgress(value=1.0, bar_style='info', layout=Layout(flex='2'), m…"
      ]
     },
     "metadata": {},
     "output_type": "display_data"
    },
    {
     "name": "stdout",
     "output_type": "stream",
     "text": [
      "Epoch 15 | MAE/CSI: 18.41964258573334 | MAE: 15.062246454066061 | CSI: 0.8177274007321881 | Loss: 0.011606993153691292\n"
     ]
    },
    {
     "data": {
      "application/vnd.jupyter.widget-view+json": {
       "model_id": "e3d6b58fa0594567bd4a44fbd7425187",
       "version_major": 2,
       "version_minor": 0
      },
      "text/plain": [
       "HBox(children=(HTML(value='Validating'), FloatProgress(value=1.0, bar_style='info', layout=Layout(flex='2'), m…"
      ]
     },
     "metadata": {},
     "output_type": "display_data"
    },
    {
     "name": "stdout",
     "output_type": "stream",
     "text": [
      "Epoch 16 | MAE/CSI: 18.945060050135833 | MAE: 15.475827797763376 | CSI: 0.8168793214056597 | Loss: 0.011503880843520164\n"
     ]
    },
    {
     "data": {
      "application/vnd.jupyter.widget-view+json": {
       "model_id": "800287eb1fd34ea3a96cd66956da367c",
       "version_major": 2,
       "version_minor": 0
      },
      "text/plain": [
       "HBox(children=(HTML(value='Validating'), FloatProgress(value=1.0, bar_style='info', layout=Layout(flex='2'), m…"
      ]
     },
     "metadata": {},
     "output_type": "display_data"
    },
    {
     "name": "stdout",
     "output_type": "stream",
     "text": [
      "Epoch 17 | MAE/CSI: 19.05648451538784 | MAE: 15.521529688907957 | CSI: 0.814501209620037 | Loss: 0.011547097936272621\n"
     ]
    },
    {
     "data": {
      "application/vnd.jupyter.widget-view+json": {
       "model_id": "5fcd702c53704783b869023d0f0c6070",
       "version_major": 2,
       "version_minor": 0
      },
      "text/plain": [
       "HBox(children=(HTML(value='Validating'), FloatProgress(value=1.0, bar_style='info', layout=Layout(flex='2'), m…"
      ]
     },
     "metadata": {},
     "output_type": "display_data"
    },
    {
     "name": "stdout",
     "output_type": "stream",
     "text": [
      "Epoch 18 | MAE/CSI: 19.16718569318381 | MAE: 15.615780001194492 | CSI: 0.8147142857142857 | Loss: 0.011518046259880066\n"
     ]
    },
    {
     "data": {
      "application/vnd.jupyter.widget-view+json": {
       "model_id": "281f546726974b9abdd5277c2c427677",
       "version_major": 2,
       "version_minor": 0
      },
      "text/plain": [
       "HBox(children=(HTML(value='Validating'), FloatProgress(value=1.0, bar_style='info', layout=Layout(flex='2'), m…"
      ]
     },
     "metadata": {},
     "output_type": "display_data"
    },
    {
     "name": "stdout",
     "output_type": "stream",
     "text": [
      "Epoch 19 | MAE/CSI: 18.73081169605486 | MAE: 15.293072094853354 | CSI: 0.8164660636706788 | Loss: 0.01148569118231535\n"
     ]
    },
    {
     "data": {
      "application/vnd.jupyter.widget-view+json": {
       "model_id": "bb25d9a424b6461bb8f7c6c29e3a854c",
       "version_major": 2,
       "version_minor": 0
      },
      "text/plain": [
       "HBox(children=(HTML(value='Validating'), FloatProgress(value=1.0, bar_style='info', layout=Layout(flex='2'), m…"
      ]
     },
     "metadata": {},
     "output_type": "display_data"
    },
    {
     "name": "stdout",
     "output_type": "stream",
     "text": [
      "Epoch 20 | MAE/CSI: 19.141530793836786 | MAE: 15.653774430905004 | CSI: 0.817791147400086 | Loss: 0.011520149186253548\n"
     ]
    },
    {
     "data": {
      "application/vnd.jupyter.widget-view+json": {
       "model_id": "168fd5a8a9684f0fac0a04a354d50728",
       "version_major": 2,
       "version_minor": 0
      },
      "text/plain": [
       "HBox(children=(HTML(value='Validating'), FloatProgress(value=1.0, bar_style='info', layout=Layout(flex='2'), m…"
      ]
     },
     "metadata": {},
     "output_type": "display_data"
    },
    {
     "name": "stdout",
     "output_type": "stream",
     "text": [
      "Epoch 21 | MAE/CSI: 18.813476282761126 | MAE: 15.291689353583903 | CSI: 0.8128050937389458 | Loss: 0.011663438752293587\n"
     ]
    },
    {
     "data": {
      "application/vnd.jupyter.widget-view+json": {
       "model_id": "f50168362a874e738ae34ce5281ce9d6",
       "version_major": 2,
       "version_minor": 0
      },
      "text/plain": [
       "HBox(children=(HTML(value='Validating'), FloatProgress(value=1.0, bar_style='info', layout=Layout(flex='2'), m…"
      ]
     },
     "metadata": {},
     "output_type": "display_data"
    },
    {
     "name": "stdout",
     "output_type": "stream",
     "text": [
      "Epoch 22 | MAE/CSI: 18.42512713407604 | MAE: 14.991494951336136 | CSI: 0.813644043931287 | Loss: 0.011668611317873001\n"
     ]
    },
    {
     "data": {
      "application/vnd.jupyter.widget-view+json": {
       "model_id": "36336bf5edf842cea7e3506996a143a8",
       "version_major": 2,
       "version_minor": 0
      },
      "text/plain": [
       "HBox(children=(HTML(value='Validating'), FloatProgress(value=1.0, bar_style='info', layout=Layout(flex='2'), m…"
      ]
     },
     "metadata": {},
     "output_type": "display_data"
    },
    {
     "name": "stdout",
     "output_type": "stream",
     "text": [
      "Epoch 23 | MAE/CSI: 18.5111411504437 | MAE: 15.066295467950644 | CSI: 0.8139041966935142 | Loss: 0.011603855527937412\n"
     ]
    },
    {
     "data": {
      "application/vnd.jupyter.widget-view+json": {
       "model_id": "8baab25eb41943aa9ca865724504293a",
       "version_major": 2,
       "version_minor": 0
      },
      "text/plain": [
       "HBox(children=(HTML(value='Validating'), FloatProgress(value=1.0, bar_style='info', layout=Layout(flex='2'), m…"
      ]
     },
     "metadata": {},
     "output_type": "display_data"
    },
    {
     "name": "stdout",
     "output_type": "stream",
     "text": [
      "Epoch 24 | MAE/CSI: 18.97355917639315 | MAE: 15.4504381284336 | CSI: 0.814314171883893 | Loss: 0.011588823981583118\n"
     ]
    },
    {
     "data": {
      "application/vnd.jupyter.widget-view+json": {
       "model_id": "86f8c11ff5724d3aa431311aa061b2e2",
       "version_major": 2,
       "version_minor": 0
      },
      "text/plain": [
       "HBox(children=(HTML(value='Validating'), FloatProgress(value=1.0, bar_style='info', layout=Layout(flex='2'), m…"
      ]
     },
     "metadata": {},
     "output_type": "display_data"
    },
    {
     "name": "stdout",
     "output_type": "stream",
     "text": [
      "Epoch 25 | MAE/CSI: 18.991307442213472 | MAE: 15.43785156363545 | CSI: 0.8128904031800114 | Loss: 0.011663117446005344\n"
     ]
    },
    {
     "data": {
      "application/vnd.jupyter.widget-view+json": {
       "model_id": "9dfb8cf47bc74b599cccede10f6d90d1",
       "version_major": 2,
       "version_minor": 0
      },
      "text/plain": [
       "HBox(children=(HTML(value='Validating'), FloatProgress(value=1.0, bar_style='info', layout=Layout(flex='2'), m…"
      ]
     },
     "metadata": {},
     "output_type": "display_data"
    },
    {
     "name": "stdout",
     "output_type": "stream",
     "text": [
      "Epoch 26 | MAE/CSI: 18.63918385797683 | MAE: 15.163947710759158 | CSI: 0.8135521290140048 | Loss: 0.01164956297725439\n"
     ]
    },
    {
     "data": {
      "application/vnd.jupyter.widget-view+json": {
       "model_id": "213217b29be249778d043162380e16dd",
       "version_major": 2,
       "version_minor": 0
      },
      "text/plain": [
       "HBox(children=(HTML(value='Validating'), FloatProgress(value=1.0, bar_style='info', layout=Layout(flex='2'), m…"
      ]
     },
     "metadata": {},
     "output_type": "display_data"
    },
    {
     "name": "stdout",
     "output_type": "stream",
     "text": [
      "Epoch 27 | MAE/CSI: 18.906251519195056 | MAE: 15.356309645176488 | CSI: 0.8122344944774851 | Loss: 0.01169898733496666\n"
     ]
    },
    {
     "data": {
      "application/vnd.jupyter.widget-view+json": {
       "model_id": "fc96ce3b143d4abca23182942be61809",
       "version_major": 2,
       "version_minor": 0
      },
      "text/plain": [
       "HBox(children=(HTML(value='Validating'), FloatProgress(value=1.0, bar_style='info', layout=Layout(flex='2'), m…"
      ]
     },
     "metadata": {},
     "output_type": "display_data"
    },
    {
     "name": "stdout",
     "output_type": "stream",
     "text": [
      "Epoch 28 | MAE/CSI: 19.010790761517644 | MAE: 15.43363629861466 | CSI: 0.8118355776045358 | Loss: 0.011704476550221443\n"
     ]
    },
    {
     "data": {
      "application/vnd.jupyter.widget-view+json": {
       "model_id": "133a44e7b2344fbdb2a4365a21382447",
       "version_major": 2,
       "version_minor": 0
      },
      "text/plain": [
       "HBox(children=(HTML(value='Validating'), FloatProgress(value=1.0, bar_style='info', layout=Layout(flex='2'), m…"
      ]
     },
     "metadata": {},
     "output_type": "display_data"
    },
    {
     "name": "stdout",
     "output_type": "stream",
     "text": [
      "Epoch 29 | MAE/CSI: 18.91723245279753 | MAE: 15.368827583863563 | CSI: 0.8124247361337394 | Loss: 0.011702695861458778\n",
      "\n",
      "Model saved at ../models/unet_fold3_bs256_epochs30_lr0.001_adamw_cosine.ckpt\n"
     ]
    },
    {
     "name": "stderr",
     "output_type": "stream",
     "text": [
      "GPU available: True, used: True\n",
      "TPU available: False, using: 0 TPU cores\n",
      "LOCAL_RANK: 0 - CUDA_VISIBLE_DEVICES: [0]\n",
      "Using native 16bit precision.\n",
      "\n",
      "  | Name      | Type       | Params\n",
      "-----------------------------------------\n",
      "0 | criterion | L1Loss     | 0     \n",
      "1 | tail      | BasicBlock | 300   \n",
      "2 | encoder   | Encoder    | 25 M  \n",
      "3 | decoder   | Decoder    | 17 M  \n",
      "4 | head      | Sequential | 8 K   \n"
     ]
    },
    {
     "name": "stdout",
     "output_type": "stream",
     "text": [
      "Training fold 4...\n"
     ]
    },
    {
     "data": {
      "application/vnd.jupyter.widget-view+json": {
       "model_id": "c6f1f1cf42cf41348e7a58e78981023d",
       "version_major": 2,
       "version_minor": 0
      },
      "text/plain": [
       "HBox(children=(HTML(value='Validation sanity check'), FloatProgress(value=1.0, bar_style='info', layout=Layout…"
      ]
     },
     "metadata": {},
     "output_type": "display_data"
    },
    {
     "name": "stdout",
     "output_type": "stream",
     "text": [
      "Epoch 0 | MAE/CSI: 110804066395808.14 | MAE: 110.80406639580814 | CSI: 0.0 | Loss: 0.046886492520570755\n"
     ]
    },
    {
     "data": {
      "application/vnd.jupyter.widget-view+json": {
       "model_id": "722c1610ece8437b94239fb0e476cb00",
       "version_major": 2,
       "version_minor": 0
      },
      "text/plain": [
       "HBox(children=(HTML(value='Training'), FloatProgress(value=1.0, bar_style='info', layout=Layout(flex='2'), max…"
      ]
     },
     "metadata": {},
     "output_type": "display_data"
    },
    {
     "data": {
      "application/vnd.jupyter.widget-view+json": {
       "model_id": "837aadf0ed7544b2b2497fa1263209f4",
       "version_major": 2,
       "version_minor": 0
      },
      "text/plain": [
       "HBox(children=(HTML(value='Validating'), FloatProgress(value=1.0, bar_style='info', layout=Layout(flex='2'), m…"
      ]
     },
     "metadata": {},
     "output_type": "display_data"
    },
    {
     "name": "stdout",
     "output_type": "stream",
     "text": [
      "Epoch 0 | MAE/CSI: 29.46492178703207 | MAE: 22.387287602854418 | CSI: 0.7597945707997066 | Loss: 0.014288208447396755\n"
     ]
    },
    {
     "data": {
      "application/vnd.jupyter.widget-view+json": {
       "model_id": "5bb9bc593d75424d8b392255d6f2209d",
       "version_major": 2,
       "version_minor": 0
      },
      "text/plain": [
       "HBox(children=(HTML(value='Validating'), FloatProgress(value=1.0, bar_style='info', layout=Layout(flex='2'), m…"
      ]
     },
     "metadata": {},
     "output_type": "display_data"
    },
    {
     "name": "stdout",
     "output_type": "stream",
     "text": [
      "Epoch 1 | MAE/CSI: 24.204093119843044 | MAE: 19.084029852953837 | CSI: 0.7884629165173773 | Loss: 0.013465666212141514\n"
     ]
    },
    {
     "data": {
      "application/vnd.jupyter.widget-view+json": {
       "model_id": "6132ce6528d74d7cb47eebfce33b4439",
       "version_major": 2,
       "version_minor": 0
      },
      "text/plain": [
       "HBox(children=(HTML(value='Validating'), FloatProgress(value=1.0, bar_style='info', layout=Layout(flex='2'), m…"
      ]
     },
     "metadata": {},
     "output_type": "display_data"
    },
    {
     "name": "stdout",
     "output_type": "stream",
     "text": [
      "Epoch 2 | MAE/CSI: 23.3908121436228 | MAE: 18.574004691365896 | CSI: 0.7940726716667881 | Loss: 0.0127839595079422\n"
     ]
    },
    {
     "data": {
      "application/vnd.jupyter.widget-view+json": {
       "model_id": "baa6e45053cb4ce8bf20c56c8760d998",
       "version_major": 2,
       "version_minor": 0
      },
      "text/plain": [
       "HBox(children=(HTML(value='Validating'), FloatProgress(value=1.0, bar_style='info', layout=Layout(flex='2'), m…"
      ]
     },
     "metadata": {},
     "output_type": "display_data"
    },
    {
     "name": "stdout",
     "output_type": "stream",
     "text": [
      "Epoch 3 | MAE/CSI: 21.65168614373402 | MAE: 17.37842964056247 | CSI: 0.8026363177987467 | Loss: 0.012596615590155125\n"
     ]
    },
    {
     "data": {
      "application/vnd.jupyter.widget-view+json": {
       "model_id": "0c5949bc6ac049439eaa8a630a88e230",
       "version_major": 2,
       "version_minor": 0
      },
      "text/plain": [
       "HBox(children=(HTML(value='Validating'), FloatProgress(value=1.0, bar_style='info', layout=Layout(flex='2'), m…"
      ]
     },
     "metadata": {},
     "output_type": "display_data"
    },
    {
     "name": "stdout",
     "output_type": "stream",
     "text": [
      "Epoch 4 | MAE/CSI: 21.677014943572697 | MAE: 17.44700715090798 | CSI: 0.8048620714753622 | Loss: 0.012286808341741562\n"
     ]
    },
    {
     "data": {
      "application/vnd.jupyter.widget-view+json": {
       "model_id": "ff6ad758b4a64e0caa31f86c05b23690",
       "version_major": 2,
       "version_minor": 0
      },
      "text/plain": [
       "HBox(children=(HTML(value='Validating'), FloatProgress(value=1.0, bar_style='info', layout=Layout(flex='2'), m…"
      ]
     },
     "metadata": {},
     "output_type": "display_data"
    },
    {
     "name": "stdout",
     "output_type": "stream",
     "text": [
      "Epoch 5 | MAE/CSI: 21.918280019408275 | MAE: 17.60216383659147 | CSI: 0.803081438004402 | Loss: 0.012095422483980656\n"
     ]
    },
    {
     "data": {
      "application/vnd.jupyter.widget-view+json": {
       "model_id": "2927897dd5ee475da777d5d252c03fd3",
       "version_major": 2,
       "version_minor": 0
      },
      "text/plain": [
       "HBox(children=(HTML(value='Validating'), FloatProgress(value=1.0, bar_style='info', layout=Layout(flex='2'), m…"
      ]
     },
     "metadata": {},
     "output_type": "display_data"
    },
    {
     "name": "stdout",
     "output_type": "stream",
     "text": [
      "Epoch 6 | MAE/CSI: 20.329710330708902 | MAE: 16.422185408844385 | CSI: 0.8077923955472025 | Loss: 0.012070290744304657\n"
     ]
    },
    {
     "data": {
      "application/vnd.jupyter.widget-view+json": {
       "model_id": "af8baae7f3924bee9614d53f2b210df0",
       "version_major": 2,
       "version_minor": 0
      },
      "text/plain": [
       "HBox(children=(HTML(value='Validating'), FloatProgress(value=1.0, bar_style='info', layout=Layout(flex='2'), m…"
      ]
     },
     "metadata": {},
     "output_type": "display_data"
    },
    {
     "name": "stdout",
     "output_type": "stream",
     "text": [
      "Epoch 7 | MAE/CSI: 21.331304906024766 | MAE: 17.233019202263723 | CSI: 0.8078745898651112 | Loss: 0.011999445036053658\n"
     ]
    },
    {
     "data": {
      "application/vnd.jupyter.widget-view+json": {
       "model_id": "bbbaaf899dca4ddcb7e6a6600889a11c",
       "version_major": 2,
       "version_minor": 0
      },
      "text/plain": [
       "HBox(children=(HTML(value='Validating'), FloatProgress(value=1.0, bar_style='info', layout=Layout(flex='2'), m…"
      ]
     },
     "metadata": {},
     "output_type": "display_data"
    },
    {
     "name": "stdout",
     "output_type": "stream",
     "text": [
      "Epoch 8 | MAE/CSI: 20.6731214146294 | MAE: 16.683493317061913 | CSI: 0.8070137538705264 | Loss: 0.012145860120654106\n"
     ]
    },
    {
     "data": {
      "application/vnd.jupyter.widget-view+json": {
       "model_id": "404c5111ad7c45cca38624ae968dcb3b",
       "version_major": 2,
       "version_minor": 0
      },
      "text/plain": [
       "HBox(children=(HTML(value='Validating'), FloatProgress(value=1.0, bar_style='info', layout=Layout(flex='2'), m…"
      ]
     },
     "metadata": {},
     "output_type": "display_data"
    },
    {
     "name": "stdout",
     "output_type": "stream",
     "text": [
      "Epoch 9 | MAE/CSI: 19.466089391431066 | MAE: 15.881236795690588 | CSI: 0.8158411520837879 | Loss: 0.011607903987169266\n"
     ]
    },
    {
     "data": {
      "application/vnd.jupyter.widget-view+json": {
       "model_id": "b18785cc75f44ad5ac35439416075c2c",
       "version_major": 2,
       "version_minor": 0
      },
      "text/plain": [
       "HBox(children=(HTML(value='Validating'), FloatProgress(value=1.0, bar_style='info', layout=Layout(flex='2'), m…"
      ]
     },
     "metadata": {},
     "output_type": "display_data"
    },
    {
     "name": "stdout",
     "output_type": "stream",
     "text": [
      "Epoch 10 | MAE/CSI: 19.81252870088382 | MAE: 16.179648879536806 | CSI: 0.8166372462488968 | Loss: 0.011471263132989407\n"
     ]
    },
    {
     "data": {
      "application/vnd.jupyter.widget-view+json": {
       "model_id": "09c94f8fff7c448e87cfd9896cc46913",
       "version_major": 2,
       "version_minor": 0
      },
      "text/plain": [
       "HBox(children=(HTML(value='Validating'), FloatProgress(value=1.0, bar_style='info', layout=Layout(flex='2'), m…"
      ]
     },
     "metadata": {},
     "output_type": "display_data"
    },
    {
     "name": "stdout",
     "output_type": "stream",
     "text": [
      "Epoch 11 | MAE/CSI: 19.550455453315504 | MAE: 15.932699609748498 | CSI: 0.8149528612146459 | Loss: 0.011466726660728455\n"
     ]
    },
    {
     "data": {
      "application/vnd.jupyter.widget-view+json": {
       "model_id": "11b1a04b097245c791ac9639a8c30b67",
       "version_major": 2,
       "version_minor": 0
      },
      "text/plain": [
       "HBox(children=(HTML(value='Validating'), FloatProgress(value=1.0, bar_style='info', layout=Layout(flex='2'), m…"
      ]
     },
     "metadata": {},
     "output_type": "display_data"
    },
    {
     "name": "stdout",
     "output_type": "stream",
     "text": [
      "Epoch 12 | MAE/CSI: 18.289922608388945 | MAE: 15.044766262064371 | CSI: 0.8225713462092822 | Loss: 0.01155020110309124\n"
     ]
    },
    {
     "data": {
      "application/vnd.jupyter.widget-view+json": {
       "model_id": "6989146b42de453c96c75c646a6f88ce",
       "version_major": 2,
       "version_minor": 0
      },
      "text/plain": [
       "HBox(children=(HTML(value='Validating'), FloatProgress(value=1.0, bar_style='info', layout=Layout(flex='2'), m…"
      ]
     },
     "metadata": {},
     "output_type": "display_data"
    },
    {
     "name": "stdout",
     "output_type": "stream",
     "text": [
      "Epoch 13 | MAE/CSI: 19.916873297085072 | MAE: 16.239037439054368 | CSI: 0.8153407011637268 | Loss: 0.011535759083926678\n"
     ]
    },
    {
     "data": {
      "application/vnd.jupyter.widget-view+json": {
       "model_id": "a00c71eebe2742078f40673906189ff6",
       "version_major": 2,
       "version_minor": 0
      },
      "text/plain": [
       "HBox(children=(HTML(value='Validating'), FloatProgress(value=1.0, bar_style='info', layout=Layout(flex='2'), m…"
      ]
     },
     "metadata": {},
     "output_type": "display_data"
    },
    {
     "name": "stdout",
     "output_type": "stream",
     "text": [
      "Epoch 14 | MAE/CSI: 19.381075628919593 | MAE: 15.88246965193991 | CSI: 0.8194833948339484 | Loss: 0.011257984675467014\n"
     ]
    },
    {
     "data": {
      "application/vnd.jupyter.widget-view+json": {
       "model_id": "019efaa949604264b6090e3970c44484",
       "version_major": 2,
       "version_minor": 0
      },
      "text/plain": [
       "HBox(children=(HTML(value='Validating'), FloatProgress(value=1.0, bar_style='info', layout=Layout(flex='2'), m…"
      ]
     },
     "metadata": {},
     "output_type": "display_data"
    },
    {
     "name": "stdout",
     "output_type": "stream",
     "text": [
      "Epoch 15 | MAE/CSI: 20.13362559236226 | MAE: 16.44119687934336 | CSI: 0.8166038850727528 | Loss: 0.01147684920579195\n"
     ]
    },
    {
     "data": {
      "application/vnd.jupyter.widget-view+json": {
       "model_id": "2a79d9eeae8b43d59d3275b07882e4a0",
       "version_major": 2,
       "version_minor": 0
      },
      "text/plain": [
       "HBox(children=(HTML(value='Validating'), FloatProgress(value=1.0, bar_style='info', layout=Layout(flex='2'), m…"
      ]
     },
     "metadata": {},
     "output_type": "display_data"
    },
    {
     "name": "stdout",
     "output_type": "stream",
     "text": [
      "Epoch 16 | MAE/CSI: 17.862983125481282 | MAE: 14.748776933633795 | CSI: 0.8256614715476622 | Loss: 0.01122660469263792\n"
     ]
    },
    {
     "data": {
      "application/vnd.jupyter.widget-view+json": {
       "model_id": "f9cf658173894379b090c7cd764b42c3",
       "version_major": 2,
       "version_minor": 0
      },
      "text/plain": [
       "HBox(children=(HTML(value='Validating'), FloatProgress(value=1.0, bar_style='info', layout=Layout(flex='2'), m…"
      ]
     },
     "metadata": {},
     "output_type": "display_data"
    },
    {
     "name": "stdout",
     "output_type": "stream",
     "text": [
      "Epoch 17 | MAE/CSI: 17.659409365863613 | MAE: 14.61047819083576 | CSI: 0.8273480662983426 | Loss: 0.011134890839457512\n"
     ]
    },
    {
     "data": {
      "application/vnd.jupyter.widget-view+json": {
       "model_id": "a8a4100fad5b46c599684dbdb0455b15",
       "version_major": 2,
       "version_minor": 0
      },
      "text/plain": [
       "HBox(children=(HTML(value='Validating'), FloatProgress(value=1.0, bar_style='info', layout=Layout(flex='2'), m…"
      ]
     },
     "metadata": {},
     "output_type": "display_data"
    },
    {
     "name": "stdout",
     "output_type": "stream",
     "text": [
      "Epoch 18 | MAE/CSI: 17.875598933953043 | MAE: 14.754400889379596 | CSI: 0.8253933724893047 | Loss: 0.011305585503578186\n"
     ]
    },
    {
     "data": {
      "application/vnd.jupyter.widget-view+json": {
       "model_id": "d7d2720c11be4081b3bcde968f9dc88c",
       "version_major": 2,
       "version_minor": 0
      },
      "text/plain": [
       "HBox(children=(HTML(value='Validating'), FloatProgress(value=1.0, bar_style='info', layout=Layout(flex='2'), m…"
      ]
     },
     "metadata": {},
     "output_type": "display_data"
    },
    {
     "name": "stdout",
     "output_type": "stream",
     "text": [
      "Epoch 19 | MAE/CSI: 18.201254790410943 | MAE: 15.010341899683212 | CSI: 0.8246872027511524 | Loss: 0.011105424724519253\n"
     ]
    },
    {
     "data": {
      "application/vnd.jupyter.widget-view+json": {
       "model_id": "92dda2ccd1904847bc25407145721f94",
       "version_major": 2,
       "version_minor": 0
      },
      "text/plain": [
       "HBox(children=(HTML(value='Validating'), FloatProgress(value=1.0, bar_style='info', layout=Layout(flex='2'), m…"
      ]
     },
     "metadata": {},
     "output_type": "display_data"
    },
    {
     "name": "stdout",
     "output_type": "stream",
     "text": [
      "Epoch 20 | MAE/CSI: 18.577237816975604 | MAE: 15.28320825097125 | CSI: 0.8226846424384525 | Loss: 0.011204416863620281\n"
     ]
    },
    {
     "data": {
      "application/vnd.jupyter.widget-view+json": {
       "model_id": "d0ed5dd921164c1790dc539914aaecc7",
       "version_major": 2,
       "version_minor": 0
      },
      "text/plain": [
       "HBox(children=(HTML(value='Validating'), FloatProgress(value=1.0, bar_style='info', layout=Layout(flex='2'), m…"
      ]
     },
     "metadata": {},
     "output_type": "display_data"
    },
    {
     "name": "stdout",
     "output_type": "stream",
     "text": [
      "Epoch 21 | MAE/CSI: 18.38351714846262 | MAE: 15.161192424176441 | CSI: 0.8247166361974406 | Loss: 0.011202105320990086\n"
     ]
    },
    {
     "data": {
      "application/vnd.jupyter.widget-view+json": {
       "model_id": "8bbf85b4cda94a999f5f272b69d77c8b",
       "version_major": 2,
       "version_minor": 0
      },
      "text/plain": [
       "HBox(children=(HTML(value='Validating'), FloatProgress(value=1.0, bar_style='info', layout=Layout(flex='2'), m…"
      ]
     },
     "metadata": {},
     "output_type": "display_data"
    },
    {
     "name": "stdout",
     "output_type": "stream",
     "text": [
      "Epoch 22 | MAE/CSI: 18.325339605405098 | MAE: 15.064050353614043 | CSI: 0.8220338983050848 | Loss: 0.011181995272636414\n"
     ]
    },
    {
     "data": {
      "application/vnd.jupyter.widget-view+json": {
       "model_id": "fb1d2d4e188c4e8d85bec6f98d921b8e",
       "version_major": 2,
       "version_minor": 0
      },
      "text/plain": [
       "HBox(children=(HTML(value='Validating'), FloatProgress(value=1.0, bar_style='info', layout=Layout(flex='2'), m…"
      ]
     },
     "metadata": {},
     "output_type": "display_data"
    },
    {
     "name": "stdout",
     "output_type": "stream",
     "text": [
      "Epoch 23 | MAE/CSI: 17.875720986784252 | MAE: 14.731736891221365 | CSI: 0.8241198719813791 | Loss: 0.011183995753526688\n"
     ]
    },
    {
     "data": {
      "application/vnd.jupyter.widget-view+json": {
       "model_id": "ae0e0a326ff846ebad65bef6cbc2ee95",
       "version_major": 2,
       "version_minor": 0
      },
      "text/plain": [
       "HBox(children=(HTML(value='Validating'), FloatProgress(value=1.0, bar_style='info', layout=Layout(flex='2'), m…"
      ]
     },
     "metadata": {},
     "output_type": "display_data"
    },
    {
     "name": "stdout",
     "output_type": "stream",
     "text": [
      "Epoch 24 | MAE/CSI: 18.44947563426877 | MAE: 15.130209495701461 | CSI: 0.8200888629907495 | Loss: 0.011271136812865734\n"
     ]
    },
    {
     "data": {
      "application/vnd.jupyter.widget-view+json": {
       "model_id": "715961f00ba642a6beb071797fe3a3ed",
       "version_major": 2,
       "version_minor": 0
      },
      "text/plain": [
       "HBox(children=(HTML(value='Validating'), FloatProgress(value=1.0, bar_style='info', layout=Layout(flex='2'), m…"
      ]
     },
     "metadata": {},
     "output_type": "display_data"
    },
    {
     "name": "stdout",
     "output_type": "stream",
     "text": [
      "Epoch 25 | MAE/CSI: 18.53381123761257 | MAE: 15.19639837323524 | CSI: 0.8199284096719994 | Loss: 0.011240239255130291\n"
     ]
    },
    {
     "data": {
      "application/vnd.jupyter.widget-view+json": {
       "model_id": "9f3d5de73dcf41f7813996af558f10dd",
       "version_major": 2,
       "version_minor": 0
      },
      "text/plain": [
       "HBox(children=(HTML(value='Validating'), FloatProgress(value=1.0, bar_style='info', layout=Layout(flex='2'), m…"
      ]
     },
     "metadata": {},
     "output_type": "display_data"
    },
    {
     "name": "stdout",
     "output_type": "stream",
     "text": [
      "Epoch 26 | MAE/CSI: 18.0624360317926 | MAE: 14.856623087439964 | CSI: 0.8225149177703391 | Loss: 0.01123881060630083\n"
     ]
    },
    {
     "data": {
      "application/vnd.jupyter.widget-view+json": {
       "model_id": "1b33f4a82abb4b8389120ff2f915bc46",
       "version_major": 2,
       "version_minor": 0
      },
      "text/plain": [
       "HBox(children=(HTML(value='Validating'), FloatProgress(value=1.0, bar_style='info', layout=Layout(flex='2'), m…"
      ]
     },
     "metadata": {},
     "output_type": "display_data"
    },
    {
     "name": "stdout",
     "output_type": "stream",
     "text": [
      "Epoch 27 | MAE/CSI: 18.33757410027865 | MAE: 15.043335066826108 | CSI: 0.8203557888597258 | Loss: 0.0112459110096097\n"
     ]
    },
    {
     "data": {
      "application/vnd.jupyter.widget-view+json": {
       "model_id": "08e80f7d937847a392118aa90a2bdfdd",
       "version_major": 2,
       "version_minor": 0
      },
      "text/plain": [
       "HBox(children=(HTML(value='Validating'), FloatProgress(value=1.0, bar_style='info', layout=Layout(flex='2'), m…"
      ]
     },
     "metadata": {},
     "output_type": "display_data"
    },
    {
     "name": "stdout",
     "output_type": "stream",
     "text": [
      "Epoch 28 | MAE/CSI: 18.386441478880272 | MAE: 15.091226520452597 | CSI: 0.8207801676995989 | Loss: 0.011267893016338348\n"
     ]
    },
    {
     "data": {
      "application/vnd.jupyter.widget-view+json": {
       "model_id": "6d3c00256761455285174527ddd21387",
       "version_major": 2,
       "version_minor": 0
      },
      "text/plain": [
       "HBox(children=(HTML(value='Validating'), FloatProgress(value=1.0, bar_style='info', layout=Layout(flex='2'), m…"
      ]
     },
     "metadata": {},
     "output_type": "display_data"
    },
    {
     "name": "stdout",
     "output_type": "stream",
     "text": [
      "Epoch 29 | MAE/CSI: 18.40432508550994 | MAE: 15.094416588039563 | CSI: 0.8201559425781535 | Loss: 0.011272534728050232\n",
      "\n",
      "Model saved at ../models/unet_fold4_bs256_epochs30_lr0.001_adamw_cosine.ckpt\n"
     ]
    },
    {
     "data": {
      "application/javascript": [
       "\n",
       "            setTimeout(function() {\n",
       "                var nbb_cell_id = 16;\n",
       "                var nbb_unformatted_code = \"# AdamW bs256 lr 1e-3\\nfor fold in range(5):\\n    train_fold(df, fold)\";\n",
       "                var nbb_formatted_code = \"# AdamW bs256 lr 1e-3\\nfor fold in range(5):\\n    train_fold(df, fold)\";\n",
       "                var nbb_cells = Jupyter.notebook.get_cells();\n",
       "                for (var i = 0; i < nbb_cells.length; ++i) {\n",
       "                    if (nbb_cells[i].input_prompt_number == nbb_cell_id) {\n",
       "                        if (nbb_cells[i].get_text() == nbb_unformatted_code) {\n",
       "                             nbb_cells[i].set_text(nbb_formatted_code);\n",
       "                        }\n",
       "                        break;\n",
       "                    }\n",
       "                }\n",
       "            }, 500);\n",
       "            "
      ],
      "text/plain": [
       "<IPython.core.display.Javascript object>"
      ]
     },
     "metadata": {},
     "output_type": "display_data"
    }
   ],
   "source": [
    "# AdamW bs256 lr 1e-3\n",
    "for fold in range(5):\n",
    "    train_fold(df, fold)"
   ]
  },
  {
   "cell_type": "code",
   "execution_count": null,
   "metadata": {},
   "outputs": [
    {
     "name": "stderr",
     "output_type": "stream",
     "text": [
      "GPU available: True, used: True\n",
      "TPU available: False, using: 0 TPU cores\n",
      "LOCAL_RANK: 0 - CUDA_VISIBLE_DEVICES: [0]\n",
      "Using native 16bit precision.\n"
     ]
    },
    {
     "name": "stdout",
     "output_type": "stream",
     "text": [
      "Training fold 0...\n"
     ]
    },
    {
     "name": "stderr",
     "output_type": "stream",
     "text": [
      "\n",
      "  | Name      | Type       | Params\n",
      "-----------------------------------------\n",
      "0 | criterion | L1Loss     | 0     \n",
      "1 | tail      | BasicBlock | 300   \n",
      "2 | encoder   | Encoder    | 25 M  \n",
      "3 | decoder   | Decoder    | 17 M  \n",
      "4 | head      | Sequential | 8 K   \n"
     ]
    },
    {
     "data": {
      "application/vnd.jupyter.widget-view+json": {
       "model_id": "885a4ed50e7d41ab823130597b98959e",
       "version_major": 2,
       "version_minor": 0
      },
      "text/plain": [
       "HBox(children=(HTML(value='Validation sanity check'), FloatProgress(value=1.0, bar_style='info', layout=Layout…"
      ]
     },
     "metadata": {},
     "output_type": "display_data"
    },
    {
     "name": "stdout",
     "output_type": "stream",
     "text": [
      "Epoch 0 | MAE/CSI: 167.45782510687246 | MAE: 27.286654537671232 | CSI: 0.16294642857142858 | Loss: 0.4579598009586334\n"
     ]
    },
    {
     "data": {
      "application/vnd.jupyter.widget-view+json": {
       "model_id": "33c71bafc60247cbbb413df289864066",
       "version_major": 2,
       "version_minor": 0
      },
      "text/plain": [
       "HBox(children=(HTML(value='Training'), FloatProgress(value=1.0, bar_style='info', layout=Layout(flex='2'), max…"
      ]
     },
     "metadata": {},
     "output_type": "display_data"
    },
    {
     "data": {
      "application/vnd.jupyter.widget-view+json": {
       "model_id": "b810e2381d1c4e6095e01e694b20886e",
       "version_major": 2,
       "version_minor": 0
      },
      "text/plain": [
       "HBox(children=(HTML(value='Validating'), FloatProgress(value=1.0, bar_style='info', layout=Layout(flex='2'), m…"
      ]
     },
     "metadata": {},
     "output_type": "display_data"
    },
    {
     "name": "stdout",
     "output_type": "stream",
     "text": [
      "Epoch 0 | MAE/CSI: 28.362450125306825 | MAE: 22.10657577075336 | CSI: 0.7794311024984428 | Loss: 0.020207127556204796\n"
     ]
    },
    {
     "data": {
      "application/vnd.jupyter.widget-view+json": {
       "model_id": "a48d157eba4049c09d92b2b1a7c7c85d",
       "version_major": 2,
       "version_minor": 0
      },
      "text/plain": [
       "HBox(children=(HTML(value='Validating'), FloatProgress(value=1.0, bar_style='info', layout=Layout(flex='2'), m…"
      ]
     },
     "metadata": {},
     "output_type": "display_data"
    },
    {
     "name": "stdout",
     "output_type": "stream",
     "text": [
      "Epoch 1 | MAE/CSI: 23.82231910706382 | MAE: 18.83105605581214 | CSI: 0.7904795486600846 | Loss: 0.014244887046515942\n"
     ]
    },
    {
     "data": {
      "application/vnd.jupyter.widget-view+json": {
       "model_id": "26f724d76a2d4523aad75bdf1784305c",
       "version_major": 2,
       "version_minor": 0
      },
      "text/plain": [
       "HBox(children=(HTML(value='Validating'), FloatProgress(value=1.0, bar_style='info', layout=Layout(flex='2'), m…"
      ]
     },
     "metadata": {},
     "output_type": "display_data"
    },
    {
     "name": "stdout",
     "output_type": "stream",
     "text": [
      "Epoch 2 | MAE/CSI: 23.14310842963703 | MAE: 18.453300962246768 | CSI: 0.7973561986423723 | Loss: 0.013162474147975445\n"
     ]
    },
    {
     "data": {
      "application/vnd.jupyter.widget-view+json": {
       "model_id": "d72b4eb2a7d14be4b0d829b07c1fa356",
       "version_major": 2,
       "version_minor": 0
      },
      "text/plain": [
       "HBox(children=(HTML(value='Validating'), FloatProgress(value=1.0, bar_style='info', layout=Layout(flex='2'), m…"
      ]
     },
     "metadata": {},
     "output_type": "display_data"
    },
    {
     "name": "stdout",
     "output_type": "stream",
     "text": [
      "Epoch 3 | MAE/CSI: 22.18791287315471 | MAE: 17.807568912908806 | CSI: 0.8025797205302759 | Loss: 0.012457935139536858\n"
     ]
    },
    {
     "data": {
      "application/vnd.jupyter.widget-view+json": {
       "model_id": "06588808b6a44f629791f023be14b748",
       "version_major": 2,
       "version_minor": 0
      },
      "text/plain": [
       "HBox(children=(HTML(value='Validating'), FloatProgress(value=1.0, bar_style='info', layout=Layout(flex='2'), m…"
      ]
     },
     "metadata": {},
     "output_type": "display_data"
    },
    {
     "name": "stdout",
     "output_type": "stream",
     "text": [
      "Epoch 4 | MAE/CSI: 23.763760209997628 | MAE: 19.19425320030403 | CSI: 0.8077111126632674 | Loss: 0.013415777124464512\n"
     ]
    },
    {
     "data": {
      "application/vnd.jupyter.widget-view+json": {
       "model_id": "701177f951c548a2957209fe134f763a",
       "version_major": 2,
       "version_minor": 0
      },
      "text/plain": [
       "HBox(children=(HTML(value='Validating'), FloatProgress(value=1.0, bar_style='info', layout=Layout(flex='2'), m…"
      ]
     },
     "metadata": {},
     "output_type": "display_data"
    },
    {
     "name": "stdout",
     "output_type": "stream",
     "text": [
      "Epoch 5 | MAE/CSI: 21.892119289753165 | MAE: 17.683018462607592 | CSI: 0.8077344284736482 | Loss: 0.013465486466884613\n"
     ]
    },
    {
     "data": {
      "application/vnd.jupyter.widget-view+json": {
       "model_id": "4edfbe5a786b42d89ea66ab63c6a132e",
       "version_major": 2,
       "version_minor": 0
      },
      "text/plain": [
       "HBox(children=(HTML(value='Validating'), FloatProgress(value=1.0, bar_style='info', layout=Layout(flex='2'), m…"
      ]
     },
     "metadata": {},
     "output_type": "display_data"
    },
    {
     "name": "stdout",
     "output_type": "stream",
     "text": [
      "Epoch 6 | MAE/CSI: 22.04263144863797 | MAE: 17.724101042939697 | CSI: 0.8040828103585083 | Loss: 0.01200629211962223\n"
     ]
    },
    {
     "data": {
      "application/vnd.jupyter.widget-view+json": {
       "model_id": "6abc8d9668884244a071939dcc15c42f",
       "version_major": 2,
       "version_minor": 0
      },
      "text/plain": [
       "HBox(children=(HTML(value='Validating'), FloatProgress(value=1.0, bar_style='info', layout=Layout(flex='2'), m…"
      ]
     },
     "metadata": {},
     "output_type": "display_data"
    },
    {
     "name": "stdout",
     "output_type": "stream",
     "text": [
      "Epoch 7 | MAE/CSI: 21.346540554610538 | MAE: 17.230123555188904 | CSI: 0.8071623367303 | Loss: 0.011888713575899601\n"
     ]
    },
    {
     "data": {
      "application/vnd.jupyter.widget-view+json": {
       "model_id": "29dd3c71466e4c44933785c50306f362",
       "version_major": 2,
       "version_minor": 0
      },
      "text/plain": [
       "HBox(children=(HTML(value='Validating'), FloatProgress(value=1.0, bar_style='info', layout=Layout(flex='2'), m…"
      ]
     },
     "metadata": {},
     "output_type": "display_data"
    },
    {
     "name": "stdout",
     "output_type": "stream",
     "text": [
      "Epoch 8 | MAE/CSI: 19.32465185410075 | MAE: 15.690600147796456 | CSI: 0.8119473647566664 | Loss: 0.01206459105014801\n"
     ]
    },
    {
     "data": {
      "application/vnd.jupyter.widget-view+json": {
       "model_id": "b66ddc67851047fdbcaf7d6df8d7ce3d",
       "version_major": 2,
       "version_minor": 0
      },
      "text/plain": [
       "HBox(children=(HTML(value='Validating'), FloatProgress(value=1.0, bar_style='info', layout=Layout(flex='2'), m…"
      ]
     },
     "metadata": {},
     "output_type": "display_data"
    },
    {
     "name": "stdout",
     "output_type": "stream",
     "text": [
      "Epoch 9 | MAE/CSI: 20.710088985666317 | MAE: 16.81065647000772 | CSI: 0.8117133867276888 | Loss: 0.011814854107797146\n"
     ]
    },
    {
     "data": {
      "application/vnd.jupyter.widget-view+json": {
       "model_id": "46727dee487c46c79c0b4448d9487023",
       "version_major": 2,
       "version_minor": 0
      },
      "text/plain": [
       "HBox(children=(HTML(value='Validating'), FloatProgress(value=1.0, bar_style='info', layout=Layout(flex='2'), m…"
      ]
     },
     "metadata": {},
     "output_type": "display_data"
    },
    {
     "name": "stdout",
     "output_type": "stream",
     "text": [
      "Epoch 10 | MAE/CSI: 24.743819129015346 | MAE: 19.77880616991625 | CSI: 0.7993433053630062 | Loss: 0.012558660469949245\n"
     ]
    }
   ],
   "source": [
    "# AdamW bs256 lr 1e-3 sigmoid\n",
    "for fold in range(5):\n",
    "    train_fold(df, fold)"
   ]
  },
  {
   "cell_type": "markdown",
   "metadata": {},
   "source": [
    "## Inference"
   ]
  },
  {
   "cell_type": "code",
   "execution_count": null,
   "metadata": {},
   "outputs": [],
   "source": [
    "def inference(checkpoints):\n",
    "    datamodule = NowcastingDataModule()\n",
    "    datamodule.setup(\"test\")\n",
    "    \n",
    "    test_paths = datamodule.test_dataset.paths\n",
    "    test_filenames = [path.name for path in test_paths]\n",
    "    final_preds = np.zeros((len(datamodule.test_dataset), 14400))\n",
    "    \n",
    "    for checkpoint in checkpoints:\n",
    "        print(f\"Inference from {checkpoint}\")\n",
    "        model = UNet.load_from_checkpoint(str(checkpoint))\n",
    "        model.cuda()\n",
    "        model.eval()\n",
    "        preds = []\n",
    "        with torch.no_grad():\n",
    "            for batch in tqdm(datamodule.test_dataloader()):\n",
    "                batch = batch.cuda()\n",
    "                imgs = model(batch)\n",
    "                imgs = imgs.detach().cpu().numpy()\n",
    "                imgs = imgs[:, 0, 4:124, 4:124]\n",
    "                imgs = args[\"rng\"] * imgs\n",
    "                imgs = imgs.clip(0, 255)\n",
    "                imgs = imgs.round()\n",
    "                preds.append(imgs)\n",
    "                \n",
    "        preds = np.concatenate(preds)\n",
    "        preds = preds.astype(np.uint8)\n",
    "        preds = preds.reshape(-1, 14400)\n",
    "        final_preds += preds / len(checkpoint)\n",
    "        \n",
    "        del model\n",
    "        gc.collect()\n",
    "        torch.cuda.empty_cache()\n",
    "        \n",
    "    final_preds = final_preds.round()\n",
    "    final_preds = final_preds.astype(np.uint8)\n",
    "    \n",
    "    subm = pd.DataFrame()\n",
    "    subm[\"file_name\"] = test_filename\n",
    "    for i in tqdm(range(14400)):\n",
    "        subm[str(i)] = final_preds[:, i]\n",
    "        \n",
    "    return subm"
   ]
  },
  {
   "cell_type": "code",
   "execution_count": null,
   "metadata": {},
   "outputs": [],
   "source": [
    "checkpoints = [args[\"model_dir\"] / f\"unet_fold{fold}_bs{args['batch_size']}_epochs{args['max_epochs']}_lr{model.lr}_{args['optimizer']}_{args['scheduler']}.ckpt\" for fold in range(5)]\n",
    "output_path = args[\"output_dir\"] / f\"unet_bs{args['batch_size']}_epochs{args['max_epochs']}_lr{model.lr}_{args['optimizer']}_{args['scheduler']}.csv\"\n",
    "subm.to_csv(output_path, index=False)\n",
    "subm.head()"
   ]
  },
  {
   "cell_type": "code",
   "execution_count": null,
   "metadata": {},
   "outputs": [],
   "source": []
  },
  {
   "cell_type": "code",
   "execution_count": null,
   "metadata": {},
   "outputs": [],
   "source": []
  },
  {
   "cell_type": "code",
   "execution_count": null,
   "metadata": {},
   "outputs": [],
   "source": []
  },
  {
   "cell_type": "code",
   "execution_count": null,
   "metadata": {},
   "outputs": [],
   "source": []
  },
  {
   "cell_type": "code",
   "execution_count": null,
   "metadata": {},
   "outputs": [],
   "source": []
  },
  {
   "cell_type": "code",
   "execution_count": null,
   "metadata": {},
   "outputs": [],
   "source": []
  },
  {
   "cell_type": "code",
   "execution_count": null,
   "metadata": {},
   "outputs": [],
   "source": []
  },
  {
   "cell_type": "code",
   "execution_count": null,
   "metadata": {},
   "outputs": [],
   "source": []
  },
  {
   "cell_type": "code",
   "execution_count": null,
   "metadata": {},
   "outputs": [],
   "source": []
  },
  {
   "cell_type": "code",
   "execution_count": null,
   "metadata": {},
   "outputs": [],
   "source": []
  },
  {
   "cell_type": "code",
   "execution_count": null,
   "metadata": {},
   "outputs": [],
   "source": []
  }
 ],
 "metadata": {
  "kernelspec": {
   "display_name": "Python [conda env:torch] *",
   "language": "python",
   "name": "conda-env-torch-py"
  },
  "language_info": {
   "codemirror_mode": {
    "name": "ipython",
    "version": 3
   },
   "file_extension": ".py",
   "mimetype": "text/x-python",
   "name": "python",
   "nbconvert_exporter": "python",
   "pygments_lexer": "ipython3",
   "version": "3.7.8"
  }
 },
 "nbformat": 4,
 "nbformat_minor": 4
}
