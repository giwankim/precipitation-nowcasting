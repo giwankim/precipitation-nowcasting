{
 "cells": [
  {
   "cell_type": "code",
   "execution_count": 1,
   "metadata": {},
   "outputs": [
    {
     "data": {
      "application/javascript": [
       "\n",
       "            setTimeout(function() {\n",
       "                var nbb_cell_id = 1;\n",
       "                var nbb_unformatted_code = \"%reload_ext autoreload\\n%autoreload 2\\n%matplotlib inline\\n%reload_ext nb_black\";\n",
       "                var nbb_formatted_code = \"%reload_ext autoreload\\n%autoreload 2\\n%matplotlib inline\\n%reload_ext nb_black\";\n",
       "                var nbb_cells = Jupyter.notebook.get_cells();\n",
       "                for (var i = 0; i < nbb_cells.length; ++i) {\n",
       "                    if (nbb_cells[i].input_prompt_number == nbb_cell_id) {\n",
       "                        if (nbb_cells[i].get_text() == nbb_unformatted_code) {\n",
       "                             nbb_cells[i].set_text(nbb_formatted_code);\n",
       "                        }\n",
       "                        break;\n",
       "                    }\n",
       "                }\n",
       "            }, 500);\n",
       "            "
      ],
      "text/plain": [
       "<IPython.core.display.Javascript object>"
      ]
     },
     "metadata": {},
     "output_type": "display_data"
    }
   ],
   "source": [
    "%reload_ext autoreload\n",
    "%autoreload 2\n",
    "%matplotlib inline\n",
    "%reload_ext nb_black"
   ]
  },
  {
   "cell_type": "code",
   "execution_count": 2,
   "metadata": {},
   "outputs": [
    {
     "data": {
      "application/javascript": [
       "\n",
       "            setTimeout(function() {\n",
       "                var nbb_cell_id = 2;\n",
       "                var nbb_unformatted_code = \"import sys\\nsys.path.insert(0, \\\"../src\\\")\";\n",
       "                var nbb_formatted_code = \"import sys\\n\\nsys.path.insert(0, \\\"../src\\\")\";\n",
       "                var nbb_cells = Jupyter.notebook.get_cells();\n",
       "                for (var i = 0; i < nbb_cells.length; ++i) {\n",
       "                    if (nbb_cells[i].input_prompt_number == nbb_cell_id) {\n",
       "                        if (nbb_cells[i].get_text() == nbb_unformatted_code) {\n",
       "                             nbb_cells[i].set_text(nbb_formatted_code);\n",
       "                        }\n",
       "                        break;\n",
       "                    }\n",
       "                }\n",
       "            }, 500);\n",
       "            "
      ],
      "text/plain": [
       "<IPython.core.display.Javascript object>"
      ]
     },
     "metadata": {},
     "output_type": "display_data"
    }
   ],
   "source": [
    "import sys\n",
    "\n",
    "sys.path.insert(0, \"../src\")"
   ]
  },
  {
   "cell_type": "code",
   "execution_count": 72,
   "metadata": {},
   "outputs": [
    {
     "data": {
      "application/javascript": [
       "\n",
       "            setTimeout(function() {\n",
       "                var nbb_cell_id = 72;\n",
       "                var nbb_unformatted_code = \"import gc\\nimport math\\nfrom argparse import ArgumentParser\\nfrom concurrent.futures import ThreadPoolExecutor\\nfrom pathlib import Path\\n\\nimport cv2\\nimport numpy as np\\nimport pandas as pd\\nimport matplotlib.pyplot as plt\\nfrom matplotlib.patches import Circle\\n\\nfrom sklearn import metrics\\nfrom sklearn import model_selection\\nfrom tqdm.notebook import tqdm\\n\\nimport torch\\nimport torch.nn as nn\\nimport torch.nn.functional as F\\n\\nimport pytorch_lightning as pl\\n\\nfrom utils import *\";\n",
       "                var nbb_formatted_code = \"import gc\\nimport math\\nfrom argparse import ArgumentParser\\nfrom concurrent.futures import ThreadPoolExecutor\\nfrom pathlib import Path\\n\\nimport cv2\\nimport numpy as np\\nimport pandas as pd\\nimport matplotlib.pyplot as plt\\nfrom matplotlib.patches import Circle\\n\\nfrom sklearn import metrics\\nfrom sklearn import model_selection\\nfrom tqdm.notebook import tqdm\\n\\nimport torch\\nimport torch.nn as nn\\nimport torch.nn.functional as F\\n\\nimport pytorch_lightning as pl\\n\\nfrom utils import *\";\n",
       "                var nbb_cells = Jupyter.notebook.get_cells();\n",
       "                for (var i = 0; i < nbb_cells.length; ++i) {\n",
       "                    if (nbb_cells[i].input_prompt_number == nbb_cell_id) {\n",
       "                        if (nbb_cells[i].get_text() == nbb_unformatted_code) {\n",
       "                             nbb_cells[i].set_text(nbb_formatted_code);\n",
       "                        }\n",
       "                        break;\n",
       "                    }\n",
       "                }\n",
       "            }, 500);\n",
       "            "
      ],
      "text/plain": [
       "<IPython.core.display.Javascript object>"
      ]
     },
     "metadata": {},
     "output_type": "display_data"
    }
   ],
   "source": [
    "import gc\n",
    "import math\n",
    "from argparse import ArgumentParser\n",
    "from concurrent.futures import ThreadPoolExecutor\n",
    "from pathlib import Path\n",
    "\n",
    "import cv2\n",
    "import numpy as np\n",
    "import pandas as pd\n",
    "import matplotlib.pyplot as plt\n",
    "from matplotlib.patches import Circle\n",
    "\n",
    "from sklearn import metrics\n",
    "from sklearn import model_selection\n",
    "from tqdm.notebook import tqdm\n",
    "\n",
    "import torch\n",
    "import torch.nn as nn\n",
    "import torch.nn.functional as F\n",
    "\n",
    "import pytorch_lightning as pl\n",
    "\n",
    "from utils import *"
   ]
  },
  {
   "cell_type": "code",
   "execution_count": 4,
   "metadata": {},
   "outputs": [
    {
     "name": "stdout",
     "output_type": "stream",
     "text": [
      "PyTorch version: 1.6.0\n"
     ]
    },
    {
     "data": {
      "application/javascript": [
       "\n",
       "            setTimeout(function() {\n",
       "                var nbb_cell_id = 4;\n",
       "                var nbb_unformatted_code = \"torch.backends.cudnn.benchmark = True\\nprint(\\\"PyTorch version:\\\", torch.__version__)\";\n",
       "                var nbb_formatted_code = \"torch.backends.cudnn.benchmark = True\\nprint(\\\"PyTorch version:\\\", torch.__version__)\";\n",
       "                var nbb_cells = Jupyter.notebook.get_cells();\n",
       "                for (var i = 0; i < nbb_cells.length; ++i) {\n",
       "                    if (nbb_cells[i].input_prompt_number == nbb_cell_id) {\n",
       "                        if (nbb_cells[i].get_text() == nbb_unformatted_code) {\n",
       "                             nbb_cells[i].set_text(nbb_formatted_code);\n",
       "                        }\n",
       "                        break;\n",
       "                    }\n",
       "                }\n",
       "            }, 500);\n",
       "            "
      ],
      "text/plain": [
       "<IPython.core.display.Javascript object>"
      ]
     },
     "metadata": {},
     "output_type": "display_data"
    }
   ],
   "source": [
    "torch.backends.cudnn.benchmark = True\n",
    "print(\"PyTorch version:\", torch.__version__)"
   ]
  },
  {
   "cell_type": "markdown",
   "metadata": {},
   "source": [
    "# Baseline"
   ]
  },
  {
   "cell_type": "markdown",
   "metadata": {},
   "source": [
    "## Setup"
   ]
  },
  {
   "cell_type": "code",
   "execution_count": 7,
   "metadata": {},
   "outputs": [
    {
     "data": {
      "application/javascript": [
       "\n",
       "            setTimeout(function() {\n",
       "                var nbb_cell_id = 7;\n",
       "                var nbb_unformatted_code = \"NUM_FOLDS = 5\\n# SIZE = 120\\n# INPUT_SHAPE = (SIZE, SIZE, 4)\\n# BATCH_SIZE = 256\\nLR = 1e-3\\nEPOCHS = 10\";\n",
       "                var nbb_formatted_code = \"NUM_FOLDS = 5\\n# SIZE = 120\\n# INPUT_SHAPE = (SIZE, SIZE, 4)\\n# BATCH_SIZE = 256\\nLR = 1e-3\\nEPOCHS = 10\";\n",
       "                var nbb_cells = Jupyter.notebook.get_cells();\n",
       "                for (var i = 0; i < nbb_cells.length; ++i) {\n",
       "                    if (nbb_cells[i].input_prompt_number == nbb_cell_id) {\n",
       "                        if (nbb_cells[i].get_text() == nbb_unformatted_code) {\n",
       "                             nbb_cells[i].set_text(nbb_formatted_code);\n",
       "                        }\n",
       "                        break;\n",
       "                    }\n",
       "                }\n",
       "            }, 500);\n",
       "            "
      ],
      "text/plain": [
       "<IPython.core.display.Javascript object>"
      ]
     },
     "metadata": {},
     "output_type": "display_data"
    }
   ],
   "source": [
    "NUM_FOLDS = 5\n",
    "# SIZE = 120\n",
    "# INPUT_SHAPE = (SIZE, SIZE, 4)\n",
    "# BATCH_SIZE = 256\n",
    "LR = 1e-3\n",
    "EPOCHS = 10"
   ]
  },
  {
   "cell_type": "code",
   "execution_count": 8,
   "metadata": {},
   "outputs": [
    {
     "data": {
      "application/javascript": [
       "\n",
       "            setTimeout(function() {\n",
       "                var nbb_cell_id = 8;\n",
       "                var nbb_unformatted_code = \"PATH = Path(\\\"../input\\\")\\nTRAIN_PATH = PATH / \\\"train\\\"\\nTEST_PATH = PATH / \\\"test\\\"\\nDAMS = (6071, 6304, 7026, 7629, 7767, 8944, 11107)\";\n",
       "                var nbb_formatted_code = \"PATH = Path(\\\"../input\\\")\\nTRAIN_PATH = PATH / \\\"train\\\"\\nTEST_PATH = PATH / \\\"test\\\"\\nDAMS = (6071, 6304, 7026, 7629, 7767, 8944, 11107)\";\n",
       "                var nbb_cells = Jupyter.notebook.get_cells();\n",
       "                for (var i = 0; i < nbb_cells.length; ++i) {\n",
       "                    if (nbb_cells[i].input_prompt_number == nbb_cell_id) {\n",
       "                        if (nbb_cells[i].get_text() == nbb_unformatted_code) {\n",
       "                             nbb_cells[i].set_text(nbb_formatted_code);\n",
       "                        }\n",
       "                        break;\n",
       "                    }\n",
       "                }\n",
       "            }, 500);\n",
       "            "
      ],
      "text/plain": [
       "<IPython.core.display.Javascript object>"
      ]
     },
     "metadata": {},
     "output_type": "display_data"
    }
   ],
   "source": [
    "PATH = Path(\"../input\")\n",
    "TRAIN_PATH = PATH / \"train\"\n",
    "TEST_PATH = PATH / \"test\"\n",
    "DAMS = (6071, 6304, 7026, 7629, 7767, 8944, 11107)"
   ]
  },
  {
   "cell_type": "markdown",
   "metadata": {
    "heading_collapsed": true
   },
   "source": [
    "## Resize"
   ]
  },
  {
   "cell_type": "code",
   "execution_count": 9,
   "metadata": {
    "hidden": true
   },
   "outputs": [
    {
     "data": {
      "application/javascript": [
       "\n",
       "            setTimeout(function() {\n",
       "                var nbb_cell_id = 9;\n",
       "                var nbb_unformatted_code = \"(PATH/\\\"train-64\\\").mkdir(exist_ok=True)\";\n",
       "                var nbb_formatted_code = \"(PATH / \\\"train-64\\\").mkdir(exist_ok=True)\";\n",
       "                var nbb_cells = Jupyter.notebook.get_cells();\n",
       "                for (var i = 0; i < nbb_cells.length; ++i) {\n",
       "                    if (nbb_cells[i].input_prompt_number == nbb_cell_id) {\n",
       "                        if (nbb_cells[i].get_text() == nbb_unformatted_code) {\n",
       "                             nbb_cells[i].set_text(nbb_formatted_code);\n",
       "                        }\n",
       "                        break;\n",
       "                    }\n",
       "                }\n",
       "            }, 500);\n",
       "            "
      ],
      "text/plain": [
       "<IPython.core.display.Javascript object>"
      ]
     },
     "metadata": {},
     "output_type": "display_data"
    }
   ],
   "source": [
    "(PATH / \"train-64\").mkdir(exist_ok=True)"
   ]
  },
  {
   "cell_type": "code",
   "execution_count": 10,
   "metadata": {
    "hidden": true
   },
   "outputs": [
    {
     "data": {
      "application/javascript": [
       "\n",
       "            setTimeout(function() {\n",
       "                var nbb_cell_id = 10;\n",
       "                var nbb_unformatted_code = \"def resize_data(fn, dpath=TRAIN_PATH, sz=64):\\n    data = np.load(fn)\\n    img1 = cv2.resize(data[:, :, :3], (sz, sz), interpolation=cv2.INTER_AREA)\\n    img2 = cv2.resize(data[:, :, 2:], (sz, sz), interpolation=cv2.INTER_AREA)\\n    data = np.concatenate([img1[:, :, :2], img2], axis=-1)\\n    np.save((fn.parent.parent) / \\\"train-64\\\" / fn.name, data)\";\n",
       "                var nbb_formatted_code = \"def resize_data(fn, dpath=TRAIN_PATH, sz=64):\\n    data = np.load(fn)\\n    img1 = cv2.resize(data[:, :, :3], (sz, sz), interpolation=cv2.INTER_AREA)\\n    img2 = cv2.resize(data[:, :, 2:], (sz, sz), interpolation=cv2.INTER_AREA)\\n    data = np.concatenate([img1[:, :, :2], img2], axis=-1)\\n    np.save((fn.parent.parent) / \\\"train-64\\\" / fn.name, data)\";\n",
       "                var nbb_cells = Jupyter.notebook.get_cells();\n",
       "                for (var i = 0; i < nbb_cells.length; ++i) {\n",
       "                    if (nbb_cells[i].input_prompt_number == nbb_cell_id) {\n",
       "                        if (nbb_cells[i].get_text() == nbb_unformatted_code) {\n",
       "                             nbb_cells[i].set_text(nbb_formatted_code);\n",
       "                        }\n",
       "                        break;\n",
       "                    }\n",
       "                }\n",
       "            }, 500);\n",
       "            "
      ],
      "text/plain": [
       "<IPython.core.display.Javascript object>"
      ]
     },
     "metadata": {},
     "output_type": "display_data"
    }
   ],
   "source": [
    "def resize_data(fn, dpath=TRAIN_PATH, sz=64):\n",
    "    data = np.load(fn)\n",
    "    img1 = cv2.resize(data[:, :, :3], (sz, sz), interpolation=cv2.INTER_AREA)\n",
    "    img2 = cv2.resize(data[:, :, 2:], (sz, sz), interpolation=cv2.INTER_AREA)\n",
    "    data = np.concatenate([img1[:, :, :2], img2], axis=-1)\n",
    "    np.save((fn.parent.parent) / \"train-64\" / fn.name, data)"
   ]
  },
  {
   "cell_type": "code",
   "execution_count": 37,
   "metadata": {
    "hidden": true
   },
   "outputs": [
    {
     "data": {
      "application/javascript": [
       "\n",
       "            setTimeout(function() {\n",
       "                var nbb_cell_id = 37;\n",
       "                var nbb_unformatted_code = \"files = list(TRAIN_PATH.iterdir())\\nwith ThreadPoolExecutor(8) as e:\\n    e.map(resize_data, files)\";\n",
       "                var nbb_formatted_code = \"files = list(TRAIN_PATH.iterdir())\\nwith ThreadPoolExecutor(8) as e:\\n    e.map(resize_data, files)\";\n",
       "                var nbb_cells = Jupyter.notebook.get_cells();\n",
       "                for (var i = 0; i < nbb_cells.length; ++i) {\n",
       "                    if (nbb_cells[i].input_prompt_number == nbb_cell_id) {\n",
       "                        if (nbb_cells[i].get_text() == nbb_unformatted_code) {\n",
       "                             nbb_cells[i].set_text(nbb_formatted_code);\n",
       "                        }\n",
       "                        break;\n",
       "                    }\n",
       "                }\n",
       "            }, 500);\n",
       "            "
      ],
      "text/plain": [
       "<IPython.core.display.Javascript object>"
      ]
     },
     "metadata": {},
     "output_type": "display_data"
    }
   ],
   "source": [
    "files = list(TRAIN_PATH.iterdir())\n",
    "with ThreadPoolExecutor(8) as e:\n",
    "    e.map(resize_data, files)"
   ]
  },
  {
   "cell_type": "markdown",
   "metadata": {},
   "source": [
    "## Dataset"
   ]
  },
  {
   "cell_type": "code",
   "execution_count": 29,
   "metadata": {},
   "outputs": [
    {
     "data": {
      "application/javascript": [
       "\n",
       "            setTimeout(function() {\n",
       "                var nbb_cell_id = 29;\n",
       "                var nbb_unformatted_code = \"TRAIN_PATH = PATH / \\\"train-64\\\"\\nsz = 64\\nbs = 256\";\n",
       "                var nbb_formatted_code = \"TRAIN_PATH = PATH / \\\"train-64\\\"\\nsz = 64\\nbs = 256\";\n",
       "                var nbb_cells = Jupyter.notebook.get_cells();\n",
       "                for (var i = 0; i < nbb_cells.length; ++i) {\n",
       "                    if (nbb_cells[i].input_prompt_number == nbb_cell_id) {\n",
       "                        if (nbb_cells[i].get_text() == nbb_unformatted_code) {\n",
       "                             nbb_cells[i].set_text(nbb_formatted_code);\n",
       "                        }\n",
       "                        break;\n",
       "                    }\n",
       "                }\n",
       "            }, 500);\n",
       "            "
      ],
      "text/plain": [
       "<IPython.core.display.Javascript object>"
      ]
     },
     "metadata": {},
     "output_type": "display_data"
    }
   ],
   "source": [
    "TRAIN_PATH = PATH / \"train-64\"\n",
    "sz = 64\n",
    "bs = 256"
   ]
  },
  {
   "cell_type": "code",
   "execution_count": 77,
   "metadata": {},
   "outputs": [
    {
     "data": {
      "text/html": [
       "<div>\n",
       "<style scoped>\n",
       "    .dataframe tbody tr th:only-of-type {\n",
       "        vertical-align: middle;\n",
       "    }\n",
       "\n",
       "    .dataframe tbody tr th {\n",
       "        vertical-align: top;\n",
       "    }\n",
       "\n",
       "    .dataframe thead th {\n",
       "        text-align: right;\n",
       "    }\n",
       "</style>\n",
       "<table border=\"1\" class=\"dataframe\">\n",
       "  <thead>\n",
       "    <tr style=\"text-align: right;\">\n",
       "      <th></th>\n",
       "      <th>filename</th>\n",
       "      <th>fold</th>\n",
       "    </tr>\n",
       "  </thead>\n",
       "  <tbody>\n",
       "    <tr>\n",
       "      <th>0</th>\n",
       "      <td>train_60668.npy</td>\n",
       "      <td>0</td>\n",
       "    </tr>\n",
       "    <tr>\n",
       "      <th>1</th>\n",
       "      <td>train_60911.npy</td>\n",
       "      <td>0</td>\n",
       "    </tr>\n",
       "    <tr>\n",
       "      <th>2</th>\n",
       "      <td>train_14956.npy</td>\n",
       "      <td>0</td>\n",
       "    </tr>\n",
       "    <tr>\n",
       "      <th>3</th>\n",
       "      <td>train_24086.npy</td>\n",
       "      <td>0</td>\n",
       "    </tr>\n",
       "    <tr>\n",
       "      <th>4</th>\n",
       "      <td>train_09805.npy</td>\n",
       "      <td>0</td>\n",
       "    </tr>\n",
       "  </tbody>\n",
       "</table>\n",
       "</div>"
      ],
      "text/plain": [
       "          filename  fold\n",
       "0  train_60668.npy     0\n",
       "1  train_60911.npy     0\n",
       "2  train_14956.npy     0\n",
       "3  train_24086.npy     0\n",
       "4  train_09805.npy     0"
      ]
     },
     "execution_count": 77,
     "metadata": {},
     "output_type": "execute_result"
    },
    {
     "data": {
      "application/javascript": [
       "\n",
       "            setTimeout(function() {\n",
       "                var nbb_cell_id = 77;\n",
       "                var nbb_unformatted_code = \"df = pd.read_csv(PATH / \\\"train_folds.csv\\\")\\ndf.head()\";\n",
       "                var nbb_formatted_code = \"df = pd.read_csv(PATH / \\\"train_folds.csv\\\")\\ndf.head()\";\n",
       "                var nbb_cells = Jupyter.notebook.get_cells();\n",
       "                for (var i = 0; i < nbb_cells.length; ++i) {\n",
       "                    if (nbb_cells[i].input_prompt_number == nbb_cell_id) {\n",
       "                        if (nbb_cells[i].get_text() == nbb_unformatted_code) {\n",
       "                             nbb_cells[i].set_text(nbb_formatted_code);\n",
       "                        }\n",
       "                        break;\n",
       "                    }\n",
       "                }\n",
       "            }, 500);\n",
       "            "
      ],
      "text/plain": [
       "<IPython.core.display.Javascript object>"
      ]
     },
     "metadata": {},
     "output_type": "display_data"
    }
   ],
   "source": [
    "df = pd.read_csv(PATH / \"train_folds.csv\")\n",
    "df.head()"
   ]
  },
  {
   "cell_type": "code",
   "execution_count": null,
   "metadata": {},
   "outputs": [],
   "source": [
    "test_df = pd.read_csv(PATH / \"test.csv\")"
   ]
  },
  {
   "cell_type": "code",
   "execution_count": 30,
   "metadata": {},
   "outputs": [
    {
     "data": {
      "application/javascript": [
       "\n",
       "            setTimeout(function() {\n",
       "                var nbb_cell_id = 30;\n",
       "                var nbb_unformatted_code = \"class NowcastDataset(torch.utils.data.Dataset):\\n    def __init__(self, df, test=False):\\n        self.filenames = df.filename.values\\n        self.test = test\\n\\n    def __len__(self):\\n        return len(self.filenames)\\n\\n    def __getitem__(self, idx):\\n        filename = self.filenames[idx]\\n        data = np.load((TEST_PATH if self.test else TRAIN_PATH) / filename)\\n        img = data[:, :, :4]\\n        img = torch.tensor(img, dtype=torch.float)\\n        img = img.permute(2, 0, 1)\\n\\n        if self.test:\\n            return img\\n\\n        sz = img.shape[0]\\n        target = data[:, :, -1]\\n        target = torch.tensor(target, dtype=torch.float)\\n        target = target.unsqueeze(0)\\n\\n        return img, target\";\n",
       "                var nbb_formatted_code = \"class NowcastDataset(torch.utils.data.Dataset):\\n    def __init__(self, df, test=False):\\n        self.filenames = df.filename.values\\n        self.test = test\\n\\n    def __len__(self):\\n        return len(self.filenames)\\n\\n    def __getitem__(self, idx):\\n        filename = self.filenames[idx]\\n        data = np.load((TEST_PATH if self.test else TRAIN_PATH) / filename)\\n        img = data[:, :, :4]\\n        img = torch.tensor(img, dtype=torch.float)\\n        img = img.permute(2, 0, 1)\\n\\n        if self.test:\\n            return img\\n\\n        sz = img.shape[0]\\n        target = data[:, :, -1]\\n        target = torch.tensor(target, dtype=torch.float)\\n        target = target.unsqueeze(0)\\n\\n        return img, target\";\n",
       "                var nbb_cells = Jupyter.notebook.get_cells();\n",
       "                for (var i = 0; i < nbb_cells.length; ++i) {\n",
       "                    if (nbb_cells[i].input_prompt_number == nbb_cell_id) {\n",
       "                        if (nbb_cells[i].get_text() == nbb_unformatted_code) {\n",
       "                             nbb_cells[i].set_text(nbb_formatted_code);\n",
       "                        }\n",
       "                        break;\n",
       "                    }\n",
       "                }\n",
       "            }, 500);\n",
       "            "
      ],
      "text/plain": [
       "<IPython.core.display.Javascript object>"
      ]
     },
     "metadata": {},
     "output_type": "display_data"
    }
   ],
   "source": [
    "class NowcastDataset(torch.utils.data.Dataset):\n",
    "    def __init__(self, df, test=False):\n",
    "        self.filenames = df.filename.values\n",
    "        self.test = test\n",
    "\n",
    "    def __len__(self):\n",
    "        return len(self.filenames)\n",
    "\n",
    "    def __getitem__(self, idx):\n",
    "        filename = self.filenames[idx]\n",
    "        data = np.load((TEST_PATH if self.test else TRAIN_PATH) / filename)\n",
    "        img = data[:, :, :4]\n",
    "        img = torch.tensor(img, dtype=torch.float)\n",
    "        img = img.permute(2, 0, 1)\n",
    "\n",
    "        if self.test:\n",
    "            return img\n",
    "\n",
    "        sz = img.shape[0]\n",
    "        target = data[:, :, -1]\n",
    "        target = torch.tensor(target, dtype=torch.float)\n",
    "        target = target.unsqueeze(0)\n",
    "\n",
    "        return img, target"
   ]
  },
  {
   "cell_type": "code",
   "execution_count": 31,
   "metadata": {},
   "outputs": [
    {
     "data": {
      "image/png": "[encoded data removed]",
      "text/plain": [
       "<Figure size 1440x1440 with 5 Axes>"
      ]
     },
     "metadata": {
      "needs_background": "light"
     },
     "output_type": "display_data"
    },
    {
     "data": {
      "application/javascript": [
       "\n",
       "            setTimeout(function() {\n",
       "                var nbb_cell_id = 31;\n",
       "                var nbb_unformatted_code = \"df = pd.read_csv(PATH / \\\"train_folds.csv\\\")\\nds = NowcastDataset(df)\\nx, y = ds[0]\\nx = x.permute(1, 2, 0).numpy()\\ny = y.permute(1, 2, 0).numpy()\\nimg = np.concatenate([x, y], axis=-1)\\nvisualize(img)\";\n",
       "                var nbb_formatted_code = \"df = pd.read_csv(PATH / \\\"train_folds.csv\\\")\\nds = NowcastDataset(df)\\nx, y = ds[0]\\nx = x.permute(1, 2, 0).numpy()\\ny = y.permute(1, 2, 0).numpy()\\nimg = np.concatenate([x, y], axis=-1)\\nvisualize(img)\";\n",
       "                var nbb_cells = Jupyter.notebook.get_cells();\n",
       "                for (var i = 0; i < nbb_cells.length; ++i) {\n",
       "                    if (nbb_cells[i].input_prompt_number == nbb_cell_id) {\n",
       "                        if (nbb_cells[i].get_text() == nbb_unformatted_code) {\n",
       "                             nbb_cells[i].set_text(nbb_formatted_code);\n",
       "                        }\n",
       "                        break;\n",
       "                    }\n",
       "                }\n",
       "            }, 500);\n",
       "            "
      ],
      "text/plain": [
       "<IPython.core.display.Javascript object>"
      ]
     },
     "metadata": {},
     "output_type": "display_data"
    }
   ],
   "source": [
    "df = pd.read_csv(PATH / \"train_folds.csv\")\n",
    "ds = NowcastDataset(df)\n",
    "x, y = ds[0]\n",
    "x = x.permute(1, 2, 0).numpy()\n",
    "y = y.permute(1, 2, 0).numpy()\n",
    "img = np.concatenate([x, y], axis=-1)\n",
    "visualize(img)"
   ]
  },
  {
   "cell_type": "code",
   "execution_count": 78,
   "metadata": {},
   "outputs": [
    {
     "data": {
      "application/javascript": [
       "\n",
       "            setTimeout(function() {\n",
       "                var nbb_cell_id = 78;\n",
       "                var nbb_unformatted_code = \"class NowcastDataModule(pl.LightningDataModule):\\n    def __init__(self, df, fold):\\n        super().__init__()\\n        self.df = df\\n        self.fold = fold\\n        \\n    def setup(self, stage=\\\"train\\\"):\\n        if stage == \\\"train\\\":\\n            train_df = df[df.fold != self.fold]\\n            valid_df = df[df.fold == self.fold]\\n            self.train_dataset = NowcastDataset(train_df)\\n            self.val_dataset = NowcastDataset(valid_df)\\n        else:\\n            test_dataset = NowcastDataset(df)\\n            \\n    def train_dataloader(self):\\n        return torch.utils.data.DataLoader(self.train_dataset, batch_size=bs, shuffle=True, num_workers=4, pin_memory=True)\\n    \\n    def val_dataloader(self):\\n        return torch.utils.data.DataLoader(self.val_dataset, batch_size=2*bs, num_workers=4, pin_memory=True)\\n    \\n    def test_dataloader(self):\\n        return torch.utils.data.DataLoader(self.test_dataset, batch_size=2*bs, num_workers=4, pin_memory=True)\";\n",
       "                var nbb_formatted_code = \"class NowcastDataModule(pl.LightningDataModule):\\n    def __init__(self, df, fold):\\n        super().__init__()\\n        self.df = df\\n        self.fold = fold\\n\\n    def setup(self, stage=\\\"train\\\"):\\n        if stage == \\\"train\\\":\\n            train_df = df[df.fold != self.fold]\\n            valid_df = df[df.fold == self.fold]\\n            self.train_dataset = NowcastDataset(train_df)\\n            self.val_dataset = NowcastDataset(valid_df)\\n        else:\\n            test_dataset = NowcastDataset(df)\\n\\n    def train_dataloader(self):\\n        return torch.utils.data.DataLoader(\\n            self.train_dataset,\\n            batch_size=bs,\\n            shuffle=True,\\n            num_workers=4,\\n            pin_memory=True,\\n        )\\n\\n    def val_dataloader(self):\\n        return torch.utils.data.DataLoader(\\n            self.val_dataset, batch_size=2 * bs, num_workers=4, pin_memory=True\\n        )\\n\\n    def test_dataloader(self):\\n        return torch.utils.data.DataLoader(\\n            self.test_dataset, batch_size=2 * bs, num_workers=4, pin_memory=True\\n        )\";\n",
       "                var nbb_cells = Jupyter.notebook.get_cells();\n",
       "                for (var i = 0; i < nbb_cells.length; ++i) {\n",
       "                    if (nbb_cells[i].input_prompt_number == nbb_cell_id) {\n",
       "                        if (nbb_cells[i].get_text() == nbb_unformatted_code) {\n",
       "                             nbb_cells[i].set_text(nbb_formatted_code);\n",
       "                        }\n",
       "                        break;\n",
       "                    }\n",
       "                }\n",
       "            }, 500);\n",
       "            "
      ],
      "text/plain": [
       "<IPython.core.display.Javascript object>"
      ]
     },
     "metadata": {},
     "output_type": "display_data"
    }
   ],
   "source": [
    "class NowcastDataModule(pl.LightningDataModule):\n",
    "    def __init__(self, df, fold):\n",
    "        super().__init__()\n",
    "        self.df = df\n",
    "        self.fold = fold\n",
    "\n",
    "    def setup(self, stage=\"train\"):\n",
    "        if stage == \"train\":\n",
    "            train_df = df[df.fold != self.fold]\n",
    "            valid_df = df[df.fold == self.fold]\n",
    "            self.train_dataset = NowcastDataset(train_df)\n",
    "            self.val_dataset = NowcastDataset(valid_df)\n",
    "        else:\n",
    "            test_dataset = NowcastDataset(df)\n",
    "\n",
    "    def train_dataloader(self):\n",
    "        return torch.utils.data.DataLoader(\n",
    "            self.train_dataset,\n",
    "            batch_size=bs,\n",
    "            shuffle=True,\n",
    "            num_workers=4,\n",
    "            pin_memory=True,\n",
    "        )\n",
    "\n",
    "    def val_dataloader(self):\n",
    "        return torch.utils.data.DataLoader(\n",
    "            self.val_dataset, batch_size=2 * bs, num_workers=4, pin_memory=True\n",
    "        )\n",
    "\n",
    "    def test_dataloader(self):\n",
    "        return torch.utils.data.DataLoader(\n",
    "            self.test_dataset, batch_size=2 * bs, num_workers=4, pin_memory=True\n",
    "        )"
   ]
  },
  {
   "cell_type": "markdown",
   "metadata": {},
   "source": [
    "## Model"
   ]
  },
  {
   "cell_type": "code",
   "execution_count": 17,
   "metadata": {},
   "outputs": [
    {
     "data": {
      "application/javascript": [
       "\n",
       "            setTimeout(function() {\n",
       "                var nbb_cell_id = 17;\n",
       "                var nbb_unformatted_code = \"class DoubleConv(nn.Module):\\n    \\\"\\\"\\\"\\n    Double convolution and ReLU and BN\\n    (3x3 conv -> ReLU -> BN) ** 2\\n    \\\"\\\"\\\"\\n    def __init__(self, nin, nout):\\n        super().__init__()\\n        self.net = nn.Sequential(\\n            nn.Conv2d(nin, nout, kernel_size=3, padding=1),\\n            nn.ReLU(inplace=True),\\n            nn.BatchNorm2d(nout),\\n            nn.Conv2d(nout, nout, kernel_size=3, padding=1),\\n            nn.ReLU(inplace=True),\\n            nn.BatchNorm2d(nout),\\n        )\\n\\n    def forward(self, x):\\n        return self.net(x)\";\n",
       "                var nbb_formatted_code = \"class DoubleConv(nn.Module):\\n    \\\"\\\"\\\"\\n    Double convolution and ReLU and BN\\n    (3x3 conv -> ReLU -> BN) ** 2\\n    \\\"\\\"\\\"\\n\\n    def __init__(self, nin, nout):\\n        super().__init__()\\n        self.net = nn.Sequential(\\n            nn.Conv2d(nin, nout, kernel_size=3, padding=1),\\n            nn.ReLU(inplace=True),\\n            nn.BatchNorm2d(nout),\\n            nn.Conv2d(nout, nout, kernel_size=3, padding=1),\\n            nn.ReLU(inplace=True),\\n            nn.BatchNorm2d(nout),\\n        )\\n\\n    def forward(self, x):\\n        return self.net(x)\";\n",
       "                var nbb_cells = Jupyter.notebook.get_cells();\n",
       "                for (var i = 0; i < nbb_cells.length; ++i) {\n",
       "                    if (nbb_cells[i].input_prompt_number == nbb_cell_id) {\n",
       "                        if (nbb_cells[i].get_text() == nbb_unformatted_code) {\n",
       "                             nbb_cells[i].set_text(nbb_formatted_code);\n",
       "                        }\n",
       "                        break;\n",
       "                    }\n",
       "                }\n",
       "            }, 500);\n",
       "            "
      ],
      "text/plain": [
       "<IPython.core.display.Javascript object>"
      ]
     },
     "metadata": {},
     "output_type": "display_data"
    }
   ],
   "source": [
    "class DoubleConv(nn.Module):\n",
    "    \"\"\"\n",
    "    Double convolution and ReLU and BN\n",
    "    (3x3 conv -> ReLU -> BN) ** 2\n",
    "    \"\"\"\n",
    "\n",
    "    def __init__(self, nin, nout):\n",
    "        super().__init__()\n",
    "        self.net = nn.Sequential(\n",
    "            nn.Conv2d(nin, nout, kernel_size=3, padding=1),\n",
    "            nn.ReLU(inplace=True),\n",
    "            nn.BatchNorm2d(nout),\n",
    "            nn.Conv2d(nout, nout, kernel_size=3, padding=1),\n",
    "            nn.ReLU(inplace=True),\n",
    "            nn.BatchNorm2d(nout),\n",
    "        )\n",
    "\n",
    "    def forward(self, x):\n",
    "        return self.net(x)"
   ]
  },
  {
   "cell_type": "code",
   "execution_count": 16,
   "metadata": {},
   "outputs": [
    {
     "data": {
      "application/javascript": [
       "\n",
       "            setTimeout(function() {\n",
       "                var nbb_cell_id = 16;\n",
       "                var nbb_unformatted_code = \"class Down(nn.Module):\\n    def __init__(self, nin, nout):\\n        self.net = nn.Sequential(\\n            DoubleConv(nin, nout),\\n            nn.MaxPool2d(kernel_size=2),\\n        )\\n    \\n    def forward(self, x):\\n        return self.net(x)\";\n",
       "                var nbb_formatted_code = \"class Down(nn.Module):\\n    def __init__(self, nin, nout):\\n        self.net = nn.Sequential(\\n            DoubleConv(nin, nout),\\n            nn.MaxPool2d(kernel_size=2),\\n        )\\n\\n    def forward(self, x):\\n        return self.net(x)\";\n",
       "                var nbb_cells = Jupyter.notebook.get_cells();\n",
       "                for (var i = 0; i < nbb_cells.length; ++i) {\n",
       "                    if (nbb_cells[i].input_prompt_number == nbb_cell_id) {\n",
       "                        if (nbb_cells[i].get_text() == nbb_unformatted_code) {\n",
       "                             nbb_cells[i].set_text(nbb_formatted_code);\n",
       "                        }\n",
       "                        break;\n",
       "                    }\n",
       "                }\n",
       "            }, 500);\n",
       "            "
      ],
      "text/plain": [
       "<IPython.core.display.Javascript object>"
      ]
     },
     "metadata": {},
     "output_type": "display_data"
    }
   ],
   "source": [
    "class Down(nn.Module):\n",
    "    def __init__(self, nin, nout):\n",
    "        self.net = nn.Sequential(\n",
    "            DoubleConv(nin, nout),\n",
    "            nn.MaxPool2d(kernel_size=2),\n",
    "        )\n",
    "\n",
    "    def forward(self, x):\n",
    "        return self.net(x)"
   ]
  },
  {
   "cell_type": "code",
   "execution_count": 60,
   "metadata": {},
   "outputs": [
    {
     "data": {
      "application/javascript": [
       "\n",
       "            setTimeout(function() {\n",
       "                var nbb_cell_id = 60;\n",
       "                var nbb_unformatted_code = \"class Up(nn.Module):\\n    def __init__(self, nin, nout):\\n        super().__init__()\\n        self.upsample = nn.ConvTranspose2d(nin, nout, kernel_size=2, stride=2)\\n        self.conv = DoubleConv(nin, nout)\\n\\n    def forward(self, x1, x2):\\n        x1 = self.upsample(x1)\\n        x = torch.cat([x1, x2], dim=1)\\n        return self.conv(x)\";\n",
       "                var nbb_formatted_code = \"class Up(nn.Module):\\n    def __init__(self, nin, nout):\\n        super().__init__()\\n        self.upsample = nn.ConvTranspose2d(nin, nout, kernel_size=2, stride=2)\\n        self.conv = DoubleConv(nin, nout)\\n\\n    def forward(self, x1, x2):\\n        x1 = self.upsample(x1)\\n        x = torch.cat([x1, x2], dim=1)\\n        return self.conv(x)\";\n",
       "                var nbb_cells = Jupyter.notebook.get_cells();\n",
       "                for (var i = 0; i < nbb_cells.length; ++i) {\n",
       "                    if (nbb_cells[i].input_prompt_number == nbb_cell_id) {\n",
       "                        if (nbb_cells[i].get_text() == nbb_unformatted_code) {\n",
       "                             nbb_cells[i].set_text(nbb_formatted_code);\n",
       "                        }\n",
       "                        break;\n",
       "                    }\n",
       "                }\n",
       "            }, 500);\n",
       "            "
      ],
      "text/plain": [
       "<IPython.core.display.Javascript object>"
      ]
     },
     "metadata": {},
     "output_type": "display_data"
    }
   ],
   "source": [
    "class Up(nn.Module):\n",
    "    def __init__(self, nin, nout):\n",
    "        super().__init__()\n",
    "        self.upsample = nn.ConvTranspose2d(nin, nout, kernel_size=2, stride=2)\n",
    "        self.conv = DoubleConv(nin, nout)\n",
    "\n",
    "    def forward(self, x1, x2):\n",
    "        x1 = self.upsample(x1)\n",
    "        x = torch.cat([x1, x2], dim=1)\n",
    "        return self.conv(x)"
   ]
  },
  {
   "cell_type": "code",
   "execution_count": 84,
   "metadata": {},
   "outputs": [
    {
     "data": {
      "application/javascript": [
       "\n",
       "            setTimeout(function() {\n",
       "                var nbb_cell_id = 84;\n",
       "                var nbb_unformatted_code = \"class Rainnet(pl.LightningModule):\\n    def __init__(self, lr=1e-3):\\n        super().__init__()\\n        self.save_hyperparameters()\\n        self.conv1 = DoubleConv(4, 64)\\n        self.pool1 = nn.MaxPool2d(2)\\n\\n        self.conv2 = DoubleConv(64, 128)\\n        self.pool2 = nn.MaxPool2d(2)\\n\\n        self.conv3 = DoubleConv(128, 256)\\n        self.pool3 = nn.MaxPool2d(2)\\n\\n        self.conv4 = DoubleConv(256, 512)\\n        self.pool4 = nn.MaxPool2d(2)\\n\\n        self.conv5 = DoubleConv(512, 1024)\\n\\n        self.up6 = Up(1024, 512)\\n        self.up7 = Up(512, 256)\\n        self.up8 = Up(256, 128)\\n        self.up9 = Up(128, 64)\\n\\n        self.out = nn.Conv2d(64, 1, kernel_size=1)\\n\\n    def forward(self, x):\\n        conv1 = self.conv1(x)\\n        pool1 = self.pool1(conv1)\\n\\n        conv2 = self.conv2(pool1)\\n        pool2 = self.pool2(conv2)\\n\\n        conv3 = self.conv3(pool2)\\n        pool3 = self.pool3(conv3)\\n\\n        conv4 = self.conv4(pool3)\\n        pool4 = self.pool4(conv4)\\n\\n        conv5 = self.conv5(pool4)\\n        #         print(conv5.shape)\\n        up6 = self.up6(conv5, conv4)\\n        #         print(up6.shape)\\n        up7 = self.up7(up6, conv3)\\n        #         print(up7.shape)\\n        up8 = self.up8(up7, conv2)\\n        #         print(up8.shape)\\n        up9 = self.up9(up8, conv1)\\n        #         print(up9.shape)\\n        out = self.out(up9)\\n        out = F.relu(out)\\n        #         print(out.shape)\\n\\n        return out\\n\\n    def training_step(self, batch, batch_idx):\\n        loss = self.shared_step(batch, batch_idx)\\n        return loss\\n\\n    def validation_step(self, batch, batch_idx):\\n        loss = self.shared_step(batch, batch_idx)\\n        return loss\\n\\n    def shared_step(self, batch, batch_idx):\\n        x, y = batch\\n        y_hat = self(x)\\n        loss = F.l1_loss(y_hat, y)\\n        return loss\\n\\n    def configure_optimizers(self):\\n        return torch.optim.Adam(self.parameters(), lr=self.hparams.lr)\";\n",
       "                var nbb_formatted_code = \"class Rainnet(pl.LightningModule):\\n    def __init__(self, lr=1e-3):\\n        super().__init__()\\n        self.save_hyperparameters()\\n        self.conv1 = DoubleConv(4, 64)\\n        self.pool1 = nn.MaxPool2d(2)\\n\\n        self.conv2 = DoubleConv(64, 128)\\n        self.pool2 = nn.MaxPool2d(2)\\n\\n        self.conv3 = DoubleConv(128, 256)\\n        self.pool3 = nn.MaxPool2d(2)\\n\\n        self.conv4 = DoubleConv(256, 512)\\n        self.pool4 = nn.MaxPool2d(2)\\n\\n        self.conv5 = DoubleConv(512, 1024)\\n\\n        self.up6 = Up(1024, 512)\\n        self.up7 = Up(512, 256)\\n        self.up8 = Up(256, 128)\\n        self.up9 = Up(128, 64)\\n\\n        self.out = nn.Conv2d(64, 1, kernel_size=1)\\n\\n    def forward(self, x):\\n        conv1 = self.conv1(x)\\n        pool1 = self.pool1(conv1)\\n\\n        conv2 = self.conv2(pool1)\\n        pool2 = self.pool2(conv2)\\n\\n        conv3 = self.conv3(pool2)\\n        pool3 = self.pool3(conv3)\\n\\n        conv4 = self.conv4(pool3)\\n        pool4 = self.pool4(conv4)\\n\\n        conv5 = self.conv5(pool4)\\n        #         print(conv5.shape)\\n        up6 = self.up6(conv5, conv4)\\n        #         print(up6.shape)\\n        up7 = self.up7(up6, conv3)\\n        #         print(up7.shape)\\n        up8 = self.up8(up7, conv2)\\n        #         print(up8.shape)\\n        up9 = self.up9(up8, conv1)\\n        #         print(up9.shape)\\n        out = self.out(up9)\\n        out = F.relu(out)\\n        #         print(out.shape)\\n\\n        return out\\n\\n    def training_step(self, batch, batch_idx):\\n        loss = self.shared_step(batch, batch_idx)\\n        return loss\\n\\n    def validation_step(self, batch, batch_idx):\\n        loss = self.shared_step(batch, batch_idx)\\n        return loss\\n\\n    def shared_step(self, batch, batch_idx):\\n        x, y = batch\\n        y_hat = self(x)\\n        loss = F.l1_loss(y_hat, y)\\n        return loss\\n\\n    def configure_optimizers(self):\\n        return torch.optim.Adam(self.parameters(), lr=self.hparams.lr)\";\n",
       "                var nbb_cells = Jupyter.notebook.get_cells();\n",
       "                for (var i = 0; i < nbb_cells.length; ++i) {\n",
       "                    if (nbb_cells[i].input_prompt_number == nbb_cell_id) {\n",
       "                        if (nbb_cells[i].get_text() == nbb_unformatted_code) {\n",
       "                             nbb_cells[i].set_text(nbb_formatted_code);\n",
       "                        }\n",
       "                        break;\n",
       "                    }\n",
       "                }\n",
       "            }, 500);\n",
       "            "
      ],
      "text/plain": [
       "<IPython.core.display.Javascript object>"
      ]
     },
     "metadata": {},
     "output_type": "display_data"
    }
   ],
   "source": [
    "class Rainnet(pl.LightningModule):\n",
    "    def __init__(self, lr=1e-3):\n",
    "        super().__init__()\n",
    "        self.save_hyperparameters()\n",
    "        self.conv1 = DoubleConv(4, 64)\n",
    "        self.pool1 = nn.MaxPool2d(2)\n",
    "\n",
    "        self.conv2 = DoubleConv(64, 128)\n",
    "        self.pool2 = nn.MaxPool2d(2)\n",
    "\n",
    "        self.conv3 = DoubleConv(128, 256)\n",
    "        self.pool3 = nn.MaxPool2d(2)\n",
    "\n",
    "        self.conv4 = DoubleConv(256, 512)\n",
    "        self.pool4 = nn.MaxPool2d(2)\n",
    "\n",
    "        self.conv5 = DoubleConv(512, 1024)\n",
    "\n",
    "        self.up6 = Up(1024, 512)\n",
    "        self.up7 = Up(512, 256)\n",
    "        self.up8 = Up(256, 128)\n",
    "        self.up9 = Up(128, 64)\n",
    "\n",
    "        self.out = nn.Conv2d(64, 1, kernel_size=1)\n",
    "\n",
    "    def forward(self, x):\n",
    "        conv1 = self.conv1(x)\n",
    "        pool1 = self.pool1(conv1)\n",
    "\n",
    "        conv2 = self.conv2(pool1)\n",
    "        pool2 = self.pool2(conv2)\n",
    "\n",
    "        conv3 = self.conv3(pool2)\n",
    "        pool3 = self.pool3(conv3)\n",
    "\n",
    "        conv4 = self.conv4(pool3)\n",
    "        pool4 = self.pool4(conv4)\n",
    "\n",
    "        conv5 = self.conv5(pool4)\n",
    "        #         print(conv5.shape)\n",
    "        up6 = self.up6(conv5, conv4)\n",
    "        #         print(up6.shape)\n",
    "        up7 = self.up7(up6, conv3)\n",
    "        #         print(up7.shape)\n",
    "        up8 = self.up8(up7, conv2)\n",
    "        #         print(up8.shape)\n",
    "        up9 = self.up9(up8, conv1)\n",
    "        #         print(up9.shape)\n",
    "        out = self.out(up9)\n",
    "        out = F.relu(out)\n",
    "        #         print(out.shape)\n",
    "\n",
    "        return out\n",
    "\n",
    "    def training_step(self, batch, batch_idx):\n",
    "        loss = self.shared_step(batch, batch_idx)\n",
    "        return loss\n",
    "\n",
    "    def validation_step(self, batch, batch_idx):\n",
    "        loss = self.shared_step(batch, batch_idx)\n",
    "        return loss\n",
    "\n",
    "    def shared_step(self, batch, batch_idx):\n",
    "        x, y = batch\n",
    "        y_hat = self(x)\n",
    "        loss = F.l1_loss(y_hat, y)\n",
    "        return loss\n",
    "\n",
    "    def configure_optimizers(self):\n",
    "        return torch.optim.Adam(self.parameters(), lr=self.hparams.lr)"
   ]
  },
  {
   "cell_type": "code",
   "execution_count": 85,
   "metadata": {},
   "outputs": [
    {
     "data": {
      "application/javascript": [
       "\n",
       "            setTimeout(function() {\n",
       "                var nbb_cell_id = 85;\n",
       "                var nbb_unformatted_code = \"m = Rainnet(lr=LR)\";\n",
       "                var nbb_formatted_code = \"m = Rainnet(lr=LR)\";\n",
       "                var nbb_cells = Jupyter.notebook.get_cells();\n",
       "                for (var i = 0; i < nbb_cells.length; ++i) {\n",
       "                    if (nbb_cells[i].input_prompt_number == nbb_cell_id) {\n",
       "                        if (nbb_cells[i].get_text() == nbb_unformatted_code) {\n",
       "                             nbb_cells[i].set_text(nbb_formatted_code);\n",
       "                        }\n",
       "                        break;\n",
       "                    }\n",
       "                }\n",
       "            }, 500);\n",
       "            "
      ],
      "text/plain": [
       "<IPython.core.display.Javascript object>"
      ]
     },
     "metadata": {},
     "output_type": "display_data"
    }
   ],
   "source": [
    "m = Rainnet(lr=LR)"
   ]
  },
  {
   "cell_type": "code",
   "execution_count": 86,
   "metadata": {},
   "outputs": [
    {
     "data": {
      "application/javascript": [
       "\n",
       "            setTimeout(function() {\n",
       "                var nbb_cell_id = 86;\n",
       "                var nbb_unformatted_code = \"dm = NowcastDataModule(df, 0)\\ndm.setup()\";\n",
       "                var nbb_formatted_code = \"dm = NowcastDataModule(df, 0)\\ndm.setup()\";\n",
       "                var nbb_cells = Jupyter.notebook.get_cells();\n",
       "                for (var i = 0; i < nbb_cells.length; ++i) {\n",
       "                    if (nbb_cells[i].input_prompt_number == nbb_cell_id) {\n",
       "                        if (nbb_cells[i].get_text() == nbb_unformatted_code) {\n",
       "                             nbb_cells[i].set_text(nbb_formatted_code);\n",
       "                        }\n",
       "                        break;\n",
       "                    }\n",
       "                }\n",
       "            }, 500);\n",
       "            "
      ],
      "text/plain": [
       "<IPython.core.display.Javascript object>"
      ]
     },
     "metadata": {},
     "output_type": "display_data"
    }
   ],
   "source": [
    "dm = NowcastDataModule(df, 0)\n",
    "dm.setup()"
   ]
  },
  {
   "cell_type": "code",
   "execution_count": 89,
   "metadata": {},
   "outputs": [
    {
     "name": "stderr",
     "output_type": "stream",
     "text": [
      "GPU available: True, used: True\n",
      "TPU available: False, using: 0 TPU cores\n",
      "LOCAL_RANK: 0 - CUDA_VISIBLE_DEVICES: [0]\n",
      "Using native 16bit precision.\n"
     ]
    },
    {
     "data": {
      "application/javascript": [
       "\n",
       "            setTimeout(function() {\n",
       "                var nbb_cell_id = 89;\n",
       "                var nbb_unformatted_code = \"trainer = pl.Trainer(gpus=1, precision=16)\";\n",
       "                var nbb_formatted_code = \"trainer = pl.Trainer(gpus=1, precision=16)\";\n",
       "                var nbb_cells = Jupyter.notebook.get_cells();\n",
       "                for (var i = 0; i < nbb_cells.length; ++i) {\n",
       "                    if (nbb_cells[i].input_prompt_number == nbb_cell_id) {\n",
       "                        if (nbb_cells[i].get_text() == nbb_unformatted_code) {\n",
       "                             nbb_cells[i].set_text(nbb_formatted_code);\n",
       "                        }\n",
       "                        break;\n",
       "                    }\n",
       "                }\n",
       "            }, 500);\n",
       "            "
      ],
      "text/plain": [
       "<IPython.core.display.Javascript object>"
      ]
     },
     "metadata": {},
     "output_type": "display_data"
    }
   ],
   "source": [
    "trainer = pl.Trainer(gpus=1, precision=16)"
   ]
  },
  {
   "cell_type": "code",
   "execution_count": 90,
   "metadata": {},
   "outputs": [
    {
     "name": "stderr",
     "output_type": "stream",
     "text": [
      "\n",
      "   | Name  | Type       | Params\n",
      "--------------------------------------\n",
      "0  | conv1 | DoubleConv | 39 K  \n",
      "1  | pool1 | MaxPool2d  | 0     \n",
      "2  | conv2 | DoubleConv | 221 K \n",
      "3  | pool2 | MaxPool2d  | 0     \n",
      "4  | conv3 | DoubleConv | 886 K \n",
      "5  | pool3 | MaxPool2d  | 0     \n",
      "6  | conv4 | DoubleConv | 3 M   \n",
      "7  | pool4 | MaxPool2d  | 0     \n",
      "8  | conv5 | DoubleConv | 14 M  \n",
      "9  | up6   | Up         | 9 M   \n",
      "10 | up7   | Up         | 2 M   \n",
      "11 | up8   | Up         | 574 K \n",
      "12 | up9   | Up         | 143 K \n",
      "13 | out   | Conv2d     | 65    \n"
     ]
    },
    {
     "name": "stdout",
     "output_type": "stream",
     "text": [
      "Epoch 0:  89%|████████▊ | 197/222 [00:55<00:07,  3.56it/s, loss=3.093, v_num=1]\n",
      "Validating: 0it [00:00, ?it/s]\u001b[A\n",
      "Epoch 0:  89%|████████▉ | 198/222 [00:55<00:06,  3.55it/s, loss=3.093, v_num=1]\n",
      "Epoch 0:  91%|█████████ | 202/222 [00:55<00:05,  3.61it/s, loss=3.093, v_num=1]\n",
      "Validating:  28%|██▊       | 7/25 [00:01<00:05,  3.02it/s]\u001b[A\n",
      "Validating:  32%|███▏      | 8/25 [00:01<00:05,  3.31it/s]\u001b[A\n",
      "Epoch 0:  93%|█████████▎| 206/222 [00:56<00:04,  3.62it/s, loss=3.093, v_num=1]\n",
      "Validating:  40%|████      | 10/25 [00:01<00:04,  3.72it/s]\u001b[A\n",
      "Validating:  44%|████▍     | 11/25 [00:02<00:03,  3.85it/s]\u001b[A\n",
      "Validating:  48%|████▊     | 12/25 [00:02<00:03,  3.96it/s]\u001b[A\n",
      "Epoch 0:  95%|█████████▍| 210/222 [00:57<00:03,  3.63it/s, loss=3.093, v_num=1]\n",
      "Validating:  56%|█████▌    | 14/25 [00:02<00:02,  4.09it/s]\u001b[A\n",
      "Validating:  60%|██████    | 15/25 [00:02<00:02,  4.13it/s]\u001b[A\n",
      "Validating:  64%|██████▍   | 16/25 [00:03<00:02,  4.16it/s]\u001b[A\n",
      "Epoch 0:  96%|█████████▋| 214/222 [00:58<00:02,  3.64it/s, loss=3.093, v_num=1]\n",
      "Validating:  72%|███████▏  | 18/25 [00:03<00:01,  4.19it/s]\u001b[A\n",
      "Validating:  76%|███████▌  | 19/25 [00:03<00:01,  4.20it/s]\u001b[A\n",
      "Validating:  80%|████████  | 20/25 [00:04<00:01,  4.21it/s]\u001b[A\n",
      "Epoch 0:  98%|█████████▊| 218/222 [00:59<00:01,  3.65it/s, loss=3.093, v_num=1]\n",
      "Validating:  88%|████████▊ | 22/25 [00:04<00:00,  4.21it/s]\u001b[A\n",
      "Validating:  92%|█████████▏| 23/25 [00:04<00:00,  4.22it/s]\u001b[A\n",
      "Validating:  96%|█████████▌| 24/25 [00:05<00:00,  4.22it/s]\u001b[A\n",
      "Epoch 0: 100%|██████████| 222/222 [01:01<00:00,  3.59it/s, loss=3.093, v_num=1]\n",
      "Epoch 1:  89%|████████▊ | 197/222 [00:56<00:07,  3.48it/s, loss=2.771, v_num=1]\n",
      "Validating: 0it [00:00, ?it/s]\u001b[A\n",
      "Epoch 1:  90%|█████████ | 200/222 [00:56<00:06,  3.51it/s, loss=2.771, v_num=1]\n",
      "Validating:  20%|██        | 5/25 [00:00<00:04,  4.69it/s]\u001b[A\n",
      "Validating:  24%|██▍       | 6/25 [00:00<00:04,  4.51it/s]\u001b[A\n",
      "Epoch 1:  92%|█████████▏| 204/222 [00:57<00:05,  3.54it/s, loss=2.771, v_num=1]\n",
      "Validating:  32%|███▏      | 8/25 [00:01<00:03,  4.32it/s]\u001b[A\n",
      "Validating:  36%|███▌      | 9/25 [00:01<00:03,  4.27it/s]\u001b[A\n",
      "Validating:  40%|████      | 10/25 [00:01<00:03,  4.23it/s]\u001b[A\n",
      "Epoch 1:  94%|█████████▎| 208/222 [00:58<00:03,  3.55it/s, loss=2.771, v_num=1]\n",
      "Validating:  48%|████▊     | 12/25 [00:02<00:03,  4.19it/s]\u001b[A\n",
      "Validating:  52%|█████▏    | 13/25 [00:02<00:02,  4.18it/s]\u001b[A\n",
      "Validating:  56%|█████▌    | 14/25 [00:02<00:02,  4.17it/s]\u001b[A\n",
      "Epoch 1:  95%|█████████▌| 212/222 [00:59<00:02,  3.56it/s, loss=2.771, v_num=1]\n",
      "Validating:  64%|██████▍   | 16/25 [00:03<00:02,  4.16it/s]\u001b[A\n",
      "Validating:  68%|██████▊   | 17/25 [00:03<00:01,  4.15it/s]\u001b[A\n",
      "Validating:  72%|███████▏  | 18/25 [00:03<00:01,  4.16it/s]\u001b[A\n",
      "Epoch 1:  97%|█████████▋| 216/222 [01:00<00:01,  3.57it/s, loss=2.771, v_num=1]\n",
      "Validating:  80%|████████  | 20/25 [00:04<00:01,  4.15it/s]\u001b[A\n",
      "Validating:  84%|████████▍ | 21/25 [00:04<00:00,  4.15it/s]\u001b[A\n",
      "Validating:  88%|████████▊ | 22/25 [00:04<00:00,  4.15it/s]\u001b[A\n",
      "Epoch 1:  99%|█████████▉| 220/222 [01:01<00:00,  3.58it/s, loss=2.771, v_num=1]\n",
      "Validating:  96%|█████████▌| 24/25 [00:05<00:00,  4.15it/s]\u001b[A\n",
      "Epoch 1: 100%|██████████| 222/222 [01:03<00:00,  3.51it/s, loss=2.771, v_num=1]\n",
      "Epoch 2:  89%|████████▊ | 197/222 [00:57<00:07,  3.41it/s, loss=2.917, v_num=1]\n",
      "Validating: 0it [00:00, ?it/s]\u001b[A\n",
      "Epoch 2:  90%|█████████ | 200/222 [00:58<00:06,  3.44it/s, loss=2.917, v_num=1]\n",
      "Validating:  20%|██        | 5/25 [00:00<00:03,  5.12it/s]\u001b[A\n",
      "Validating:  24%|██▍       | 6/25 [00:00<00:03,  4.78it/s]\u001b[A\n",
      "Epoch 2:  92%|█████████▏| 204/222 [00:58<00:05,  3.47it/s, loss=2.917, v_num=1]\n",
      "Validating:  32%|███▏      | 8/25 [00:01<00:03,  4.40it/s]\u001b[A\n",
      "Validating:  36%|███▌      | 9/25 [00:01<00:03,  4.31it/s]\u001b[A\n",
      "Validating:  40%|████      | 10/25 [00:01<00:03,  4.24it/s]\u001b[A\n",
      "Epoch 2:  94%|█████████▎| 208/222 [00:59<00:04,  3.48it/s, loss=2.917, v_num=1]\n",
      "Validating:  48%|████▊     | 12/25 [00:02<00:03,  4.17it/s]\u001b[A\n",
      "Validating:  52%|█████▏    | 13/25 [00:02<00:02,  4.15it/s]\u001b[A\n",
      "Validating:  56%|█████▌    | 14/25 [00:02<00:02,  4.14it/s]\u001b[A\n",
      "Epoch 2:  95%|█████████▌| 212/222 [01:00<00:02,  3.49it/s, loss=2.917, v_num=1]\n",
      "Validating:  64%|██████▍   | 16/25 [00:03<00:02,  4.11it/s]\u001b[A\n",
      "Validating:  68%|██████▊   | 17/25 [00:03<00:01,  4.11it/s]\u001b[A\n",
      "Validating:  72%|███████▏  | 18/25 [00:03<00:01,  4.10it/s]\u001b[A\n",
      "Epoch 2:  97%|█████████▋| 216/222 [01:01<00:01,  3.50it/s, loss=2.917, v_num=1]\n",
      "Validating:  80%|████████  | 20/25 [00:04<00:01,  4.12it/s]\u001b[A\n",
      "Validating:  84%|████████▍ | 21/25 [00:04<00:00,  4.11it/s]\u001b[A\n",
      "Validating:  88%|████████▊ | 22/25 [00:04<00:00,  4.11it/s]\u001b[A\n",
      "Epoch 2:  99%|█████████▉| 220/222 [01:02<00:00,  3.51it/s, loss=2.917, v_num=1]\n",
      "Validating:  96%|█████████▌| 24/25 [00:05<00:00,  4.12it/s]\u001b[A\n",
      "Epoch 2: 100%|██████████| 222/222 [01:04<00:00,  3.45it/s, loss=2.917, v_num=1]\n",
      "Epoch 3:  89%|████████▊ | 197/222 [00:58<00:07,  3.36it/s, loss=2.690, v_num=1]\n",
      "Validating: 0it [00:00, ?it/s]\u001b[A\n",
      "Epoch 3:  90%|█████████ | 200/222 [00:58<00:06,  3.40it/s, loss=2.690, v_num=1]\n",
      "Validating:  20%|██        | 5/25 [00:00<00:03,  5.04it/s]\u001b[A\n",
      "Validating:  24%|██▍       | 6/25 [00:00<00:04,  4.71it/s]\u001b[A\n",
      "Epoch 3:  92%|█████████▏| 204/222 [00:59<00:05,  3.42it/s, loss=2.690, v_num=1]\n",
      "Validating:  32%|███▏      | 8/25 [00:01<00:03,  4.38it/s]\u001b[A\n",
      "Validating:  36%|███▌      | 9/25 [00:01<00:03,  4.29it/s]\u001b[A\n",
      "Validating:  40%|████      | 10/25 [00:01<00:03,  4.24it/s]\u001b[A\n",
      "Epoch 3:  94%|█████████▎| 208/222 [01:00<00:04,  3.43it/s, loss=2.690, v_num=1]\n",
      "Validating:  48%|████▊     | 12/25 [00:02<00:03,  4.16it/s]\u001b[A\n",
      "Validating:  52%|█████▏    | 13/25 [00:02<00:02,  4.14it/s]\u001b[A\n",
      "Validating:  56%|█████▌    | 14/25 [00:02<00:02,  4.12it/s]\u001b[A\n",
      "Epoch 3:  95%|█████████▌| 212/222 [01:01<00:02,  3.44it/s, loss=2.690, v_num=1]\n",
      "Validating:  64%|██████▍   | 16/25 [00:03<00:02,  4.11it/s]\u001b[A\n",
      "Validating:  68%|██████▊   | 17/25 [00:03<00:01,  4.11it/s]\u001b[A\n",
      "Validating:  72%|███████▏  | 18/25 [00:03<00:01,  4.10it/s]\u001b[A\n",
      "Epoch 3:  97%|█████████▋| 216/222 [01:02<00:01,  3.45it/s, loss=2.690, v_num=1]\n",
      "Validating:  80%|████████  | 20/25 [00:04<00:01,  4.09it/s]\u001b[A\n",
      "Validating:  84%|████████▍ | 21/25 [00:04<00:00,  4.09it/s]\u001b[A\n",
      "Validating:  88%|████████▊ | 22/25 [00:04<00:00,  4.09it/s]\u001b[A\n",
      "Epoch 3:  99%|█████████▉| 220/222 [01:03<00:00,  3.46it/s, loss=2.690, v_num=1]\n",
      "Validating:  96%|█████████▌| 24/25 [00:05<00:00,  4.09it/s]\u001b[A\n",
      "Epoch 3: 100%|██████████| 222/222 [01:05<00:00,  3.41it/s, loss=2.690, v_num=1]\n",
      "Epoch 4:  89%|████████▊ | 197/222 [00:58<00:07,  3.36it/s, loss=2.586, v_num=1]\n",
      "Validating: 0it [00:00, ?it/s]\u001b[A\n",
      "Epoch 4:  90%|█████████ | 200/222 [00:58<00:06,  3.39it/s, loss=2.586, v_num=1]\n",
      "Validating:  20%|██        | 5/25 [00:00<00:03,  5.10it/s]\u001b[A\n",
      "Validating:  24%|██▍       | 6/25 [00:00<00:03,  4.77it/s]\u001b[A\n",
      "Epoch 4:  92%|█████████▏| 204/222 [00:59<00:05,  3.42it/s, loss=2.586, v_num=1]\n",
      "Validating:  32%|███▏      | 8/25 [00:01<00:03,  4.40it/s]\u001b[A\n",
      "Validating:  36%|███▌      | 9/25 [00:01<00:03,  4.31it/s]\u001b[A\n",
      "Validating:  40%|████      | 10/25 [00:01<00:03,  4.24it/s]\u001b[A\n",
      "Epoch 4:  94%|█████████▎| 208/222 [01:00<00:04,  3.43it/s, loss=2.586, v_num=1]\n",
      "Validating:  48%|████▊     | 12/25 [00:02<00:03,  4.18it/s]\u001b[A\n",
      "Validating:  52%|█████▏    | 13/25 [00:02<00:02,  4.15it/s]\u001b[A\n",
      "Validating:  56%|█████▌    | 14/25 [00:02<00:02,  4.14it/s]\u001b[A\n",
      "Epoch 4:  95%|█████████▌| 212/222 [01:01<00:02,  3.44it/s, loss=2.586, v_num=1]\n",
      "Validating:  64%|██████▍   | 16/25 [00:03<00:02,  4.12it/s]\u001b[A\n",
      "Validating:  68%|██████▊   | 17/25 [00:03<00:01,  4.12it/s]\u001b[A\n",
      "Validating:  72%|███████▏  | 18/25 [00:03<00:01,  4.11it/s]\u001b[A\n",
      "Epoch 4:  97%|█████████▋| 216/222 [01:02<00:01,  3.45it/s, loss=2.586, v_num=1]\n",
      "Validating:  80%|████████  | 20/25 [00:04<00:01,  4.10it/s]\u001b[A\n",
      "Validating:  84%|████████▍ | 21/25 [00:04<00:00,  4.09it/s]\u001b[A\n",
      "Validating:  88%|████████▊ | 22/25 [00:04<00:00,  4.09it/s]\u001b[A\n",
      "Epoch 4:  99%|█████████▉| 220/222 [01:03<00:00,  3.46it/s, loss=2.586, v_num=1]\n",
      "Validating:  96%|█████████▌| 24/25 [00:05<00:00,  4.08it/s]\u001b[A\n",
      "Epoch 4: 100%|██████████| 222/222 [01:05<00:00,  3.40it/s, loss=2.586, v_num=1]\n",
      "Epoch 5:  15%|█▌        | 34/222 [00:10<00:56,  3.30it/s, loss=2.624, v_num=1] "
     ]
    },
    {
     "name": "stderr",
     "output_type": "stream",
     "text": [
      "/home/isleof/.pyenv/versions/miniconda3-latest/envs/torch/lib/python3.8/site-packages/pytorch_lightning/utilities/distributed.py:45: UserWarning: Detected KeyboardInterrupt, attempting graceful shutdown...\n",
      "  warnings.warn(*args, **kwargs)\n"
     ]
    },
    {
     "name": "stdout",
     "output_type": "stream",
     "text": [
      "Epoch 5:  15%|█▌        | 34/222 [00:10<01:00,  3.11it/s, loss=2.624, v_num=1]\n"
     ]
    },
    {
     "data": {
      "text/plain": [
       "1"
      ]
     },
     "execution_count": 90,
     "metadata": {},
     "output_type": "execute_result"
    },
    {
     "name": "stderr",
     "output_type": "stream",
     "text": [
      "Traceback (most recent call last):\n",
      "  File \"/home/isleof/.pyenv/versions/miniconda3-latest/envs/torch/lib/python3.8/multiprocessing/queues.py\", line 245, in _feed\n",
      "    send_bytes(obj)\n",
      "  File \"/home/isleof/.pyenv/versions/miniconda3-latest/envs/torch/lib/python3.8/multiprocessing/connection.py\", line 200, in send_bytes\n",
      "    self._send_bytes(m[offset:offset + size])\n",
      "  File \"/home/isleof/.pyenv/versions/miniconda3-latest/envs/torch/lib/python3.8/multiprocessing/connection.py\", line 411, in _send_bytes\n",
      "    self._send(header + buf)\n",
      "  File \"/home/isleof/.pyenv/versions/miniconda3-latest/envs/torch/lib/python3.8/multiprocessing/connection.py\", line 368, in _send\n",
      "    n = write(self._handle, buf)\n",
      "BrokenPipeError: [Errno 32] Broken pipe\n",
      "Traceback (most recent call last):\n",
      "Traceback (most recent call last):\n",
      "  File \"/home/isleof/.pyenv/versions/miniconda3-latest/envs/torch/lib/python3.8/multiprocessing/queues.py\", line 245, in _feed\n",
      "    send_bytes(obj)\n",
      "  File \"/home/isleof/.pyenv/versions/miniconda3-latest/envs/torch/lib/python3.8/multiprocessing/connection.py\", line 200, in send_bytes\n",
      "    self._send_bytes(m[offset:offset + size])\n",
      "  File \"/home/isleof/.pyenv/versions/miniconda3-latest/envs/torch/lib/python3.8/multiprocessing/connection.py\", line 411, in _send_bytes\n",
      "    self._send(header + buf)\n",
      "  File \"/home/isleof/.pyenv/versions/miniconda3-latest/envs/torch/lib/python3.8/multiprocessing/connection.py\", line 368, in _send\n",
      "    n = write(self._handle, buf)\n",
      "  File \"/home/isleof/.pyenv/versions/miniconda3-latest/envs/torch/lib/python3.8/multiprocessing/queues.py\", line 245, in _feed\n",
      "    send_bytes(obj)\n",
      "BrokenPipeError: [Errno 32] Broken pipe\n",
      "  File \"/home/isleof/.pyenv/versions/miniconda3-latest/envs/torch/lib/python3.8/multiprocessing/connection.py\", line 200, in send_bytes\n",
      "    self._send_bytes(m[offset:offset + size])\n",
      "  File \"/home/isleof/.pyenv/versions/miniconda3-latest/envs/torch/lib/python3.8/multiprocessing/connection.py\", line 411, in _send_bytes\n",
      "    self._send(header + buf)\n",
      "  File \"/home/isleof/.pyenv/versions/miniconda3-latest/envs/torch/lib/python3.8/multiprocessing/connection.py\", line 368, in _send\n",
      "    n = write(self._handle, buf)\n",
      "BrokenPipeError: [Errno 32] Broken pipe\n",
      "Traceback (most recent call last):\n",
      "  File \"/home/isleof/.pyenv/versions/miniconda3-latest/envs/torch/lib/python3.8/multiprocessing/queues.py\", line 245, in _feed\n",
      "    send_bytes(obj)\n",
      "  File \"/home/isleof/.pyenv/versions/miniconda3-latest/envs/torch/lib/python3.8/multiprocessing/connection.py\", line 200, in send_bytes\n",
      "    self._send_bytes(m[offset:offset + size])\n",
      "  File \"/home/isleof/.pyenv/versions/miniconda3-latest/envs/torch/lib/python3.8/multiprocessing/connection.py\", line 411, in _send_bytes\n",
      "    self._send(header + buf)\n",
      "  File \"/home/isleof/.pyenv/versions/miniconda3-latest/envs/torch/lib/python3.8/multiprocessing/connection.py\", line 368, in _send\n",
      "    n = write(self._handle, buf)\n",
      "BrokenPipeError: [Errno 32] Broken pipe\n"
     ]
    },
    {
     "data": {
      "application/javascript": [
       "\n",
       "            setTimeout(function() {\n",
       "                var nbb_cell_id = 90;\n",
       "                var nbb_unformatted_code = \"trainer.fit(m, dm)\";\n",
       "                var nbb_formatted_code = \"trainer.fit(m, dm)\";\n",
       "                var nbb_cells = Jupyter.notebook.get_cells();\n",
       "                for (var i = 0; i < nbb_cells.length; ++i) {\n",
       "                    if (nbb_cells[i].input_prompt_number == nbb_cell_id) {\n",
       "                        if (nbb_cells[i].get_text() == nbb_unformatted_code) {\n",
       "                             nbb_cells[i].set_text(nbb_formatted_code);\n",
       "                        }\n",
       "                        break;\n",
       "                    }\n",
       "                }\n",
       "            }, 500);\n",
       "            "
      ],
      "text/plain": [
       "<IPython.core.display.Javascript object>"
      ]
     },
     "metadata": {},
     "output_type": "display_data"
    }
   ],
   "source": [
    "trainer.fit(m, dm)"
   ]
  },
  {
   "cell_type": "code",
   "execution_count": null,
   "metadata": {},
   "outputs": [],
   "source": []
  },
  {
   "cell_type": "code",
   "execution_count": null,
   "metadata": {},
   "outputs": [],
   "source": []
  },
  {
   "cell_type": "code",
   "execution_count": null,
   "metadata": {},
   "outputs": [],
   "source": []
  },
  {
   "cell_type": "code",
   "execution_count": null,
   "metadata": {},
   "outputs": [],
   "source": []
  }
 ],
 "metadata": {
  "kernelspec": {
   "display_name": "Python [conda env:torch] *",
   "language": "python",
   "name": "conda-env-torch-py"
  },
  "language_info": {
   "codemirror_mode": {
    "name": "ipython",
    "version": 3
   },
   "file_extension": ".py",
   "mimetype": "text/x-python",
   "name": "python",
   "nbconvert_exporter": "python",
   "pygments_lexer": "ipython3",
   "version": "3.8.5"
  }
 },
 "nbformat": 4,
 "nbformat_minor": 4
}
