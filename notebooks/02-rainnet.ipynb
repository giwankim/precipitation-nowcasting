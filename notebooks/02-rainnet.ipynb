{
 "cells": [
  {
   "cell_type": "code",
   "execution_count": 2,
   "metadata": {},
   "outputs": [
    {
     "data": {
      "application/javascript": [
       "\n",
       "            setTimeout(function() {\n",
       "                var nbb_cell_id = 2;\n",
       "                var nbb_unformatted_code = \"%reload_ext autoreload\\n%autoreload 2\\n%reload_ext nb_black\";\n",
       "                var nbb_formatted_code = \"%reload_ext autoreload\\n%autoreload 2\\n%reload_ext nb_black\";\n",
       "                var nbb_cells = Jupyter.notebook.get_cells();\n",
       "                for (var i = 0; i < nbb_cells.length; ++i) {\n",
       "                    if (nbb_cells[i].input_prompt_number == nbb_cell_id) {\n",
       "                        if (nbb_cells[i].get_text() == nbb_unformatted_code) {\n",
       "                             nbb_cells[i].set_text(nbb_formatted_code);\n",
       "                        }\n",
       "                        break;\n",
       "                    }\n",
       "                }\n",
       "            }, 500);\n",
       "            "
      ],
      "text/plain": [
       "<IPython.core.display.Javascript object>"
      ]
     },
     "metadata": {},
     "output_type": "display_data"
    }
   ],
   "source": [
    "%reload_ext autoreload\n",
    "%autoreload 2\n",
    "%reload_ext nb_black"
   ]
  },
  {
   "cell_type": "code",
   "execution_count": 3,
   "metadata": {},
   "outputs": [
    {
     "data": {
      "application/javascript": [
       "\n",
       "            setTimeout(function() {\n",
       "                var nbb_cell_id = 3;\n",
       "                var nbb_unformatted_code = \"from pathlib import Path\\nfrom concurrent.futures import ThreadPoolExecutor\\nfrom tqdm.notebook import tqdm\\n\\nimport cv2\\nimport numpy as np\\nimport pandas as pd\\nimport matplotlib.pyplot as plt\\n\\nimport torch\\nimport torch.nn as nn\\nimport torch.nn.functional as F\\nimport pytorch_lightning as pl\";\n",
       "                var nbb_formatted_code = \"from pathlib import Path\\nfrom concurrent.futures import ThreadPoolExecutor\\nfrom tqdm.notebook import tqdm\\n\\nimport cv2\\nimport numpy as np\\nimport pandas as pd\\nimport matplotlib.pyplot as plt\\n\\nimport torch\\nimport torch.nn as nn\\nimport torch.nn.functional as F\\nimport pytorch_lightning as pl\";\n",
       "                var nbb_cells = Jupyter.notebook.get_cells();\n",
       "                for (var i = 0; i < nbb_cells.length; ++i) {\n",
       "                    if (nbb_cells[i].input_prompt_number == nbb_cell_id) {\n",
       "                        if (nbb_cells[i].get_text() == nbb_unformatted_code) {\n",
       "                             nbb_cells[i].set_text(nbb_formatted_code);\n",
       "                        }\n",
       "                        break;\n",
       "                    }\n",
       "                }\n",
       "            }, 500);\n",
       "            "
      ],
      "text/plain": [
       "<IPython.core.display.Javascript object>"
      ]
     },
     "metadata": {},
     "output_type": "display_data"
    }
   ],
   "source": [
    "from pathlib import Path\n",
    "from concurrent.futures import ThreadPoolExecutor\n",
    "from tqdm.notebook import tqdm\n",
    "\n",
    "import cv2\n",
    "import numpy as np\n",
    "import pandas as pd\n",
    "import matplotlib.pyplot as plt\n",
    "\n",
    "import torch\n",
    "import torch.nn as nn\n",
    "import torch.nn.functional as F\n",
    "import pytorch_lightning as pl"
   ]
  },
  {
   "cell_type": "code",
   "execution_count": 4,
   "metadata": {},
   "outputs": [
    {
     "data": {
      "application/javascript": [
       "\n",
       "            setTimeout(function() {\n",
       "                var nbb_cell_id = 4;\n",
       "                var nbb_unformatted_code = \"PATH = Path(\\\"../input\\\")\";\n",
       "                var nbb_formatted_code = \"PATH = Path(\\\"../input\\\")\";\n",
       "                var nbb_cells = Jupyter.notebook.get_cells();\n",
       "                for (var i = 0; i < nbb_cells.length; ++i) {\n",
       "                    if (nbb_cells[i].input_prompt_number == nbb_cell_id) {\n",
       "                        if (nbb_cells[i].get_text() == nbb_unformatted_code) {\n",
       "                             nbb_cells[i].set_text(nbb_formatted_code);\n",
       "                        }\n",
       "                        break;\n",
       "                    }\n",
       "                }\n",
       "            }, 500);\n",
       "            "
      ],
      "text/plain": [
       "<IPython.core.display.Javascript object>"
      ]
     },
     "metadata": {},
     "output_type": "display_data"
    }
   ],
   "source": [
    "PATH = Path(\"../input\")"
   ]
  },
  {
   "cell_type": "markdown",
   "metadata": {},
   "source": [
    "# RainNet ⚡️"
   ]
  },
  {
   "cell_type": "markdown",
   "metadata": {
    "heading_collapsed": true
   },
   "source": [
    "## Utils"
   ]
  },
  {
   "cell_type": "code",
   "execution_count": null,
   "metadata": {
    "hidden": true
   },
   "outputs": [],
   "source": [
    "def visualize(x, y=None, test=False):\n",
    "    cmap = plt.cm.get_cmap(\"RdBu\")\n",
    "    cmap = cmap.reversed()\n",
    "    if test:\n",
    "        fig, axes = plt.subplots(1, 4, figsize=(10, 10))\n",
    "        for i, ax in enumerate(axes):\n",
    "            img = x[:, :, i]\n",
    "            ax.imshow(img, cmap=cmap)\n",
    "    else:\n",
    "        fig, axes = plt.subplots(1, 5, figsize=(10, 10))\n",
    "        for i, ax in enumerate(axes[:-1]):\n",
    "            img = x[:, :, i]\n",
    "            ax.imshow(img, cmap=cmap)\n",
    "        axes[-1].imshow(y[:, :, 0], cmap=cmap)\n",
    "    #     plt.tight_layout()\n",
    "    plt.show()"
   ]
  },
  {
   "cell_type": "markdown",
   "metadata": {
    "heading_collapsed": true
   },
   "source": [
    "## Resize data"
   ]
  },
  {
   "cell_type": "code",
   "execution_count": 5,
   "metadata": {
    "hidden": true
   },
   "outputs": [
    {
     "data": {
      "application/javascript": [
       "\n",
       "            setTimeout(function() {\n",
       "                var nbb_cell_id = 5;\n",
       "                var nbb_unformatted_code = \"(PATH / \\\"train-128\\\").mkdir(exist_ok=True)\";\n",
       "                var nbb_formatted_code = \"(PATH / \\\"train-128\\\").mkdir(exist_ok=True)\";\n",
       "                var nbb_cells = Jupyter.notebook.get_cells();\n",
       "                for (var i = 0; i < nbb_cells.length; ++i) {\n",
       "                    if (nbb_cells[i].input_prompt_number == nbb_cell_id) {\n",
       "                        if (nbb_cells[i].get_text() == nbb_unformatted_code) {\n",
       "                             nbb_cells[i].set_text(nbb_formatted_code);\n",
       "                        }\n",
       "                        break;\n",
       "                    }\n",
       "                }\n",
       "            }, 500);\n",
       "            "
      ],
      "text/plain": [
       "<IPython.core.display.Javascript object>"
      ]
     },
     "metadata": {},
     "output_type": "display_data"
    }
   ],
   "source": [
    "(PATH / \"train-128\").mkdir(exist_ok=True)"
   ]
  },
  {
   "cell_type": "code",
   "execution_count": 21,
   "metadata": {
    "hidden": true
   },
   "outputs": [
    {
     "data": {
      "application/javascript": [
       "\n",
       "            setTimeout(function() {\n",
       "                var nbb_cell_id = 21;\n",
       "                var nbb_unformatted_code = \"def resize_data(path):\\n    data = np.load(path)\\n    img1 = data[:, :, :3]\\n    img2 = data[:, :, 2:]\\n    img1 = cv2.copyMakeBorder(img1, 4, 4, 4, 4, cv2.BORDER_REFLECT)\\n    img2 = cv2.copyMakeBorder(img2, 4, 4, 4, 4, cv2.BORDER_REFLECT)\\n    img2 = img2[:, :, 1:]\\n    data = np.concatenate([img1, img2], axis=-1)\\n    np.save(PATH / \\\"train-128\\\" / path.name, data)\\n    \\nfiles = list((PATH / \\\"train\\\").glob(\\\"*.npy\\\"))\\nwith ThreadPoolExecutor(8) as e: e.map(resize_data, files)\";\n",
       "                var nbb_formatted_code = \"def resize_data(path):\\n    data = np.load(path)\\n    img1 = data[:, :, :3]\\n    img2 = data[:, :, 2:]\\n    img1 = cv2.copyMakeBorder(img1, 4, 4, 4, 4, cv2.BORDER_REFLECT)\\n    img2 = cv2.copyMakeBorder(img2, 4, 4, 4, 4, cv2.BORDER_REFLECT)\\n    img2 = img2[:, :, 1:]\\n    data = np.concatenate([img1, img2], axis=-1)\\n    np.save(PATH / \\\"train-128\\\" / path.name, data)\\n\\n\\nfiles = list((PATH / \\\"train\\\").glob(\\\"*.npy\\\"))\\nwith ThreadPoolExecutor(8) as e:\\n    e.map(resize_data, files)\";\n",
       "                var nbb_cells = Jupyter.notebook.get_cells();\n",
       "                for (var i = 0; i < nbb_cells.length; ++i) {\n",
       "                    if (nbb_cells[i].input_prompt_number == nbb_cell_id) {\n",
       "                        if (nbb_cells[i].get_text() == nbb_unformatted_code) {\n",
       "                             nbb_cells[i].set_text(nbb_formatted_code);\n",
       "                        }\n",
       "                        break;\n",
       "                    }\n",
       "                }\n",
       "            }, 500);\n",
       "            "
      ],
      "text/plain": [
       "<IPython.core.display.Javascript object>"
      ]
     },
     "metadata": {},
     "output_type": "display_data"
    }
   ],
   "source": [
    "def resize_data(path):\n",
    "    data = np.load(path)\n",
    "    img1 = data[:, :, :3]\n",
    "    img2 = data[:, :, 2:]\n",
    "    img1 = cv2.copyMakeBorder(img1, 4, 4, 4, 4, cv2.BORDER_REFLECT)\n",
    "    img2 = cv2.copyMakeBorder(img2, 4, 4, 4, 4, cv2.BORDER_REFLECT)\n",
    "    img2 = img2[:, :, 1:]\n",
    "    data = np.concatenate([img1, img2], axis=-1)\n",
    "    np.save(PATH / \"train-128\" / path.name, data)\n",
    "\n",
    "\n",
    "files = list((PATH / \"train\").glob(\"*.npy\"))\n",
    "with ThreadPoolExecutor(8) as e:\n",
    "    e.map(resize_data, files)"
   ]
  },
  {
   "cell_type": "markdown",
   "metadata": {},
   "source": [
    "## Dataset"
   ]
  },
  {
   "cell_type": "code",
   "execution_count": 5,
   "metadata": {},
   "outputs": [
    {
     "data": {
      "application/javascript": [
       "\n",
       "            setTimeout(function() {\n",
       "                var nbb_cell_id = 5;\n",
       "                var nbb_unformatted_code = \"class NowcastingDataset(torch.utils.data.Dataset):\\n    def __init__(self, paths, test=False):\\n        self.paths = paths\\n        self.test = test\\n\\n    def __len__(self):\\n        return len(self.paths)\\n\\n    def __getitem__(self, idx):\\n        path = self.paths[idx]\\n        data = np.load(path)\\n        x = data[:, :, :4]\\n        x = x / 255.0\\n        x = x.astype(np.float32)\\n        x = torch.tensor(x, dtype=torch.float)\\n        x = x.permute(2, 0, 1)\\n        if self.test:\\n            return x\\n        else:\\n            y = data[:, :, 4]\\n            y = y / 255.0\\n            y = y.astype(np.float32)\\n            y = torch.tensor(y, dtype=torch.float)\\n            y = y.unsqueeze(-1)\\n            y = y.permute(2, 0, 1)\\n\\n            return x, y\";\n",
       "                var nbb_formatted_code = \"class NowcastingDataset(torch.utils.data.Dataset):\\n    def __init__(self, paths, test=False):\\n        self.paths = paths\\n        self.test = test\\n\\n    def __len__(self):\\n        return len(self.paths)\\n\\n    def __getitem__(self, idx):\\n        path = self.paths[idx]\\n        data = np.load(path)\\n        x = data[:, :, :4]\\n        x = x / 255.0\\n        x = x.astype(np.float32)\\n        x = torch.tensor(x, dtype=torch.float)\\n        x = x.permute(2, 0, 1)\\n        if self.test:\\n            return x\\n        else:\\n            y = data[:, :, 4]\\n            y = y / 255.0\\n            y = y.astype(np.float32)\\n            y = torch.tensor(y, dtype=torch.float)\\n            y = y.unsqueeze(-1)\\n            y = y.permute(2, 0, 1)\\n\\n            return x, y\";\n",
       "                var nbb_cells = Jupyter.notebook.get_cells();\n",
       "                for (var i = 0; i < nbb_cells.length; ++i) {\n",
       "                    if (nbb_cells[i].input_prompt_number == nbb_cell_id) {\n",
       "                        if (nbb_cells[i].get_text() == nbb_unformatted_code) {\n",
       "                             nbb_cells[i].set_text(nbb_formatted_code);\n",
       "                        }\n",
       "                        break;\n",
       "                    }\n",
       "                }\n",
       "            }, 500);\n",
       "            "
      ],
      "text/plain": [
       "<IPython.core.display.Javascript object>"
      ]
     },
     "metadata": {},
     "output_type": "display_data"
    }
   ],
   "source": [
    "class NowcastingDataset(torch.utils.data.Dataset):\n",
    "    def __init__(self, paths, test=False):\n",
    "        self.paths = paths\n",
    "        self.test = test\n",
    "\n",
    "    def __len__(self):\n",
    "        return len(self.paths)\n",
    "\n",
    "    def __getitem__(self, idx):\n",
    "        path = self.paths[idx]\n",
    "        data = np.load(path)\n",
    "        x = data[:, :, :4]\n",
    "        x = x / 255.0\n",
    "        x = x.astype(np.float32)\n",
    "        x = torch.tensor(x, dtype=torch.float)\n",
    "        x = x.permute(2, 0, 1)\n",
    "        if self.test:\n",
    "            return x\n",
    "        else:\n",
    "            y = data[:, :, 4]\n",
    "            y = y / 255.0\n",
    "            y = y.astype(np.float32)\n",
    "            y = torch.tensor(y, dtype=torch.float)\n",
    "            y = y.unsqueeze(-1)\n",
    "            y = y.permute(2, 0, 1)\n",
    "\n",
    "            return x, y"
   ]
  },
  {
   "cell_type": "code",
   "execution_count": 6,
   "metadata": {},
   "outputs": [
    {
     "data": {
      "image/png": "[encoded data removed]",
      "text/plain": [
       "<Figure size 720x720 with 5 Axes>"
      ]
     },
     "metadata": {
      "needs_background": "light"
     },
     "output_type": "display_data"
    },
    {
     "data": {
      "application/javascript": [
       "\n",
       "            setTimeout(function() {\n",
       "                var nbb_cell_id = 6;\n",
       "                var nbb_unformatted_code = \"files = list((PATH / \\\"train-128\\\").glob(\\\"*.npy\\\"))\\ndataset = NowcastingDataset(files)\\nx, y = dataset[42]\\nx = x.permute(1, 2, 0).numpy()\\ny = y.permute(1, 2, 0).numpy()\\nvisualize(x, y)\";\n",
       "                var nbb_formatted_code = \"files = list((PATH / \\\"train-128\\\").glob(\\\"*.npy\\\"))\\ndataset = NowcastingDataset(files)\\nx, y = dataset[42]\\nx = x.permute(1, 2, 0).numpy()\\ny = y.permute(1, 2, 0).numpy()\\nvisualize(x, y)\";\n",
       "                var nbb_cells = Jupyter.notebook.get_cells();\n",
       "                for (var i = 0; i < nbb_cells.length; ++i) {\n",
       "                    if (nbb_cells[i].input_prompt_number == nbb_cell_id) {\n",
       "                        if (nbb_cells[i].get_text() == nbb_unformatted_code) {\n",
       "                             nbb_cells[i].set_text(nbb_formatted_code);\n",
       "                        }\n",
       "                        break;\n",
       "                    }\n",
       "                }\n",
       "            }, 500);\n",
       "            "
      ],
      "text/plain": [
       "<IPython.core.display.Javascript object>"
      ]
     },
     "metadata": {},
     "output_type": "display_data"
    }
   ],
   "source": [
    "files = list((PATH / \"train-128\").glob(\"*.npy\"))\n",
    "dataset = NowcastingDataset(files)\n",
    "x, y = dataset[42]\n",
    "x = x.permute(1, 2, 0).numpy()\n",
    "y = y.permute(1, 2, 0).numpy()\n",
    "visualize(x, y)"
   ]
  },
  {
   "cell_type": "code",
   "execution_count": 6,
   "metadata": {},
   "outputs": [
    {
     "data": {
      "application/javascript": [
       "\n",
       "            setTimeout(function() {\n",
       "                var nbb_cell_id = 6;\n",
       "                var nbb_unformatted_code = \"class NowcastingDataModule(pl.LightningDataModule):\\n    def __init__(self, df, fold, batch_size, test=False, num_workers=4):\\n        super().__init__()\\n        self.df = df\\n        self.fold = fold\\n        self.test = test\\n        self.batch_size = batch_size\\n        self.num_workers = 4\\n\\n    def setup(self, stage=\\\"train\\\"):\\n        if stage == \\\"train\\\":\\n            train_df = self.df[self.df.fold != self.fold]\\n            val_df = self.df[self.df.fold == self.fold]\\n            train_paths = [PATH / \\\"train-128\\\" / fn for fn in train_df.filename.values]\\n            val_paths = [PATH / \\\"train-128\\\" / fn for fn in val_df.filename.values]\\n            self.train_dataset = NowcastingDataset(train_paths)\\n            self.val_dataset = NowcastingDataset(val_paths)\\n        else:\\n            test_paths = list((PATH / \\\"test\\\").glob(\\\"*.npy\\\"))\\n            self.test_dataset = NowcastingDataset(test_paths, test=True)\\n\\n    def train_dataloader(self):\\n        return torch.utils.data.DataLoader(\\n            self.train_dataset,\\n            batch_size=self.batch_size,\\n            shuffle=True,\\n            pin_memory=True,\\n            num_workers=self.num_workers,\\n        )\\n\\n    def val_dataloader(self):\\n        return torch.utils.data.DataLoader(\\n            self.val_dataset,\\n            batch_size=2 * self.batch_size,\\n            pin_memory=True,\\n            num_workers=self.num_workers,\\n        )\\n\\n    def test_dataloader(self):\\n        return torch.utils.data.DataLoader(\\n            self.test_dataset,\\n            batch_size=2 * self.batch_size,\\n            pin_memory=True,\\n            num_workers=self.num_workers,\\n        )\";\n",
       "                var nbb_formatted_code = \"class NowcastingDataModule(pl.LightningDataModule):\\n    def __init__(self, df, fold, batch_size, test=False, num_workers=4):\\n        super().__init__()\\n        self.df = df\\n        self.fold = fold\\n        self.test = test\\n        self.batch_size = batch_size\\n        self.num_workers = 4\\n\\n    def setup(self, stage=\\\"train\\\"):\\n        if stage == \\\"train\\\":\\n            train_df = self.df[self.df.fold != self.fold]\\n            val_df = self.df[self.df.fold == self.fold]\\n            train_paths = [PATH / \\\"train-128\\\" / fn for fn in train_df.filename.values]\\n            val_paths = [PATH / \\\"train-128\\\" / fn for fn in val_df.filename.values]\\n            self.train_dataset = NowcastingDataset(train_paths)\\n            self.val_dataset = NowcastingDataset(val_paths)\\n        else:\\n            test_paths = list((PATH / \\\"test\\\").glob(\\\"*.npy\\\"))\\n            self.test_dataset = NowcastingDataset(test_paths, test=True)\\n\\n    def train_dataloader(self):\\n        return torch.utils.data.DataLoader(\\n            self.train_dataset,\\n            batch_size=self.batch_size,\\n            shuffle=True,\\n            pin_memory=True,\\n            num_workers=self.num_workers,\\n        )\\n\\n    def val_dataloader(self):\\n        return torch.utils.data.DataLoader(\\n            self.val_dataset,\\n            batch_size=2 * self.batch_size,\\n            pin_memory=True,\\n            num_workers=self.num_workers,\\n        )\\n\\n    def test_dataloader(self):\\n        return torch.utils.data.DataLoader(\\n            self.test_dataset,\\n            batch_size=2 * self.batch_size,\\n            pin_memory=True,\\n            num_workers=self.num_workers,\\n        )\";\n",
       "                var nbb_cells = Jupyter.notebook.get_cells();\n",
       "                for (var i = 0; i < nbb_cells.length; ++i) {\n",
       "                    if (nbb_cells[i].input_prompt_number == nbb_cell_id) {\n",
       "                        if (nbb_cells[i].get_text() == nbb_unformatted_code) {\n",
       "                             nbb_cells[i].set_text(nbb_formatted_code);\n",
       "                        }\n",
       "                        break;\n",
       "                    }\n",
       "                }\n",
       "            }, 500);\n",
       "            "
      ],
      "text/plain": [
       "<IPython.core.display.Javascript object>"
      ]
     },
     "metadata": {},
     "output_type": "display_data"
    }
   ],
   "source": [
    "class NowcastingDataModule(pl.LightningDataModule):\n",
    "    def __init__(self, df, fold, batch_size, test=False, num_workers=4):\n",
    "        super().__init__()\n",
    "        self.df = df\n",
    "        self.fold = fold\n",
    "        self.test = test\n",
    "        self.batch_size = batch_size\n",
    "        self.num_workers = 4\n",
    "\n",
    "    def setup(self, stage=\"train\"):\n",
    "        if stage == \"train\":\n",
    "            train_df = self.df[self.df.fold != self.fold]\n",
    "            val_df = self.df[self.df.fold == self.fold]\n",
    "            train_paths = [PATH / \"train-128\" / fn for fn in train_df.filename.values]\n",
    "            val_paths = [PATH / \"train-128\" / fn for fn in val_df.filename.values]\n",
    "            self.train_dataset = NowcastingDataset(train_paths)\n",
    "            self.val_dataset = NowcastingDataset(val_paths)\n",
    "        else:\n",
    "            test_paths = list((PATH / \"test\").glob(\"*.npy\"))\n",
    "            self.test_dataset = NowcastingDataset(test_paths, test=True)\n",
    "\n",
    "    def train_dataloader(self):\n",
    "        return torch.utils.data.DataLoader(\n",
    "            self.train_dataset,\n",
    "            batch_size=self.batch_size,\n",
    "            shuffle=True,\n",
    "            pin_memory=True,\n",
    "            num_workers=self.num_workers,\n",
    "        )\n",
    "\n",
    "    def val_dataloader(self):\n",
    "        return torch.utils.data.DataLoader(\n",
    "            self.val_dataset,\n",
    "            batch_size=2 * self.batch_size,\n",
    "            pin_memory=True,\n",
    "            num_workers=self.num_workers,\n",
    "        )\n",
    "\n",
    "    def test_dataloader(self):\n",
    "        return torch.utils.data.DataLoader(\n",
    "            self.test_dataset,\n",
    "            batch_size=2 * self.batch_size,\n",
    "            pin_memory=True,\n",
    "            num_workers=self.num_workers,\n",
    "        )"
   ]
  },
  {
   "cell_type": "code",
   "execution_count": 25,
   "metadata": {},
   "outputs": [
    {
     "data": {
      "image/png": "[encoded data removed]",
      "text/plain": [
       "<Figure size 720x720 with 5 Axes>"
      ]
     },
     "metadata": {
      "needs_background": "light"
     },
     "output_type": "display_data"
    },
    {
     "data": {
      "application/javascript": [
       "\n",
       "            setTimeout(function() {\n",
       "                var nbb_cell_id = 25;\n",
       "                var nbb_unformatted_code = \"df = pd.read_csv(PATH / \\\"train_folds.csv\\\")\\ndm = NowcastingDataModule(df, fold=0, batch_size=32)\\ndm.setup()\\nfor batch in dm.train_dataloader():\\n    xs, ys = batch\\n    x, y = xs[0], ys[0]\\n    x = x.permute(1, 2, 0).numpy()\\n    y = y.permute(1, 2, 0).numpy()\\n    visualize(x, y)\\n    break\";\n",
       "                var nbb_formatted_code = \"df = pd.read_csv(PATH / \\\"train_folds.csv\\\")\\ndm = NowcastingDataModule(df, fold=0, batch_size=32)\\ndm.setup()\\nfor batch in dm.train_dataloader():\\n    xs, ys = batch\\n    x, y = xs[0], ys[0]\\n    x = x.permute(1, 2, 0).numpy()\\n    y = y.permute(1, 2, 0).numpy()\\n    visualize(x, y)\\n    break\";\n",
       "                var nbb_cells = Jupyter.notebook.get_cells();\n",
       "                for (var i = 0; i < nbb_cells.length; ++i) {\n",
       "                    if (nbb_cells[i].input_prompt_number == nbb_cell_id) {\n",
       "                        if (nbb_cells[i].get_text() == nbb_unformatted_code) {\n",
       "                             nbb_cells[i].set_text(nbb_formatted_code);\n",
       "                        }\n",
       "                        break;\n",
       "                    }\n",
       "                }\n",
       "            }, 500);\n",
       "            "
      ],
      "text/plain": [
       "<IPython.core.display.Javascript object>"
      ]
     },
     "metadata": {},
     "output_type": "display_data"
    }
   ],
   "source": [
    "df = pd.read_csv(PATH / \"train_folds.csv\")\n",
    "dm = NowcastingDataModule(df, fold=0, batch_size=32)\n",
    "dm.setup()\n",
    "for batch in dm.train_dataloader():\n",
    "    xs, ys = batch\n",
    "    x, y = xs[0], ys[0]\n",
    "    x = x.permute(1, 2, 0).numpy()\n",
    "    y = y.permute(1, 2, 0).numpy()\n",
    "    visualize(x, y)\n",
    "    break"
   ]
  },
  {
   "cell_type": "markdown",
   "metadata": {},
   "source": [
    "## Model"
   ]
  },
  {
   "cell_type": "markdown",
   "metadata": {},
   "source": [
    "### RainNet"
   ]
  },
  {
   "cell_type": "code",
   "execution_count": 18,
   "metadata": {},
   "outputs": [
    {
     "data": {
      "application/javascript": [
       "\n",
       "            setTimeout(function() {\n",
       "                var nbb_cell_id = 18;\n",
       "                var nbb_unformatted_code = \"class Block(nn.Module):\\n    def __init__(self, in_ch, out_ch, bn=True):\\n        super().__init__()\\n        if bn:\\n            self.net = nn.Sequential(\\n                nn.Conv2d(in_ch, out_ch, kernel_size=3, padding=1, bias=False),\\n                nn.BatchNorm2d(out_ch),\\n                nn.ReLU(inplace=True),\\n                nn.Conv2d(out_ch, out_ch, kernel_size=3, padding=1, bias=False),\\n                nn.BatchNorm2d(out_ch),\\n                nn.ReLU(inplace=True),\\n            )\\n        else:\\n            self.net = nn.Sequential(\\n                nn.Conv2d(in_ch, out_ch, kernel_size=3, padding=1),\\n                nn.ReLU(inplace=True),\\n                nn.Conv2d(out_ch, out_ch, kernel_size=3, padding=1),\\n                nn.ReLU(inplace=True),\\n            )\\n\\n    def forward(self, x):\\n        return self.net(x)\";\n",
       "                var nbb_formatted_code = \"class Block(nn.Module):\\n    def __init__(self, in_ch, out_ch, bn=True):\\n        super().__init__()\\n        if bn:\\n            self.net = nn.Sequential(\\n                nn.Conv2d(in_ch, out_ch, kernel_size=3, padding=1, bias=False),\\n                nn.BatchNorm2d(out_ch),\\n                nn.ReLU(inplace=True),\\n                nn.Conv2d(out_ch, out_ch, kernel_size=3, padding=1, bias=False),\\n                nn.BatchNorm2d(out_ch),\\n                nn.ReLU(inplace=True),\\n            )\\n        else:\\n            self.net = nn.Sequential(\\n                nn.Conv2d(in_ch, out_ch, kernel_size=3, padding=1),\\n                nn.ReLU(inplace=True),\\n                nn.Conv2d(out_ch, out_ch, kernel_size=3, padding=1),\\n                nn.ReLU(inplace=True),\\n            )\\n\\n    def forward(self, x):\\n        return self.net(x)\";\n",
       "                var nbb_cells = Jupyter.notebook.get_cells();\n",
       "                for (var i = 0; i < nbb_cells.length; ++i) {\n",
       "                    if (nbb_cells[i].input_prompt_number == nbb_cell_id) {\n",
       "                        if (nbb_cells[i].get_text() == nbb_unformatted_code) {\n",
       "                             nbb_cells[i].set_text(nbb_formatted_code);\n",
       "                        }\n",
       "                        break;\n",
       "                    }\n",
       "                }\n",
       "            }, 500);\n",
       "            "
      ],
      "text/plain": [
       "<IPython.core.display.Javascript object>"
      ]
     },
     "metadata": {},
     "output_type": "display_data"
    }
   ],
   "source": [
    "class Block(nn.Module):\n",
    "    def __init__(self, in_ch, out_ch, bn=True):\n",
    "        super().__init__()\n",
    "        if bn:\n",
    "            self.net = nn.Sequential(\n",
    "                nn.Conv2d(in_ch, out_ch, kernel_size=3, padding=1, bias=False),\n",
    "                nn.BatchNorm2d(out_ch),\n",
    "                nn.ReLU(inplace=True),\n",
    "                nn.Conv2d(out_ch, out_ch, kernel_size=3, padding=1, bias=False),\n",
    "                nn.BatchNorm2d(out_ch),\n",
    "                nn.ReLU(inplace=True),\n",
    "            )\n",
    "        else:\n",
    "            self.net = nn.Sequential(\n",
    "                nn.Conv2d(in_ch, out_ch, kernel_size=3, padding=1),\n",
    "                nn.ReLU(inplace=True),\n",
    "                nn.Conv2d(out_ch, out_ch, kernel_size=3, padding=1),\n",
    "                nn.ReLU(inplace=True),\n",
    "            )\n",
    "\n",
    "    def forward(self, x):\n",
    "        return self.net(x)"
   ]
  },
  {
   "cell_type": "code",
   "execution_count": 19,
   "metadata": {},
   "outputs": [
    {
     "data": {
      "application/javascript": [
       "\n",
       "            setTimeout(function() {\n",
       "                var nbb_cell_id = 19;\n",
       "                var nbb_unformatted_code = \"class Encoder(nn.Module):\\n    def __init__(self, chs=[4, 64, 128, 256, 512, 1024], bn=True):\\n        super().__init__()\\n        self.blocks = nn.ModuleList(\\n            [Block(chs[i], chs[i + 1], bn=bn) for i in range(len(chs) - 1)]\\n        )\\n        self.pool = nn.MaxPool2d(kernel_size=2, stride=2)\\n\\n    def forward(self, x):\\n        ftrs = []\\n        for block in self.blocks:\\n            x = block(x)\\n            ftrs.append(x)\\n            x = self.pool(x)\\n        return ftrs\";\n",
       "                var nbb_formatted_code = \"class Encoder(nn.Module):\\n    def __init__(self, chs=[4, 64, 128, 256, 512, 1024], bn=True):\\n        super().__init__()\\n        self.blocks = nn.ModuleList(\\n            [Block(chs[i], chs[i + 1], bn=bn) for i in range(len(chs) - 1)]\\n        )\\n        self.pool = nn.MaxPool2d(kernel_size=2, stride=2)\\n\\n    def forward(self, x):\\n        ftrs = []\\n        for block in self.blocks:\\n            x = block(x)\\n            ftrs.append(x)\\n            x = self.pool(x)\\n        return ftrs\";\n",
       "                var nbb_cells = Jupyter.notebook.get_cells();\n",
       "                for (var i = 0; i < nbb_cells.length; ++i) {\n",
       "                    if (nbb_cells[i].input_prompt_number == nbb_cell_id) {\n",
       "                        if (nbb_cells[i].get_text() == nbb_unformatted_code) {\n",
       "                             nbb_cells[i].set_text(nbb_formatted_code);\n",
       "                        }\n",
       "                        break;\n",
       "                    }\n",
       "                }\n",
       "            }, 500);\n",
       "            "
      ],
      "text/plain": [
       "<IPython.core.display.Javascript object>"
      ]
     },
     "metadata": {},
     "output_type": "display_data"
    }
   ],
   "source": [
    "class Encoder(nn.Module):\n",
    "    def __init__(self, chs=[4, 64, 128, 256, 512, 1024], bn=True):\n",
    "        super().__init__()\n",
    "        self.blocks = nn.ModuleList(\n",
    "            [Block(chs[i], chs[i + 1], bn=bn) for i in range(len(chs) - 1)]\n",
    "        )\n",
    "        self.pool = nn.MaxPool2d(kernel_size=2, stride=2)\n",
    "\n",
    "    def forward(self, x):\n",
    "        ftrs = []\n",
    "        for block in self.blocks:\n",
    "            x = block(x)\n",
    "            ftrs.append(x)\n",
    "            x = self.pool(x)\n",
    "        return ftrs"
   ]
  },
  {
   "cell_type": "code",
   "execution_count": 20,
   "metadata": {},
   "outputs": [
    {
     "data": {
      "application/javascript": [
       "\n",
       "            setTimeout(function() {\n",
       "                var nbb_cell_id = 20;\n",
       "                var nbb_unformatted_code = \"class Decoder(nn.Module):\\n    def __init__(self, chs=[1024, 512, 256, 128, 64], bn=True):\\n        super().__init__()\\n        self.chs = chs\\n        self.tr_convs = nn.ModuleList(\\n            [\\n                nn.ConvTranspose2d(chs[i], chs[i], kernel_size=2, stride=2)\\n                for i in range(len(chs) - 1)\\n            ]\\n        )\\n        self.convs = nn.ModuleList(\\n            [Block(chs[i] + chs[i + 1], chs[i + 1], bn=bn) for i in range(len(chs) - 1)]\\n        )\\n\\n    def forward(self, x, ftrs):\\n        for i in range(len(self.chs) - 1):\\n            x = self.tr_convs[i](x)\\n            ftr = ftrs[i]\\n            x = torch.cat([ftr, x], dim=1)\\n            x = self.convs[i](x)\\n        return x\";\n",
       "                var nbb_formatted_code = \"class Decoder(nn.Module):\\n    def __init__(self, chs=[1024, 512, 256, 128, 64], bn=True):\\n        super().__init__()\\n        self.chs = chs\\n        self.tr_convs = nn.ModuleList(\\n            [\\n                nn.ConvTranspose2d(chs[i], chs[i], kernel_size=2, stride=2)\\n                for i in range(len(chs) - 1)\\n            ]\\n        )\\n        self.convs = nn.ModuleList(\\n            [Block(chs[i] + chs[i + 1], chs[i + 1], bn=bn) for i in range(len(chs) - 1)]\\n        )\\n\\n    def forward(self, x, ftrs):\\n        for i in range(len(self.chs) - 1):\\n            x = self.tr_convs[i](x)\\n            ftr = ftrs[i]\\n            x = torch.cat([ftr, x], dim=1)\\n            x = self.convs[i](x)\\n        return x\";\n",
       "                var nbb_cells = Jupyter.notebook.get_cells();\n",
       "                for (var i = 0; i < nbb_cells.length; ++i) {\n",
       "                    if (nbb_cells[i].input_prompt_number == nbb_cell_id) {\n",
       "                        if (nbb_cells[i].get_text() == nbb_unformatted_code) {\n",
       "                             nbb_cells[i].set_text(nbb_formatted_code);\n",
       "                        }\n",
       "                        break;\n",
       "                    }\n",
       "                }\n",
       "            }, 500);\n",
       "            "
      ],
      "text/plain": [
       "<IPython.core.display.Javascript object>"
      ]
     },
     "metadata": {},
     "output_type": "display_data"
    }
   ],
   "source": [
    "class Decoder(nn.Module):\n",
    "    def __init__(self, chs=[1024, 512, 256, 128, 64], bn=True):\n",
    "        super().__init__()\n",
    "        self.chs = chs\n",
    "        self.tr_convs = nn.ModuleList(\n",
    "            [\n",
    "                nn.ConvTranspose2d(chs[i], chs[i], kernel_size=2, stride=2)\n",
    "                for i in range(len(chs) - 1)\n",
    "            ]\n",
    "        )\n",
    "        self.convs = nn.ModuleList(\n",
    "            [Block(chs[i] + chs[i + 1], chs[i + 1], bn=bn) for i in range(len(chs) - 1)]\n",
    "        )\n",
    "\n",
    "    def forward(self, x, ftrs):\n",
    "        for i in range(len(self.chs) - 1):\n",
    "            x = self.tr_convs[i](x)\n",
    "            ftr = ftrs[i]\n",
    "            x = torch.cat([ftr, x], dim=1)\n",
    "            x = self.convs[i](x)\n",
    "        return x"
   ]
  },
  {
   "cell_type": "code",
   "execution_count": 21,
   "metadata": {},
   "outputs": [
    {
     "name": "stdout",
     "output_type": "stream",
     "text": [
      "torch.Size([3, 512, 16, 16])\n",
      "torch.Size([3, 256, 32, 32])\n",
      "torch.Size([3, 128, 64, 64])\n",
      "torch.Size([3, 64, 128, 128])\n"
     ]
    },
    {
     "data": {
      "application/javascript": [
       "\n",
       "            setTimeout(function() {\n",
       "                var nbb_cell_id = 21;\n",
       "                var nbb_unformatted_code = \"for ftr in ftrs[::-1][1:]:\\n    print(ftr.shape)\";\n",
       "                var nbb_formatted_code = \"for ftr in ftrs[::-1][1:]:\\n    print(ftr.shape)\";\n",
       "                var nbb_cells = Jupyter.notebook.get_cells();\n",
       "                for (var i = 0; i < nbb_cells.length; ++i) {\n",
       "                    if (nbb_cells[i].input_prompt_number == nbb_cell_id) {\n",
       "                        if (nbb_cells[i].get_text() == nbb_unformatted_code) {\n",
       "                             nbb_cells[i].set_text(nbb_formatted_code);\n",
       "                        }\n",
       "                        break;\n",
       "                    }\n",
       "                }\n",
       "            }, 500);\n",
       "            "
      ],
      "text/plain": [
       "<IPython.core.display.Javascript object>"
      ]
     },
     "metadata": {},
     "output_type": "display_data"
    }
   ],
   "source": [
    "for ftr in ftrs[::-1][1:]:\n",
    "    print(ftr.shape)"
   ]
  },
  {
   "cell_type": "code",
   "execution_count": 22,
   "metadata": {},
   "outputs": [
    {
     "data": {
      "text/plain": [
       "torch.Size([3, 64, 128, 128])"
      ]
     },
     "execution_count": 22,
     "metadata": {},
     "output_type": "execute_result"
    },
    {
     "data": {
      "application/javascript": [
       "\n",
       "            setTimeout(function() {\n",
       "                var nbb_cell_id = 22;\n",
       "                var nbb_unformatted_code = \"dec = Decoder()\\nx = torch.randn(3, 1024, 8, 8)\\ndec(x, ftrs=ftrs[::-1][1:]).shape\";\n",
       "                var nbb_formatted_code = \"dec = Decoder()\\nx = torch.randn(3, 1024, 8, 8)\\ndec(x, ftrs=ftrs[::-1][1:]).shape\";\n",
       "                var nbb_cells = Jupyter.notebook.get_cells();\n",
       "                for (var i = 0; i < nbb_cells.length; ++i) {\n",
       "                    if (nbb_cells[i].input_prompt_number == nbb_cell_id) {\n",
       "                        if (nbb_cells[i].get_text() == nbb_unformatted_code) {\n",
       "                             nbb_cells[i].set_text(nbb_formatted_code);\n",
       "                        }\n",
       "                        break;\n",
       "                    }\n",
       "                }\n",
       "            }, 500);\n",
       "            "
      ],
      "text/plain": [
       "<IPython.core.display.Javascript object>"
      ]
     },
     "metadata": {},
     "output_type": "display_data"
    }
   ],
   "source": [
    "dec = Decoder()\n",
    "x = torch.randn(3, 1024, 8, 8)\n",
    "dec(x, ftrs=ftrs[::-1][1:]).shape"
   ]
  },
  {
   "cell_type": "code",
   "execution_count": 23,
   "metadata": {},
   "outputs": [
    {
     "data": {
      "application/javascript": [
       "\n",
       "            setTimeout(function() {\n",
       "                var nbb_cell_id = 23;\n",
       "                var nbb_unformatted_code = \"class LogCoshLoss(torch.nn.Module):\\n    def __init__(self):\\n        super().__init__()\\n\\n    def forward(self, inp, targ, epsilon=1e-12):\\n        e = inp - targ\\n        return torch.mean(torch.log(torch.cosh(e + episilon)))\";\n",
       "                var nbb_formatted_code = \"class LogCoshLoss(torch.nn.Module):\\n    def __init__(self):\\n        super().__init__()\\n\\n    def forward(self, inp, targ, epsilon=1e-12):\\n        e = inp - targ\\n        return torch.mean(torch.log(torch.cosh(e + episilon)))\";\n",
       "                var nbb_cells = Jupyter.notebook.get_cells();\n",
       "                for (var i = 0; i < nbb_cells.length; ++i) {\n",
       "                    if (nbb_cells[i].input_prompt_number == nbb_cell_id) {\n",
       "                        if (nbb_cells[i].get_text() == nbb_unformatted_code) {\n",
       "                             nbb_cells[i].set_text(nbb_formatted_code);\n",
       "                        }\n",
       "                        break;\n",
       "                    }\n",
       "                }\n",
       "            }, 500);\n",
       "            "
      ],
      "text/plain": [
       "<IPython.core.display.Javascript object>"
      ]
     },
     "metadata": {},
     "output_type": "display_data"
    }
   ],
   "source": [
    "class LogCoshLoss(torch.nn.Module):\n",
    "    def __init__(self):\n",
    "        super().__init__()\n",
    "\n",
    "    def forward(self, inp, targ, epsilon=1e-12):\n",
    "        e = inp - targ\n",
    "        return torch.mean(torch.log(torch.cosh(e + episilon)))"
   ]
  },
  {
   "cell_type": "code",
   "execution_count": 24,
   "metadata": {},
   "outputs": [
    {
     "data": {
      "application/javascript": [
       "\n",
       "            setTimeout(function() {\n",
       "                var nbb_cell_id = 24;\n",
       "                var nbb_unformatted_code = \"class RainNet(pl.LightningModule):\\n    def __init__(\\n        self,\\n        lr=1e-4,\\n        bn=True,\\n        enc_chs=[4, 64, 128, 256, 512, 1024],\\n        dec_chs=[1024, 512, 256, 128, 64],\\n    ):\\n        super().__init__()\\n        self.save_hyperparameters()\\n        self.criterion = LogCoshLoss()\\n        self.encoder = Encoder(enc_chs, bn=bn)\\n        self.decoder = Decoder(dec_chs, bn=bn)\\n        if bn:\\n            self.out = nn.Sequential(\\n                nn.Conv2d(64, 2, kernel_size=3, bias=False, padding=1),\\n                nn.BatchNorm2d(2),\\n                nn.ReLU(inplace=True),\\n                nn.Conv2d(2, 1, kernel_size=1, bias=False),\\n                nn.BatchNorm2d(1),\\n                nn.ReLU(inplace=True),\\n            )\\n        else:\\n            self.out = nn.Sequential(\\n                nn.Conv2d(64, 2, kernel_size=3, bias=False, padding=1),\\n                nn.ReLU(inplace=True),\\n                nn.Conv2d(2, 1, kernel_size=1, bias=False),\\n                nn.ReLU(inplace=True),\\n            )\\n\\n    def forward(self, x):\\n        ftrs = self.encoder(x)\\n        ftrs = list(reversed(ftrs))\\n        x = self.decoder(ftrs[0], ftrs[1:])\\n        out = self.out(x)\\n        return out\\n\\n    def training_step(self, batch, batch_idx):\\n        loss = self._shared_step()\\n        self.log(\\\"train_loss\\\", loss)\\n        return loss\\n\\n    def validation_step(self, batch, batch_idx):\\n        loss = self._shared_step(batch, batch_idx)\\n        self.log(\\\"val_loss\\\", loss)\\n\\n    def _shared_step(self, batch, batch_idx):\\n        x, y = batch\\n        y_hat = self(x)\\n        loss = self.criterion(y_hat, y)\\n        return loss\\n\\n    def configure_optimizers(self):\\n        optimizer = torch.optim.Adam(self.paramters(), lr=self.hparams.lr)\\n        return optimizer\";\n",
       "                var nbb_formatted_code = \"class RainNet(pl.LightningModule):\\n    def __init__(\\n        self,\\n        lr=1e-4,\\n        bn=True,\\n        enc_chs=[4, 64, 128, 256, 512, 1024],\\n        dec_chs=[1024, 512, 256, 128, 64],\\n    ):\\n        super().__init__()\\n        self.save_hyperparameters()\\n        self.criterion = LogCoshLoss()\\n        self.encoder = Encoder(enc_chs, bn=bn)\\n        self.decoder = Decoder(dec_chs, bn=bn)\\n        if bn:\\n            self.out = nn.Sequential(\\n                nn.Conv2d(64, 2, kernel_size=3, bias=False, padding=1),\\n                nn.BatchNorm2d(2),\\n                nn.ReLU(inplace=True),\\n                nn.Conv2d(2, 1, kernel_size=1, bias=False),\\n                nn.BatchNorm2d(1),\\n                nn.ReLU(inplace=True),\\n            )\\n        else:\\n            self.out = nn.Sequential(\\n                nn.Conv2d(64, 2, kernel_size=3, bias=False, padding=1),\\n                nn.ReLU(inplace=True),\\n                nn.Conv2d(2, 1, kernel_size=1, bias=False),\\n                nn.ReLU(inplace=True),\\n            )\\n\\n    def forward(self, x):\\n        ftrs = self.encoder(x)\\n        ftrs = list(reversed(ftrs))\\n        x = self.decoder(ftrs[0], ftrs[1:])\\n        out = self.out(x)\\n        return out\\n\\n    def training_step(self, batch, batch_idx):\\n        loss = self._shared_step()\\n        self.log(\\\"train_loss\\\", loss)\\n        return loss\\n\\n    def validation_step(self, batch, batch_idx):\\n        loss = self._shared_step(batch, batch_idx)\\n        self.log(\\\"val_loss\\\", loss)\\n\\n    def _shared_step(self, batch, batch_idx):\\n        x, y = batch\\n        y_hat = self(x)\\n        loss = self.criterion(y_hat, y)\\n        return loss\\n\\n    def configure_optimizers(self):\\n        optimizer = torch.optim.Adam(self.paramters(), lr=self.hparams.lr)\\n        return optimizer\";\n",
       "                var nbb_cells = Jupyter.notebook.get_cells();\n",
       "                for (var i = 0; i < nbb_cells.length; ++i) {\n",
       "                    if (nbb_cells[i].input_prompt_number == nbb_cell_id) {\n",
       "                        if (nbb_cells[i].get_text() == nbb_unformatted_code) {\n",
       "                             nbb_cells[i].set_text(nbb_formatted_code);\n",
       "                        }\n",
       "                        break;\n",
       "                    }\n",
       "                }\n",
       "            }, 500);\n",
       "            "
      ],
      "text/plain": [
       "<IPython.core.display.Javascript object>"
      ]
     },
     "metadata": {},
     "output_type": "display_data"
    }
   ],
   "source": [
    "class RainNet(pl.LightningModule):\n",
    "    def __init__(\n",
    "        self,\n",
    "        lr=1e-4,\n",
    "        bn=True,\n",
    "        enc_chs=[4, 64, 128, 256, 512, 1024],\n",
    "        dec_chs=[1024, 512, 256, 128, 64],\n",
    "    ):\n",
    "        super().__init__()\n",
    "        self.save_hyperparameters()\n",
    "        self.criterion = LogCoshLoss()\n",
    "        self.encoder = Encoder(enc_chs, bn=bn)\n",
    "        self.decoder = Decoder(dec_chs, bn=bn)\n",
    "        if bn:\n",
    "            self.out = nn.Sequential(\n",
    "                nn.Conv2d(64, 2, kernel_size=3, bias=False, padding=1),\n",
    "                nn.BatchNorm2d(2),\n",
    "                nn.ReLU(inplace=True),\n",
    "                nn.Conv2d(2, 1, kernel_size=1, bias=False),\n",
    "                nn.BatchNorm2d(1),\n",
    "                nn.ReLU(inplace=True),\n",
    "            )\n",
    "        else:\n",
    "            self.out = nn.Sequential(\n",
    "                nn.Conv2d(64, 2, kernel_size=3, bias=False, padding=1),\n",
    "                nn.ReLU(inplace=True),\n",
    "                nn.Conv2d(2, 1, kernel_size=1, bias=False),\n",
    "                nn.ReLU(inplace=True),\n",
    "            )\n",
    "\n",
    "    def forward(self, x):\n",
    "        ftrs = self.encoder(x)\n",
    "        ftrs = list(reversed(ftrs))\n",
    "        x = self.decoder(ftrs[0], ftrs[1:])\n",
    "        out = self.out(x)\n",
    "        return out\n",
    "\n",
    "    def training_step(self, batch, batch_idx):\n",
    "        loss = self._shared_step()\n",
    "        self.log(\"train_loss\", loss)\n",
    "        return loss\n",
    "\n",
    "    def validation_step(self, batch, batch_idx):\n",
    "        loss = self._shared_step(batch, batch_idx)\n",
    "        self.log(\"val_loss\", loss)\n",
    "\n",
    "    def _shared_step(self, batch, batch_idx):\n",
    "        x, y = batch\n",
    "        y_hat = self(x)\n",
    "        loss = self.criterion(y_hat, y)\n",
    "        return loss\n",
    "\n",
    "    def configure_optimizers(self):\n",
    "        optimizer = torch.optim.Adam(self.paramters(), lr=self.hparams.lr)\n",
    "        return optimizer"
   ]
  },
  {
   "cell_type": "code",
   "execution_count": 25,
   "metadata": {},
   "outputs": [
    {
     "data": {
      "text/plain": [
       "torch.Size([3, 1, 128, 128])"
      ]
     },
     "execution_count": 25,
     "metadata": {},
     "output_type": "execute_result"
    },
    {
     "data": {
      "application/javascript": [
       "\n",
       "            setTimeout(function() {\n",
       "                var nbb_cell_id = 25;\n",
       "                var nbb_unformatted_code = \"model = RainNet()\\nx = torch.randn(3, 4, 128, 128)\\nmodel(x).shape\";\n",
       "                var nbb_formatted_code = \"model = RainNet()\\nx = torch.randn(3, 4, 128, 128)\\nmodel(x).shape\";\n",
       "                var nbb_cells = Jupyter.notebook.get_cells();\n",
       "                for (var i = 0; i < nbb_cells.length; ++i) {\n",
       "                    if (nbb_cells[i].input_prompt_number == nbb_cell_id) {\n",
       "                        if (nbb_cells[i].get_text() == nbb_unformatted_code) {\n",
       "                             nbb_cells[i].set_text(nbb_formatted_code);\n",
       "                        }\n",
       "                        break;\n",
       "                    }\n",
       "                }\n",
       "            }, 500);\n",
       "            "
      ],
      "text/plain": [
       "<IPython.core.display.Javascript object>"
      ]
     },
     "metadata": {},
     "output_type": "display_data"
    }
   ],
   "source": [
    "model = RainNet()\n",
    "x = torch.randn(3, 4, 128, 128)\n",
    "model(x).shape"
   ]
  },
  {
   "cell_type": "code",
   "execution_count": null,
   "metadata": {},
   "outputs": [],
   "source": []
  },
  {
   "cell_type": "code",
   "execution_count": null,
   "metadata": {},
   "outputs": [],
   "source": []
  },
  {
   "cell_type": "code",
   "execution_count": 18,
   "metadata": {
    "code_folding": [
     99
    ]
   },
   "outputs": [
    {
     "data": {
      "application/javascript": [
       "\n",
       "            setTimeout(function() {\n",
       "                var nbb_cell_id = 18;\n",
       "                var nbb_unformatted_code = \"class RainNet(pl.LightningModule):\\n    def __init__(self, lr: float = 1e-4):\\n        super().__init__()\\n        self.lr = lr\\n        self.criterion = LogCoshLoss()\\n        \\n        # Layers\\n        self.pool = nn.MaxPool2d(kernel_size=2, stride=2)\\n        \\n        # Encoder layers\\n        self.down1 = nn.Sequential(\\n            nn.Conv2d(4, 64, kernel_size=3, bias=False, padding=1),\\n            nn.BatchNorm2d(64),\\n            nn.ReLU(inplace=True),\\n            nn.Conv2d(64, 64, kernel_size=3, bias=False, padding=1),\\n            nn.ReLU(inplace=True),\\n            nn.BatchNorm2d(64),\\n        )\\n        self.down2 = nn.Sequential(\\n            nn.Conv2d(64, 128, kernel_size=3, bias=False, padding=1),\\n            nn.BatchNorm2d(128),\\n            nn.ReLU(inplace=True),\\n            nn.Conv2d(128, 128, kernel_size=3, bias=False, padding=1),\\n            nn.BatchNorm2d(128),\\n            nn.ReLU(inplace=True),\\n        )\\n        self.down3 = nn.Sequential(\\n            nn.Conv2d(128, 256, kernel_size=3, bias=False, padding=1),\\n            nn.BatchNorm2d(256),\\n            nn.ReLU(inplace=True),\\n            nn.Conv2d(256, 256, kernel_size=3, bias=False, padding=1),\\n            nn.BatchNorm2d(256),\\n            nn.ReLU(inplace=True),\\n        )\\n        self.down4 = nn.Sequential(\\n            nn.Conv2d(256, 512, kernel_size=3, bias=False, padding=1),\\n            nn.BatchNorm2d(512),\\n            nn.ReLU(inplace=True),\\n            nn.Conv2d(512, 512, kernel_size=3, bias=False, padding=1),\\n            nn.BatchNorm2d(512),\\n            nn.ReLU(inplace=True),\\n            nn.Dropout2d(p=0.5),\\n        )\\n        self.down5 = nn.Sequential(\\n            nn.Conv2d(512, 1024, kernel_size=3, bias=False, padding=1),\\n            nn.BatchNorm2d(1024),\\n            nn.ReLU(inplace=True),\\n            nn.Conv2d(1024, 1024, kernel_size=3, bias=False, padding=1),\\n            nn.BatchNorm2d(1024),\\n            nn.ReLU(inplace=True),\\n            nn.Dropout2d(p=0.5),\\n        )\\n\\n        # Decoder layers\\n        self.upsample6 = nn.ConvTranspose2d(1024, 1024, kernel_size=2, stride=2)\\n        self.uconv6 = nn.Sequential(\\n            nn.Conv2d(1024 + 512, 512, kernel_size=3, bias=False, padding=1),\\n            nn.BatchNorm2d(512),\\n            nn.ReLU(inplace=True),\\n            nn.Conv2d(512, 512, kernel_size=3, bias=False, padding=1),\\n            nn.BatchNorm2d(512),\\n            nn.ReLU(inplace=True),\\n        )\\n        self.upsample7 = nn.ConvTranspose2d(512, 512, kernel_size=2, stride=2)\\n        self.uconv7 = nn.Sequential(\\n            nn.Conv2d(512 + 256, 256, kernel_size=3, bias=False, padding=1),\\n            nn.BatchNorm2d(256),\\n            nn.ReLU(inplace=True),\\n            nn.Conv2d(256, 256, kernel_size=3, bias=False, padding=1),\\n            nn.BatchNorm2d(256),\\n            nn.ReLU(inplace=True),\\n        )\\n        self.upsample8 = nn.ConvTranspose2d(256, 256, kernel_size=2, stride=2)\\n        self.uconv8 = nn.Sequential(\\n            nn.Conv2d(256 + 128, 128, kernel_size=3, bias=False, padding=1),\\n            nn.BatchNorm2d(128),\\n            nn.ReLU(inplace=True),\\n            nn.Conv2d(128, 128, kernel_size=3, bias=False, padding=1),\\n            nn.BatchNorm2d(128),\\n            nn.ReLU(inplace=True),\\n        )\\n        self.upsample9 = nn.ConvTranspose2d(128, 128, kernel_size=2, stride=2)\\n        self.uconv9 = nn.Sequential(\\n            nn.Conv2d(128 + 64, 64, kernel_size=3, bias=False, padding=1),\\n            nn.BatchNorm2d(64),\\n            nn.ReLU(inplace=True),\\n            nn.Conv2d(64, 64, kernel_size=3, bias=False, padding=1),\\n            nn.BatchNorm2d(64),\\n            nn.ReLU(inplace=True),\\n        )\\n        self.out = nn.Sequential(\\n            nn.Conv2d(64, 2, kernel_size=3, bias=False, padding=1),\\n            nn.BatchNorm2d(2),\\n            nn.ReLU(inplace=True),\\n            nn.Conv2d(2, 1, kernel_size=1, bias=False),\\n            nn.BatchNorm2d(1),\\n            nn.ReLU(inplace=True),\\n        )\\n\\n    def forward(self, x):\\n        conv1 = self.down1(x)\\n        pool1 = self.pool(conv1)\\n\\n        conv2 = self.down2(pool1)\\n        pool2 = self.pool(conv2)\\n\\n        conv3 = self.down3(pool2)\\n        pool3 = self.pool(conv3)\\n\\n        conv4 = self.down4(pool3)\\n        pool4 = self.pool(conv4)\\n\\n        conv5 = self.down5(pool4)\\n\\n        up6 = self.upsample6(conv5)\\n        up6 = torch.cat([up6, conv4], dim=1)\\n        conv6 = self.uconv6(up6)\\n\\n        up7 = self.upsample7(conv6)\\n        up7 = torch.cat([up7, conv3], dim=1)\\n        conv7 = self.uconv7(up7)\\n\\n        up8 = self.upsample8(conv7)\\n        up8 = torch.cat([up8, conv2], dim=1)\\n        conv8 = self.uconv8(up8)\\n\\n        up9 = self.upsample9(conv8)\\n        up9 = torch.cat([up9, conv1], dim=1)\\n        conv9 = self.uconv9(up9)\\n\\n        out = self.out(conv9)\\n\\n        return out\\n    \\n    def training_step(self, batch, batch_idx):\\n        loss = self.shared_step()\\n        self.log(\\\"train_loss\\\", loss)\\n        return loss\\n        \\n    def validation_step(self, batch, batch_idx):\\n        loss = self.shared_step(batch, batch_idx)\\n        self.log(\\\"val_loss\\\", loss)\\n    \\n    def shared_step(self, batch, batch_idx):\\n        x, y = batch\\n        y_hat = self(x)\\n        loss = self.criterion(y_hat, y)\\n        return loss\\n\\n    def configure_optimizers(self):\\n        optimizer = torch.optim.Adam(self.paramters(), lr=self.lr)\\n        return optimizer\";\n",
       "                var nbb_formatted_code = \"class RainNet(pl.LightningModule):\\n    def __init__(self, lr: float = 1e-4):\\n        super().__init__()\\n        self.lr = lr\\n        self.criterion = LogCoshLoss()\\n\\n        # Layers\\n        self.pool = nn.MaxPool2d(kernel_size=2, stride=2)\\n\\n        # Encoder layers\\n        self.down1 = nn.Sequential(\\n            nn.Conv2d(4, 64, kernel_size=3, bias=False, padding=1),\\n            nn.BatchNorm2d(64),\\n            nn.ReLU(inplace=True),\\n            nn.Conv2d(64, 64, kernel_size=3, bias=False, padding=1),\\n            nn.ReLU(inplace=True),\\n            nn.BatchNorm2d(64),\\n        )\\n        self.down2 = nn.Sequential(\\n            nn.Conv2d(64, 128, kernel_size=3, bias=False, padding=1),\\n            nn.BatchNorm2d(128),\\n            nn.ReLU(inplace=True),\\n            nn.Conv2d(128, 128, kernel_size=3, bias=False, padding=1),\\n            nn.BatchNorm2d(128),\\n            nn.ReLU(inplace=True),\\n        )\\n        self.down3 = nn.Sequential(\\n            nn.Conv2d(128, 256, kernel_size=3, bias=False, padding=1),\\n            nn.BatchNorm2d(256),\\n            nn.ReLU(inplace=True),\\n            nn.Conv2d(256, 256, kernel_size=3, bias=False, padding=1),\\n            nn.BatchNorm2d(256),\\n            nn.ReLU(inplace=True),\\n        )\\n        self.down4 = nn.Sequential(\\n            nn.Conv2d(256, 512, kernel_size=3, bias=False, padding=1),\\n            nn.BatchNorm2d(512),\\n            nn.ReLU(inplace=True),\\n            nn.Conv2d(512, 512, kernel_size=3, bias=False, padding=1),\\n            nn.BatchNorm2d(512),\\n            nn.ReLU(inplace=True),\\n            nn.Dropout2d(p=0.5),\\n        )\\n        self.down5 = nn.Sequential(\\n            nn.Conv2d(512, 1024, kernel_size=3, bias=False, padding=1),\\n            nn.BatchNorm2d(1024),\\n            nn.ReLU(inplace=True),\\n            nn.Conv2d(1024, 1024, kernel_size=3, bias=False, padding=1),\\n            nn.BatchNorm2d(1024),\\n            nn.ReLU(inplace=True),\\n            nn.Dropout2d(p=0.5),\\n        )\\n\\n        # Decoder layers\\n        self.upsample6 = nn.ConvTranspose2d(1024, 1024, kernel_size=2, stride=2)\\n        self.uconv6 = nn.Sequential(\\n            nn.Conv2d(1024 + 512, 512, kernel_size=3, bias=False, padding=1),\\n            nn.BatchNorm2d(512),\\n            nn.ReLU(inplace=True),\\n            nn.Conv2d(512, 512, kernel_size=3, bias=False, padding=1),\\n            nn.BatchNorm2d(512),\\n            nn.ReLU(inplace=True),\\n        )\\n        self.upsample7 = nn.ConvTranspose2d(512, 512, kernel_size=2, stride=2)\\n        self.uconv7 = nn.Sequential(\\n            nn.Conv2d(512 + 256, 256, kernel_size=3, bias=False, padding=1),\\n            nn.BatchNorm2d(256),\\n            nn.ReLU(inplace=True),\\n            nn.Conv2d(256, 256, kernel_size=3, bias=False, padding=1),\\n            nn.BatchNorm2d(256),\\n            nn.ReLU(inplace=True),\\n        )\\n        self.upsample8 = nn.ConvTranspose2d(256, 256, kernel_size=2, stride=2)\\n        self.uconv8 = nn.Sequential(\\n            nn.Conv2d(256 + 128, 128, kernel_size=3, bias=False, padding=1),\\n            nn.BatchNorm2d(128),\\n            nn.ReLU(inplace=True),\\n            nn.Conv2d(128, 128, kernel_size=3, bias=False, padding=1),\\n            nn.BatchNorm2d(128),\\n            nn.ReLU(inplace=True),\\n        )\\n        self.upsample9 = nn.ConvTranspose2d(128, 128, kernel_size=2, stride=2)\\n        self.uconv9 = nn.Sequential(\\n            nn.Conv2d(128 + 64, 64, kernel_size=3, bias=False, padding=1),\\n            nn.BatchNorm2d(64),\\n            nn.ReLU(inplace=True),\\n            nn.Conv2d(64, 64, kernel_size=3, bias=False, padding=1),\\n            nn.BatchNorm2d(64),\\n            nn.ReLU(inplace=True),\\n        )\\n        self.out = nn.Sequential(\\n            nn.Conv2d(64, 2, kernel_size=3, bias=False, padding=1),\\n            nn.BatchNorm2d(2),\\n            nn.ReLU(inplace=True),\\n            nn.Conv2d(2, 1, kernel_size=1, bias=False),\\n            nn.BatchNorm2d(1),\\n            nn.ReLU(inplace=True),\\n        )\\n\\n    def forward(self, x):\\n        conv1 = self.down1(x)\\n        pool1 = self.pool(conv1)\\n\\n        conv2 = self.down2(pool1)\\n        pool2 = self.pool(conv2)\\n\\n        conv3 = self.down3(pool2)\\n        pool3 = self.pool(conv3)\\n\\n        conv4 = self.down4(pool3)\\n        pool4 = self.pool(conv4)\\n\\n        conv5 = self.down5(pool4)\\n\\n        up6 = self.upsample6(conv5)\\n        up6 = torch.cat([up6, conv4], dim=1)\\n        conv6 = self.uconv6(up6)\\n\\n        up7 = self.upsample7(conv6)\\n        up7 = torch.cat([up7, conv3], dim=1)\\n        conv7 = self.uconv7(up7)\\n\\n        up8 = self.upsample8(conv7)\\n        up8 = torch.cat([up8, conv2], dim=1)\\n        conv8 = self.uconv8(up8)\\n\\n        up9 = self.upsample9(conv8)\\n        up9 = torch.cat([up9, conv1], dim=1)\\n        conv9 = self.uconv9(up9)\\n\\n        out = self.out(conv9)\\n\\n        return out\\n\\n    def training_step(self, batch, batch_idx):\\n        loss = self.shared_step()\\n        self.log(\\\"train_loss\\\", loss)\\n        return loss\\n\\n    def validation_step(self, batch, batch_idx):\\n        loss = self.shared_step(batch, batch_idx)\\n        self.log(\\\"val_loss\\\", loss)\\n\\n    def shared_step(self, batch, batch_idx):\\n        x, y = batch\\n        y_hat = self(x)\\n        loss = self.criterion(y_hat, y)\\n        return loss\\n\\n    def configure_optimizers(self):\\n        optimizer = torch.optim.Adam(self.paramters(), lr=self.lr)\\n        return optimizer\";\n",
       "                var nbb_cells = Jupyter.notebook.get_cells();\n",
       "                for (var i = 0; i < nbb_cells.length; ++i) {\n",
       "                    if (nbb_cells[i].input_prompt_number == nbb_cell_id) {\n",
       "                        if (nbb_cells[i].get_text() == nbb_unformatted_code) {\n",
       "                             nbb_cells[i].set_text(nbb_formatted_code);\n",
       "                        }\n",
       "                        break;\n",
       "                    }\n",
       "                }\n",
       "            }, 500);\n",
       "            "
      ],
      "text/plain": [
       "<IPython.core.display.Javascript object>"
      ]
     },
     "metadata": {},
     "output_type": "display_data"
    }
   ],
   "source": [
    "class RainNet(pl.LightningModule):\n",
    "    def __init__(self, lr: float = 1e-4):\n",
    "        super().__init__()\n",
    "        self.save_hyperparameters()\n",
    "        \n",
    "        self.criterion = LogCoshLoss()\n",
    "\n",
    "        # Layers\n",
    "        self.pool = nn.MaxPool2d(kernel_size=2, stride=2)\n",
    "\n",
    "        # Encoder layers\n",
    "        self.down1 = nn.Sequential(\n",
    "            nn.Conv2d(4, 64, kernel_size=3, bias=False, padding=1),\n",
    "            nn.BatchNorm2d(64),\n",
    "            nn.ReLU(inplace=True),\n",
    "            nn.Conv2d(64, 64, kernel_size=3, bias=False, padding=1),\n",
    "            nn.ReLU(inplace=True),\n",
    "            nn.BatchNorm2d(64),\n",
    "        )\n",
    "        self.down2 = nn.Sequential(\n",
    "            nn.Conv2d(64, 128, kernel_size=3, bias=False, padding=1),\n",
    "            nn.BatchNorm2d(128),\n",
    "            nn.ReLU(inplace=True),\n",
    "            nn.Conv2d(128, 128, kernel_size=3, bias=False, padding=1),\n",
    "            nn.BatchNorm2d(128),\n",
    "            nn.ReLU(inplace=True),\n",
    "        )\n",
    "        self.down3 = nn.Sequential(\n",
    "            nn.Conv2d(128, 256, kernel_size=3, bias=False, padding=1),\n",
    "            nn.BatchNorm2d(256),\n",
    "            nn.ReLU(inplace=True),\n",
    "            nn.Conv2d(256, 256, kernel_size=3, bias=False, padding=1),\n",
    "            nn.BatchNorm2d(256),\n",
    "            nn.ReLU(inplace=True),\n",
    "        )\n",
    "        self.down4 = nn.Sequential(\n",
    "            nn.Conv2d(256, 512, kernel_size=3, bias=False, padding=1),\n",
    "            nn.BatchNorm2d(512),\n",
    "            nn.ReLU(inplace=True),\n",
    "            nn.Conv2d(512, 512, kernel_size=3, bias=False, padding=1),\n",
    "            nn.BatchNorm2d(512),\n",
    "            nn.ReLU(inplace=True),\n",
    "            nn.Dropout2d(p=0.5),\n",
    "        )\n",
    "        self.down5 = nn.Sequential(\n",
    "            nn.Conv2d(512, 1024, kernel_size=3, bias=False, padding=1),\n",
    "            nn.BatchNorm2d(1024),\n",
    "            nn.ReLU(inplace=True),\n",
    "            nn.Conv2d(1024, 1024, kernel_size=3, bias=False, padding=1),\n",
    "            nn.BatchNorm2d(1024),\n",
    "            nn.ReLU(inplace=True),\n",
    "            nn.Dropout2d(p=0.5),\n",
    "        )\n",
    "\n",
    "        # Decoder layers\n",
    "        self.upsample6 = nn.ConvTranspose2d(1024, 1024, kernel_size=2, stride=2)\n",
    "        self.uconv6 = nn.Sequential(\n",
    "            nn.Conv2d(1024 + 512, 512, kernel_size=3, bias=False, padding=1),\n",
    "            nn.BatchNorm2d(512),\n",
    "            nn.ReLU(inplace=True),\n",
    "            nn.Conv2d(512, 512, kernel_size=3, bias=False, padding=1),\n",
    "            nn.BatchNorm2d(512),\n",
    "            nn.ReLU(inplace=True),\n",
    "        )\n",
    "        self.upsample7 = nn.ConvTranspose2d(512, 512, kernel_size=2, stride=2)\n",
    "        self.uconv7 = nn.Sequential(\n",
    "            nn.Conv2d(512 + 256, 256, kernel_size=3, bias=False, padding=1),\n",
    "            nn.BatchNorm2d(256),\n",
    "            nn.ReLU(inplace=True),\n",
    "            nn.Conv2d(256, 256, kernel_size=3, bias=False, padding=1),\n",
    "            nn.BatchNorm2d(256),\n",
    "            nn.ReLU(inplace=True),\n",
    "        )\n",
    "        self.upsample8 = nn.ConvTranspose2d(256, 256, kernel_size=2, stride=2)\n",
    "        self.uconv8 = nn.Sequential(\n",
    "            nn.Conv2d(256 + 128, 128, kernel_size=3, bias=False, padding=1),\n",
    "            nn.BatchNorm2d(128),\n",
    "            nn.ReLU(inplace=True),\n",
    "            nn.Conv2d(128, 128, kernel_size=3, bias=False, padding=1),\n",
    "            nn.BatchNorm2d(128),\n",
    "            nn.ReLU(inplace=True),\n",
    "        )\n",
    "        self.upsample9 = nn.ConvTranspose2d(128, 128, kernel_size=2, stride=2)\n",
    "        self.uconv9 = nn.Sequential(\n",
    "            nn.Conv2d(128 + 64, 64, kernel_size=3, bias=False, padding=1),\n",
    "            nn.BatchNorm2d(64),\n",
    "            nn.ReLU(inplace=True),\n",
    "            nn.Conv2d(64, 64, kernel_size=3, bias=False, padding=1),\n",
    "            nn.BatchNorm2d(64),\n",
    "            nn.ReLU(inplace=True),\n",
    "        )\n",
    "        \n",
    "        self.out = nn.Sequential(\n",
    "            nn.Conv2d(64, 2, kernel_size=3, bias=False, padding=1),\n",
    "            nn.BatchNorm2d(2),\n",
    "            nn.ReLU(inplace=True),\n",
    "            nn.Conv2d(2, 1, kernel_size=1, bias=False),\n",
    "            nn.BatchNorm2d(1),\n",
    "            nn.ReLU(inplace=True),\n",
    "        )\n",
    "\n",
    "    def forward(self, x):\n",
    "        conv1 = self.down1(x)\n",
    "        pool1 = self.pool(conv1)\n",
    "\n",
    "        conv2 = self.down2(pool1)\n",
    "        pool2 = self.pool(conv2)\n",
    "\n",
    "        conv3 = self.down3(pool2)\n",
    "        pool3 = self.pool(conv3)\n",
    "\n",
    "        conv4 = self.down4(pool3)\n",
    "        pool4 = self.pool(conv4)\n",
    "\n",
    "        conv5 = self.down5(pool4)\n",
    "\n",
    "        up6 = self.upsample6(conv5)\n",
    "        up6 = torch.cat([up6, conv4], dim=1)\n",
    "        conv6 = self.uconv6(up6)\n",
    "\n",
    "        up7 = self.upsample7(conv6)\n",
    "        up7 = torch.cat([up7, conv3], dim=1)\n",
    "        conv7 = self.uconv7(up7)\n",
    "\n",
    "        up8 = self.upsample8(conv7)\n",
    "        up8 = torch.cat([up8, conv2], dim=1)\n",
    "        conv8 = self.uconv8(up8)\n",
    "\n",
    "        up9 = self.upsample9(conv8)\n",
    "        up9 = torch.cat([up9, conv1], dim=1)\n",
    "        conv9 = self.uconv9(up9)\n",
    "\n",
    "        out = self.out(conv9)\n",
    "\n",
    "        return out\n",
    "\n",
    "    def training_step(self, batch, batch_idx):\n",
    "        loss = self.shared_step()\n",
    "        self.log(\"train_loss\", loss)\n",
    "        return loss\n",
    "\n",
    "    def validation_step(self, batch, batch_idx):\n",
    "        loss = self.shared_step(batch, batch_idx)\n",
    "        self.log(\"val_loss\", loss)\n",
    "\n",
    "    def shared_step(self, batch, batch_idx):\n",
    "        x, y = batch\n",
    "        y_hat = self(x)\n",
    "        loss = self.criterion(y_hat, y)\n",
    "        return loss\n",
    "\n",
    "    def configure_optimizers(self):\n",
    "        optimizer = torch.optim.Adam(self.paramters(), lr=self.hparams.lr)\n",
    "        return optimizer"
   ]
  },
  {
   "cell_type": "code",
   "execution_count": 19,
   "metadata": {},
   "outputs": [
    {
     "data": {
      "text/plain": [
       "torch.Size([3, 1, 128, 128])"
      ]
     },
     "execution_count": 19,
     "metadata": {},
     "output_type": "execute_result"
    },
    {
     "data": {
      "application/javascript": [
       "\n",
       "            setTimeout(function() {\n",
       "                var nbb_cell_id = 19;\n",
       "                var nbb_unformatted_code = \"model = RainNet()\\nx = torch.randn(3, 4, 128, 128)\\nmodel(x).shape\";\n",
       "                var nbb_formatted_code = \"model = RainNet()\\nx = torch.randn(3, 4, 128, 128)\\nmodel(x).shape\";\n",
       "                var nbb_cells = Jupyter.notebook.get_cells();\n",
       "                for (var i = 0; i < nbb_cells.length; ++i) {\n",
       "                    if (nbb_cells[i].input_prompt_number == nbb_cell_id) {\n",
       "                        if (nbb_cells[i].get_text() == nbb_unformatted_code) {\n",
       "                             nbb_cells[i].set_text(nbb_formatted_code);\n",
       "                        }\n",
       "                        break;\n",
       "                    }\n",
       "                }\n",
       "            }, 500);\n",
       "            "
      ],
      "text/plain": [
       "<IPython.core.display.Javascript object>"
      ]
     },
     "metadata": {},
     "output_type": "display_data"
    }
   ],
   "source": [
    "model = RainNet()\n",
    "x = torch.randn(3, 4, 128, 128)\n",
    "model(x).shape"
   ]
  },
  {
   "cell_type": "code",
   "execution_count": null,
   "metadata": {},
   "outputs": [],
   "source": []
  },
  {
   "cell_type": "code",
   "execution_count": null,
   "metadata": {},
   "outputs": [],
   "source": []
  },
  {
   "cell_type": "code",
   "execution_count": null,
   "metadata": {},
   "outputs": [],
   "source": []
  },
  {
   "cell_type": "code",
   "execution_count": null,
   "metadata": {},
   "outputs": [],
   "source": []
  },
  {
   "cell_type": "code",
   "execution_count": null,
   "metadata": {},
   "outputs": [],
   "source": []
  },
  {
   "cell_type": "code",
   "execution_count": null,
   "metadata": {},
   "outputs": [],
   "source": []
  },
  {
   "cell_type": "code",
   "execution_count": null,
   "metadata": {},
   "outputs": [],
   "source": []
  },
  {
   "cell_type": "code",
   "execution_count": null,
   "metadata": {},
   "outputs": [],
   "source": []
  },
  {
   "cell_type": "code",
   "execution_count": null,
   "metadata": {},
   "outputs": [],
   "source": [
    "trainer = pl.Trainer(gpus=1, max_epochs=3, progress_bar_refresh_rate=20)"
   ]
  },
  {
   "cell_type": "code",
   "execution_count": null,
   "metadata": {},
   "outputs": [],
   "source": []
  },
  {
   "cell_type": "code",
   "execution_count": null,
   "metadata": {},
   "outputs": [],
   "source": []
  },
  {
   "cell_type": "code",
   "execution_count": null,
   "metadata": {},
   "outputs": [],
   "source": []
  },
  {
   "cell_type": "code",
   "execution_count": null,
   "metadata": {},
   "outputs": [],
   "source": []
  },
  {
   "cell_type": "code",
   "execution_count": null,
   "metadata": {},
   "outputs": [],
   "source": []
  },
  {
   "cell_type": "code",
   "execution_count": null,
   "metadata": {},
   "outputs": [],
   "source": []
  }
 ],
 "metadata": {
  "kernelspec": {
   "display_name": "Python [conda env:torch] *",
   "language": "python",
   "name": "conda-env-torch-py"
  },
  "language_info": {
   "codemirror_mode": {
    "name": "ipython",
    "version": 3
   },
   "file_extension": ".py",
   "mimetype": "text/x-python",
   "name": "python",
   "nbconvert_exporter": "python",
   "pygments_lexer": "ipython3",
   "version": "3.8.5"
  }
 },
 "nbformat": 4,
 "nbformat_minor": 4
}
