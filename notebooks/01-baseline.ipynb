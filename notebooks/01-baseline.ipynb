{
 "cells": [
  {
   "cell_type": "code",
   "execution_count": 1,
   "metadata": {},
   "outputs": [
    {
     "data": {
      "application/javascript": [
       "\n",
       "            setTimeout(function() {\n",
       "                var nbb_cell_id = 1;\n",
       "                var nbb_unformatted_code = \"%matplotlib inline\\n%config BackendInline.figure_format = \\\"retina\\\"\\n%reload_ext nb_black\";\n",
       "                var nbb_formatted_code = \"%matplotlib inline\\n%config BackendInline.figure_format = \\\"retina\\\"\\n%reload_ext nb_black\";\n",
       "                var nbb_cells = Jupyter.notebook.get_cells();\n",
       "                for (var i = 0; i < nbb_cells.length; ++i) {\n",
       "                    if (nbb_cells[i].input_prompt_number == nbb_cell_id) {\n",
       "                        if (nbb_cells[i].get_text() == nbb_unformatted_code) {\n",
       "                             nbb_cells[i].set_text(nbb_formatted_code);\n",
       "                        }\n",
       "                        break;\n",
       "                    }\n",
       "                }\n",
       "            }, 500);\n",
       "            "
      ],
      "text/plain": [
       "<IPython.core.display.Javascript object>"
      ]
     },
     "metadata": {},
     "output_type": "display_data"
    }
   ],
   "source": [
    "%matplotlib inline\n",
    "%config BackendInline.figure_format = \"retina\"\n",
    "%reload_ext nb_black"
   ]
  },
  {
   "cell_type": "code",
   "execution_count": 2,
   "metadata": {},
   "outputs": [
    {
     "name": "stdout",
     "output_type": "stream",
     "text": [
      "Tensorflow version = 2.2.0\n"
     ]
    },
    {
     "data": {
      "application/javascript": [
       "\n",
       "            setTimeout(function() {\n",
       "                var nbb_cell_id = 2;\n",
       "                var nbb_unformatted_code = \"import gc\\nimport math\\nfrom pathlib import Path\\n\\nimport numpy as np\\nimport pandas as pd\\nimport matplotlib.pyplot as plt\\nfrom matplotlib.patches import Circle\\n\\nimport cv2\\nfrom sklearn import metrics, model_selection\\nfrom tqdm.notebook import tqdm\\n\\nimport tensorflow as tf\\nimport tensorflow.keras.backend as K\\nfrom tensorflow.keras.layers import (\\n    Conv2D,\\n    Conv2DTranspose,\\n    MaxPooling2D,\\n    BatchNormalization,\\n    concatenate,\\n    Input,\\n)\\nfrom tensorflow.keras import Model\\nfrom tensorflow.keras.callbacks import EarlyStopping, ReduceLROnPlateau\\n\\nprint(\\\"Tensorflow version =\\\", tf.__version__)\";\n",
       "                var nbb_formatted_code = \"import gc\\nimport math\\nfrom pathlib import Path\\n\\nimport numpy as np\\nimport pandas as pd\\nimport matplotlib.pyplot as plt\\nfrom matplotlib.patches import Circle\\n\\nimport cv2\\nfrom sklearn import metrics, model_selection\\nfrom tqdm.notebook import tqdm\\n\\nimport tensorflow as tf\\nimport tensorflow.keras.backend as K\\nfrom tensorflow.keras.layers import (\\n    Conv2D,\\n    Conv2DTranspose,\\n    MaxPooling2D,\\n    BatchNormalization,\\n    concatenate,\\n    Input,\\n)\\nfrom tensorflow.keras import Model\\nfrom tensorflow.keras.callbacks import EarlyStopping, ReduceLROnPlateau\\n\\nprint(\\\"Tensorflow version =\\\", tf.__version__)\";\n",
       "                var nbb_cells = Jupyter.notebook.get_cells();\n",
       "                for (var i = 0; i < nbb_cells.length; ++i) {\n",
       "                    if (nbb_cells[i].input_prompt_number == nbb_cell_id) {\n",
       "                        if (nbb_cells[i].get_text() == nbb_unformatted_code) {\n",
       "                             nbb_cells[i].set_text(nbb_formatted_code);\n",
       "                        }\n",
       "                        break;\n",
       "                    }\n",
       "                }\n",
       "            }, 500);\n",
       "            "
      ],
      "text/plain": [
       "<IPython.core.display.Javascript object>"
      ]
     },
     "metadata": {},
     "output_type": "display_data"
    }
   ],
   "source": [
    "import gc\n",
    "import math\n",
    "from pathlib import Path\n",
    "\n",
    "import numpy as np\n",
    "import pandas as pd\n",
    "import matplotlib.pyplot as plt\n",
    "from matplotlib.patches import Circle\n",
    "\n",
    "import cv2\n",
    "from sklearn import metrics, model_selection\n",
    "from tqdm.notebook import tqdm\n",
    "\n",
    "import tensorflow as tf\n",
    "import tensorflow.keras.backend as K\n",
    "from tensorflow.keras.layers import (\n",
    "    Conv2D,\n",
    "    Conv2DTranspose,\n",
    "    MaxPooling2D,\n",
    "    BatchNormalization,\n",
    "    concatenate,\n",
    "    Input,\n",
    ")\n",
    "from tensorflow.keras import Model\n",
    "from tensorflow.keras.callbacks import EarlyStopping, ReduceLROnPlateau\n",
    "\n",
    "print(\"Tensorflow version =\", tf.__version__)"
   ]
  },
  {
   "cell_type": "code",
   "execution_count": null,
   "metadata": {},
   "outputs": [],
   "source": [
    "def pixel2dBZ(img):\n",
    "    img - 0.5"
   ]
  },
  {
   "cell_type": "markdown",
   "metadata": {},
   "source": [
    "# Baseline"
   ]
  },
  {
   "cell_type": "markdown",
   "metadata": {},
   "source": [
    "## Initialize"
   ]
  },
  {
   "cell_type": "code",
   "execution_count": 3,
   "metadata": {},
   "outputs": [
    {
     "name": "stdout",
     "output_type": "stream",
     "text": [
      "[PhysicalDevice(name='/physical_device:GPU:0', device_type='GPU')]\n"
     ]
    },
    {
     "data": {
      "application/javascript": [
       "\n",
       "            setTimeout(function() {\n",
       "                var nbb_cell_id = 3;\n",
       "                var nbb_unformatted_code = \"gpus = tf.config.list_physical_devices(\\\"GPU\\\")\\nprint(gpus)\\nif len(gpus) == 1:\\n    strategy = tf.distribute.OneDeviceStrategy(device=\\\"/gpu:0\\\")\\nelse:\\n    strategy = tf.distribute.MirroredStrategy()\";\n",
       "                var nbb_formatted_code = \"gpus = tf.config.list_physical_devices(\\\"GPU\\\")\\nprint(gpus)\\nif len(gpus) == 1:\\n    strategy = tf.distribute.OneDeviceStrategy(device=\\\"/gpu:0\\\")\\nelse:\\n    strategy = tf.distribute.MirroredStrategy()\";\n",
       "                var nbb_cells = Jupyter.notebook.get_cells();\n",
       "                for (var i = 0; i < nbb_cells.length; ++i) {\n",
       "                    if (nbb_cells[i].input_prompt_number == nbb_cell_id) {\n",
       "                        if (nbb_cells[i].get_text() == nbb_unformatted_code) {\n",
       "                             nbb_cells[i].set_text(nbb_formatted_code);\n",
       "                        }\n",
       "                        break;\n",
       "                    }\n",
       "                }\n",
       "            }, 500);\n",
       "            "
      ],
      "text/plain": [
       "<IPython.core.display.Javascript object>"
      ]
     },
     "metadata": {},
     "output_type": "display_data"
    }
   ],
   "source": [
    "gpus = tf.config.list_physical_devices(\"GPU\")\n",
    "print(gpus)\n",
    "if len(gpus) == 1:\n",
    "    strategy = tf.distribute.OneDeviceStrategy(device=\"/gpu:0\")\n",
    "else:\n",
    "    strategy = tf.distribute.MirroredStrategy()"
   ]
  },
  {
   "cell_type": "code",
   "execution_count": 4,
   "metadata": {},
   "outputs": [
    {
     "name": "stdout",
     "output_type": "stream",
     "text": [
      "Mixed precision enabled\n"
     ]
    },
    {
     "data": {
      "application/javascript": [
       "\n",
       "            setTimeout(function() {\n",
       "                var nbb_cell_id = 4;\n",
       "                var nbb_unformatted_code = \"tf.config.optimizer.set_experimental_options({\\\"auto_mixed_precision\\\": True})\\nprint(\\\"Mixed precision enabled\\\")\";\n",
       "                var nbb_formatted_code = \"tf.config.optimizer.set_experimental_options({\\\"auto_mixed_precision\\\": True})\\nprint(\\\"Mixed precision enabled\\\")\";\n",
       "                var nbb_cells = Jupyter.notebook.get_cells();\n",
       "                for (var i = 0; i < nbb_cells.length; ++i) {\n",
       "                    if (nbb_cells[i].input_prompt_number == nbb_cell_id) {\n",
       "                        if (nbb_cells[i].get_text() == nbb_unformatted_code) {\n",
       "                             nbb_cells[i].set_text(nbb_formatted_code);\n",
       "                        }\n",
       "                        break;\n",
       "                    }\n",
       "                }\n",
       "            }, 500);\n",
       "            "
      ],
      "text/plain": [
       "<IPython.core.display.Javascript object>"
      ]
     },
     "metadata": {},
     "output_type": "display_data"
    }
   ],
   "source": [
    "tf.config.optimizer.set_experimental_options({\"auto_mixed_precision\": True})\n",
    "print(\"Mixed precision enabled\")"
   ]
  },
  {
   "cell_type": "markdown",
   "metadata": {},
   "source": [
    "## Data"
   ]
  },
  {
   "cell_type": "code",
   "execution_count": 5,
   "metadata": {},
   "outputs": [
    {
     "data": {
      "application/javascript": [
       "\n",
       "            setTimeout(function() {\n",
       "                var nbb_cell_id = 5;\n",
       "                var nbb_unformatted_code = \"NUM_FOLDS = 5\\nSIZE = 120\\nBATCH_SIZE = 128\\nLR = 1e-3\\nEPOCHS = 10\\nINPUT_SHAPE = (SIZE, SIZE, 4)\";\n",
       "                var nbb_formatted_code = \"NUM_FOLDS = 5\\nSIZE = 120\\nBATCH_SIZE = 128\\nLR = 1e-3\\nEPOCHS = 10\\nINPUT_SHAPE = (SIZE, SIZE, 4)\";\n",
       "                var nbb_cells = Jupyter.notebook.get_cells();\n",
       "                for (var i = 0; i < nbb_cells.length; ++i) {\n",
       "                    if (nbb_cells[i].input_prompt_number == nbb_cell_id) {\n",
       "                        if (nbb_cells[i].get_text() == nbb_unformatted_code) {\n",
       "                             nbb_cells[i].set_text(nbb_formatted_code);\n",
       "                        }\n",
       "                        break;\n",
       "                    }\n",
       "                }\n",
       "            }, 500);\n",
       "            "
      ],
      "text/plain": [
       "<IPython.core.display.Javascript object>"
      ]
     },
     "metadata": {},
     "output_type": "display_data"
    }
   ],
   "source": [
    "NUM_FOLDS = 5\n",
    "SIZE = 120\n",
    "BATCH_SIZE = 64\n",
    "LR = 1e-3\n",
    "EPOCHS = 10\n",
    "INPUT_SHAPE = (SIZE, SIZE, 4)"
   ]
  },
  {
   "cell_type": "code",
   "execution_count": 6,
   "metadata": {},
   "outputs": [
    {
     "data": {
      "application/javascript": [
       "\n",
       "            setTimeout(function() {\n",
       "                var nbb_cell_id = 6;\n",
       "                var nbb_unformatted_code = \"PATH = Path(\\\"../input\\\")\\nTRAIN_PATH = PATH / \\\"train\\\"\\nTEST_PATH = PATH / \\\"test\\\"\\n# DAMS = (\\n#     (67, 28),\\n#     (64, 46),\\n#     (69, 57),\\n#     (66, 62),\\n#     (64, 68),\\n#     (71, 70),\\n#     (87, 56),\\n# )\\nDAMS = (6071, 6304, 7026, 7629, 7767, 8944, 11107)\";\n",
       "                var nbb_formatted_code = \"PATH = Path(\\\"../input\\\")\\nTRAIN_PATH = PATH / \\\"train\\\"\\nTEST_PATH = PATH / \\\"test\\\"\\n# DAMS = (\\n#     (67, 28),\\n#     (64, 46),\\n#     (69, 57),\\n#     (66, 62),\\n#     (64, 68),\\n#     (71, 70),\\n#     (87, 56),\\n# )\\nDAMS = (6071, 6304, 7026, 7629, 7767, 8944, 11107)\";\n",
       "                var nbb_cells = Jupyter.notebook.get_cells();\n",
       "                for (var i = 0; i < nbb_cells.length; ++i) {\n",
       "                    if (nbb_cells[i].input_prompt_number == nbb_cell_id) {\n",
       "                        if (nbb_cells[i].get_text() == nbb_unformatted_code) {\n",
       "                             nbb_cells[i].set_text(nbb_formatted_code);\n",
       "                        }\n",
       "                        break;\n",
       "                    }\n",
       "                }\n",
       "            }, 500);\n",
       "            "
      ],
      "text/plain": [
       "<IPython.core.display.Javascript object>"
      ]
     },
     "metadata": {},
     "output_type": "display_data"
    }
   ],
   "source": [
    "PATH = Path(\"../input\")\n",
    "TRAIN_PATH = PATH / \"train\"\n",
    "TEST_PATH = PATH / \"test\"\n",
    "# DAMS = (\n",
    "#     (67, 28),\n",
    "#     (64, 46),\n",
    "#     (69, 57),\n",
    "#     (66, 62),\n",
    "#     (64, 68),\n",
    "#     (71, 70),\n",
    "#     (87, 56),\n",
    "# )\n",
    "DAMS = (6071, 6304, 7026, 7629, 7767, 8944, 11107)"
   ]
  },
  {
   "cell_type": "code",
   "execution_count": 7,
   "metadata": {},
   "outputs": [
    {
     "data": {
      "text/plain": [
       "62735"
      ]
     },
     "execution_count": 7,
     "metadata": {},
     "output_type": "execute_result"
    },
    {
     "data": {
      "application/javascript": [
       "\n",
       "            setTimeout(function() {\n",
       "                var nbb_cell_id = 7;\n",
       "                var nbb_unformatted_code = \"train_paths = list(TRAIN_PATH.glob(\\\"*.npy\\\"))\\nfilenames = [path.name for path in train_paths]\\nlen(filenames)\";\n",
       "                var nbb_formatted_code = \"train_paths = list(TRAIN_PATH.glob(\\\"*.npy\\\"))\\nfilenames = [path.name for path in train_paths]\\nlen(filenames)\";\n",
       "                var nbb_cells = Jupyter.notebook.get_cells();\n",
       "                for (var i = 0; i < nbb_cells.length; ++i) {\n",
       "                    if (nbb_cells[i].input_prompt_number == nbb_cell_id) {\n",
       "                        if (nbb_cells[i].get_text() == nbb_unformatted_code) {\n",
       "                             nbb_cells[i].set_text(nbb_formatted_code);\n",
       "                        }\n",
       "                        break;\n",
       "                    }\n",
       "                }\n",
       "            }, 500);\n",
       "            "
      ],
      "text/plain": [
       "<IPython.core.display.Javascript object>"
      ]
     },
     "metadata": {},
     "output_type": "display_data"
    }
   ],
   "source": [
    "train_paths = list(TRAIN_PATH.glob(\"*.npy\"))\n",
    "filenames = [path.name for path in train_paths]\n",
    "len(filenames)"
   ]
  },
  {
   "cell_type": "markdown",
   "metadata": {},
   "source": [
    "### Visualize"
   ]
  },
  {
   "cell_type": "code",
   "execution_count": 8,
   "metadata": {},
   "outputs": [
    {
     "data": {
      "application/javascript": [
       "\n",
       "            setTimeout(function() {\n",
       "                var nbb_cell_id = 8;\n",
       "                var nbb_unformatted_code = \"cmap = plt.cm.get_cmap(\\\"RdBu\\\")\\ncmap = cmap.reversed()\";\n",
       "                var nbb_formatted_code = \"cmap = plt.cm.get_cmap(\\\"RdBu\\\")\\ncmap = cmap.reversed()\";\n",
       "                var nbb_cells = Jupyter.notebook.get_cells();\n",
       "                for (var i = 0; i < nbb_cells.length; ++i) {\n",
       "                    if (nbb_cells[i].input_prompt_number == nbb_cell_id) {\n",
       "                        if (nbb_cells[i].get_text() == nbb_unformatted_code) {\n",
       "                             nbb_cells[i].set_text(nbb_formatted_code);\n",
       "                        }\n",
       "                        break;\n",
       "                    }\n",
       "                }\n",
       "            }, 500);\n",
       "            "
      ],
      "text/plain": [
       "<IPython.core.display.Javascript object>"
      ]
     },
     "metadata": {},
     "output_type": "display_data"
    }
   ],
   "source": [
    "cmap = plt.cm.get_cmap(\"RdBu\")\n",
    "cmap = cmap.reversed()"
   ]
  },
  {
   "cell_type": "code",
   "execution_count": 9,
   "metadata": {},
   "outputs": [
    {
     "data": {
      "application/javascript": [
       "\n",
       "            setTimeout(function() {\n",
       "                var nbb_cell_id = 9;\n",
       "                var nbb_unformatted_code = \"def visualize(img, cmap=cmap):\\n    fig, axes = plt.subplots(1, 5, figsize=(20, 20))\\n    for i, ax in enumerate(axes[:-1]):\\n        ax.imshow(img[:, :, i], cmap=cmap)\\n    axes[-1].imshow(img[:, :, -1], cmap=cmap)\\n    plt.show()\";\n",
       "                var nbb_formatted_code = \"def visualize(img, cmap=cmap):\\n    fig, axes = plt.subplots(1, 5, figsize=(20, 20))\\n    for i, ax in enumerate(axes[:-1]):\\n        ax.imshow(img[:, :, i], cmap=cmap)\\n    axes[-1].imshow(img[:, :, -1], cmap=cmap)\\n    plt.show()\";\n",
       "                var nbb_cells = Jupyter.notebook.get_cells();\n",
       "                for (var i = 0; i < nbb_cells.length; ++i) {\n",
       "                    if (nbb_cells[i].input_prompt_number == nbb_cell_id) {\n",
       "                        if (nbb_cells[i].get_text() == nbb_unformatted_code) {\n",
       "                             nbb_cells[i].set_text(nbb_formatted_code);\n",
       "                        }\n",
       "                        break;\n",
       "                    }\n",
       "                }\n",
       "            }, 500);\n",
       "            "
      ],
      "text/plain": [
       "<IPython.core.display.Javascript object>"
      ]
     },
     "metadata": {},
     "output_type": "display_data"
    }
   ],
   "source": [
    "def visualize(img, cmap=cmap):\n",
    "    fig, axes = plt.subplots(1, 5, figsize=(20, 20))\n",
    "    for i, ax in enumerate(axes[:-1]):\n",
    "        ax.imshow(img[:, :, i], cmap=cmap)\n",
    "    axes[-1].imshow(img[:, :, -1], cmap=cmap)\n",
    "    plt.show()"
   ]
  },
  {
   "cell_type": "code",
   "execution_count": 10,
   "metadata": {},
   "outputs": [
    {
     "name": "stdout",
     "output_type": "stream",
     "text": [
      "27705\n"
     ]
    },
    {
     "data": {
      "image/png": "[encoded data removed]",
      "text/plain": [
       "<Figure size 1440x1440 with 5 Axes>"
      ]
     },
     "metadata": {
      "needs_background": "light"
     },
     "output_type": "display_data"
    },
    {
     "data": {
      "application/javascript": [
       "\n",
       "            setTimeout(function() {\n",
       "                var nbb_cell_id = 10;\n",
       "                var nbb_unformatted_code = \"idx = np.random.randint(len(train_paths))\\nimg = np.load(train_paths[idx])\\nprint(idx)\\nvisualize(img)\";\n",
       "                var nbb_formatted_code = \"idx = np.random.randint(len(train_paths))\\nimg = np.load(train_paths[idx])\\nprint(idx)\\nvisualize(img)\";\n",
       "                var nbb_cells = Jupyter.notebook.get_cells();\n",
       "                for (var i = 0; i < nbb_cells.length; ++i) {\n",
       "                    if (nbb_cells[i].input_prompt_number == nbb_cell_id) {\n",
       "                        if (nbb_cells[i].get_text() == nbb_unformatted_code) {\n",
       "                             nbb_cells[i].set_text(nbb_formatted_code);\n",
       "                        }\n",
       "                        break;\n",
       "                    }\n",
       "                }\n",
       "            }, 500);\n",
       "            "
      ],
      "text/plain": [
       "<IPython.core.display.Javascript object>"
      ]
     },
     "metadata": {},
     "output_type": "display_data"
    }
   ],
   "source": [
    "idx = np.random.randint(len(train_paths))\n",
    "img = np.load(train_paths[idx])\n",
    "print(idx)\n",
    "visualize(img)"
   ]
  },
  {
   "cell_type": "code",
   "execution_count": 11,
   "metadata": {},
   "outputs": [
    {
     "data": {
      "application/javascript": [
       "\n",
       "            setTimeout(function() {\n",
       "                var nbb_cell_id = 11;\n",
       "                var nbb_unformatted_code = \"img = np.load(train_paths[idx])\\nimg = img[:, :, 0]\";\n",
       "                var nbb_formatted_code = \"img = np.load(train_paths[idx])\\nimg = img[:, :, 0]\";\n",
       "                var nbb_cells = Jupyter.notebook.get_cells();\n",
       "                for (var i = 0; i < nbb_cells.length; ++i) {\n",
       "                    if (nbb_cells[i].input_prompt_number == nbb_cell_id) {\n",
       "                        if (nbb_cells[i].get_text() == nbb_unformatted_code) {\n",
       "                             nbb_cells[i].set_text(nbb_formatted_code);\n",
       "                        }\n",
       "                        break;\n",
       "                    }\n",
       "                }\n",
       "            }, 500);\n",
       "            "
      ],
      "text/plain": [
       "<IPython.core.display.Javascript object>"
      ]
     },
     "metadata": {},
     "output_type": "display_data"
    }
   ],
   "source": [
    "img = np.load(train_paths[idx])\n",
    "img = img[:, :, 0]"
   ]
  },
  {
   "cell_type": "code",
   "execution_count": 12,
   "metadata": {},
   "outputs": [
    {
     "data": {
      "application/javascript": [
       "\n",
       "            setTimeout(function() {\n",
       "                var nbb_cell_id = 12;\n",
       "                var nbb_unformatted_code = \"# fig, ax = plt.subplots(figsize=(5, 5))\\n\\n# circ1 = Circle((67, SIZE - 28), 1, color=\\\"r\\\")\\n# ax.add_patch(circ1)\\n# circ2 = Circle((64, SIZE - 46), 1, color=\\\"c\\\")\\n# ax.add_patch(circ2)\\n# circ3 = Circle((69, SIZE - 57), 1, color=\\\"b\\\")\\n# ax.add_patch(circ3)\\n# circ4 = Circle((66, SIZE - 62), 1, color=\\\"c\\\")\\n# ax.add_patch(circ4)\\n# circ5 = Circle((64, SIZE - 68), 1, color=\\\"m\\\")\\n# ax.add_patch(circ5)\\n# circ6 = Circle((71, SIZE - 70), 1, color=\\\"y\\\")\\n# ax.add_patch(circ6)\\n# circ7 = Circle((87, SIZE - 56), 1, color=\\\"k\\\")\\n# ax.add_patch(circ7)\\n\\n# ax.imshow(img)\\n# plt.show()\";\n",
       "                var nbb_formatted_code = \"# fig, ax = plt.subplots(figsize=(5, 5))\\n\\n# circ1 = Circle((67, SIZE - 28), 1, color=\\\"r\\\")\\n# ax.add_patch(circ1)\\n# circ2 = Circle((64, SIZE - 46), 1, color=\\\"c\\\")\\n# ax.add_patch(circ2)\\n# circ3 = Circle((69, SIZE - 57), 1, color=\\\"b\\\")\\n# ax.add_patch(circ3)\\n# circ4 = Circle((66, SIZE - 62), 1, color=\\\"c\\\")\\n# ax.add_patch(circ4)\\n# circ5 = Circle((64, SIZE - 68), 1, color=\\\"m\\\")\\n# ax.add_patch(circ5)\\n# circ6 = Circle((71, SIZE - 70), 1, color=\\\"y\\\")\\n# ax.add_patch(circ6)\\n# circ7 = Circle((87, SIZE - 56), 1, color=\\\"k\\\")\\n# ax.add_patch(circ7)\\n\\n# ax.imshow(img)\\n# plt.show()\";\n",
       "                var nbb_cells = Jupyter.notebook.get_cells();\n",
       "                for (var i = 0; i < nbb_cells.length; ++i) {\n",
       "                    if (nbb_cells[i].input_prompt_number == nbb_cell_id) {\n",
       "                        if (nbb_cells[i].get_text() == nbb_unformatted_code) {\n",
       "                             nbb_cells[i].set_text(nbb_formatted_code);\n",
       "                        }\n",
       "                        break;\n",
       "                    }\n",
       "                }\n",
       "            }, 500);\n",
       "            "
      ],
      "text/plain": [
       "<IPython.core.display.Javascript object>"
      ]
     },
     "metadata": {},
     "output_type": "display_data"
    }
   ],
   "source": [
    "# fig, ax = plt.subplots(figsize=(5, 5))\n",
    "\n",
    "# circ1 = Circle((67, SIZE - 28), 1, color=\"r\")\n",
    "# ax.add_patch(circ1)\n",
    "# circ2 = Circle((64, SIZE - 46), 1, color=\"c\")\n",
    "# ax.add_patch(circ2)\n",
    "# circ3 = Circle((69, SIZE - 57), 1, color=\"b\")\n",
    "# ax.add_patch(circ3)\n",
    "# circ4 = Circle((66, SIZE - 62), 1, color=\"c\")\n",
    "# ax.add_patch(circ4)\n",
    "# circ5 = Circle((64, SIZE - 68), 1, color=\"m\")\n",
    "# ax.add_patch(circ5)\n",
    "# circ6 = Circle((71, SIZE - 70), 1, color=\"y\")\n",
    "# ax.add_patch(circ6)\n",
    "# circ7 = Circle((87, SIZE - 56), 1, color=\"k\")\n",
    "# ax.add_patch(circ7)\n",
    "\n",
    "# ax.imshow(img)\n",
    "# plt.show()"
   ]
  },
  {
   "cell_type": "code",
   "execution_count": 13,
   "metadata": {},
   "outputs": [
    {
     "data": {
      "image/png": "[encoded data removed]",
      "text/plain": [
       "<Figure size 360x360 with 1 Axes>"
      ]
     },
     "metadata": {
      "needs_background": "light"
     },
     "output_type": "display_data"
    },
    {
     "data": {
      "application/javascript": [
       "\n",
       "            setTimeout(function() {\n",
       "                var nbb_cell_id = 13;\n",
       "                var nbb_unformatted_code = \"fig, ax = plt.subplots(figsize=(5, 5))\\n\\nfor dam in DAMS:\\n    x = dam // SIZE\\n    y = dam % SIZE\\n    circle = Circle((y, x), 1, color=\\\"r\\\")\\n    ax.add_patch(circle)\\n\\nax.imshow(img)\\nplt.show()\";\n",
       "                var nbb_formatted_code = \"fig, ax = plt.subplots(figsize=(5, 5))\\n\\nfor dam in DAMS:\\n    x = dam // SIZE\\n    y = dam % SIZE\\n    circle = Circle((y, x), 1, color=\\\"r\\\")\\n    ax.add_patch(circle)\\n\\nax.imshow(img)\\nplt.show()\";\n",
       "                var nbb_cells = Jupyter.notebook.get_cells();\n",
       "                for (var i = 0; i < nbb_cells.length; ++i) {\n",
       "                    if (nbb_cells[i].input_prompt_number == nbb_cell_id) {\n",
       "                        if (nbb_cells[i].get_text() == nbb_unformatted_code) {\n",
       "                             nbb_cells[i].set_text(nbb_formatted_code);\n",
       "                        }\n",
       "                        break;\n",
       "                    }\n",
       "                }\n",
       "            }, 500);\n",
       "            "
      ],
      "text/plain": [
       "<IPython.core.display.Javascript object>"
      ]
     },
     "metadata": {},
     "output_type": "display_data"
    }
   ],
   "source": [
    "fig, ax = plt.subplots(figsize=(5, 5))\n",
    "\n",
    "for dam in DAMS:\n",
    "    x = dam // SIZE\n",
    "    y = dam % SIZE\n",
    "    circle = Circle((y, x), 1, color=\"r\")\n",
    "    ax.add_patch(circle)\n",
    "\n",
    "ax.imshow(img)\n",
    "plt.show()"
   ]
  },
  {
   "cell_type": "markdown",
   "metadata": {
    "heading_collapsed": true
   },
   "source": [
    "### Make folds"
   ]
  },
  {
   "cell_type": "code",
   "execution_count": 14,
   "metadata": {
    "hidden": true
   },
   "outputs": [
    {
     "data": {
      "application/javascript": [
       "\n",
       "            setTimeout(function() {\n",
       "                var nbb_cell_id = 14;\n",
       "                var nbb_unformatted_code = \"df = pd.DataFrame({\\\"filename\\\": filenames})\";\n",
       "                var nbb_formatted_code = \"df = pd.DataFrame({\\\"filename\\\": filenames})\";\n",
       "                var nbb_cells = Jupyter.notebook.get_cells();\n",
       "                for (var i = 0; i < nbb_cells.length; ++i) {\n",
       "                    if (nbb_cells[i].input_prompt_number == nbb_cell_id) {\n",
       "                        if (nbb_cells[i].get_text() == nbb_unformatted_code) {\n",
       "                             nbb_cells[i].set_text(nbb_formatted_code);\n",
       "                        }\n",
       "                        break;\n",
       "                    }\n",
       "                }\n",
       "            }, 500);\n",
       "            "
      ],
      "text/plain": [
       "<IPython.core.display.Javascript object>"
      ]
     },
     "metadata": {},
     "output_type": "display_data"
    }
   ],
   "source": [
    "df = pd.DataFrame({\"filename\": filenames})"
   ]
  },
  {
   "cell_type": "code",
   "execution_count": 15,
   "metadata": {
    "hidden": true
   },
   "outputs": [
    {
     "ename": "NameError",
     "evalue": "name 'train_df' is not defined",
     "output_type": "error",
     "traceback": [
      "\u001b[0;31m---------------------------------------------------------------------------\u001b[0m",
      "\u001b[0;31mNameError\u001b[0m                                 Traceback (most recent call last)",
      "\u001b[0;32m<ipython-input-15-8ec0374d090c>\u001b[0m in \u001b[0;36m<module>\u001b[0;34m\u001b[0m\n\u001b[0;32m----> 1\u001b[0;31m \u001b[0mdf\u001b[0m \u001b[0;34m=\u001b[0m \u001b[0mtrain_df\u001b[0m\u001b[0;34m.\u001b[0m\u001b[0msample\u001b[0m\u001b[0;34m(\u001b[0m\u001b[0mfrac\u001b[0m\u001b[0;34m=\u001b[0m\u001b[0;36m1\u001b[0m\u001b[0;34m)\u001b[0m\u001b[0;34m.\u001b[0m\u001b[0mreset_index\u001b[0m\u001b[0;34m(\u001b[0m\u001b[0mdrop\u001b[0m\u001b[0;34m=\u001b[0m\u001b[0;32mTrue\u001b[0m\u001b[0;34m)\u001b[0m\u001b[0;34m\u001b[0m\u001b[0;34m\u001b[0m\u001b[0m\n\u001b[0m",
      "\u001b[0;31mNameError\u001b[0m: name 'train_df' is not defined"
     ]
    },
    {
     "data": {
      "application/javascript": [
       "\n",
       "            setTimeout(function() {\n",
       "                var nbb_cell_id = 15;\n",
       "                var nbb_unformatted_code = \"df = train_df.sample(frac=1).reset_index(drop=True)\";\n",
       "                var nbb_formatted_code = \"df = train_df.sample(frac=1).reset_index(drop=True)\";\n",
       "                var nbb_cells = Jupyter.notebook.get_cells();\n",
       "                for (var i = 0; i < nbb_cells.length; ++i) {\n",
       "                    if (nbb_cells[i].input_prompt_number == nbb_cell_id) {\n",
       "                        if (nbb_cells[i].get_text() == nbb_unformatted_code) {\n",
       "                             nbb_cells[i].set_text(nbb_formatted_code);\n",
       "                        }\n",
       "                        break;\n",
       "                    }\n",
       "                }\n",
       "            }, 500);\n",
       "            "
      ],
      "text/plain": [
       "<IPython.core.display.Javascript object>"
      ]
     },
     "metadata": {},
     "output_type": "display_data"
    }
   ],
   "source": [
    "df = train_df.sample(frac=1).reset_index(drop=True)"
   ]
  },
  {
   "cell_type": "code",
   "execution_count": null,
   "metadata": {
    "hidden": true
   },
   "outputs": [],
   "source": [
    "df[\"fold\"] = -1\n",
    "kf = model_selection.KFold(n_splits=NUM_FOLDS)\n",
    "for fold, (train_index, val_index) in enumerate(kf.split(df)):\n",
    "    df.loc[val_index, \"fold\"] = fold"
   ]
  },
  {
   "cell_type": "code",
   "execution_count": 46,
   "metadata": {
    "hidden": true
   },
   "outputs": [
    {
     "data": {
      "application/javascript": [
       "\n",
       "            setTimeout(function() {\n",
       "                var nbb_cell_id = 46;\n",
       "                var nbb_unformatted_code = \"train_df.to_csv(\\\"../input/train_folds.csv\\\", index=False)\";\n",
       "                var nbb_formatted_code = \"train_df.to_csv(\\\"../input/train_folds.csv\\\", index=False)\";\n",
       "                var nbb_cells = Jupyter.notebook.get_cells();\n",
       "                for (var i = 0; i < nbb_cells.length; ++i) {\n",
       "                    if (nbb_cells[i].input_prompt_number == nbb_cell_id) {\n",
       "                        if (nbb_cells[i].get_text() == nbb_unformatted_code) {\n",
       "                             nbb_cells[i].set_text(nbb_formatted_code);\n",
       "                        }\n",
       "                        break;\n",
       "                    }\n",
       "                }\n",
       "            }, 500);\n",
       "            "
      ],
      "text/plain": [
       "<IPython.core.display.Javascript object>"
      ]
     },
     "metadata": {},
     "output_type": "display_data"
    }
   ],
   "source": [
    "df.to_csv(\"../input/train_folds.csv\", index=False)"
   ]
  },
  {
   "cell_type": "markdown",
   "metadata": {},
   "source": [
    "## Dataset"
   ]
  },
  {
   "cell_type": "code",
   "execution_count": 14,
   "metadata": {},
   "outputs": [
    {
     "data": {
      "application/javascript": [
       "\n",
       "            setTimeout(function() {\n",
       "                var nbb_cell_id = 14;\n",
       "                var nbb_unformatted_code = \"class DataGenerator(tf.keras.utils.Sequence):\\n    def __init__(self, df, batch_size, shuffle=False, test=False):\\n        self.filenames = df.filename.values\\n        self.batch_size = batch_size\\n        self.shuffle = shuffle\\n        self.test = test\\n        self.on_epoch_end()\\n\\n    def __len__(self):\\n        return math.ceil(len(self.filenames) / self.batch_size)\\n\\n    def __getitem__(self, index):\\n        filenames = self.filenames[\\n            index * self.batch_size : (index + 1) * self.batch_size\\n        ]\\n        if self.test:\\n            x = self._data_generation(filenames)\\n            return x\\n        else:\\n            x, y = self._data_generation(filenames)\\n            return x, y\\n\\n    def on_epoch_end(self):\\n        if self.shuffle:\\n            np.random.shuffle(self.filenames)\\n\\n    def _data_generation(self, filenames):\\n        x = np.zeros((len(filenames), SIZE, SIZE, 4))\\n        y = np.zeros((len(filenames), SIZE, SIZE, 1))\\n        for i, filename in enumerate(filenames):\\n            data = np.load((TEST_PATH if self.test else TRAIN_PATH) / filename)\\n            image = data[:, :, :4]\\n            #             image = image / 255\\n            #             image = image.astype(np.float32)\\n            x[i] = image\\n\\n            if not self.test:\\n                target = data[:, :, -1].reshape(SIZE, SIZE, 1)\\n                target = np.where(target < 0, 0, target)\\n                #                 target = target / 255\\n                #                 target = target.astype(np.float32)\\n                y[i] = target\\n\\n        if self.test:\\n            return x\\n        else:\\n            return x, y\";\n",
       "                var nbb_formatted_code = \"class DataGenerator(tf.keras.utils.Sequence):\\n    def __init__(self, df, batch_size, shuffle=False, test=False):\\n        self.filenames = df.filename.values\\n        self.batch_size = batch_size\\n        self.shuffle = shuffle\\n        self.test = test\\n        self.on_epoch_end()\\n\\n    def __len__(self):\\n        return math.ceil(len(self.filenames) / self.batch_size)\\n\\n    def __getitem__(self, index):\\n        filenames = self.filenames[\\n            index * self.batch_size : (index + 1) * self.batch_size\\n        ]\\n        if self.test:\\n            x = self._data_generation(filenames)\\n            return x\\n        else:\\n            x, y = self._data_generation(filenames)\\n            return x, y\\n\\n    def on_epoch_end(self):\\n        if self.shuffle:\\n            np.random.shuffle(self.filenames)\\n\\n    def _data_generation(self, filenames):\\n        x = np.zeros((len(filenames), SIZE, SIZE, 4))\\n        y = np.zeros((len(filenames), SIZE, SIZE, 1))\\n        for i, filename in enumerate(filenames):\\n            data = np.load((TEST_PATH if self.test else TRAIN_PATH) / filename)\\n            image = data[:, :, :4]\\n            #             image = image / 255\\n            #             image = image.astype(np.float32)\\n            x[i] = image\\n\\n            if not self.test:\\n                target = data[:, :, -1].reshape(SIZE, SIZE, 1)\\n                target = np.where(target < 0, 0, target)\\n                #                 target = target / 255\\n                #                 target = target.astype(np.float32)\\n                y[i] = target\\n\\n        if self.test:\\n            return x\\n        else:\\n            return x, y\";\n",
       "                var nbb_cells = Jupyter.notebook.get_cells();\n",
       "                for (var i = 0; i < nbb_cells.length; ++i) {\n",
       "                    if (nbb_cells[i].input_prompt_number == nbb_cell_id) {\n",
       "                        if (nbb_cells[i].get_text() == nbb_unformatted_code) {\n",
       "                             nbb_cells[i].set_text(nbb_formatted_code);\n",
       "                        }\n",
       "                        break;\n",
       "                    }\n",
       "                }\n",
       "            }, 500);\n",
       "            "
      ],
      "text/plain": [
       "<IPython.core.display.Javascript object>"
      ]
     },
     "metadata": {},
     "output_type": "display_data"
    }
   ],
   "source": [
    "class DataGenerator(tf.keras.utils.Sequence):\n",
    "    def __init__(self, df, batch_size, shuffle=False, test=False):\n",
    "        self.filenames = df.filename.values\n",
    "        self.batch_size = batch_size\n",
    "        self.shuffle = shuffle\n",
    "        self.test = test\n",
    "        self.on_epoch_end()\n",
    "\n",
    "    def __len__(self):\n",
    "        return math.ceil(len(self.filenames) / self.batch_size)\n",
    "\n",
    "    def __getitem__(self, index):\n",
    "        filenames = self.filenames[\n",
    "            index * self.batch_size : (index + 1) * self.batch_size\n",
    "        ]\n",
    "        if self.test:\n",
    "            x = self._data_generation(filenames)\n",
    "            return x\n",
    "        else:\n",
    "            x, y = self._data_generation(filenames)\n",
    "            return x, y\n",
    "\n",
    "    def on_epoch_end(self):\n",
    "        if self.shuffle:\n",
    "            np.random.shuffle(self.filenames)\n",
    "\n",
    "    def _data_generation(self, filenames):\n",
    "        x = np.zeros((len(filenames), SIZE, SIZE, 4))\n",
    "        y = np.zeros((len(filenames), SIZE, SIZE, 1))\n",
    "        for i, filename in enumerate(filenames):\n",
    "            data = np.load((TEST_PATH if self.test else TRAIN_PATH) / filename)\n",
    "            image = data[:, :, :4]\n",
    "            #             image = image / 255\n",
    "            #             image = image.astype(np.float32)\n",
    "            x[i] = image\n",
    "\n",
    "            if not self.test:\n",
    "                target = data[:, :, -1].reshape(SIZE, SIZE, 1)\n",
    "                target = np.where(target < 0, 0, target)\n",
    "                #                 target = target / 255\n",
    "                #                 target = target.astype(np.float32)\n",
    "                y[i] = target\n",
    "\n",
    "        if self.test:\n",
    "            return x\n",
    "        else:\n",
    "            return x, y"
   ]
  },
  {
   "cell_type": "code",
   "execution_count": 15,
   "metadata": {},
   "outputs": [
    {
     "data": {
      "application/javascript": [
       "\n",
       "            setTimeout(function() {\n",
       "                var nbb_cell_id = 15;\n",
       "                var nbb_unformatted_code = \"# df = pd.read_csv(PATH / \\\"train_folds.csv\\\")\\n# gen = DataGenerator(df, batch_size=BATCH_SIZE, shuffle=True)\\n# for batch in gen:\\n#     x, y = batch\\n#     inp = x[10]\\n#     targ = y[10]\\n#     img = np.concatenate([inp, targ], axis=-1)\\n#     visualize(img, cmap=cmap)\\n#     break\";\n",
       "                var nbb_formatted_code = \"# df = pd.read_csv(PATH / \\\"train_folds.csv\\\")\\n# gen = DataGenerator(df, batch_size=BATCH_SIZE, shuffle=True)\\n# for batch in gen:\\n#     x, y = batch\\n#     inp = x[10]\\n#     targ = y[10]\\n#     img = np.concatenate([inp, targ], axis=-1)\\n#     visualize(img, cmap=cmap)\\n#     break\";\n",
       "                var nbb_cells = Jupyter.notebook.get_cells();\n",
       "                for (var i = 0; i < nbb_cells.length; ++i) {\n",
       "                    if (nbb_cells[i].input_prompt_number == nbb_cell_id) {\n",
       "                        if (nbb_cells[i].get_text() == nbb_unformatted_code) {\n",
       "                             nbb_cells[i].set_text(nbb_formatted_code);\n",
       "                        }\n",
       "                        break;\n",
       "                    }\n",
       "                }\n",
       "            }, 500);\n",
       "            "
      ],
      "text/plain": [
       "<IPython.core.display.Javascript object>"
      ]
     },
     "metadata": {},
     "output_type": "display_data"
    }
   ],
   "source": [
    "# df = pd.read_csv(PATH / \"train_folds.csv\")\n",
    "# gen = DataGenerator(df, batch_size=BATCH_SIZE, shuffle=True)\n",
    "# for batch in gen:\n",
    "#     x, y = batch\n",
    "#     inp = x[10]\n",
    "#     targ = y[10]\n",
    "#     img = np.concatenate([inp, targ], axis=-1)\n",
    "#     visualize(img, cmap=cmap)\n",
    "#     break"
   ]
  },
  {
   "cell_type": "markdown",
   "metadata": {},
   "source": [
    "## Model"
   ]
  },
  {
   "cell_type": "code",
   "execution_count": 15,
   "metadata": {},
   "outputs": [
    {
     "data": {
      "application/javascript": [
       "\n",
       "            setTimeout(function() {\n",
       "                var nbb_cell_id = 15;\n",
       "                var nbb_unformatted_code = \"df = pd.read_csv(PATH / \\\"train_folds.csv\\\")\";\n",
       "                var nbb_formatted_code = \"df = pd.read_csv(PATH / \\\"train_folds.csv\\\")\";\n",
       "                var nbb_cells = Jupyter.notebook.get_cells();\n",
       "                for (var i = 0; i < nbb_cells.length; ++i) {\n",
       "                    if (nbb_cells[i].input_prompt_number == nbb_cell_id) {\n",
       "                        if (nbb_cells[i].get_text() == nbb_unformatted_code) {\n",
       "                             nbb_cells[i].set_text(nbb_formatted_code);\n",
       "                        }\n",
       "                        break;\n",
       "                    }\n",
       "                }\n",
       "            }, 500);\n",
       "            "
      ],
      "text/plain": [
       "<IPython.core.display.Javascript object>"
      ]
     },
     "metadata": {},
     "output_type": "display_data"
    }
   ],
   "source": [
    "df = pd.read_csv(PATH / \"train_folds.csv\")"
   ]
  },
  {
   "cell_type": "code",
   "execution_count": 16,
   "metadata": {},
   "outputs": [
    {
     "data": {
      "application/javascript": [
       "\n",
       "            setTimeout(function() {\n",
       "                var nbb_cell_id = 16;\n",
       "                var nbb_unformatted_code = \"def get_baseline(input_shape):\\n    inp = Input(input_shape)\\n\\n    conv1 = Conv2D(64, 3, activation=\\\"relu\\\", padding=\\\"same\\\")(inp)\\n    bn1 = BatchNormalization()(conv1)\\n    pool1 = MaxPooling2D(2)(bn1)\\n\\n    conv2 = Conv2D(128, 3, activation=\\\"relu\\\", padding=\\\"same\\\")(pool1)\\n    bn2 = BatchNormalization()(conv2)\\n    pool2 = MaxPooling2D(2)(bn2)\\n\\n    convm = Conv2D(256, 3, activation=\\\"relu\\\", padding=\\\"same\\\")(pool2)\\n\\n    deconv2 = Conv2DTranspose(128, 3, strides=2, padding=\\\"same\\\")(convm)\\n    uconv2 = concatenate([deconv2, conv2])\\n    uconv2 = Conv2D(128, 3, activation=\\\"relu\\\", padding=\\\"same\\\")(uconv2)\\n    uconv2 = BatchNormalization()(uconv2)\\n\\n    deconv1 = Conv2DTranspose(64, 3, strides=2, padding=\\\"same\\\")(uconv2)\\n    uconv1 = concatenate([deconv1, conv1])\\n    uconv1 = Conv2D(128, 3, activation=\\\"relu\\\", padding=\\\"same\\\")(uconv1)\\n    uconv1 = BatchNormalization()(uconv1)\\n\\n    out = Conv2D(1, 1, padding=\\\"same\\\", activation=\\\"relu\\\")(uconv1)\\n\\n    model = Model(inp, out)\\n\\n    #     decay_steps = EPOCHS * math.ceil(len(df) / BATCH_SIZE)\\n    #     scheduler = tf.keras.experimental.CosineDecay(\\n    #         initial_learning_rate=LR, decay_steps=decay_steps\\n    #     )\\n    #     optimizer = tf.keras.optimizers.Adam(learning_rate=scheduler)\\n\\n    optimizer = tf.keras.optimizers.Adam(learning_rate=LR)\\n    loss = tf.keras.losses.LogCosh()\\n\\n    model.compile(loss=\\\"mae\\\", optimizer=optimizer, metrics=[\\\"mse\\\"])\\n\\n    return model\";\n",
       "                var nbb_formatted_code = \"def get_baseline(input_shape):\\n    inp = Input(input_shape)\\n\\n    conv1 = Conv2D(64, 3, activation=\\\"relu\\\", padding=\\\"same\\\")(inp)\\n    bn1 = BatchNormalization()(conv1)\\n    pool1 = MaxPooling2D(2)(bn1)\\n\\n    conv2 = Conv2D(128, 3, activation=\\\"relu\\\", padding=\\\"same\\\")(pool1)\\n    bn2 = BatchNormalization()(conv2)\\n    pool2 = MaxPooling2D(2)(bn2)\\n\\n    convm = Conv2D(256, 3, activation=\\\"relu\\\", padding=\\\"same\\\")(pool2)\\n\\n    deconv2 = Conv2DTranspose(128, 3, strides=2, padding=\\\"same\\\")(convm)\\n    uconv2 = concatenate([deconv2, conv2])\\n    uconv2 = Conv2D(128, 3, activation=\\\"relu\\\", padding=\\\"same\\\")(uconv2)\\n    uconv2 = BatchNormalization()(uconv2)\\n\\n    deconv1 = Conv2DTranspose(64, 3, strides=2, padding=\\\"same\\\")(uconv2)\\n    uconv1 = concatenate([deconv1, conv1])\\n    uconv1 = Conv2D(128, 3, activation=\\\"relu\\\", padding=\\\"same\\\")(uconv1)\\n    uconv1 = BatchNormalization()(uconv1)\\n\\n    out = Conv2D(1, 1, padding=\\\"same\\\", activation=\\\"relu\\\")(uconv1)\\n\\n    model = Model(inp, out)\\n\\n    #     decay_steps = EPOCHS * math.ceil(len(df) / BATCH_SIZE)\\n    #     scheduler = tf.keras.experimental.CosineDecay(\\n    #         initial_learning_rate=LR, decay_steps=decay_steps\\n    #     )\\n    #     optimizer = tf.keras.optimizers.Adam(learning_rate=scheduler)\\n\\n    optimizer = tf.keras.optimizers.Adam(learning_rate=LR)\\n    loss = tf.keras.losses.LogCosh()\\n\\n    model.compile(loss=\\\"mae\\\", optimizer=optimizer, metrics=[\\\"mse\\\"])\\n\\n    return model\";\n",
       "                var nbb_cells = Jupyter.notebook.get_cells();\n",
       "                for (var i = 0; i < nbb_cells.length; ++i) {\n",
       "                    if (nbb_cells[i].input_prompt_number == nbb_cell_id) {\n",
       "                        if (nbb_cells[i].get_text() == nbb_unformatted_code) {\n",
       "                             nbb_cells[i].set_text(nbb_formatted_code);\n",
       "                        }\n",
       "                        break;\n",
       "                    }\n",
       "                }\n",
       "            }, 500);\n",
       "            "
      ],
      "text/plain": [
       "<IPython.core.display.Javascript object>"
      ]
     },
     "metadata": {},
     "output_type": "display_data"
    }
   ],
   "source": [
    "def get_baseline(input_shape):\n",
    "    inp = Input(input_shape)\n",
    "\n",
    "    conv1 = Conv2D(64, 3, activation=\"relu\", padding=\"same\")(inp)\n",
    "    bn1 = BatchNormalization()(conv1)\n",
    "    pool1 = MaxPooling2D(2)(bn1)\n",
    "\n",
    "    conv2 = Conv2D(128, 3, activation=\"relu\", padding=\"same\")(pool1)\n",
    "    bn2 = BatchNormalization()(conv2)\n",
    "    pool2 = MaxPooling2D(2)(bn2)\n",
    "\n",
    "    convm = Conv2D(256, 3, activation=\"relu\", padding=\"same\")(pool2)\n",
    "\n",
    "    deconv2 = Conv2DTranspose(128, 3, strides=2, padding=\"same\")(convm)\n",
    "    uconv2 = concatenate([deconv2, conv2])\n",
    "    uconv2 = Conv2D(128, 3, activation=\"relu\", padding=\"same\")(uconv2)\n",
    "    uconv2 = BatchNormalization()(uconv2)\n",
    "\n",
    "    deconv1 = Conv2DTranspose(64, 3, strides=2, padding=\"same\")(uconv2)\n",
    "    uconv1 = concatenate([deconv1, conv1])\n",
    "    uconv1 = Conv2D(128, 3, activation=\"relu\", padding=\"same\")(uconv1)\n",
    "    uconv1 = BatchNormalization()(uconv1)\n",
    "\n",
    "    out = Conv2D(1, 1, padding=\"same\", activation=\"relu\")(uconv1)\n",
    "\n",
    "    model = Model(inp, out)\n",
    "\n",
    "    #     decay_steps = EPOCHS * math.ceil(len(df) / BATCH_SIZE)\n",
    "    #     scheduler = tf.keras.experimental.CosineDecay(\n",
    "    #         initial_learning_rate=LR, decay_steps=decay_steps\n",
    "    #     )\n",
    "    #     optimizer = tf.keras.optimizers.Adam(learning_rate=scheduler)\n",
    "\n",
    "    optimizer = tf.keras.optimizers.Adam(learning_rate=LR)\n",
    "    loss = tf.keras.losses.LogCosh()\n",
    "\n",
    "    model.compile(loss=loss, optimizer=optimizer, metrics=[\"mse\"])\n",
    "\n",
    "    return model"
   ]
  },
  {
   "cell_type": "markdown",
   "metadata": {},
   "source": [
    "## Custom callback"
   ]
  },
  {
   "cell_type": "code",
   "execution_count": 20,
   "metadata": {},
   "outputs": [
    {
     "data": {
      "application/javascript": [
       "\n",
       "            setTimeout(function() {\n",
       "                var nbb_cell_id = 20;\n",
       "                var nbb_unformatted_code = \"class CustomCallback(tf.keras.callbacks.Callback):\\n    \\\"\\\"\\\"Early stopping based on CSI + MAE metrics\\\"\\\"\\\"\\n\\n    def __init__(self, val_x, val_y, fold, patience=5, mode=\\\"min\\\", delta=0.0001):\\n        super(CustomCallback, self).__init__()\\n        self.val_x = val_x\\n        self.val_y = val_y\\n        self.fold = fold\\n        self.patience = patience\\n        self.best_weights = None\\n\\n    def on_train_begin(self, logs=None):\\n        self.counter = 0\\n        self.best_score = np.inf\\n        self.stopped_epoch = 0\\n\\n    def on_epoch_end(self, epoch, logs={}):\\n        preds = self.model.predict(self.val_x)\\n        y_pred = preds.reshape(len(preds), -1)\\n        y_true = self.val_y.reshape(len(self.val_y), -1)\\n        y_pred = y_pred[:, DAMS]\\n        y_true = y_true[:, DAMS]\\n        mae = metrics.mean_absolute_error(y_true, y_pred)\\n        score = mae\\n        \\n        if np.less(score, self.best_score):\\n            self.best_score = score\\n            self.patience = 0\\n            self.best_weights = self.model.get_weights()\\n        else:\\n            self.counter += 1\\n            if self.counter >= self.patience:\\n                self.stopped_epoch = epoch\\n                self.model.stop_training = True\\n                print(\\\"Restoring model weights from the end of the best epoch.\\\")\\n                self.model.set_weights(self.best_weights)\\n\\n    def on_train_end(self, logs=None):\\n        if self.stopped_epoch > 0:\\n            print(f\\\"Epoch {self.stopped_epoch:05d}: early stopping\\\")\";\n",
       "                var nbb_formatted_code = \"class CustomCallback(tf.keras.callbacks.Callback):\\n    \\\"\\\"\\\"Early stopping based on CSI + MAE metrics\\\"\\\"\\\"\\n\\n    def __init__(self, val_x, val_y, fold, patience=5, mode=\\\"min\\\", delta=0.0001):\\n        super(CustomCallback, self).__init__()\\n        self.val_x = val_x\\n        self.val_y = val_y\\n        self.fold = fold\\n        self.patience = patience\\n        self.best_weights = None\\n\\n    def on_train_begin(self, logs=None):\\n        self.counter = 0\\n        self.best_score = np.inf\\n        self.stopped_epoch = 0\\n\\n    def on_epoch_end(self, epoch, logs={}):\\n        preds = self.model.predict(self.val_x)\\n        y_pred = preds.reshape(len(preds), -1)\\n        y_true = self.val_y.reshape(len(self.val_y), -1)\\n        y_pred = y_pred[:, DAMS]\\n        y_true = y_true[:, DAMS]\\n        mae = metrics.mean_absolute_error(y_true, y_pred)\\n        score = mae\\n\\n        if np.less(score, self.best_score):\\n            self.best_score = score\\n            self.patience = 0\\n            self.best_weights = self.model.get_weights()\\n        else:\\n            self.counter += 1\\n            if self.counter >= self.patience:\\n                self.stopped_epoch = epoch\\n                self.model.stop_training = True\\n                print(\\\"Restoring model weights from the end of the best epoch.\\\")\\n                self.model.set_weights(self.best_weights)\\n\\n    def on_train_end(self, logs=None):\\n        if self.stopped_epoch > 0:\\n            print(f\\\"Epoch {self.stopped_epoch:05d}: early stopping\\\")\";\n",
       "                var nbb_cells = Jupyter.notebook.get_cells();\n",
       "                for (var i = 0; i < nbb_cells.length; ++i) {\n",
       "                    if (nbb_cells[i].input_prompt_number == nbb_cell_id) {\n",
       "                        if (nbb_cells[i].get_text() == nbb_unformatted_code) {\n",
       "                             nbb_cells[i].set_text(nbb_formatted_code);\n",
       "                        }\n",
       "                        break;\n",
       "                    }\n",
       "                }\n",
       "            }, 500);\n",
       "            "
      ],
      "text/plain": [
       "<IPython.core.display.Javascript object>"
      ]
     },
     "metadata": {},
     "output_type": "display_data"
    }
   ],
   "source": [
    "class CustomCallback(tf.keras.callbacks.Callback):\n",
    "    \"\"\"Early stopping based on CSI + MAE metrics\"\"\"\n",
    "    def __init__(self, val_x, val_y, patience=5):\n",
    "        super(CustomCallback, self).__init__()\n",
    "        self.val_x = val_x\n",
    "        self.val_y = val_y\n",
    "        self.patience = patience\n",
    "        self.best_weights = None\n",
    "\n",
    "    def on_train_begin(self, logs=None):\n",
    "        self.counter = 0\n",
    "        self.best_score = np.inf\n",
    "        self.stopped_epoch = 0\n",
    "\n",
    "    def on_epoch_end(self, epoch, logs=None):\n",
    "        preds = self.model.predict(self.val_x)\n",
    "        y_pred = preds.reshape(len(preds), -1)\n",
    "        y_true = self.val_y.reshape(len(self.val_y), -1)\n",
    "        y_pred = y_pred[:, DAMS]\n",
    "        y_true = y_true[:, DAMS]\n",
    "        mae = metrics.mean_absolute_error(y_true, y_pred)\n",
    "        score = mae\n",
    "\n",
    "        if np.less(score, self.best_score):\n",
    "            self.best_score = score\n",
    "            self.patience = 0\n",
    "            self.best_weights = self.model.get_weights()\n",
    "        else:\n",
    "            self.counter += 1\n",
    "            if self.counter >= self.patience:\n",
    "                self.stopped_epoch = epoch\n",
    "                self.model.stop_training = True\n",
    "                print(\"Restoring model weights from the end of the best epoch.\")\n",
    "                self.model.set_weights(self.best_weights)\n",
    "\n",
    "    def on_train_end(self, logs=None):\n",
    "        if self.stopped_epoch > 0:\n",
    "            print(f\"Epoch {self.stopped_epoch:05d}: early stopping\")"
   ]
  },
  {
   "cell_type": "markdown",
   "metadata": {},
   "source": [
    "## Train"
   ]
  },
  {
   "cell_type": "code",
   "execution_count": 19,
   "metadata": {},
   "outputs": [
    {
     "name": "stdout",
     "output_type": "stream",
     "text": [
      "-------------------------\n",
      "Training fold 3\n",
      "Epoch 1/10\n",
      "393/393 [==============================] - 87s 221ms/step - loss: 5.6584 - mse: 357.5203\n",
      "Epoch 2/10\n",
      "393/393 [==============================] - 77s 196ms/step - loss: 3.5615 - mse: 153.1673\n",
      "Epoch 3/10\n",
      "393/393 [==============================] - 78s 199ms/step - loss: 3.4224 - mse: 146.5195\n",
      "Epoch 4/10\n",
      "393/393 [==============================] - 78s 199ms/step - loss: 3.8712 - mse: 170.0762\n",
      "Epoch 5/10\n",
      "393/393 [==============================] - 78s 199ms/step - loss: 5.3157 - mse: 272.9931\n",
      "Epoch 6/10\n",
      "393/393 [==============================] - 78s 198ms/step - loss: 4.3363 - mse: 202.1114\n",
      "-------------------------\n",
      "Training fold 4\n",
      "Epoch 1/10\n",
      "393/393 [==============================] - 77s 196ms/step - loss: 6.4823 - mse: 432.4015\n",
      "Epoch 2/10\n",
      "393/393 [==============================] - 79s 200ms/step - loss: 3.5107 - mse: 151.0619\n",
      "Epoch 3/10\n",
      "393/393 [==============================] - 78s 199ms/step - loss: 3.4410 - mse: 145.8936\n",
      "Epoch 4/10\n",
      "393/393 [==============================] - 78s 198ms/step - loss: 3.4231 - mse: 141.8649\n",
      "Epoch 5/10\n",
      "393/393 [==============================] - 78s 198ms/step - loss: 3.6771 - mse: 146.4824\n",
      "Epoch 6/10\n",
      "393/393 [==============================] - 78s 198ms/step - loss: 3.9768 - mse: 173.2071\n",
      "Epoch 7/10\n",
      "373/393 [===========================>..] - ETA: 3s - loss: 4.0273 - mse: 180.3847"
     ]
    },
    {
     "data": {
      "application/javascript": [
       "\n",
       "            setTimeout(function() {\n",
       "                var nbb_cell_id = 19;\n",
       "                var nbb_unformatted_code = \"oof = []\\ntargs = []\\n\\nfor fold in range(3,NUM_FOLDS):\\n    print(\\\"-\\\" * 25)\\n    print(f\\\"Training fold {fold}\\\")\\n\\n    train_df = df[df.fold != fold]\\n    val_df = df[df.fold == fold]\\n\\n    train_gen = DataGenerator(train_df, batch_size=BATCH_SIZE, shuffle=True)\\n\\n    # GET VALIDATION DATA\\n    val_gen = DataGenerator(val_df, batch_size=BATCH_SIZE * 4, shuffle=False)\\n    val_x = []\\n    val_y = []\\n    for batch in val_gen:\\n        x, y = batch\\n        val_x.append(x)\\n        val_y.append(y)\\n    val_x = np.concatenate(val_x)\\n    val_y = np.concatenate(val_y)\\n\\n    # MODEL\\n    with strategy.scope():\\n        model = get_baseline(INPUT_SHAPE)\\n\\n    # CALLBACKS\\n    early_stopping = tf.keras.callbacks.EarlyStopping(\\n        monitor=\\\"mse\\\", patience=3, mode=\\\"min\\\", restore_best_weights=True\\n    )\\n\\n    history = model.fit(\\n        train_gen,\\n        epochs=EPOCHS,\\n        verbose=1,\\n        workers=3,\\n        callbacks=[early_stopping],\\n    )\\n    model.save_weights(f\\\"baseline_fold{fold}.h5\\\")\\n\\n    oo = model.predict(val_x)\\n    oof.append(oo)\\n    targs.append(val_y)\\n\\n    np.save(f\\\"oof-fold{fold}\\\", oo)\\n    np.save(f\\\"val_y-fold{fold}\\\", val_y)\\n\\n    del model, train_df, val_df, train_gen, val_gen, val_x, val_y\\n    K.clear_session()\\n    gc.collect()\\n    \\noof = np.concatenate(oof)\\ntargs = np.concatenate(targs)\";\n",
       "                var nbb_formatted_code = \"oof = []\\ntargs = []\\n\\nfor fold in range(3, NUM_FOLDS):\\n    print(\\\"-\\\" * 25)\\n    print(f\\\"Training fold {fold}\\\")\\n\\n    train_df = df[df.fold != fold]\\n    val_df = df[df.fold == fold]\\n\\n    train_gen = DataGenerator(train_df, batch_size=BATCH_SIZE, shuffle=True)\\n\\n    # GET VALIDATION DATA\\n    val_gen = DataGenerator(val_df, batch_size=BATCH_SIZE * 4, shuffle=False)\\n    val_x = []\\n    val_y = []\\n    for batch in val_gen:\\n        x, y = batch\\n        val_x.append(x)\\n        val_y.append(y)\\n    val_x = np.concatenate(val_x)\\n    val_y = np.concatenate(val_y)\\n\\n    # MODEL\\n    with strategy.scope():\\n        model = get_baseline(INPUT_SHAPE)\\n\\n    # CALLBACKS\\n    early_stopping = tf.keras.callbacks.EarlyStopping(\\n        monitor=\\\"mse\\\", patience=3, mode=\\\"min\\\", restore_best_weights=True\\n    )\\n\\n    history = model.fit(\\n        train_gen,\\n        epochs=EPOCHS,\\n        verbose=1,\\n        workers=3,\\n        callbacks=[early_stopping],\\n    )\\n    model.save_weights(f\\\"baseline_fold{fold}.h5\\\")\\n\\n    oo = model.predict(val_x)\\n    oof.append(oo)\\n    targs.append(val_y)\\n\\n    np.save(f\\\"oof-fold{fold}\\\", oo)\\n    np.save(f\\\"val_y-fold{fold}\\\", val_y)\\n\\n    del model, train_df, val_df, train_gen, val_gen, val_x, val_y\\n    K.clear_session()\\n    gc.collect()\\n\\noof = np.concatenate(oof)\\ntargs = np.concatenate(targs)\";\n",
       "                var nbb_cells = Jupyter.notebook.get_cells();\n",
       "                for (var i = 0; i < nbb_cells.length; ++i) {\n",
       "                    if (nbb_cells[i].input_prompt_number == nbb_cell_id) {\n",
       "                        if (nbb_cells[i].get_text() == nbb_unformatted_code) {\n",
       "                             nbb_cells[i].set_text(nbb_formatted_code);\n",
       "                        }\n",
       "                        break;\n",
       "                    }\n",
       "                }\n",
       "            }, 500);\n",
       "            "
      ],
      "text/plain": [
       "<IPython.core.display.Javascript object>"
      ]
     },
     "metadata": {},
     "output_type": "display_data"
    }
   ],
   "source": [
    "oof = []\n",
    "targs = []\n",
    "\n",
    "for fold in range(3,NUM_FOLDS):\n",
    "    print(\"-\" * 25)\n",
    "    print(f\"Training fold {fold}\")\n",
    "\n",
    "    train_df = df[df.fold != fold]\n",
    "    val_df = df[df.fold == fold]\n",
    "\n",
    "    train_gen = DataGenerator(train_df, batch_size=BATCH_SIZE, shuffle=True)\n",
    "\n",
    "    # GET VALIDATION DATA\n",
    "    val_gen = DataGenerator(val_df, batch_size=BATCH_SIZE * 4, shuffle=False)\n",
    "    val_x, val_y = [], []\n",
    "    for batch in val_gen:\n",
    "        x, y = batch\n",
    "        val_x.append(x)\n",
    "        val_y.append(y)\n",
    "    val_x = np.concatenate(val_x)\n",
    "    val_y = np.concatenate(val_y)\n",
    "\n",
    "    # MODEL\n",
    "    with strategy.scope():\n",
    "        model = get_baseline(INPUT_SHAPE)\n",
    "\n",
    "    # CALLBACKS\n",
    "#     early_stopping = tf.keras.callbacks.EarlyStopping(\n",
    "#         monitor=\"mse\", patience=3, mode=\"min\", restore_best_weights=True\n",
    "#     )\n",
    "    custom_callback = CustomCallback(val_x, val_y, patience=5)\n",
    "    history = model.fit(\n",
    "        train_gen,\n",
    "        epochs=EPOCHS,\n",
    "        verbose=1,\n",
    "        workers=3,\n",
    "        callbacks=[custom_callback],\n",
    "    )\n",
    "    model.save_weights(f\"baseline_fold{fold}.h5\")\n",
    "\n",
    "    oo = model.predict(val_x)\n",
    "    oof.append(oo)\n",
    "    targs.append(val_y)\n",
    "\n",
    "    np.save(f\"oof-fold{fold}\", oo)\n",
    "    np.save(f\"val_y-fold{fold}\", val_y)\n",
    "\n",
    "    del model, train_df, val_df, train_gen, val_gen, val_x, val_y, oo, history\n",
    "    K.clear_session()\n",
    "    gc.collect()\n",
    "    \n",
    "oof = np.concatenate(oof)\n",
    "targs = np.concatenate(targs)"
   ]
  },
  {
   "cell_type": "code",
   "execution_count": 21,
   "metadata": {},
   "outputs": [
    {
     "data": {
      "text/plain": [
       "((62735, 120, 120, 1), (62735, 120, 120, 1))"
      ]
     },
     "execution_count": 21,
     "metadata": {},
     "output_type": "execute_result"
    },
    {
     "data": {
      "application/javascript": [
       "\n",
       "            setTimeout(function() {\n",
       "                var nbb_cell_id = 21;\n",
       "                var nbb_unformatted_code = \"oof = []\\ntargs = []\\n\\nfor fold in range(NUM_FOLDS):\\n    oo = np.load(f\\\"oof-fold{fold}.npy\\\")\\n    oof.append(oo)\\n    targ = np.load(f\\\"val_y-fold{fold}.npy\\\")\\n    targs.append(targ)\\n\\noof = np.concatenate(oof)\\ntargs = np.concatenate(targs)\\noof.shape, targs.shape\";\n",
       "                var nbb_formatted_code = \"oof = []\\ntargs = []\\n\\nfor fold in range(NUM_FOLDS):\\n    oo = np.load(f\\\"oof-fold{fold}.npy\\\")\\n    oof.append(oo)\\n    targ = np.load(f\\\"val_y-fold{fold}.npy\\\")\\n    targs.append(targ)\\n\\noof = np.concatenate(oof)\\ntargs = np.concatenate(targs)\\noof.shape, targs.shape\";\n",
       "                var nbb_cells = Jupyter.notebook.get_cells();\n",
       "                for (var i = 0; i < nbb_cells.length; ++i) {\n",
       "                    if (nbb_cells[i].input_prompt_number == nbb_cell_id) {\n",
       "                        if (nbb_cells[i].get_text() == nbb_unformatted_code) {\n",
       "                             nbb_cells[i].set_text(nbb_formatted_code);\n",
       "                        }\n",
       "                        break;\n",
       "                    }\n",
       "                }\n",
       "            }, 500);\n",
       "            "
      ],
      "text/plain": [
       "<IPython.core.display.Javascript object>"
      ]
     },
     "metadata": {},
     "output_type": "display_data"
    }
   ],
   "source": [
    "oof = []\n",
    "targs = []\n",
    "\n",
    "for fold in range(NUM_FOLDS):\n",
    "    oo = np.load(f\"oof-fold{fold}.npy\")\n",
    "    oof.append(oo)\n",
    "    targ = np.load(f\"val_y-fold{fold}.npy\")\n",
    "    targs.append(targ)\n",
    "\n",
    "oof = np.concatenate(oof)\n",
    "targs = np.concatenate(targs)\n",
    "oof.shape, targs.shape"
   ]
  },
  {
   "cell_type": "code",
   "execution_count": 22,
   "metadata": {},
   "outputs": [
    {
     "name": "stdout",
     "output_type": "stream",
     "text": [
      "7.452542545695364\n"
     ]
    },
    {
     "data": {
      "application/javascript": [
       "\n",
       "            setTimeout(function() {\n",
       "                var nbb_cell_id = 22;\n",
       "                var nbb_unformatted_code = \"y_true = targs.reshape(len(df), -1)\\ny_pred = oof.reshape(len(df), -1)\\ny_true = y_true[:, DAMS]\\ny_pred = y_pred[:, DAMS]\\nmae = metrics.mean_absolute_error(y_true, y_pred)\\nprint(mae)\";\n",
       "                var nbb_formatted_code = \"y_true = targs.reshape(len(df), -1)\\ny_pred = oof.reshape(len(df), -1)\\ny_true = y_true[:, DAMS]\\ny_pred = y_pred[:, DAMS]\\nmae = metrics.mean_absolute_error(y_true, y_pred)\\nprint(mae)\";\n",
       "                var nbb_cells = Jupyter.notebook.get_cells();\n",
       "                for (var i = 0; i < nbb_cells.length; ++i) {\n",
       "                    if (nbb_cells[i].input_prompt_number == nbb_cell_id) {\n",
       "                        if (nbb_cells[i].get_text() == nbb_unformatted_code) {\n",
       "                             nbb_cells[i].set_text(nbb_formatted_code);\n",
       "                        }\n",
       "                        break;\n",
       "                    }\n",
       "                }\n",
       "            }, 500);\n",
       "            "
      ],
      "text/plain": [
       "<IPython.core.display.Javascript object>"
      ]
     },
     "metadata": {},
     "output_type": "display_data"
    }
   ],
   "source": [
    "y_true = targs.reshape(len(df), -1)\n",
    "y_pred = oof.reshape(len(df), -1)\n",
    "y_true = y_true[:, DAMS]\n",
    "y_pred = y_pred[:, DAMS]\n",
    "mae = metrics.mean_absolute_error(y_true, y_pred)\n",
    "print(mae)"
   ]
  },
  {
   "cell_type": "markdown",
   "metadata": {},
   "source": [
    "## Inference"
   ]
  },
  {
   "cell_type": "code",
   "execution_count": 23,
   "metadata": {},
   "outputs": [
    {
     "data": {
      "application/javascript": [
       "\n",
       "            setTimeout(function() {\n",
       "                var nbb_cell_id = 23;\n",
       "                var nbb_unformatted_code = \"def get_test():\\n    imgs = []\\n    test_paths = sorted(TEST_PATH.glob(\\\"*.npy\\\"))\\n    for i, test_path in enumerate(test_paths):\\n        data = np.load(test_path)\\n        img = data[:, :, :4]\\n        img = np.where(img < 0, 0, img)\\n        #         img = img / 255\\n        #         img = img.astype(np.float32)\\n        imgs.append(img)\\n\\n    imgs = np.stack(imgs)\\n\\n    return imgs\";\n",
       "                var nbb_formatted_code = \"def get_test():\\n    imgs = []\\n    test_paths = sorted(TEST_PATH.glob(\\\"*.npy\\\"))\\n    for i, test_path in enumerate(test_paths):\\n        data = np.load(test_path)\\n        img = data[:, :, :4]\\n        img = np.where(img < 0, 0, img)\\n        #         img = img / 255\\n        #         img = img.astype(np.float32)\\n        imgs.append(img)\\n\\n    imgs = np.stack(imgs)\\n\\n    return imgs\";\n",
       "                var nbb_cells = Jupyter.notebook.get_cells();\n",
       "                for (var i = 0; i < nbb_cells.length; ++i) {\n",
       "                    if (nbb_cells[i].input_prompt_number == nbb_cell_id) {\n",
       "                        if (nbb_cells[i].get_text() == nbb_unformatted_code) {\n",
       "                             nbb_cells[i].set_text(nbb_formatted_code);\n",
       "                        }\n",
       "                        break;\n",
       "                    }\n",
       "                }\n",
       "            }, 500);\n",
       "            "
      ],
      "text/plain": [
       "<IPython.core.display.Javascript object>"
      ]
     },
     "metadata": {},
     "output_type": "display_data"
    }
   ],
   "source": [
    "def get_test():\n",
    "    imgs = []\n",
    "    test_paths = sorted(TEST_PATH.glob(\"*.npy\"))\n",
    "    for i, test_path in enumerate(test_paths):\n",
    "        data = np.load(test_path)\n",
    "        img = data[:, :, :4]\n",
    "        img = np.where(img < 0, 0, img)\n",
    "        #         img = img / 255\n",
    "        #         img = img.astype(np.float32)\n",
    "        imgs.append(img)\n",
    "\n",
    "    imgs = np.stack(imgs)\n",
    "\n",
    "    return imgs"
   ]
  },
  {
   "cell_type": "code",
   "execution_count": 24,
   "metadata": {},
   "outputs": [
    {
     "name": "stdout",
     "output_type": "stream",
     "text": [
      "84/84 [==============================] - 17s 206ms/step\n",
      "84/84 [==============================] - 1s 16ms/step\n",
      "84/84 [==============================] - 1s 15ms/step\n",
      "84/84 [==============================] - 1s 16ms/step\n",
      "84/84 [==============================] - 1s 16ms/step\n"
     ]
    },
    {
     "data": {
      "application/javascript": [
       "\n",
       "            setTimeout(function() {\n",
       "                var nbb_cell_id = 24;\n",
       "                var nbb_unformatted_code = \"test_imgs = get_test()\\npreds = np.zeros((len(test_imgs), SIZE * SIZE))\\n\\nfor fold in range(NUM_FOLDS):\\n    with strategy.scope():\\n        model = get_baseline(INPUT_SHAPE)\\n    model.load_weights(f\\\"baseline_fold{fold}.h5\\\")\\n\\n    pred = model.predict(test_imgs, verbose=1)\\n    pred = pred.reshape(len(pred), -1)\\n    preds += pred\\n\\npreds /= NUM_FOLDS\\npreds = np.round(preds)\\npreds = np.clip(preds, 0, 255)\\npreds = preds.astype(np.uint8)\";\n",
       "                var nbb_formatted_code = \"test_imgs = get_test()\\npreds = np.zeros((len(test_imgs), SIZE * SIZE))\\n\\nfor fold in range(NUM_FOLDS):\\n    with strategy.scope():\\n        model = get_baseline(INPUT_SHAPE)\\n    model.load_weights(f\\\"baseline_fold{fold}.h5\\\")\\n\\n    pred = model.predict(test_imgs, verbose=1)\\n    pred = pred.reshape(len(pred), -1)\\n    preds += pred\\n\\npreds /= NUM_FOLDS\\npreds = np.round(preds)\\npreds = np.clip(preds, 0, 255)\\npreds = preds.astype(np.uint8)\";\n",
       "                var nbb_cells = Jupyter.notebook.get_cells();\n",
       "                for (var i = 0; i < nbb_cells.length; ++i) {\n",
       "                    if (nbb_cells[i].input_prompt_number == nbb_cell_id) {\n",
       "                        if (nbb_cells[i].get_text() == nbb_unformatted_code) {\n",
       "                             nbb_cells[i].set_text(nbb_formatted_code);\n",
       "                        }\n",
       "                        break;\n",
       "                    }\n",
       "                }\n",
       "            }, 500);\n",
       "            "
      ],
      "text/plain": [
       "<IPython.core.display.Javascript object>"
      ]
     },
     "metadata": {},
     "output_type": "display_data"
    }
   ],
   "source": [
    "test_imgs = get_test()\n",
    "preds = np.zeros((len(test_imgs), SIZE * SIZE))\n",
    "\n",
    "for fold in range(NUM_FOLDS):\n",
    "    with strategy.scope():\n",
    "        model = get_baseline(INPUT_SHAPE)\n",
    "    model.load_weights(f\"baseline_fold{fold}.h5\")\n",
    "\n",
    "    pred = model.predict(test_imgs, verbose=1)\n",
    "    pred = pred.reshape(len(pred), -1)\n",
    "    preds += pred\n",
    "\n",
    "preds /= NUM_FOLDS\n",
    "preds = np.round(preds)\n",
    "preds = np.clip(preds, 0, 255)\n",
    "preds = preds.astype(np.uint8)"
   ]
  },
  {
   "cell_type": "code",
   "execution_count": 25,
   "metadata": {},
   "outputs": [
    {
     "data": {
      "application/javascript": [
       "\n",
       "            setTimeout(function() {\n",
       "                var nbb_cell_id = 25;\n",
       "                var nbb_unformatted_code = \"np.save(\\\"preds\\\", preds)\";\n",
       "                var nbb_formatted_code = \"np.save(\\\"preds\\\", preds)\";\n",
       "                var nbb_cells = Jupyter.notebook.get_cells();\n",
       "                for (var i = 0; i < nbb_cells.length; ++i) {\n",
       "                    if (nbb_cells[i].input_prompt_number == nbb_cell_id) {\n",
       "                        if (nbb_cells[i].get_text() == nbb_unformatted_code) {\n",
       "                             nbb_cells[i].set_text(nbb_formatted_code);\n",
       "                        }\n",
       "                        break;\n",
       "                    }\n",
       "                }\n",
       "            }, 500);\n",
       "            "
      ],
      "text/plain": [
       "<IPython.core.display.Javascript object>"
      ]
     },
     "metadata": {},
     "output_type": "display_data"
    }
   ],
   "source": [
    "np.save(\"preds\", preds)"
   ]
  },
  {
   "cell_type": "code",
   "execution_count": 26,
   "metadata": {},
   "outputs": [
    {
     "data": {
      "text/plain": [
       "4590"
      ]
     },
     "execution_count": 26,
     "metadata": {},
     "output_type": "execute_result"
    },
    {
     "data": {
      "application/javascript": [
       "\n",
       "            setTimeout(function() {\n",
       "                var nbb_cell_id = 26;\n",
       "                var nbb_unformatted_code = \"del test_imgs, preds, model\\ngc.collect()\";\n",
       "                var nbb_formatted_code = \"del test_imgs, preds, model\\ngc.collect()\";\n",
       "                var nbb_cells = Jupyter.notebook.get_cells();\n",
       "                for (var i = 0; i < nbb_cells.length; ++i) {\n",
       "                    if (nbb_cells[i].input_prompt_number == nbb_cell_id) {\n",
       "                        if (nbb_cells[i].get_text() == nbb_unformatted_code) {\n",
       "                             nbb_cells[i].set_text(nbb_formatted_code);\n",
       "                        }\n",
       "                        break;\n",
       "                    }\n",
       "                }\n",
       "            }, 500);\n",
       "            "
      ],
      "text/plain": [
       "<IPython.core.display.Javascript object>"
      ]
     },
     "metadata": {},
     "output_type": "display_data"
    }
   ],
   "source": [
    "del test_imgs, preds, model\n",
    "gc.collect()"
   ]
  },
  {
   "cell_type": "code",
   "execution_count": 27,
   "metadata": {},
   "outputs": [
    {
     "data": {
      "application/javascript": [
       "\n",
       "            setTimeout(function() {\n",
       "                var nbb_cell_id = 27;\n",
       "                var nbb_unformatted_code = \"preds = np.load(\\\"preds.npy\\\")\";\n",
       "                var nbb_formatted_code = \"preds = np.load(\\\"preds.npy\\\")\";\n",
       "                var nbb_cells = Jupyter.notebook.get_cells();\n",
       "                for (var i = 0; i < nbb_cells.length; ++i) {\n",
       "                    if (nbb_cells[i].input_prompt_number == nbb_cell_id) {\n",
       "                        if (nbb_cells[i].get_text() == nbb_unformatted_code) {\n",
       "                             nbb_cells[i].set_text(nbb_formatted_code);\n",
       "                        }\n",
       "                        break;\n",
       "                    }\n",
       "                }\n",
       "            }, 500);\n",
       "            "
      ],
      "text/plain": [
       "<IPython.core.display.Javascript object>"
      ]
     },
     "metadata": {},
     "output_type": "display_data"
    }
   ],
   "source": [
    "preds = np.load(\"preds.npy\")"
   ]
  },
  {
   "cell_type": "code",
   "execution_count": 28,
   "metadata": {},
   "outputs": [
    {
     "data": {
      "application/javascript": [
       "\n",
       "            setTimeout(function() {\n",
       "                var nbb_cell_id = 28;\n",
       "                var nbb_unformatted_code = \"file_names = [path.name for path in sorted(TEST_PATH.glob(\\\"*.npy\\\"))]\";\n",
       "                var nbb_formatted_code = \"file_names = [path.name for path in sorted(TEST_PATH.glob(\\\"*.npy\\\"))]\";\n",
       "                var nbb_cells = Jupyter.notebook.get_cells();\n",
       "                for (var i = 0; i < nbb_cells.length; ++i) {\n",
       "                    if (nbb_cells[i].input_prompt_number == nbb_cell_id) {\n",
       "                        if (nbb_cells[i].get_text() == nbb_unformatted_code) {\n",
       "                             nbb_cells[i].set_text(nbb_formatted_code);\n",
       "                        }\n",
       "                        break;\n",
       "                    }\n",
       "                }\n",
       "            }, 500);\n",
       "            "
      ],
      "text/plain": [
       "<IPython.core.display.Javascript object>"
      ]
     },
     "metadata": {},
     "output_type": "display_data"
    }
   ],
   "source": [
    "file_names = [path.name for path in sorted(TEST_PATH.glob(\"*.npy\"))]"
   ]
  },
  {
   "cell_type": "code",
   "execution_count": 29,
   "metadata": {},
   "outputs": [
    {
     "data": {
      "application/javascript": [
       "\n",
       "            setTimeout(function() {\n",
       "                var nbb_cell_id = 29;\n",
       "                var nbb_unformatted_code = \"subm = pd.DataFrame({\\\"file_name\\\": file_names})\\nfor i in range(SIZE * SIZE):\\n    col = str(i)\\n    subm[col] = preds[:, i]\";\n",
       "                var nbb_formatted_code = \"subm = pd.DataFrame({\\\"file_name\\\": file_names})\\nfor i in range(SIZE * SIZE):\\n    col = str(i)\\n    subm[col] = preds[:, i]\";\n",
       "                var nbb_cells = Jupyter.notebook.get_cells();\n",
       "                for (var i = 0; i < nbb_cells.length; ++i) {\n",
       "                    if (nbb_cells[i].input_prompt_number == nbb_cell_id) {\n",
       "                        if (nbb_cells[i].get_text() == nbb_unformatted_code) {\n",
       "                             nbb_cells[i].set_text(nbb_formatted_code);\n",
       "                        }\n",
       "                        break;\n",
       "                    }\n",
       "                }\n",
       "            }, 500);\n",
       "            "
      ],
      "text/plain": [
       "<IPython.core.display.Javascript object>"
      ]
     },
     "metadata": {},
     "output_type": "display_data"
    }
   ],
   "source": [
    "subm = pd.DataFrame({\"file_name\": file_names})\n",
    "for i in tqdm(range(SIZE * SIZE)):\n",
    "    col = str(i)\n",
    "    subm[col] = preds[:, i]"
   ]
  },
  {
   "cell_type": "code",
   "execution_count": 31,
   "metadata": {},
   "outputs": [
    {
     "data": {
      "application/javascript": [
       "\n",
       "            setTimeout(function() {\n",
       "                var nbb_cell_id = 31;\n",
       "                var nbb_unformatted_code = \"subm.to_csv(\\\"baseline2.csv\\\", index=False)\";\n",
       "                var nbb_formatted_code = \"subm.to_csv(\\\"baseline2.csv\\\", index=False)\";\n",
       "                var nbb_cells = Jupyter.notebook.get_cells();\n",
       "                for (var i = 0; i < nbb_cells.length; ++i) {\n",
       "                    if (nbb_cells[i].input_prompt_number == nbb_cell_id) {\n",
       "                        if (nbb_cells[i].get_text() == nbb_unformatted_code) {\n",
       "                             nbb_cells[i].set_text(nbb_formatted_code);\n",
       "                        }\n",
       "                        break;\n",
       "                    }\n",
       "                }\n",
       "            }, 500);\n",
       "            "
      ],
      "text/plain": [
       "<IPython.core.display.Javascript object>"
      ]
     },
     "metadata": {},
     "output_type": "display_data"
    }
   ],
   "source": [
    "subm.to_csv(\"baseline2.csv\", index=False)"
   ]
  },
  {
   "cell_type": "code",
   "execution_count": 30,
   "metadata": {},
   "outputs": [
    {
     "name": "stdout",
     "output_type": "stream",
     "text": [
      "<class 'pandas.core.frame.DataFrame'>\n",
      "RangeIndex: 2674 entries, 0 to 2673\n",
      "Columns: 14401 entries, file_name to 14399\n",
      "dtypes: object(1), uint8(14400)\n",
      "memory usage: 36.7+ MB\n"
     ]
    },
    {
     "data": {
      "application/javascript": [
       "\n",
       "            setTimeout(function() {\n",
       "                var nbb_cell_id = 30;\n",
       "                var nbb_unformatted_code = \"subm.info()\";\n",
       "                var nbb_formatted_code = \"subm.info()\";\n",
       "                var nbb_cells = Jupyter.notebook.get_cells();\n",
       "                for (var i = 0; i < nbb_cells.length; ++i) {\n",
       "                    if (nbb_cells[i].input_prompt_number == nbb_cell_id) {\n",
       "                        if (nbb_cells[i].get_text() == nbb_unformatted_code) {\n",
       "                             nbb_cells[i].set_text(nbb_formatted_code);\n",
       "                        }\n",
       "                        break;\n",
       "                    }\n",
       "                }\n",
       "            }, 500);\n",
       "            "
      ],
      "text/plain": [
       "<IPython.core.display.Javascript object>"
      ]
     },
     "metadata": {},
     "output_type": "display_data"
    }
   ],
   "source": [
    "subm.info()"
   ]
  },
  {
   "cell_type": "code",
   "execution_count": 32,
   "metadata": {},
   "outputs": [
    {
     "data": {
      "text/html": [
       "<div>\n",
       "<style scoped>\n",
       "    .dataframe tbody tr th:only-of-type {\n",
       "        vertical-align: middle;\n",
       "    }\n",
       "\n",
       "    .dataframe tbody tr th {\n",
       "        vertical-align: top;\n",
       "    }\n",
       "\n",
       "    .dataframe thead th {\n",
       "        text-align: right;\n",
       "    }\n",
       "</style>\n",
       "<table border=\"1\" class=\"dataframe\">\n",
       "  <thead>\n",
       "    <tr style=\"text-align: right;\">\n",
       "      <th></th>\n",
       "      <th>file_name</th>\n",
       "      <th>0</th>\n",
       "      <th>1</th>\n",
       "      <th>2</th>\n",
       "      <th>3</th>\n",
       "      <th>4</th>\n",
       "      <th>5</th>\n",
       "      <th>6</th>\n",
       "      <th>7</th>\n",
       "      <th>8</th>\n",
       "      <th>...</th>\n",
       "      <th>14390</th>\n",
       "      <th>14391</th>\n",
       "      <th>14392</th>\n",
       "      <th>14393</th>\n",
       "      <th>14394</th>\n",
       "      <th>14395</th>\n",
       "      <th>14396</th>\n",
       "      <th>14397</th>\n",
       "      <th>14398</th>\n",
       "      <th>14399</th>\n",
       "    </tr>\n",
       "  </thead>\n",
       "  <tbody>\n",
       "    <tr>\n",
       "      <th>0</th>\n",
       "      <td>test_00000.npy</td>\n",
       "      <td>2</td>\n",
       "      <td>3</td>\n",
       "      <td>2</td>\n",
       "      <td>2</td>\n",
       "      <td>2</td>\n",
       "      <td>2</td>\n",
       "      <td>2</td>\n",
       "      <td>2</td>\n",
       "      <td>2</td>\n",
       "      <td>...</td>\n",
       "      <td>3</td>\n",
       "      <td>4</td>\n",
       "      <td>3</td>\n",
       "      <td>4</td>\n",
       "      <td>3</td>\n",
       "      <td>4</td>\n",
       "      <td>3</td>\n",
       "      <td>4</td>\n",
       "      <td>4</td>\n",
       "      <td>2</td>\n",
       "    </tr>\n",
       "    <tr>\n",
       "      <th>1</th>\n",
       "      <td>test_00001.npy</td>\n",
       "      <td>2</td>\n",
       "      <td>3</td>\n",
       "      <td>2</td>\n",
       "      <td>2</td>\n",
       "      <td>2</td>\n",
       "      <td>2</td>\n",
       "      <td>2</td>\n",
       "      <td>2</td>\n",
       "      <td>2</td>\n",
       "      <td>...</td>\n",
       "      <td>3</td>\n",
       "      <td>4</td>\n",
       "      <td>3</td>\n",
       "      <td>4</td>\n",
       "      <td>3</td>\n",
       "      <td>4</td>\n",
       "      <td>3</td>\n",
       "      <td>4</td>\n",
       "      <td>4</td>\n",
       "      <td>2</td>\n",
       "    </tr>\n",
       "    <tr>\n",
       "      <th>2</th>\n",
       "      <td>test_00002.npy</td>\n",
       "      <td>2</td>\n",
       "      <td>3</td>\n",
       "      <td>2</td>\n",
       "      <td>2</td>\n",
       "      <td>2</td>\n",
       "      <td>2</td>\n",
       "      <td>2</td>\n",
       "      <td>2</td>\n",
       "      <td>2</td>\n",
       "      <td>...</td>\n",
       "      <td>3</td>\n",
       "      <td>4</td>\n",
       "      <td>3</td>\n",
       "      <td>4</td>\n",
       "      <td>3</td>\n",
       "      <td>4</td>\n",
       "      <td>3</td>\n",
       "      <td>4</td>\n",
       "      <td>4</td>\n",
       "      <td>2</td>\n",
       "    </tr>\n",
       "    <tr>\n",
       "      <th>3</th>\n",
       "      <td>test_00003.npy</td>\n",
       "      <td>2</td>\n",
       "      <td>3</td>\n",
       "      <td>2</td>\n",
       "      <td>2</td>\n",
       "      <td>2</td>\n",
       "      <td>2</td>\n",
       "      <td>2</td>\n",
       "      <td>2</td>\n",
       "      <td>2</td>\n",
       "      <td>...</td>\n",
       "      <td>3</td>\n",
       "      <td>4</td>\n",
       "      <td>3</td>\n",
       "      <td>4</td>\n",
       "      <td>3</td>\n",
       "      <td>4</td>\n",
       "      <td>3</td>\n",
       "      <td>4</td>\n",
       "      <td>4</td>\n",
       "      <td>2</td>\n",
       "    </tr>\n",
       "    <tr>\n",
       "      <th>4</th>\n",
       "      <td>test_00004.npy</td>\n",
       "      <td>2</td>\n",
       "      <td>3</td>\n",
       "      <td>2</td>\n",
       "      <td>2</td>\n",
       "      <td>2</td>\n",
       "      <td>2</td>\n",
       "      <td>2</td>\n",
       "      <td>2</td>\n",
       "      <td>2</td>\n",
       "      <td>...</td>\n",
       "      <td>3</td>\n",
       "      <td>4</td>\n",
       "      <td>3</td>\n",
       "      <td>4</td>\n",
       "      <td>3</td>\n",
       "      <td>4</td>\n",
       "      <td>3</td>\n",
       "      <td>4</td>\n",
       "      <td>4</td>\n",
       "      <td>2</td>\n",
       "    </tr>\n",
       "  </tbody>\n",
       "</table>\n",
       "<p>5 rows × 14401 columns</p>\n",
       "</div>"
      ],
      "text/plain": [
       "        file_name  0  1  2  3  4  5  6  7  8  ...  14390  14391  14392  14393  \\\n",
       "0  test_00000.npy  2  3  2  2  2  2  2  2  2  ...      3      4      3      4   \n",
       "1  test_00001.npy  2  3  2  2  2  2  2  2  2  ...      3      4      3      4   \n",
       "2  test_00002.npy  2  3  2  2  2  2  2  2  2  ...      3      4      3      4   \n",
       "3  test_00003.npy  2  3  2  2  2  2  2  2  2  ...      3      4      3      4   \n",
       "4  test_00004.npy  2  3  2  2  2  2  2  2  2  ...      3      4      3      4   \n",
       "\n",
       "   14394  14395  14396  14397  14398  14399  \n",
       "0      3      4      3      4      4      2  \n",
       "1      3      4      3      4      4      2  \n",
       "2      3      4      3      4      4      2  \n",
       "3      3      4      3      4      4      2  \n",
       "4      3      4      3      4      4      2  \n",
       "\n",
       "[5 rows x 14401 columns]"
      ]
     },
     "execution_count": 32,
     "metadata": {},
     "output_type": "execute_result"
    },
    {
     "data": {
      "application/javascript": [
       "\n",
       "            setTimeout(function() {\n",
       "                var nbb_cell_id = 32;\n",
       "                var nbb_unformatted_code = \"subm.head()\";\n",
       "                var nbb_formatted_code = \"subm.head()\";\n",
       "                var nbb_cells = Jupyter.notebook.get_cells();\n",
       "                for (var i = 0; i < nbb_cells.length; ++i) {\n",
       "                    if (nbb_cells[i].input_prompt_number == nbb_cell_id) {\n",
       "                        if (nbb_cells[i].get_text() == nbb_unformatted_code) {\n",
       "                             nbb_cells[i].set_text(nbb_formatted_code);\n",
       "                        }\n",
       "                        break;\n",
       "                    }\n",
       "                }\n",
       "            }, 500);\n",
       "            "
      ],
      "text/plain": [
       "<IPython.core.display.Javascript object>"
      ]
     },
     "metadata": {},
     "output_type": "display_data"
    }
   ],
   "source": [
    "subm.head()"
   ]
  },
  {
   "cell_type": "code",
   "execution_count": null,
   "metadata": {},
   "outputs": [],
   "source": []
  }
 ],
 "metadata": {
  "kernelspec": {
   "display_name": "Python [conda env:tf2] *",
   "language": "python",
   "name": "conda-env-tf2-py"
  },
  "language_info": {
   "codemirror_mode": {
    "name": "ipython",
    "version": 3
   },
   "file_extension": ".py",
   "mimetype": "text/x-python",
   "name": "python",
   "nbconvert_exporter": "python",
   "pygments_lexer": "ipython3",
   "version": "3.8.5"
  }
 },
 "nbformat": 4,
 "nbformat_minor": 4
}
